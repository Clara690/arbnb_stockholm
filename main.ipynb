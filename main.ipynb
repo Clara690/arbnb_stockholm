{
 "cells": [
  {
   "cell_type": "code",
   "execution_count": 41,
   "metadata": {},
   "outputs": [
    {
     "data": {
      "text/html": [
       "        <script type=\"text/javascript\">\n",
       "        window.PlotlyConfig = {MathJaxConfig: 'local'};\n",
       "        if (window.MathJax && window.MathJax.Hub && window.MathJax.Hub.Config) {window.MathJax.Hub.Config({SVG: {font: \"STIX-Web\"}});}\n",
       "        if (typeof require !== 'undefined') {\n",
       "        require.undef(\"plotly\");\n",
       "        requirejs.config({\n",
       "            paths: {\n",
       "                'plotly': ['https://cdn.plot.ly/plotly-2.12.1.min']\n",
       "            }\n",
       "        });\n",
       "        require(['plotly'], function(Plotly) {\n",
       "            window._Plotly = Plotly;\n",
       "        });\n",
       "        }\n",
       "        </script>\n",
       "        "
      ]
     },
     "metadata": {},
     "output_type": "display_data"
    }
   ],
   "source": [
    "import pandas as pd\n",
    "import numpy as np\n",
    "import seaborn as sns\n",
    "import matplotlib.pyplot as plt\n",
    "%matplotlib inline\n",
    "import plotly.offline as py\n",
    "py.init_notebook_mode(connected = True) # make the graph show in the notebook\n",
    "import plotly.graph_objs as go\n",
    "import plotly.tools as tls\n",
    "import plotly.figure_factory as ff\n",
    "import plotly.express as px\n",
    "import gzip"
   ]
  },
  {
   "cell_type": "markdown",
   "metadata": {},
   "source": [
    "This is an exploratory analysis on Arbnb listings in Stockholm, the capital of Sweden, in 2025. The data is downloaded from Airbnb Inside. "
   ]
  },
  {
   "cell_type": "code",
   "execution_count": 42,
   "metadata": {},
   "outputs": [
    {
     "name": "stdout",
     "output_type": "stream",
     "text": [
      "There are 365 days and 5223 different listings\n",
      "The start date of this dataset is 2024-12-30 and the end date is 2025-12-29\n"
     ]
    },
    {
     "data": {
      "text/html": [
       "<div>\n",
       "<style scoped>\n",
       "    .dataframe tbody tr th:only-of-type {\n",
       "        vertical-align: middle;\n",
       "    }\n",
       "\n",
       "    .dataframe tbody tr th {\n",
       "        vertical-align: top;\n",
       "    }\n",
       "\n",
       "    .dataframe thead th {\n",
       "        text-align: right;\n",
       "    }\n",
       "</style>\n",
       "<table border=\"1\" class=\"dataframe\">\n",
       "  <thead>\n",
       "    <tr style=\"text-align: right;\">\n",
       "      <th></th>\n",
       "      <th>listing_id</th>\n",
       "      <th>date</th>\n",
       "      <th>available</th>\n",
       "      <th>price</th>\n",
       "      <th>adjusted_price</th>\n",
       "      <th>minimum_nights</th>\n",
       "      <th>maximum_nights</th>\n",
       "    </tr>\n",
       "  </thead>\n",
       "  <tbody>\n",
       "    <tr>\n",
       "      <th>0</th>\n",
       "      <td>164448</td>\n",
       "      <td>2024-12-30</td>\n",
       "      <td>t</td>\n",
       "      <td>$950.00</td>\n",
       "      <td>NaN</td>\n",
       "      <td>2</td>\n",
       "      <td>120</td>\n",
       "    </tr>\n",
       "    <tr>\n",
       "      <th>1</th>\n",
       "      <td>164448</td>\n",
       "      <td>2024-12-31</td>\n",
       "      <td>f</td>\n",
       "      <td>$950.00</td>\n",
       "      <td>NaN</td>\n",
       "      <td>2</td>\n",
       "      <td>120</td>\n",
       "    </tr>\n",
       "    <tr>\n",
       "      <th>2</th>\n",
       "      <td>164448</td>\n",
       "      <td>2025-01-01</td>\n",
       "      <td>f</td>\n",
       "      <td>$950.00</td>\n",
       "      <td>NaN</td>\n",
       "      <td>2</td>\n",
       "      <td>120</td>\n",
       "    </tr>\n",
       "    <tr>\n",
       "      <th>3</th>\n",
       "      <td>164448</td>\n",
       "      <td>2025-01-02</td>\n",
       "      <td>f</td>\n",
       "      <td>$950.00</td>\n",
       "      <td>NaN</td>\n",
       "      <td>2</td>\n",
       "      <td>120</td>\n",
       "    </tr>\n",
       "    <tr>\n",
       "      <th>4</th>\n",
       "      <td>164448</td>\n",
       "      <td>2025-01-03</td>\n",
       "      <td>t</td>\n",
       "      <td>$950.00</td>\n",
       "      <td>NaN</td>\n",
       "      <td>2</td>\n",
       "      <td>120</td>\n",
       "    </tr>\n",
       "  </tbody>\n",
       "</table>\n",
       "</div>"
      ],
      "text/plain": [
       "   listing_id        date available    price  adjusted_price  minimum_nights  \\\n",
       "0      164448  2024-12-30         t  $950.00             NaN               2   \n",
       "1      164448  2024-12-31         f  $950.00             NaN               2   \n",
       "2      164448  2025-01-01         f  $950.00             NaN               2   \n",
       "3      164448  2025-01-02         f  $950.00             NaN               2   \n",
       "4      164448  2025-01-03         t  $950.00             NaN               2   \n",
       "\n",
       "   maximum_nights  \n",
       "0             120  \n",
       "1             120  \n",
       "2             120  \n",
       "3             120  \n",
       "4             120  "
      ]
     },
     "execution_count": 42,
     "metadata": {},
     "output_type": "execute_result"
    }
   ],
   "source": [
    "with gzip.open('calendar.csv.gz', 'rt') as f:\n",
    "    calendar = pd.read_csv(f)\n",
    "print('There are', calendar.date.nunique(), 'days and', calendar.listing_id.nunique(), 'different listings')\n",
    "print('The start date of this dataset is', calendar.date.min(),'and the end date is' ,calendar.date.max())\n",
    "\n",
    "calendar.head()"
   ]
  },
  {
   "cell_type": "markdown",
   "metadata": {},
   "source": [
    "Let's start with the overall availability of listings in Stockholm as of the day of this analysis (2025-04-01).\n",
    "Note that Figure 1 only illustrates to what extent the listings are booked at the time of analysis, which means the results can look very different if conducting a similar analysis later in 2025.\n",
    "\n",
    "As shown in Figure 1, more than 60% percent of the listings have already been booked as of 1 April, 2025. "
   ]
  },
  {
   "cell_type": "code",
   "execution_count": 52,
   "metadata": {},
   "outputs": [
    {
     "data": {
      "application/vnd.plotly.v1+json": {
       "config": {
        "linkText": "Export to plot.ly",
        "plotlyServerURL": "https://plot.ly",
        "showLink": false
       },
       "data": [
        {
         "alignmentgroup": "True",
         "hovertemplate": "Status=%{x}<br> =%{y}<extra></extra>",
         "legendgroup": "",
         "marker": {
          "color": "#636efa",
          "pattern": {
           "shape": ""
          }
         },
         "name": "",
         "offsetgroup": "",
         "orientation": "v",
         "showlegend": false,
         "textposition": "auto",
         "type": "bar",
         "x": [
          "Reserved",
          "Available"
         ],
         "xaxis": "x",
         "y": [
          0.625875015408664,
          0.37412498459133603
         ],
         "yaxis": "y"
        }
       ],
       "layout": {
        "barmode": "relative",
        "legend": {
         "tracegroupgap": 0
        },
        "template": {
         "data": {
          "bar": [
           {
            "error_x": {
             "color": "#2a3f5f"
            },
            "error_y": {
             "color": "#2a3f5f"
            },
            "marker": {
             "line": {
              "color": "#E5ECF6",
              "width": 0.5
             },
             "pattern": {
              "fillmode": "overlay",
              "size": 10,
              "solidity": 0.2
             }
            },
            "type": "bar"
           }
          ],
          "barpolar": [
           {
            "marker": {
             "line": {
              "color": "#E5ECF6",
              "width": 0.5
             },
             "pattern": {
              "fillmode": "overlay",
              "size": 10,
              "solidity": 0.2
             }
            },
            "type": "barpolar"
           }
          ],
          "carpet": [
           {
            "aaxis": {
             "endlinecolor": "#2a3f5f",
             "gridcolor": "white",
             "linecolor": "white",
             "minorgridcolor": "white",
             "startlinecolor": "#2a3f5f"
            },
            "baxis": {
             "endlinecolor": "#2a3f5f",
             "gridcolor": "white",
             "linecolor": "white",
             "minorgridcolor": "white",
             "startlinecolor": "#2a3f5f"
            },
            "type": "carpet"
           }
          ],
          "choropleth": [
           {
            "colorbar": {
             "outlinewidth": 0,
             "ticks": ""
            },
            "type": "choropleth"
           }
          ],
          "contour": [
           {
            "colorbar": {
             "outlinewidth": 0,
             "ticks": ""
            },
            "colorscale": [
             [
              0,
              "#0d0887"
             ],
             [
              0.1111111111111111,
              "#46039f"
             ],
             [
              0.2222222222222222,
              "#7201a8"
             ],
             [
              0.3333333333333333,
              "#9c179e"
             ],
             [
              0.4444444444444444,
              "#bd3786"
             ],
             [
              0.5555555555555556,
              "#d8576b"
             ],
             [
              0.6666666666666666,
              "#ed7953"
             ],
             [
              0.7777777777777778,
              "#fb9f3a"
             ],
             [
              0.8888888888888888,
              "#fdca26"
             ],
             [
              1,
              "#f0f921"
             ]
            ],
            "type": "contour"
           }
          ],
          "contourcarpet": [
           {
            "colorbar": {
             "outlinewidth": 0,
             "ticks": ""
            },
            "type": "contourcarpet"
           }
          ],
          "heatmap": [
           {
            "colorbar": {
             "outlinewidth": 0,
             "ticks": ""
            },
            "colorscale": [
             [
              0,
              "#0d0887"
             ],
             [
              0.1111111111111111,
              "#46039f"
             ],
             [
              0.2222222222222222,
              "#7201a8"
             ],
             [
              0.3333333333333333,
              "#9c179e"
             ],
             [
              0.4444444444444444,
              "#bd3786"
             ],
             [
              0.5555555555555556,
              "#d8576b"
             ],
             [
              0.6666666666666666,
              "#ed7953"
             ],
             [
              0.7777777777777778,
              "#fb9f3a"
             ],
             [
              0.8888888888888888,
              "#fdca26"
             ],
             [
              1,
              "#f0f921"
             ]
            ],
            "type": "heatmap"
           }
          ],
          "heatmapgl": [
           {
            "colorbar": {
             "outlinewidth": 0,
             "ticks": ""
            },
            "colorscale": [
             [
              0,
              "#0d0887"
             ],
             [
              0.1111111111111111,
              "#46039f"
             ],
             [
              0.2222222222222222,
              "#7201a8"
             ],
             [
              0.3333333333333333,
              "#9c179e"
             ],
             [
              0.4444444444444444,
              "#bd3786"
             ],
             [
              0.5555555555555556,
              "#d8576b"
             ],
             [
              0.6666666666666666,
              "#ed7953"
             ],
             [
              0.7777777777777778,
              "#fb9f3a"
             ],
             [
              0.8888888888888888,
              "#fdca26"
             ],
             [
              1,
              "#f0f921"
             ]
            ],
            "type": "heatmapgl"
           }
          ],
          "histogram": [
           {
            "marker": {
             "pattern": {
              "fillmode": "overlay",
              "size": 10,
              "solidity": 0.2
             }
            },
            "type": "histogram"
           }
          ],
          "histogram2d": [
           {
            "colorbar": {
             "outlinewidth": 0,
             "ticks": ""
            },
            "colorscale": [
             [
              0,
              "#0d0887"
             ],
             [
              0.1111111111111111,
              "#46039f"
             ],
             [
              0.2222222222222222,
              "#7201a8"
             ],
             [
              0.3333333333333333,
              "#9c179e"
             ],
             [
              0.4444444444444444,
              "#bd3786"
             ],
             [
              0.5555555555555556,
              "#d8576b"
             ],
             [
              0.6666666666666666,
              "#ed7953"
             ],
             [
              0.7777777777777778,
              "#fb9f3a"
             ],
             [
              0.8888888888888888,
              "#fdca26"
             ],
             [
              1,
              "#f0f921"
             ]
            ],
            "type": "histogram2d"
           }
          ],
          "histogram2dcontour": [
           {
            "colorbar": {
             "outlinewidth": 0,
             "ticks": ""
            },
            "colorscale": [
             [
              0,
              "#0d0887"
             ],
             [
              0.1111111111111111,
              "#46039f"
             ],
             [
              0.2222222222222222,
              "#7201a8"
             ],
             [
              0.3333333333333333,
              "#9c179e"
             ],
             [
              0.4444444444444444,
              "#bd3786"
             ],
             [
              0.5555555555555556,
              "#d8576b"
             ],
             [
              0.6666666666666666,
              "#ed7953"
             ],
             [
              0.7777777777777778,
              "#fb9f3a"
             ],
             [
              0.8888888888888888,
              "#fdca26"
             ],
             [
              1,
              "#f0f921"
             ]
            ],
            "type": "histogram2dcontour"
           }
          ],
          "mesh3d": [
           {
            "colorbar": {
             "outlinewidth": 0,
             "ticks": ""
            },
            "type": "mesh3d"
           }
          ],
          "parcoords": [
           {
            "line": {
             "colorbar": {
              "outlinewidth": 0,
              "ticks": ""
             }
            },
            "type": "parcoords"
           }
          ],
          "pie": [
           {
            "automargin": true,
            "type": "pie"
           }
          ],
          "scatter": [
           {
            "fillpattern": {
             "fillmode": "overlay",
             "size": 10,
             "solidity": 0.2
            },
            "type": "scatter"
           }
          ],
          "scatter3d": [
           {
            "line": {
             "colorbar": {
              "outlinewidth": 0,
              "ticks": ""
             }
            },
            "marker": {
             "colorbar": {
              "outlinewidth": 0,
              "ticks": ""
             }
            },
            "type": "scatter3d"
           }
          ],
          "scattercarpet": [
           {
            "marker": {
             "colorbar": {
              "outlinewidth": 0,
              "ticks": ""
             }
            },
            "type": "scattercarpet"
           }
          ],
          "scattergeo": [
           {
            "marker": {
             "colorbar": {
              "outlinewidth": 0,
              "ticks": ""
             }
            },
            "type": "scattergeo"
           }
          ],
          "scattergl": [
           {
            "marker": {
             "colorbar": {
              "outlinewidth": 0,
              "ticks": ""
             }
            },
            "type": "scattergl"
           }
          ],
          "scattermapbox": [
           {
            "marker": {
             "colorbar": {
              "outlinewidth": 0,
              "ticks": ""
             }
            },
            "type": "scattermapbox"
           }
          ],
          "scatterpolar": [
           {
            "marker": {
             "colorbar": {
              "outlinewidth": 0,
              "ticks": ""
             }
            },
            "type": "scatterpolar"
           }
          ],
          "scatterpolargl": [
           {
            "marker": {
             "colorbar": {
              "outlinewidth": 0,
              "ticks": ""
             }
            },
            "type": "scatterpolargl"
           }
          ],
          "scatterternary": [
           {
            "marker": {
             "colorbar": {
              "outlinewidth": 0,
              "ticks": ""
             }
            },
            "type": "scatterternary"
           }
          ],
          "surface": [
           {
            "colorbar": {
             "outlinewidth": 0,
             "ticks": ""
            },
            "colorscale": [
             [
              0,
              "#0d0887"
             ],
             [
              0.1111111111111111,
              "#46039f"
             ],
             [
              0.2222222222222222,
              "#7201a8"
             ],
             [
              0.3333333333333333,
              "#9c179e"
             ],
             [
              0.4444444444444444,
              "#bd3786"
             ],
             [
              0.5555555555555556,
              "#d8576b"
             ],
             [
              0.6666666666666666,
              "#ed7953"
             ],
             [
              0.7777777777777778,
              "#fb9f3a"
             ],
             [
              0.8888888888888888,
              "#fdca26"
             ],
             [
              1,
              "#f0f921"
             ]
            ],
            "type": "surface"
           }
          ],
          "table": [
           {
            "cells": {
             "fill": {
              "color": "#EBF0F8"
             },
             "line": {
              "color": "white"
             }
            },
            "header": {
             "fill": {
              "color": "#C8D4E3"
             },
             "line": {
              "color": "white"
             }
            },
            "type": "table"
           }
          ]
         },
         "layout": {
          "annotationdefaults": {
           "arrowcolor": "#2a3f5f",
           "arrowhead": 0,
           "arrowwidth": 1
          },
          "autotypenumbers": "strict",
          "coloraxis": {
           "colorbar": {
            "outlinewidth": 0,
            "ticks": ""
           }
          },
          "colorscale": {
           "diverging": [
            [
             0,
             "#8e0152"
            ],
            [
             0.1,
             "#c51b7d"
            ],
            [
             0.2,
             "#de77ae"
            ],
            [
             0.3,
             "#f1b6da"
            ],
            [
             0.4,
             "#fde0ef"
            ],
            [
             0.5,
             "#f7f7f7"
            ],
            [
             0.6,
             "#e6f5d0"
            ],
            [
             0.7,
             "#b8e186"
            ],
            [
             0.8,
             "#7fbc41"
            ],
            [
             0.9,
             "#4d9221"
            ],
            [
             1,
             "#276419"
            ]
           ],
           "sequential": [
            [
             0,
             "#0d0887"
            ],
            [
             0.1111111111111111,
             "#46039f"
            ],
            [
             0.2222222222222222,
             "#7201a8"
            ],
            [
             0.3333333333333333,
             "#9c179e"
            ],
            [
             0.4444444444444444,
             "#bd3786"
            ],
            [
             0.5555555555555556,
             "#d8576b"
            ],
            [
             0.6666666666666666,
             "#ed7953"
            ],
            [
             0.7777777777777778,
             "#fb9f3a"
            ],
            [
             0.8888888888888888,
             "#fdca26"
            ],
            [
             1,
             "#f0f921"
            ]
           ],
           "sequentialminus": [
            [
             0,
             "#0d0887"
            ],
            [
             0.1111111111111111,
             "#46039f"
            ],
            [
             0.2222222222222222,
             "#7201a8"
            ],
            [
             0.3333333333333333,
             "#9c179e"
            ],
            [
             0.4444444444444444,
             "#bd3786"
            ],
            [
             0.5555555555555556,
             "#d8576b"
            ],
            [
             0.6666666666666666,
             "#ed7953"
            ],
            [
             0.7777777777777778,
             "#fb9f3a"
            ],
            [
             0.8888888888888888,
             "#fdca26"
            ],
            [
             1,
             "#f0f921"
            ]
           ]
          },
          "colorway": [
           "#636efa",
           "#EF553B",
           "#00cc96",
           "#ab63fa",
           "#FFA15A",
           "#19d3f3",
           "#FF6692",
           "#B6E880",
           "#FF97FF",
           "#FECB52"
          ],
          "font": {
           "color": "#2a3f5f"
          },
          "geo": {
           "bgcolor": "white",
           "lakecolor": "white",
           "landcolor": "#E5ECF6",
           "showlakes": true,
           "showland": true,
           "subunitcolor": "white"
          },
          "hoverlabel": {
           "align": "left"
          },
          "hovermode": "closest",
          "mapbox": {
           "style": "light"
          },
          "paper_bgcolor": "white",
          "plot_bgcolor": "#E5ECF6",
          "polar": {
           "angularaxis": {
            "gridcolor": "white",
            "linecolor": "white",
            "ticks": ""
           },
           "bgcolor": "#E5ECF6",
           "radialaxis": {
            "gridcolor": "white",
            "linecolor": "white",
            "ticks": ""
           }
          },
          "scene": {
           "xaxis": {
            "backgroundcolor": "#E5ECF6",
            "gridcolor": "white",
            "gridwidth": 2,
            "linecolor": "white",
            "showbackground": true,
            "ticks": "",
            "zerolinecolor": "white"
           },
           "yaxis": {
            "backgroundcolor": "#E5ECF6",
            "gridcolor": "white",
            "gridwidth": 2,
            "linecolor": "white",
            "showbackground": true,
            "ticks": "",
            "zerolinecolor": "white"
           },
           "zaxis": {
            "backgroundcolor": "#E5ECF6",
            "gridcolor": "white",
            "gridwidth": 2,
            "linecolor": "white",
            "showbackground": true,
            "ticks": "",
            "zerolinecolor": "white"
           }
          },
          "shapedefaults": {
           "line": {
            "color": "#2a3f5f"
           }
          },
          "ternary": {
           "aaxis": {
            "gridcolor": "white",
            "linecolor": "white",
            "ticks": ""
           },
           "baxis": {
            "gridcolor": "white",
            "linecolor": "white",
            "ticks": ""
           },
           "bgcolor": "#E5ECF6",
           "caxis": {
            "gridcolor": "white",
            "linecolor": "white",
            "ticks": ""
           }
          },
          "title": {
           "x": 0.05
          },
          "xaxis": {
           "automargin": true,
           "gridcolor": "white",
           "linecolor": "white",
           "ticks": "",
           "title": {
            "standoff": 15
           },
           "zerolinecolor": "white",
           "zerolinewidth": 2
          },
          "yaxis": {
           "automargin": true,
           "gridcolor": "white",
           "linecolor": "white",
           "ticks": "",
           "title": {
            "standoff": 15
           },
           "zerolinecolor": "white",
           "zerolinewidth": 2
          }
         }
        },
        "title": {
         "text": "Figure 1: Overall  Availability of Listings in Stockholm in 2025 as of 1 April"
        },
        "xaxis": {
         "anchor": "y",
         "domain": [
          0,
          1
         ],
         "title": {
          "text": "Status"
         }
        },
        "yaxis": {
         "anchor": "x",
         "domain": [
          0,
          1
         ],
         "range": [
          0,
          0.7
         ],
         "tickformat": ".0%",
         "title": {
          "text": " "
         }
        }
       }
      },
      "text/html": [
       "<div>                            <div id=\"00f08a23-9d48-4782-9f07-58f3b0460b1b\" class=\"plotly-graph-div\" style=\"height:525px; width:100%;\"></div>            <script type=\"text/javascript\">                require([\"plotly\"], function(Plotly) {                    window.PLOTLYENV=window.PLOTLYENV || {};                                    if (document.getElementById(\"00f08a23-9d48-4782-9f07-58f3b0460b1b\")) {                    Plotly.newPlot(                        \"00f08a23-9d48-4782-9f07-58f3b0460b1b\",                        [{\"alignmentgroup\":\"True\",\"hovertemplate\":\"Status=%{x}<br> =%{y}<extra></extra>\",\"legendgroup\":\"\",\"marker\":{\"color\":\"#636efa\",\"pattern\":{\"shape\":\"\"}},\"name\":\"\",\"offsetgroup\":\"\",\"orientation\":\"v\",\"showlegend\":false,\"textposition\":\"auto\",\"x\":[\"Reserved\",\"Available\"],\"xaxis\":\"x\",\"y\":[0.625875015408664,0.37412498459133603],\"yaxis\":\"y\",\"type\":\"bar\"}],                        {\"barmode\":\"relative\",\"legend\":{\"tracegroupgap\":0},\"template\":{\"data\":{\"barpolar\":[{\"marker\":{\"line\":{\"color\":\"#E5ECF6\",\"width\":0.5},\"pattern\":{\"fillmode\":\"overlay\",\"size\":10,\"solidity\":0.2}},\"type\":\"barpolar\"}],\"bar\":[{\"error_x\":{\"color\":\"#2a3f5f\"},\"error_y\":{\"color\":\"#2a3f5f\"},\"marker\":{\"line\":{\"color\":\"#E5ECF6\",\"width\":0.5},\"pattern\":{\"fillmode\":\"overlay\",\"size\":10,\"solidity\":0.2}},\"type\":\"bar\"}],\"carpet\":[{\"aaxis\":{\"endlinecolor\":\"#2a3f5f\",\"gridcolor\":\"white\",\"linecolor\":\"white\",\"minorgridcolor\":\"white\",\"startlinecolor\":\"#2a3f5f\"},\"baxis\":{\"endlinecolor\":\"#2a3f5f\",\"gridcolor\":\"white\",\"linecolor\":\"white\",\"minorgridcolor\":\"white\",\"startlinecolor\":\"#2a3f5f\"},\"type\":\"carpet\"}],\"choropleth\":[{\"colorbar\":{\"outlinewidth\":0,\"ticks\":\"\"},\"type\":\"choropleth\"}],\"contourcarpet\":[{\"colorbar\":{\"outlinewidth\":0,\"ticks\":\"\"},\"type\":\"contourcarpet\"}],\"contour\":[{\"colorbar\":{\"outlinewidth\":0,\"ticks\":\"\"},\"colorscale\":[[0.0,\"#0d0887\"],[0.1111111111111111,\"#46039f\"],[0.2222222222222222,\"#7201a8\"],[0.3333333333333333,\"#9c179e\"],[0.4444444444444444,\"#bd3786\"],[0.5555555555555556,\"#d8576b\"],[0.6666666666666666,\"#ed7953\"],[0.7777777777777778,\"#fb9f3a\"],[0.8888888888888888,\"#fdca26\"],[1.0,\"#f0f921\"]],\"type\":\"contour\"}],\"heatmapgl\":[{\"colorbar\":{\"outlinewidth\":0,\"ticks\":\"\"},\"colorscale\":[[0.0,\"#0d0887\"],[0.1111111111111111,\"#46039f\"],[0.2222222222222222,\"#7201a8\"],[0.3333333333333333,\"#9c179e\"],[0.4444444444444444,\"#bd3786\"],[0.5555555555555556,\"#d8576b\"],[0.6666666666666666,\"#ed7953\"],[0.7777777777777778,\"#fb9f3a\"],[0.8888888888888888,\"#fdca26\"],[1.0,\"#f0f921\"]],\"type\":\"heatmapgl\"}],\"heatmap\":[{\"colorbar\":{\"outlinewidth\":0,\"ticks\":\"\"},\"colorscale\":[[0.0,\"#0d0887\"],[0.1111111111111111,\"#46039f\"],[0.2222222222222222,\"#7201a8\"],[0.3333333333333333,\"#9c179e\"],[0.4444444444444444,\"#bd3786\"],[0.5555555555555556,\"#d8576b\"],[0.6666666666666666,\"#ed7953\"],[0.7777777777777778,\"#fb9f3a\"],[0.8888888888888888,\"#fdca26\"],[1.0,\"#f0f921\"]],\"type\":\"heatmap\"}],\"histogram2dcontour\":[{\"colorbar\":{\"outlinewidth\":0,\"ticks\":\"\"},\"colorscale\":[[0.0,\"#0d0887\"],[0.1111111111111111,\"#46039f\"],[0.2222222222222222,\"#7201a8\"],[0.3333333333333333,\"#9c179e\"],[0.4444444444444444,\"#bd3786\"],[0.5555555555555556,\"#d8576b\"],[0.6666666666666666,\"#ed7953\"],[0.7777777777777778,\"#fb9f3a\"],[0.8888888888888888,\"#fdca26\"],[1.0,\"#f0f921\"]],\"type\":\"histogram2dcontour\"}],\"histogram2d\":[{\"colorbar\":{\"outlinewidth\":0,\"ticks\":\"\"},\"colorscale\":[[0.0,\"#0d0887\"],[0.1111111111111111,\"#46039f\"],[0.2222222222222222,\"#7201a8\"],[0.3333333333333333,\"#9c179e\"],[0.4444444444444444,\"#bd3786\"],[0.5555555555555556,\"#d8576b\"],[0.6666666666666666,\"#ed7953\"],[0.7777777777777778,\"#fb9f3a\"],[0.8888888888888888,\"#fdca26\"],[1.0,\"#f0f921\"]],\"type\":\"histogram2d\"}],\"histogram\":[{\"marker\":{\"pattern\":{\"fillmode\":\"overlay\",\"size\":10,\"solidity\":0.2}},\"type\":\"histogram\"}],\"mesh3d\":[{\"colorbar\":{\"outlinewidth\":0,\"ticks\":\"\"},\"type\":\"mesh3d\"}],\"parcoords\":[{\"line\":{\"colorbar\":{\"outlinewidth\":0,\"ticks\":\"\"}},\"type\":\"parcoords\"}],\"pie\":[{\"automargin\":true,\"type\":\"pie\"}],\"scatter3d\":[{\"line\":{\"colorbar\":{\"outlinewidth\":0,\"ticks\":\"\"}},\"marker\":{\"colorbar\":{\"outlinewidth\":0,\"ticks\":\"\"}},\"type\":\"scatter3d\"}],\"scattercarpet\":[{\"marker\":{\"colorbar\":{\"outlinewidth\":0,\"ticks\":\"\"}},\"type\":\"scattercarpet\"}],\"scattergeo\":[{\"marker\":{\"colorbar\":{\"outlinewidth\":0,\"ticks\":\"\"}},\"type\":\"scattergeo\"}],\"scattergl\":[{\"marker\":{\"colorbar\":{\"outlinewidth\":0,\"ticks\":\"\"}},\"type\":\"scattergl\"}],\"scattermapbox\":[{\"marker\":{\"colorbar\":{\"outlinewidth\":0,\"ticks\":\"\"}},\"type\":\"scattermapbox\"}],\"scatterpolargl\":[{\"marker\":{\"colorbar\":{\"outlinewidth\":0,\"ticks\":\"\"}},\"type\":\"scatterpolargl\"}],\"scatterpolar\":[{\"marker\":{\"colorbar\":{\"outlinewidth\":0,\"ticks\":\"\"}},\"type\":\"scatterpolar\"}],\"scatter\":[{\"fillpattern\":{\"fillmode\":\"overlay\",\"size\":10,\"solidity\":0.2},\"type\":\"scatter\"}],\"scatterternary\":[{\"marker\":{\"colorbar\":{\"outlinewidth\":0,\"ticks\":\"\"}},\"type\":\"scatterternary\"}],\"surface\":[{\"colorbar\":{\"outlinewidth\":0,\"ticks\":\"\"},\"colorscale\":[[0.0,\"#0d0887\"],[0.1111111111111111,\"#46039f\"],[0.2222222222222222,\"#7201a8\"],[0.3333333333333333,\"#9c179e\"],[0.4444444444444444,\"#bd3786\"],[0.5555555555555556,\"#d8576b\"],[0.6666666666666666,\"#ed7953\"],[0.7777777777777778,\"#fb9f3a\"],[0.8888888888888888,\"#fdca26\"],[1.0,\"#f0f921\"]],\"type\":\"surface\"}],\"table\":[{\"cells\":{\"fill\":{\"color\":\"#EBF0F8\"},\"line\":{\"color\":\"white\"}},\"header\":{\"fill\":{\"color\":\"#C8D4E3\"},\"line\":{\"color\":\"white\"}},\"type\":\"table\"}]},\"layout\":{\"annotationdefaults\":{\"arrowcolor\":\"#2a3f5f\",\"arrowhead\":0,\"arrowwidth\":1},\"autotypenumbers\":\"strict\",\"coloraxis\":{\"colorbar\":{\"outlinewidth\":0,\"ticks\":\"\"}},\"colorscale\":{\"diverging\":[[0,\"#8e0152\"],[0.1,\"#c51b7d\"],[0.2,\"#de77ae\"],[0.3,\"#f1b6da\"],[0.4,\"#fde0ef\"],[0.5,\"#f7f7f7\"],[0.6,\"#e6f5d0\"],[0.7,\"#b8e186\"],[0.8,\"#7fbc41\"],[0.9,\"#4d9221\"],[1,\"#276419\"]],\"sequential\":[[0.0,\"#0d0887\"],[0.1111111111111111,\"#46039f\"],[0.2222222222222222,\"#7201a8\"],[0.3333333333333333,\"#9c179e\"],[0.4444444444444444,\"#bd3786\"],[0.5555555555555556,\"#d8576b\"],[0.6666666666666666,\"#ed7953\"],[0.7777777777777778,\"#fb9f3a\"],[0.8888888888888888,\"#fdca26\"],[1.0,\"#f0f921\"]],\"sequentialminus\":[[0.0,\"#0d0887\"],[0.1111111111111111,\"#46039f\"],[0.2222222222222222,\"#7201a8\"],[0.3333333333333333,\"#9c179e\"],[0.4444444444444444,\"#bd3786\"],[0.5555555555555556,\"#d8576b\"],[0.6666666666666666,\"#ed7953\"],[0.7777777777777778,\"#fb9f3a\"],[0.8888888888888888,\"#fdca26\"],[1.0,\"#f0f921\"]]},\"colorway\":[\"#636efa\",\"#EF553B\",\"#00cc96\",\"#ab63fa\",\"#FFA15A\",\"#19d3f3\",\"#FF6692\",\"#B6E880\",\"#FF97FF\",\"#FECB52\"],\"font\":{\"color\":\"#2a3f5f\"},\"geo\":{\"bgcolor\":\"white\",\"lakecolor\":\"white\",\"landcolor\":\"#E5ECF6\",\"showlakes\":true,\"showland\":true,\"subunitcolor\":\"white\"},\"hoverlabel\":{\"align\":\"left\"},\"hovermode\":\"closest\",\"mapbox\":{\"style\":\"light\"},\"paper_bgcolor\":\"white\",\"plot_bgcolor\":\"#E5ECF6\",\"polar\":{\"angularaxis\":{\"gridcolor\":\"white\",\"linecolor\":\"white\",\"ticks\":\"\"},\"bgcolor\":\"#E5ECF6\",\"radialaxis\":{\"gridcolor\":\"white\",\"linecolor\":\"white\",\"ticks\":\"\"}},\"scene\":{\"xaxis\":{\"backgroundcolor\":\"#E5ECF6\",\"gridcolor\":\"white\",\"gridwidth\":2,\"linecolor\":\"white\",\"showbackground\":true,\"ticks\":\"\",\"zerolinecolor\":\"white\"},\"yaxis\":{\"backgroundcolor\":\"#E5ECF6\",\"gridcolor\":\"white\",\"gridwidth\":2,\"linecolor\":\"white\",\"showbackground\":true,\"ticks\":\"\",\"zerolinecolor\":\"white\"},\"zaxis\":{\"backgroundcolor\":\"#E5ECF6\",\"gridcolor\":\"white\",\"gridwidth\":2,\"linecolor\":\"white\",\"showbackground\":true,\"ticks\":\"\",\"zerolinecolor\":\"white\"}},\"shapedefaults\":{\"line\":{\"color\":\"#2a3f5f\"}},\"ternary\":{\"aaxis\":{\"gridcolor\":\"white\",\"linecolor\":\"white\",\"ticks\":\"\"},\"baxis\":{\"gridcolor\":\"white\",\"linecolor\":\"white\",\"ticks\":\"\"},\"bgcolor\":\"#E5ECF6\",\"caxis\":{\"gridcolor\":\"white\",\"linecolor\":\"white\",\"ticks\":\"\"}},\"title\":{\"x\":0.05},\"xaxis\":{\"automargin\":true,\"gridcolor\":\"white\",\"linecolor\":\"white\",\"ticks\":\"\",\"title\":{\"standoff\":15},\"zerolinecolor\":\"white\",\"zerolinewidth\":2},\"yaxis\":{\"automargin\":true,\"gridcolor\":\"white\",\"linecolor\":\"white\",\"ticks\":\"\",\"title\":{\"standoff\":15},\"zerolinecolor\":\"white\",\"zerolinewidth\":2}}},\"title\":{\"text\":\"Figure 1: Overall  Availability of Listings in Stockholm in 2025 as of 1 April\"},\"xaxis\":{\"anchor\":\"y\",\"domain\":[0.0,1.0],\"title\":{\"text\":\"Status\"}},\"yaxis\":{\"anchor\":\"x\",\"domain\":[0.0,1.0],\"range\":[0,0.7],\"tickformat\":\".0%\",\"title\":{\"text\":\" \"}}},                        {\"responsive\": true}                    ).then(function(){\n",
       "                            \n",
       "var gd = document.getElementById('00f08a23-9d48-4782-9f07-58f3b0460b1b');\n",
       "var x = new MutationObserver(function (mutations, observer) {{\n",
       "        var display = window.getComputedStyle(gd).display;\n",
       "        if (!display || display === 'none') {{\n",
       "            console.log([gd, 'removed!']);\n",
       "            Plotly.purge(gd);\n",
       "            observer.disconnect();\n",
       "        }}\n",
       "}});\n",
       "\n",
       "// Listen for the removal of the full notebook cells\n",
       "var notebookContainer = gd.closest('#notebook-container');\n",
       "if (notebookContainer) {{\n",
       "    x.observe(notebookContainer, {childList: true});\n",
       "}}\n",
       "\n",
       "// Listen for the clearing of the current output cell\n",
       "var outputEl = gd.closest('.output');\n",
       "if (outputEl) {{\n",
       "    x.observe(outputEl, {childList: true});\n",
       "}}\n",
       "\n",
       "                        })                };                });            </script>        </div>"
      ]
     },
     "metadata": {},
     "output_type": "display_data"
    }
   ],
   "source": [
    "df_ratios = calendar.available.value_counts(normalize = True)\n",
    "df_ratios = df_ratios.reset_index()\n",
    "df_ratios['status'] = df_ratios['available'].apply(lambda x: 'Reserved' if x == 'f' else 'Available')\n",
    "\n",
    "fig1 = px.bar(df_ratios, x = 'status', y = 'proportion', \n",
    "              title= 'Figure 1: Overall  Availability of Listings in Stockholm in 2025 as of 1 April',\n",
    "              labels = {'status': 'Status', 'proportion': ' ' },\n",
    "              range_y = [0, .7])\n",
    "fig1.update_layout(yaxis_tickformat = \".0%\")\n",
    "py.iplot(fig1)"
   ]
  },
  {
   "cell_type": "code",
   "execution_count": 72,
   "metadata": {},
   "outputs": [
    {
     "name": "stderr",
     "output_type": "stream",
     "text": [
      "c:\\Users\\VivoBook\\anaconda3\\Lib\\site-packages\\_plotly_utils\\basevalidators.py:106: FutureWarning:\n",
      "\n",
      "The behavior of DatetimeProperties.to_pydatetime is deprecated, in a future version this will return a Series containing python datetime objects instead of an ndarray. To retain the old behavior, call `np.array` on the result\n",
      "\n"
     ]
    },
    {
     "data": {
      "application/vnd.plotly.v1+json": {
       "config": {
        "plotlyServerURL": "https://plot.ly"
       },
       "data": [
        {
         "hovertemplate": "=%{y}<extra></extra>",
         "legendgroup": "",
         "line": {
          "color": "#636efa",
          "dash": "solid"
         },
         "marker": {
          "symbol": "circle"
         },
         "mode": "lines",
         "name": "",
         "orientation": "v",
         "showlegend": false,
         "type": "scatter",
         "x": [
          "2024-12-30T00:00:00",
          "2024-12-31T00:00:00",
          "2025-01-01T00:00:00",
          "2025-01-02T00:00:00",
          "2025-01-03T00:00:00",
          "2025-01-04T00:00:00",
          "2025-01-05T00:00:00",
          "2025-01-06T00:00:00",
          "2025-01-07T00:00:00",
          "2025-01-08T00:00:00",
          "2025-01-09T00:00:00",
          "2025-01-10T00:00:00",
          "2025-01-11T00:00:00",
          "2025-01-12T00:00:00",
          "2025-01-13T00:00:00",
          "2025-01-14T00:00:00",
          "2025-01-15T00:00:00",
          "2025-01-16T00:00:00",
          "2025-01-17T00:00:00",
          "2025-01-18T00:00:00",
          "2025-01-19T00:00:00",
          "2025-01-20T00:00:00",
          "2025-01-21T00:00:00",
          "2025-01-22T00:00:00",
          "2025-01-23T00:00:00",
          "2025-01-24T00:00:00",
          "2025-01-25T00:00:00",
          "2025-01-26T00:00:00",
          "2025-01-27T00:00:00",
          "2025-01-28T00:00:00",
          "2025-01-29T00:00:00",
          "2025-01-30T00:00:00",
          "2025-01-31T00:00:00",
          "2025-02-01T00:00:00",
          "2025-02-02T00:00:00",
          "2025-02-03T00:00:00",
          "2025-02-04T00:00:00",
          "2025-02-05T00:00:00",
          "2025-02-06T00:00:00",
          "2025-02-07T00:00:00",
          "2025-02-08T00:00:00",
          "2025-02-09T00:00:00",
          "2025-02-10T00:00:00",
          "2025-02-11T00:00:00",
          "2025-02-12T00:00:00",
          "2025-02-13T00:00:00",
          "2025-02-14T00:00:00",
          "2025-02-15T00:00:00",
          "2025-02-16T00:00:00",
          "2025-02-17T00:00:00",
          "2025-02-18T00:00:00",
          "2025-02-19T00:00:00",
          "2025-02-20T00:00:00",
          "2025-02-21T00:00:00",
          "2025-02-22T00:00:00",
          "2025-02-23T00:00:00",
          "2025-02-24T00:00:00",
          "2025-02-25T00:00:00",
          "2025-02-26T00:00:00",
          "2025-02-27T00:00:00",
          "2025-02-28T00:00:00",
          "2025-03-01T00:00:00",
          "2025-03-02T00:00:00",
          "2025-03-03T00:00:00",
          "2025-03-04T00:00:00",
          "2025-03-05T00:00:00",
          "2025-03-06T00:00:00",
          "2025-03-07T00:00:00",
          "2025-03-08T00:00:00",
          "2025-03-09T00:00:00",
          "2025-03-10T00:00:00",
          "2025-03-11T00:00:00",
          "2025-03-12T00:00:00",
          "2025-03-13T00:00:00",
          "2025-03-14T00:00:00",
          "2025-03-15T00:00:00",
          "2025-03-16T00:00:00",
          "2025-03-17T00:00:00",
          "2025-03-18T00:00:00",
          "2025-03-19T00:00:00",
          "2025-03-20T00:00:00",
          "2025-03-21T00:00:00",
          "2025-03-22T00:00:00",
          "2025-03-23T00:00:00",
          "2025-03-24T00:00:00",
          "2025-03-25T00:00:00",
          "2025-03-26T00:00:00",
          "2025-03-27T00:00:00",
          "2025-03-28T00:00:00",
          "2025-03-29T00:00:00",
          "2025-03-30T00:00:00",
          "2025-03-31T00:00:00",
          "2025-04-01T00:00:00",
          "2025-04-02T00:00:00",
          "2025-04-03T00:00:00",
          "2025-04-04T00:00:00",
          "2025-04-05T00:00:00",
          "2025-04-06T00:00:00",
          "2025-04-07T00:00:00",
          "2025-04-08T00:00:00",
          "2025-04-09T00:00:00",
          "2025-04-10T00:00:00",
          "2025-04-11T00:00:00",
          "2025-04-12T00:00:00",
          "2025-04-13T00:00:00",
          "2025-04-14T00:00:00",
          "2025-04-15T00:00:00",
          "2025-04-16T00:00:00",
          "2025-04-17T00:00:00",
          "2025-04-18T00:00:00",
          "2025-04-19T00:00:00",
          "2025-04-20T00:00:00",
          "2025-04-21T00:00:00",
          "2025-04-22T00:00:00",
          "2025-04-23T00:00:00",
          "2025-04-24T00:00:00",
          "2025-04-25T00:00:00",
          "2025-04-26T00:00:00",
          "2025-04-27T00:00:00",
          "2025-04-28T00:00:00",
          "2025-04-29T00:00:00",
          "2025-04-30T00:00:00",
          "2025-05-01T00:00:00",
          "2025-05-02T00:00:00",
          "2025-05-03T00:00:00",
          "2025-05-04T00:00:00",
          "2025-05-05T00:00:00",
          "2025-05-06T00:00:00",
          "2025-05-07T00:00:00",
          "2025-05-08T00:00:00",
          "2025-05-09T00:00:00",
          "2025-05-10T00:00:00",
          "2025-05-11T00:00:00",
          "2025-05-12T00:00:00",
          "2025-05-13T00:00:00",
          "2025-05-14T00:00:00",
          "2025-05-15T00:00:00",
          "2025-05-16T00:00:00",
          "2025-05-17T00:00:00",
          "2025-05-18T00:00:00",
          "2025-05-19T00:00:00",
          "2025-05-20T00:00:00",
          "2025-05-21T00:00:00",
          "2025-05-22T00:00:00",
          "2025-05-23T00:00:00",
          "2025-05-24T00:00:00",
          "2025-05-25T00:00:00",
          "2025-05-26T00:00:00",
          "2025-05-27T00:00:00",
          "2025-05-28T00:00:00",
          "2025-05-29T00:00:00",
          "2025-05-30T00:00:00",
          "2025-05-31T00:00:00",
          "2025-06-01T00:00:00",
          "2025-06-02T00:00:00",
          "2025-06-03T00:00:00",
          "2025-06-04T00:00:00",
          "2025-06-05T00:00:00",
          "2025-06-06T00:00:00",
          "2025-06-07T00:00:00",
          "2025-06-08T00:00:00",
          "2025-06-09T00:00:00",
          "2025-06-10T00:00:00",
          "2025-06-11T00:00:00",
          "2025-06-12T00:00:00",
          "2025-06-13T00:00:00",
          "2025-06-14T00:00:00",
          "2025-06-15T00:00:00",
          "2025-06-16T00:00:00",
          "2025-06-17T00:00:00",
          "2025-06-18T00:00:00",
          "2025-06-19T00:00:00",
          "2025-06-20T00:00:00",
          "2025-06-21T00:00:00",
          "2025-06-22T00:00:00",
          "2025-06-23T00:00:00",
          "2025-06-24T00:00:00",
          "2025-06-25T00:00:00",
          "2025-06-26T00:00:00",
          "2025-06-27T00:00:00",
          "2025-06-28T00:00:00",
          "2025-06-29T00:00:00",
          "2025-06-30T00:00:00",
          "2025-07-01T00:00:00",
          "2025-07-02T00:00:00",
          "2025-07-03T00:00:00",
          "2025-07-04T00:00:00",
          "2025-07-05T00:00:00",
          "2025-07-06T00:00:00",
          "2025-07-07T00:00:00",
          "2025-07-08T00:00:00",
          "2025-07-09T00:00:00",
          "2025-07-10T00:00:00",
          "2025-07-11T00:00:00",
          "2025-07-12T00:00:00",
          "2025-07-13T00:00:00",
          "2025-07-14T00:00:00",
          "2025-07-15T00:00:00",
          "2025-07-16T00:00:00",
          "2025-07-17T00:00:00",
          "2025-07-18T00:00:00",
          "2025-07-19T00:00:00",
          "2025-07-20T00:00:00",
          "2025-07-21T00:00:00",
          "2025-07-22T00:00:00",
          "2025-07-23T00:00:00",
          "2025-07-24T00:00:00",
          "2025-07-25T00:00:00",
          "2025-07-26T00:00:00",
          "2025-07-27T00:00:00",
          "2025-07-28T00:00:00",
          "2025-07-29T00:00:00",
          "2025-07-30T00:00:00",
          "2025-07-31T00:00:00",
          "2025-08-01T00:00:00",
          "2025-08-02T00:00:00",
          "2025-08-03T00:00:00",
          "2025-08-04T00:00:00",
          "2025-08-05T00:00:00",
          "2025-08-06T00:00:00",
          "2025-08-07T00:00:00",
          "2025-08-08T00:00:00",
          "2025-08-09T00:00:00",
          "2025-08-10T00:00:00",
          "2025-08-11T00:00:00",
          "2025-08-12T00:00:00",
          "2025-08-13T00:00:00",
          "2025-08-14T00:00:00",
          "2025-08-15T00:00:00",
          "2025-08-16T00:00:00",
          "2025-08-17T00:00:00",
          "2025-08-18T00:00:00",
          "2025-08-19T00:00:00",
          "2025-08-20T00:00:00",
          "2025-08-21T00:00:00",
          "2025-08-22T00:00:00",
          "2025-08-23T00:00:00",
          "2025-08-24T00:00:00",
          "2025-08-25T00:00:00",
          "2025-08-26T00:00:00",
          "2025-08-27T00:00:00",
          "2025-08-28T00:00:00",
          "2025-08-29T00:00:00",
          "2025-08-30T00:00:00",
          "2025-08-31T00:00:00",
          "2025-09-01T00:00:00",
          "2025-09-02T00:00:00",
          "2025-09-03T00:00:00",
          "2025-09-04T00:00:00",
          "2025-09-05T00:00:00",
          "2025-09-06T00:00:00",
          "2025-09-07T00:00:00",
          "2025-09-08T00:00:00",
          "2025-09-09T00:00:00",
          "2025-09-10T00:00:00",
          "2025-09-11T00:00:00",
          "2025-09-12T00:00:00",
          "2025-09-13T00:00:00",
          "2025-09-14T00:00:00",
          "2025-09-15T00:00:00",
          "2025-09-16T00:00:00",
          "2025-09-17T00:00:00",
          "2025-09-18T00:00:00",
          "2025-09-19T00:00:00",
          "2025-09-20T00:00:00",
          "2025-09-21T00:00:00",
          "2025-09-22T00:00:00",
          "2025-09-23T00:00:00",
          "2025-09-24T00:00:00",
          "2025-09-25T00:00:00",
          "2025-09-26T00:00:00",
          "2025-09-27T00:00:00",
          "2025-09-28T00:00:00",
          "2025-09-29T00:00:00",
          "2025-09-30T00:00:00",
          "2025-10-01T00:00:00",
          "2025-10-02T00:00:00",
          "2025-10-03T00:00:00",
          "2025-10-04T00:00:00",
          "2025-10-05T00:00:00",
          "2025-10-06T00:00:00",
          "2025-10-07T00:00:00",
          "2025-10-08T00:00:00",
          "2025-10-09T00:00:00",
          "2025-10-10T00:00:00",
          "2025-10-11T00:00:00",
          "2025-10-12T00:00:00",
          "2025-10-13T00:00:00",
          "2025-10-14T00:00:00",
          "2025-10-15T00:00:00",
          "2025-10-16T00:00:00",
          "2025-10-17T00:00:00",
          "2025-10-18T00:00:00",
          "2025-10-19T00:00:00",
          "2025-10-20T00:00:00",
          "2025-10-21T00:00:00",
          "2025-10-22T00:00:00",
          "2025-10-23T00:00:00",
          "2025-10-24T00:00:00",
          "2025-10-25T00:00:00",
          "2025-10-26T00:00:00",
          "2025-10-27T00:00:00",
          "2025-10-28T00:00:00",
          "2025-10-29T00:00:00",
          "2025-10-30T00:00:00",
          "2025-10-31T00:00:00",
          "2025-11-01T00:00:00",
          "2025-11-02T00:00:00",
          "2025-11-03T00:00:00",
          "2025-11-04T00:00:00",
          "2025-11-05T00:00:00",
          "2025-11-06T00:00:00",
          "2025-11-07T00:00:00",
          "2025-11-08T00:00:00",
          "2025-11-09T00:00:00",
          "2025-11-10T00:00:00",
          "2025-11-11T00:00:00",
          "2025-11-12T00:00:00",
          "2025-11-13T00:00:00",
          "2025-11-14T00:00:00",
          "2025-11-15T00:00:00",
          "2025-11-16T00:00:00",
          "2025-11-17T00:00:00",
          "2025-11-18T00:00:00",
          "2025-11-19T00:00:00",
          "2025-11-20T00:00:00",
          "2025-11-21T00:00:00",
          "2025-11-22T00:00:00",
          "2025-11-23T00:00:00",
          "2025-11-24T00:00:00",
          "2025-11-25T00:00:00",
          "2025-11-26T00:00:00",
          "2025-11-27T00:00:00",
          "2025-11-28T00:00:00",
          "2025-11-29T00:00:00",
          "2025-11-30T00:00:00",
          "2025-12-01T00:00:00",
          "2025-12-02T00:00:00",
          "2025-12-03T00:00:00",
          "2025-12-04T00:00:00",
          "2025-12-05T00:00:00",
          "2025-12-06T00:00:00",
          "2025-12-07T00:00:00",
          "2025-12-08T00:00:00",
          "2025-12-09T00:00:00",
          "2025-12-10T00:00:00",
          "2025-12-11T00:00:00",
          "2025-12-12T00:00:00",
          "2025-12-13T00:00:00",
          "2025-12-14T00:00:00",
          "2025-12-15T00:00:00",
          "2025-12-16T00:00:00",
          "2025-12-17T00:00:00",
          "2025-12-18T00:00:00",
          "2025-12-19T00:00:00",
          "2025-12-20T00:00:00",
          "2025-12-21T00:00:00",
          "2025-12-22T00:00:00",
          "2025-12-23T00:00:00",
          "2025-12-24T00:00:00",
          "2025-12-25T00:00:00",
          "2025-12-26T00:00:00",
          "2025-12-27T00:00:00",
          "2025-12-28T00:00:00",
          "2025-12-29T00:00:00"
         ],
         "xaxis": "x",
         "y": [
          0.8968026038675091,
          0.8183036569021636,
          0.7419107792456443,
          0.6783457782883401,
          0.6465632778096879,
          0.6266513497989661,
          0.6017614397855638,
          0.5573425234539536,
          0.5558108366838982,
          0.5567681409151829,
          0.5634692705341757,
          0.5678728699980854,
          0.5688301742293701,
          0.5617461229178633,
          0.5632778096879189,
          0.5695960176143978,
          0.5741910779245645,
          0.5833811985448976,
          0.5870189546237794,
          0.5856787286999808,
          0.569213095921884,
          0.5726593911545089,
          0.5722764694619951,
          0.5759142255408769,
          0.5828068160061267,
          0.585487267853724,
          0.5879762588550641,
          0.5726593911545089,
          0.5669155657668007,
          0.5651924181504883,
          0.5638521922266897,
          0.5621290446103772,
          0.5667241049205437,
          0.5669155657668007,
          0.5577254451464676,
          0.5623205054566341,
          0.5636607313804327,
          0.5621290446103772,
          0.5640436530729466,
          0.5621290446103772,
          0.5619375837641203,
          0.5529389239900441,
          0.5508328546812177,
          0.5487267853723914,
          0.5512157763737315,
          0.5519816197587594,
          0.5537047673750718,
          0.553130384836301,
          0.5460463335247941,
          0.5552364541451273,
          0.5567681409151829,
          0.55006701129619,
          0.5491097070649053,
          0.5445146467547387,
          0.5387708213670305,
          0.5334099176718361,
          0.5295807007466973,
          0.5286233965154126,
          0.5286233965154126,
          0.5313038483630098,
          0.5267087880528432,
          0.5286233965154126,
          0.5267087880528432,
          0.5380049779820026,
          0.5380049779820026,
          0.5395366647520582,
          0.5395366647520582,
          0.5378135171357458,
          0.5372391345969749,
          0.5295807007466973,
          0.5332184568255792,
          0.5336013785180931,
          0.5360903695194332,
          0.5360903695194332,
          0.530729465824239,
          0.5303465441317251,
          0.5244112578977599,
          0.530538004977982,
          0.5299636224392111,
          0.5318782309017805,
          0.5374305954432319,
          0.581849511774842,
          0.5918054757802029,
          0.5475780202948497,
          0.5290063182079264,
          0.5383878996745166,
          0.5412598123683706,
          0.5403025081370859,
          0.5301550832854681,
          0.523836875358989,
          0.5962090752441126,
          0.5927627800114876,
          0.5994639096304806,
          0.6029102048631055,
          0.6092284127895845,
          0.6084625694045568,
          0.6061650392494735,
          0.5998468313229944,
          0.6008041355542791,
          0.601187057246793,
          0.6017614397855638,
          0.60137851809305,
          0.5954432318590848,
          0.5941030059352862,
          0.5921883974727168,
          0.5942944667815432,
          0.594677388474057,
          0.5964005360903695,
          0.5952517710128279,
          0.5919969366264599,
          0.5893164847788627,
          0.5895079456251197,
          0.5942944667815432,
          0.6017614397855638,
          0.6130576297147233,
          0.6132490905609803,
          0.6031016657093624,
          0.5975493011679112,
          0.5962090752441126,
          0.5969749186291403,
          0.5969749186291403,
          0.5994639096304806,
          0.6086540302508137,
          0.6111430212521539,
          0.6092284127895845,
          0.5986980662454529,
          0.5960176143978556,
          0.5983151445529389,
          0.6017614397855638,
          0.6119088646371817,
          0.630289105877848,
          0.633543940264216,
          0.6235879762588551,
          0.617461229178633,
          0.6153551598698066,
          0.6161210032548344,
          0.6197587593337163,
          0.6268428106452231,
          0.6318207926479035,
          0.623970897951369,
          0.620716063565001,
          0.6197587593337163,
          0.6094198736358415,
          0.6147807773310358,
          0.6155466207160636,
          0.613823473099751,
          0.6034845874018763,
          0.5958261535515987,
          0.5990809879379667,
          0.6059735784032165,
          0.6216733677962857,
          0.6276086540302508,
          0.6260769672601952,
          0.5939115450890293,
          0.5849128853149531,
          0.58510434616121,
          0.5898908673176335,
          0.5941030059352862,
          0.5889335630863488,
          0.5872104154700364,
          0.5843385027761823,
          0.5841470419299253,
          0.5845299636224393,
          0.5881677197013211,
          0.5960176143978556,
          0.60137851809305,
          0.5874018763162934,
          0.5795519816197587,
          0.5743825387708213,
          0.5757227646946199,
          0.5772544514646755,
          0.5739996170783075,
          0.5686387133831131,
          0.5672984874593145,
          0.562703427149148,
          0.5623205054566341,
          0.5646180356117174,
          0.5615546620716063,
          0.5590656710702662,
          0.5537047673750718,
          0.6186099942561746,
          0.6168868466398622,
          0.6111430212521539,
          0.6086540302508137,
          0.6067394217882442,
          0.6069308826345012,
          0.6080796477120429,
          0.6071223434807582,
          0.6057821175569597,
          0.604824813325675,
          0.6055906567107027,
          0.6073138043270151,
          0.6084625694045568,
          0.6071223434807582,
          0.6069308826345012,
          0.6071223434807582,
          0.6027187440168486,
          0.6034845874018763,
          0.6025272831705916,
          0.6031016657093624,
          0.6042504307869041,
          0.6105686387133831,
          0.6073138043270151,
          0.607696726019529,
          0.6073138043270151,
          0.6067394217882442,
          0.6059735784032165,
          0.6053991958644457,
          0.6067394217882442,
          0.6059735784032165,
          0.6067394217882442,
          0.6069308826345012,
          0.6084625694045568,
          0.6086540302508137,
          0.614206394792265,
          0.6145893164847789,
          0.6166953857936052,
          0.6216733677962857,
          0.6184185334099177,
          0.6180356117174038,
          0.6168868466398622,
          0.6155466207160636,
          0.6157380815623205,
          0.6155466207160636,
          0.6224392111813134,
          0.6249282021826537,
          0.6249282021826537,
          0.6260769672601952,
          0.6255025847214245,
          0.6243538196438828,
          0.6249282021826537,
          0.6289488799540494,
          0.6278001148765078,
          0.6289488799540494,
          0.6362243921118131,
          0.6599655370476738,
          0.6611143021252154,
          0.6276086540302508,
          0.623779437105112,
          0.6230135937200842,
          0.6220562894887995,
          0.6216733677962857,
          0.6193758376412024,
          0.6197587593337163,
          0.6132490905609803,
          0.6117174037909248,
          0.6115259429446678,
          0.610951560405897,
          0.6115259429446678,
          0.6121003254834386,
          0.6121003254834386,
          0.6090369519433276,
          0.6086540302508137,
          0.6082711085582998,
          0.6075052651732721,
          0.6071223434807582,
          0.6052077350181888,
          0.6042504307869041,
          0.604633352479418,
          0.6050162741719318,
          0.604633352479418,
          0.604441891633161,
          0.6042504307869041,
          0.6021443614780777,
          0.6017614397855638,
          0.6017614397855638,
          0.6023358223243347,
          0.6017614397855638,
          0.6019529006318208,
          0.601187057246793,
          0.7151062607696727,
          0.7158721041547004,
          0.7145318782309018,
          0.7152977216159295,
          0.7179781734635267,
          0.7275512157763737,
          0.7271682940838599,
          0.7258280681600613,
          0.726593911545089,
          0.7271682940838599,
          0.7269768332376029,
          0.7269768332376029,
          0.726785372391346,
          0.7269768332376029,
          0.7260195290063182,
          0.7258280681600613,
          0.726593911545089,
          0.7279341374688876,
          0.7279341374688876,
          0.7281255983151446,
          0.7288914417001723,
          0.7246793030825196,
          0.7248707639287766,
          0.7296572850852001,
          0.7294658242389431,
          0.7292743633926861,
          0.7288914417001723,
          0.7281255983151446,
          0.726785372391346,
          0.7262109898525752,
          0.7262109898525752,
          0.7256366073138043,
          0.7258280681600613,
          0.7250622247750335,
          0.7239134596974919,
          0.7241049205437488,
          0.723147616312464,
          0.7241049205437488,
          0.7262109898525752,
          0.7258280681600613,
          0.7285085200076584,
          0.7244878422362627,
          0.723530538004978,
          0.723530538004978,
          0.7241049205437488,
          0.7239134596974919,
          0.7246793030825196,
          0.723530538004978,
          0.7229561554662072,
          0.7219988512349225,
          0.7218073903886655,
          0.7223817729274363,
          0.7225732337736933,
          0.7221903120811795,
          0.7219988512349225,
          0.7218073903886655,
          0.7212330078498947,
          0.7212330078498947,
          0.7212330078498947,
          0.7216159295424086,
          0.7216159295424086,
          0.7218073903886655,
          0.7212330078498947,
          0.7212330078498947,
          0.7214244686961516,
          0.7218073903886655,
          0.7200842427723531,
          0.7204671644648669,
          0.7200842427723531,
          0.7198927819260961,
          0.7195098602335822,
          0.7191269385410684,
          0.7197013210798392,
          0.7195098602335822,
          0.7197013210798392,
          0.7197013210798392,
          0.7191269385410684,
          0.7187440168485545,
          0.7181696343097836,
          0.7181696343097836,
          0.7174037909247559,
          0.7172123300784989,
          0.7168294083859851,
          0.7168294083859851,
          0.7168294083859851,
          0.7174037909247559,
          0.7168294083859851,
          0.7172123300784989,
          0.717020869232242,
          0.7168294083859851,
          0.7168294083859851,
          0.7151062607696727,
          0.7147233390771587,
          0.7149147999234157,
          0.714148956538388
         ],
         "yaxis": "y"
        }
       ],
       "layout": {
        "legend": {
         "tracegroupgap": 0
        },
        "template": {
         "data": {
          "bar": [
           {
            "error_x": {
             "color": "#2a3f5f"
            },
            "error_y": {
             "color": "#2a3f5f"
            },
            "marker": {
             "line": {
              "color": "#E5ECF6",
              "width": 0.5
             },
             "pattern": {
              "fillmode": "overlay",
              "size": 10,
              "solidity": 0.2
             }
            },
            "type": "bar"
           }
          ],
          "barpolar": [
           {
            "marker": {
             "line": {
              "color": "#E5ECF6",
              "width": 0.5
             },
             "pattern": {
              "fillmode": "overlay",
              "size": 10,
              "solidity": 0.2
             }
            },
            "type": "barpolar"
           }
          ],
          "carpet": [
           {
            "aaxis": {
             "endlinecolor": "#2a3f5f",
             "gridcolor": "white",
             "linecolor": "white",
             "minorgridcolor": "white",
             "startlinecolor": "#2a3f5f"
            },
            "baxis": {
             "endlinecolor": "#2a3f5f",
             "gridcolor": "white",
             "linecolor": "white",
             "minorgridcolor": "white",
             "startlinecolor": "#2a3f5f"
            },
            "type": "carpet"
           }
          ],
          "choropleth": [
           {
            "colorbar": {
             "outlinewidth": 0,
             "ticks": ""
            },
            "type": "choropleth"
           }
          ],
          "contour": [
           {
            "colorbar": {
             "outlinewidth": 0,
             "ticks": ""
            },
            "colorscale": [
             [
              0,
              "#0d0887"
             ],
             [
              0.1111111111111111,
              "#46039f"
             ],
             [
              0.2222222222222222,
              "#7201a8"
             ],
             [
              0.3333333333333333,
              "#9c179e"
             ],
             [
              0.4444444444444444,
              "#bd3786"
             ],
             [
              0.5555555555555556,
              "#d8576b"
             ],
             [
              0.6666666666666666,
              "#ed7953"
             ],
             [
              0.7777777777777778,
              "#fb9f3a"
             ],
             [
              0.8888888888888888,
              "#fdca26"
             ],
             [
              1,
              "#f0f921"
             ]
            ],
            "type": "contour"
           }
          ],
          "contourcarpet": [
           {
            "colorbar": {
             "outlinewidth": 0,
             "ticks": ""
            },
            "type": "contourcarpet"
           }
          ],
          "heatmap": [
           {
            "colorbar": {
             "outlinewidth": 0,
             "ticks": ""
            },
            "colorscale": [
             [
              0,
              "#0d0887"
             ],
             [
              0.1111111111111111,
              "#46039f"
             ],
             [
              0.2222222222222222,
              "#7201a8"
             ],
             [
              0.3333333333333333,
              "#9c179e"
             ],
             [
              0.4444444444444444,
              "#bd3786"
             ],
             [
              0.5555555555555556,
              "#d8576b"
             ],
             [
              0.6666666666666666,
              "#ed7953"
             ],
             [
              0.7777777777777778,
              "#fb9f3a"
             ],
             [
              0.8888888888888888,
              "#fdca26"
             ],
             [
              1,
              "#f0f921"
             ]
            ],
            "type": "heatmap"
           }
          ],
          "heatmapgl": [
           {
            "colorbar": {
             "outlinewidth": 0,
             "ticks": ""
            },
            "colorscale": [
             [
              0,
              "#0d0887"
             ],
             [
              0.1111111111111111,
              "#46039f"
             ],
             [
              0.2222222222222222,
              "#7201a8"
             ],
             [
              0.3333333333333333,
              "#9c179e"
             ],
             [
              0.4444444444444444,
              "#bd3786"
             ],
             [
              0.5555555555555556,
              "#d8576b"
             ],
             [
              0.6666666666666666,
              "#ed7953"
             ],
             [
              0.7777777777777778,
              "#fb9f3a"
             ],
             [
              0.8888888888888888,
              "#fdca26"
             ],
             [
              1,
              "#f0f921"
             ]
            ],
            "type": "heatmapgl"
           }
          ],
          "histogram": [
           {
            "marker": {
             "pattern": {
              "fillmode": "overlay",
              "size": 10,
              "solidity": 0.2
             }
            },
            "type": "histogram"
           }
          ],
          "histogram2d": [
           {
            "colorbar": {
             "outlinewidth": 0,
             "ticks": ""
            },
            "colorscale": [
             [
              0,
              "#0d0887"
             ],
             [
              0.1111111111111111,
              "#46039f"
             ],
             [
              0.2222222222222222,
              "#7201a8"
             ],
             [
              0.3333333333333333,
              "#9c179e"
             ],
             [
              0.4444444444444444,
              "#bd3786"
             ],
             [
              0.5555555555555556,
              "#d8576b"
             ],
             [
              0.6666666666666666,
              "#ed7953"
             ],
             [
              0.7777777777777778,
              "#fb9f3a"
             ],
             [
              0.8888888888888888,
              "#fdca26"
             ],
             [
              1,
              "#f0f921"
             ]
            ],
            "type": "histogram2d"
           }
          ],
          "histogram2dcontour": [
           {
            "colorbar": {
             "outlinewidth": 0,
             "ticks": ""
            },
            "colorscale": [
             [
              0,
              "#0d0887"
             ],
             [
              0.1111111111111111,
              "#46039f"
             ],
             [
              0.2222222222222222,
              "#7201a8"
             ],
             [
              0.3333333333333333,
              "#9c179e"
             ],
             [
              0.4444444444444444,
              "#bd3786"
             ],
             [
              0.5555555555555556,
              "#d8576b"
             ],
             [
              0.6666666666666666,
              "#ed7953"
             ],
             [
              0.7777777777777778,
              "#fb9f3a"
             ],
             [
              0.8888888888888888,
              "#fdca26"
             ],
             [
              1,
              "#f0f921"
             ]
            ],
            "type": "histogram2dcontour"
           }
          ],
          "mesh3d": [
           {
            "colorbar": {
             "outlinewidth": 0,
             "ticks": ""
            },
            "type": "mesh3d"
           }
          ],
          "parcoords": [
           {
            "line": {
             "colorbar": {
              "outlinewidth": 0,
              "ticks": ""
             }
            },
            "type": "parcoords"
           }
          ],
          "pie": [
           {
            "automargin": true,
            "type": "pie"
           }
          ],
          "scatter": [
           {
            "fillpattern": {
             "fillmode": "overlay",
             "size": 10,
             "solidity": 0.2
            },
            "type": "scatter"
           }
          ],
          "scatter3d": [
           {
            "line": {
             "colorbar": {
              "outlinewidth": 0,
              "ticks": ""
             }
            },
            "marker": {
             "colorbar": {
              "outlinewidth": 0,
              "ticks": ""
             }
            },
            "type": "scatter3d"
           }
          ],
          "scattercarpet": [
           {
            "marker": {
             "colorbar": {
              "outlinewidth": 0,
              "ticks": ""
             }
            },
            "type": "scattercarpet"
           }
          ],
          "scattergeo": [
           {
            "marker": {
             "colorbar": {
              "outlinewidth": 0,
              "ticks": ""
             }
            },
            "type": "scattergeo"
           }
          ],
          "scattergl": [
           {
            "marker": {
             "colorbar": {
              "outlinewidth": 0,
              "ticks": ""
             }
            },
            "type": "scattergl"
           }
          ],
          "scattermapbox": [
           {
            "marker": {
             "colorbar": {
              "outlinewidth": 0,
              "ticks": ""
             }
            },
            "type": "scattermapbox"
           }
          ],
          "scatterpolar": [
           {
            "marker": {
             "colorbar": {
              "outlinewidth": 0,
              "ticks": ""
             }
            },
            "type": "scatterpolar"
           }
          ],
          "scatterpolargl": [
           {
            "marker": {
             "colorbar": {
              "outlinewidth": 0,
              "ticks": ""
             }
            },
            "type": "scatterpolargl"
           }
          ],
          "scatterternary": [
           {
            "marker": {
             "colorbar": {
              "outlinewidth": 0,
              "ticks": ""
             }
            },
            "type": "scatterternary"
           }
          ],
          "surface": [
           {
            "colorbar": {
             "outlinewidth": 0,
             "ticks": ""
            },
            "colorscale": [
             [
              0,
              "#0d0887"
             ],
             [
              0.1111111111111111,
              "#46039f"
             ],
             [
              0.2222222222222222,
              "#7201a8"
             ],
             [
              0.3333333333333333,
              "#9c179e"
             ],
             [
              0.4444444444444444,
              "#bd3786"
             ],
             [
              0.5555555555555556,
              "#d8576b"
             ],
             [
              0.6666666666666666,
              "#ed7953"
             ],
             [
              0.7777777777777778,
              "#fb9f3a"
             ],
             [
              0.8888888888888888,
              "#fdca26"
             ],
             [
              1,
              "#f0f921"
             ]
            ],
            "type": "surface"
           }
          ],
          "table": [
           {
            "cells": {
             "fill": {
              "color": "#EBF0F8"
             },
             "line": {
              "color": "white"
             }
            },
            "header": {
             "fill": {
              "color": "#C8D4E3"
             },
             "line": {
              "color": "white"
             }
            },
            "type": "table"
           }
          ]
         },
         "layout": {
          "annotationdefaults": {
           "arrowcolor": "#2a3f5f",
           "arrowhead": 0,
           "arrowwidth": 1
          },
          "autotypenumbers": "strict",
          "coloraxis": {
           "colorbar": {
            "outlinewidth": 0,
            "ticks": ""
           }
          },
          "colorscale": {
           "diverging": [
            [
             0,
             "#8e0152"
            ],
            [
             0.1,
             "#c51b7d"
            ],
            [
             0.2,
             "#de77ae"
            ],
            [
             0.3,
             "#f1b6da"
            ],
            [
             0.4,
             "#fde0ef"
            ],
            [
             0.5,
             "#f7f7f7"
            ],
            [
             0.6,
             "#e6f5d0"
            ],
            [
             0.7,
             "#b8e186"
            ],
            [
             0.8,
             "#7fbc41"
            ],
            [
             0.9,
             "#4d9221"
            ],
            [
             1,
             "#276419"
            ]
           ],
           "sequential": [
            [
             0,
             "#0d0887"
            ],
            [
             0.1111111111111111,
             "#46039f"
            ],
            [
             0.2222222222222222,
             "#7201a8"
            ],
            [
             0.3333333333333333,
             "#9c179e"
            ],
            [
             0.4444444444444444,
             "#bd3786"
            ],
            [
             0.5555555555555556,
             "#d8576b"
            ],
            [
             0.6666666666666666,
             "#ed7953"
            ],
            [
             0.7777777777777778,
             "#fb9f3a"
            ],
            [
             0.8888888888888888,
             "#fdca26"
            ],
            [
             1,
             "#f0f921"
            ]
           ],
           "sequentialminus": [
            [
             0,
             "#0d0887"
            ],
            [
             0.1111111111111111,
             "#46039f"
            ],
            [
             0.2222222222222222,
             "#7201a8"
            ],
            [
             0.3333333333333333,
             "#9c179e"
            ],
            [
             0.4444444444444444,
             "#bd3786"
            ],
            [
             0.5555555555555556,
             "#d8576b"
            ],
            [
             0.6666666666666666,
             "#ed7953"
            ],
            [
             0.7777777777777778,
             "#fb9f3a"
            ],
            [
             0.8888888888888888,
             "#fdca26"
            ],
            [
             1,
             "#f0f921"
            ]
           ]
          },
          "colorway": [
           "#636efa",
           "#EF553B",
           "#00cc96",
           "#ab63fa",
           "#FFA15A",
           "#19d3f3",
           "#FF6692",
           "#B6E880",
           "#FF97FF",
           "#FECB52"
          ],
          "font": {
           "color": "#2a3f5f"
          },
          "geo": {
           "bgcolor": "white",
           "lakecolor": "white",
           "landcolor": "#E5ECF6",
           "showlakes": true,
           "showland": true,
           "subunitcolor": "white"
          },
          "hoverlabel": {
           "align": "left"
          },
          "hovermode": "closest",
          "mapbox": {
           "style": "light"
          },
          "paper_bgcolor": "white",
          "plot_bgcolor": "#E5ECF6",
          "polar": {
           "angularaxis": {
            "gridcolor": "white",
            "linecolor": "white",
            "ticks": ""
           },
           "bgcolor": "#E5ECF6",
           "radialaxis": {
            "gridcolor": "white",
            "linecolor": "white",
            "ticks": ""
           }
          },
          "scene": {
           "xaxis": {
            "backgroundcolor": "#E5ECF6",
            "gridcolor": "white",
            "gridwidth": 2,
            "linecolor": "white",
            "showbackground": true,
            "ticks": "",
            "zerolinecolor": "white"
           },
           "yaxis": {
            "backgroundcolor": "#E5ECF6",
            "gridcolor": "white",
            "gridwidth": 2,
            "linecolor": "white",
            "showbackground": true,
            "ticks": "",
            "zerolinecolor": "white"
           },
           "zaxis": {
            "backgroundcolor": "#E5ECF6",
            "gridcolor": "white",
            "gridwidth": 2,
            "linecolor": "white",
            "showbackground": true,
            "ticks": "",
            "zerolinecolor": "white"
           }
          },
          "shapedefaults": {
           "line": {
            "color": "#2a3f5f"
           }
          },
          "ternary": {
           "aaxis": {
            "gridcolor": "white",
            "linecolor": "white",
            "ticks": ""
           },
           "baxis": {
            "gridcolor": "white",
            "linecolor": "white",
            "ticks": ""
           },
           "bgcolor": "#E5ECF6",
           "caxis": {
            "gridcolor": "white",
            "linecolor": "white",
            "ticks": ""
           }
          },
          "title": {
           "x": 0.05
          },
          "xaxis": {
           "automargin": true,
           "gridcolor": "white",
           "linecolor": "white",
           "ticks": "",
           "title": {
            "standoff": 15
           },
           "zerolinecolor": "white",
           "zerolinewidth": 2
          },
          "yaxis": {
           "automargin": true,
           "gridcolor": "white",
           "linecolor": "white",
           "ticks": "",
           "title": {
            "standoff": 15
           },
           "zerolinecolor": "white",
           "zerolinewidth": 2
          }
         }
        },
        "title": {
         "text": "Figure 2: Ratios of Booked Airbnb Listings in Stockholm in 2025"
        },
        "xaxis": {
         "anchor": "y",
         "domain": [
          0,
          1
         ],
         "title": {
          "text": ""
         }
        },
        "yaxis": {
         "anchor": "x",
         "domain": [
          0,
          1
         ],
         "tickformat": ".0%",
         "title": {
          "text": ""
         }
        }
       }
      },
      "text/html": [
       "<div>                            <div id=\"25265515-0f6f-40c4-b2b6-b74f1e23f38b\" class=\"plotly-graph-div\" style=\"height:525px; width:100%;\"></div>            <script type=\"text/javascript\">                require([\"plotly\"], function(Plotly) {                    window.PLOTLYENV=window.PLOTLYENV || {};                                    if (document.getElementById(\"25265515-0f6f-40c4-b2b6-b74f1e23f38b\")) {                    Plotly.newPlot(                        \"25265515-0f6f-40c4-b2b6-b74f1e23f38b\",                        [{\"hovertemplate\":\"=%{y}<extra></extra>\",\"legendgroup\":\"\",\"line\":{\"color\":\"#636efa\",\"dash\":\"solid\"},\"marker\":{\"symbol\":\"circle\"},\"mode\":\"lines\",\"name\":\"\",\"orientation\":\"v\",\"showlegend\":false,\"x\":[\"2024-12-30T00:00:00\",\"2024-12-31T00:00:00\",\"2025-01-01T00:00:00\",\"2025-01-02T00:00:00\",\"2025-01-03T00:00:00\",\"2025-01-04T00:00:00\",\"2025-01-05T00:00:00\",\"2025-01-06T00:00:00\",\"2025-01-07T00:00:00\",\"2025-01-08T00:00:00\",\"2025-01-09T00:00:00\",\"2025-01-10T00:00:00\",\"2025-01-11T00:00:00\",\"2025-01-12T00:00:00\",\"2025-01-13T00:00:00\",\"2025-01-14T00:00:00\",\"2025-01-15T00:00:00\",\"2025-01-16T00:00:00\",\"2025-01-17T00:00:00\",\"2025-01-18T00:00:00\",\"2025-01-19T00:00:00\",\"2025-01-20T00:00:00\",\"2025-01-21T00:00:00\",\"2025-01-22T00:00:00\",\"2025-01-23T00:00:00\",\"2025-01-24T00:00:00\",\"2025-01-25T00:00:00\",\"2025-01-26T00:00:00\",\"2025-01-27T00:00:00\",\"2025-01-28T00:00:00\",\"2025-01-29T00:00:00\",\"2025-01-30T00:00:00\",\"2025-01-31T00:00:00\",\"2025-02-01T00:00:00\",\"2025-02-02T00:00:00\",\"2025-02-03T00:00:00\",\"2025-02-04T00:00:00\",\"2025-02-05T00:00:00\",\"2025-02-06T00:00:00\",\"2025-02-07T00:00:00\",\"2025-02-08T00:00:00\",\"2025-02-09T00:00:00\",\"2025-02-10T00:00:00\",\"2025-02-11T00:00:00\",\"2025-02-12T00:00:00\",\"2025-02-13T00:00:00\",\"2025-02-14T00:00:00\",\"2025-02-15T00:00:00\",\"2025-02-16T00:00:00\",\"2025-02-17T00:00:00\",\"2025-02-18T00:00:00\",\"2025-02-19T00:00:00\",\"2025-02-20T00:00:00\",\"2025-02-21T00:00:00\",\"2025-02-22T00:00:00\",\"2025-02-23T00:00:00\",\"2025-02-24T00:00:00\",\"2025-02-25T00:00:00\",\"2025-02-26T00:00:00\",\"2025-02-27T00:00:00\",\"2025-02-28T00:00:00\",\"2025-03-01T00:00:00\",\"2025-03-02T00:00:00\",\"2025-03-03T00:00:00\",\"2025-03-04T00:00:00\",\"2025-03-05T00:00:00\",\"2025-03-06T00:00:00\",\"2025-03-07T00:00:00\",\"2025-03-08T00:00:00\",\"2025-03-09T00:00:00\",\"2025-03-10T00:00:00\",\"2025-03-11T00:00:00\",\"2025-03-12T00:00:00\",\"2025-03-13T00:00:00\",\"2025-03-14T00:00:00\",\"2025-03-15T00:00:00\",\"2025-03-16T00:00:00\",\"2025-03-17T00:00:00\",\"2025-03-18T00:00:00\",\"2025-03-19T00:00:00\",\"2025-03-20T00:00:00\",\"2025-03-21T00:00:00\",\"2025-03-22T00:00:00\",\"2025-03-23T00:00:00\",\"2025-03-24T00:00:00\",\"2025-03-25T00:00:00\",\"2025-03-26T00:00:00\",\"2025-03-27T00:00:00\",\"2025-03-28T00:00:00\",\"2025-03-29T00:00:00\",\"2025-03-30T00:00:00\",\"2025-03-31T00:00:00\",\"2025-04-01T00:00:00\",\"2025-04-02T00:00:00\",\"2025-04-03T00:00:00\",\"2025-04-04T00:00:00\",\"2025-04-05T00:00:00\",\"2025-04-06T00:00:00\",\"2025-04-07T00:00:00\",\"2025-04-08T00:00:00\",\"2025-04-09T00:00:00\",\"2025-04-10T00:00:00\",\"2025-04-11T00:00:00\",\"2025-04-12T00:00:00\",\"2025-04-13T00:00:00\",\"2025-04-14T00:00:00\",\"2025-04-15T00:00:00\",\"2025-04-16T00:00:00\",\"2025-04-17T00:00:00\",\"2025-04-18T00:00:00\",\"2025-04-19T00:00:00\",\"2025-04-20T00:00:00\",\"2025-04-21T00:00:00\",\"2025-04-22T00:00:00\",\"2025-04-23T00:00:00\",\"2025-04-24T00:00:00\",\"2025-04-25T00:00:00\",\"2025-04-26T00:00:00\",\"2025-04-27T00:00:00\",\"2025-04-28T00:00:00\",\"2025-04-29T00:00:00\",\"2025-04-30T00:00:00\",\"2025-05-01T00:00:00\",\"2025-05-02T00:00:00\",\"2025-05-03T00:00:00\",\"2025-05-04T00:00:00\",\"2025-05-05T00:00:00\",\"2025-05-06T00:00:00\",\"2025-05-07T00:00:00\",\"2025-05-08T00:00:00\",\"2025-05-09T00:00:00\",\"2025-05-10T00:00:00\",\"2025-05-11T00:00:00\",\"2025-05-12T00:00:00\",\"2025-05-13T00:00:00\",\"2025-05-14T00:00:00\",\"2025-05-15T00:00:00\",\"2025-05-16T00:00:00\",\"2025-05-17T00:00:00\",\"2025-05-18T00:00:00\",\"2025-05-19T00:00:00\",\"2025-05-20T00:00:00\",\"2025-05-21T00:00:00\",\"2025-05-22T00:00:00\",\"2025-05-23T00:00:00\",\"2025-05-24T00:00:00\",\"2025-05-25T00:00:00\",\"2025-05-26T00:00:00\",\"2025-05-27T00:00:00\",\"2025-05-28T00:00:00\",\"2025-05-29T00:00:00\",\"2025-05-30T00:00:00\",\"2025-05-31T00:00:00\",\"2025-06-01T00:00:00\",\"2025-06-02T00:00:00\",\"2025-06-03T00:00:00\",\"2025-06-04T00:00:00\",\"2025-06-05T00:00:00\",\"2025-06-06T00:00:00\",\"2025-06-07T00:00:00\",\"2025-06-08T00:00:00\",\"2025-06-09T00:00:00\",\"2025-06-10T00:00:00\",\"2025-06-11T00:00:00\",\"2025-06-12T00:00:00\",\"2025-06-13T00:00:00\",\"2025-06-14T00:00:00\",\"2025-06-15T00:00:00\",\"2025-06-16T00:00:00\",\"2025-06-17T00:00:00\",\"2025-06-18T00:00:00\",\"2025-06-19T00:00:00\",\"2025-06-20T00:00:00\",\"2025-06-21T00:00:00\",\"2025-06-22T00:00:00\",\"2025-06-23T00:00:00\",\"2025-06-24T00:00:00\",\"2025-06-25T00:00:00\",\"2025-06-26T00:00:00\",\"2025-06-27T00:00:00\",\"2025-06-28T00:00:00\",\"2025-06-29T00:00:00\",\"2025-06-30T00:00:00\",\"2025-07-01T00:00:00\",\"2025-07-02T00:00:00\",\"2025-07-03T00:00:00\",\"2025-07-04T00:00:00\",\"2025-07-05T00:00:00\",\"2025-07-06T00:00:00\",\"2025-07-07T00:00:00\",\"2025-07-08T00:00:00\",\"2025-07-09T00:00:00\",\"2025-07-10T00:00:00\",\"2025-07-11T00:00:00\",\"2025-07-12T00:00:00\",\"2025-07-13T00:00:00\",\"2025-07-14T00:00:00\",\"2025-07-15T00:00:00\",\"2025-07-16T00:00:00\",\"2025-07-17T00:00:00\",\"2025-07-18T00:00:00\",\"2025-07-19T00:00:00\",\"2025-07-20T00:00:00\",\"2025-07-21T00:00:00\",\"2025-07-22T00:00:00\",\"2025-07-23T00:00:00\",\"2025-07-24T00:00:00\",\"2025-07-25T00:00:00\",\"2025-07-26T00:00:00\",\"2025-07-27T00:00:00\",\"2025-07-28T00:00:00\",\"2025-07-29T00:00:00\",\"2025-07-30T00:00:00\",\"2025-07-31T00:00:00\",\"2025-08-01T00:00:00\",\"2025-08-02T00:00:00\",\"2025-08-03T00:00:00\",\"2025-08-04T00:00:00\",\"2025-08-05T00:00:00\",\"2025-08-06T00:00:00\",\"2025-08-07T00:00:00\",\"2025-08-08T00:00:00\",\"2025-08-09T00:00:00\",\"2025-08-10T00:00:00\",\"2025-08-11T00:00:00\",\"2025-08-12T00:00:00\",\"2025-08-13T00:00:00\",\"2025-08-14T00:00:00\",\"2025-08-15T00:00:00\",\"2025-08-16T00:00:00\",\"2025-08-17T00:00:00\",\"2025-08-18T00:00:00\",\"2025-08-19T00:00:00\",\"2025-08-20T00:00:00\",\"2025-08-21T00:00:00\",\"2025-08-22T00:00:00\",\"2025-08-23T00:00:00\",\"2025-08-24T00:00:00\",\"2025-08-25T00:00:00\",\"2025-08-26T00:00:00\",\"2025-08-27T00:00:00\",\"2025-08-28T00:00:00\",\"2025-08-29T00:00:00\",\"2025-08-30T00:00:00\",\"2025-08-31T00:00:00\",\"2025-09-01T00:00:00\",\"2025-09-02T00:00:00\",\"2025-09-03T00:00:00\",\"2025-09-04T00:00:00\",\"2025-09-05T00:00:00\",\"2025-09-06T00:00:00\",\"2025-09-07T00:00:00\",\"2025-09-08T00:00:00\",\"2025-09-09T00:00:00\",\"2025-09-10T00:00:00\",\"2025-09-11T00:00:00\",\"2025-09-12T00:00:00\",\"2025-09-13T00:00:00\",\"2025-09-14T00:00:00\",\"2025-09-15T00:00:00\",\"2025-09-16T00:00:00\",\"2025-09-17T00:00:00\",\"2025-09-18T00:00:00\",\"2025-09-19T00:00:00\",\"2025-09-20T00:00:00\",\"2025-09-21T00:00:00\",\"2025-09-22T00:00:00\",\"2025-09-23T00:00:00\",\"2025-09-24T00:00:00\",\"2025-09-25T00:00:00\",\"2025-09-26T00:00:00\",\"2025-09-27T00:00:00\",\"2025-09-28T00:00:00\",\"2025-09-29T00:00:00\",\"2025-09-30T00:00:00\",\"2025-10-01T00:00:00\",\"2025-10-02T00:00:00\",\"2025-10-03T00:00:00\",\"2025-10-04T00:00:00\",\"2025-10-05T00:00:00\",\"2025-10-06T00:00:00\",\"2025-10-07T00:00:00\",\"2025-10-08T00:00:00\",\"2025-10-09T00:00:00\",\"2025-10-10T00:00:00\",\"2025-10-11T00:00:00\",\"2025-10-12T00:00:00\",\"2025-10-13T00:00:00\",\"2025-10-14T00:00:00\",\"2025-10-15T00:00:00\",\"2025-10-16T00:00:00\",\"2025-10-17T00:00:00\",\"2025-10-18T00:00:00\",\"2025-10-19T00:00:00\",\"2025-10-20T00:00:00\",\"2025-10-21T00:00:00\",\"2025-10-22T00:00:00\",\"2025-10-23T00:00:00\",\"2025-10-24T00:00:00\",\"2025-10-25T00:00:00\",\"2025-10-26T00:00:00\",\"2025-10-27T00:00:00\",\"2025-10-28T00:00:00\",\"2025-10-29T00:00:00\",\"2025-10-30T00:00:00\",\"2025-10-31T00:00:00\",\"2025-11-01T00:00:00\",\"2025-11-02T00:00:00\",\"2025-11-03T00:00:00\",\"2025-11-04T00:00:00\",\"2025-11-05T00:00:00\",\"2025-11-06T00:00:00\",\"2025-11-07T00:00:00\",\"2025-11-08T00:00:00\",\"2025-11-09T00:00:00\",\"2025-11-10T00:00:00\",\"2025-11-11T00:00:00\",\"2025-11-12T00:00:00\",\"2025-11-13T00:00:00\",\"2025-11-14T00:00:00\",\"2025-11-15T00:00:00\",\"2025-11-16T00:00:00\",\"2025-11-17T00:00:00\",\"2025-11-18T00:00:00\",\"2025-11-19T00:00:00\",\"2025-11-20T00:00:00\",\"2025-11-21T00:00:00\",\"2025-11-22T00:00:00\",\"2025-11-23T00:00:00\",\"2025-11-24T00:00:00\",\"2025-11-25T00:00:00\",\"2025-11-26T00:00:00\",\"2025-11-27T00:00:00\",\"2025-11-28T00:00:00\",\"2025-11-29T00:00:00\",\"2025-11-30T00:00:00\",\"2025-12-01T00:00:00\",\"2025-12-02T00:00:00\",\"2025-12-03T00:00:00\",\"2025-12-04T00:00:00\",\"2025-12-05T00:00:00\",\"2025-12-06T00:00:00\",\"2025-12-07T00:00:00\",\"2025-12-08T00:00:00\",\"2025-12-09T00:00:00\",\"2025-12-10T00:00:00\",\"2025-12-11T00:00:00\",\"2025-12-12T00:00:00\",\"2025-12-13T00:00:00\",\"2025-12-14T00:00:00\",\"2025-12-15T00:00:00\",\"2025-12-16T00:00:00\",\"2025-12-17T00:00:00\",\"2025-12-18T00:00:00\",\"2025-12-19T00:00:00\",\"2025-12-20T00:00:00\",\"2025-12-21T00:00:00\",\"2025-12-22T00:00:00\",\"2025-12-23T00:00:00\",\"2025-12-24T00:00:00\",\"2025-12-25T00:00:00\",\"2025-12-26T00:00:00\",\"2025-12-27T00:00:00\",\"2025-12-28T00:00:00\",\"2025-12-29T00:00:00\"],\"xaxis\":\"x\",\"y\":[0.8968026038675091,0.8183036569021636,0.7419107792456443,0.6783457782883401,0.6465632778096879,0.6266513497989661,0.6017614397855638,0.5573425234539536,0.5558108366838982,0.5567681409151829,0.5634692705341757,0.5678728699980854,0.5688301742293701,0.5617461229178633,0.5632778096879189,0.5695960176143978,0.5741910779245645,0.5833811985448976,0.5870189546237794,0.5856787286999808,0.569213095921884,0.5726593911545089,0.5722764694619951,0.5759142255408769,0.5828068160061267,0.585487267853724,0.5879762588550641,0.5726593911545089,0.5669155657668007,0.5651924181504883,0.5638521922266897,0.5621290446103772,0.5667241049205437,0.5669155657668007,0.5577254451464676,0.5623205054566341,0.5636607313804327,0.5621290446103772,0.5640436530729466,0.5621290446103772,0.5619375837641203,0.5529389239900441,0.5508328546812177,0.5487267853723914,0.5512157763737315,0.5519816197587594,0.5537047673750718,0.553130384836301,0.5460463335247941,0.5552364541451273,0.5567681409151829,0.55006701129619,0.5491097070649053,0.5445146467547387,0.5387708213670305,0.5334099176718361,0.5295807007466973,0.5286233965154126,0.5286233965154126,0.5313038483630098,0.5267087880528432,0.5286233965154126,0.5267087880528432,0.5380049779820026,0.5380049779820026,0.5395366647520582,0.5395366647520582,0.5378135171357458,0.5372391345969749,0.5295807007466973,0.5332184568255792,0.5336013785180931,0.5360903695194332,0.5360903695194332,0.530729465824239,0.5303465441317251,0.5244112578977599,0.530538004977982,0.5299636224392111,0.5318782309017805,0.5374305954432319,0.581849511774842,0.5918054757802029,0.5475780202948497,0.5290063182079264,0.5383878996745166,0.5412598123683706,0.5403025081370859,0.5301550832854681,0.523836875358989,0.5962090752441126,0.5927627800114876,0.5994639096304806,0.6029102048631055,0.6092284127895845,0.6084625694045568,0.6061650392494735,0.5998468313229944,0.6008041355542791,0.601187057246793,0.6017614397855638,0.60137851809305,0.5954432318590848,0.5941030059352862,0.5921883974727168,0.5942944667815432,0.594677388474057,0.5964005360903695,0.5952517710128279,0.5919969366264599,0.5893164847788627,0.5895079456251197,0.5942944667815432,0.6017614397855638,0.6130576297147233,0.6132490905609803,0.6031016657093624,0.5975493011679112,0.5962090752441126,0.5969749186291403,0.5969749186291403,0.5994639096304806,0.6086540302508137,0.6111430212521539,0.6092284127895845,0.5986980662454529,0.5960176143978556,0.5983151445529389,0.6017614397855638,0.6119088646371817,0.630289105877848,0.633543940264216,0.6235879762588551,0.617461229178633,0.6153551598698066,0.6161210032548344,0.6197587593337163,0.6268428106452231,0.6318207926479035,0.623970897951369,0.620716063565001,0.6197587593337163,0.6094198736358415,0.6147807773310358,0.6155466207160636,0.613823473099751,0.6034845874018763,0.5958261535515987,0.5990809879379667,0.6059735784032165,0.6216733677962857,0.6276086540302508,0.6260769672601952,0.5939115450890293,0.5849128853149531,0.58510434616121,0.5898908673176335,0.5941030059352862,0.5889335630863488,0.5872104154700364,0.5843385027761823,0.5841470419299253,0.5845299636224393,0.5881677197013211,0.5960176143978556,0.60137851809305,0.5874018763162934,0.5795519816197587,0.5743825387708213,0.5757227646946199,0.5772544514646755,0.5739996170783075,0.5686387133831131,0.5672984874593145,0.562703427149148,0.5623205054566341,0.5646180356117174,0.5615546620716063,0.5590656710702662,0.5537047673750718,0.6186099942561746,0.6168868466398622,0.6111430212521539,0.6086540302508137,0.6067394217882442,0.6069308826345012,0.6080796477120429,0.6071223434807582,0.6057821175569597,0.604824813325675,0.6055906567107027,0.6073138043270151,0.6084625694045568,0.6071223434807582,0.6069308826345012,0.6071223434807582,0.6027187440168486,0.6034845874018763,0.6025272831705916,0.6031016657093624,0.6042504307869041,0.6105686387133831,0.6073138043270151,0.607696726019529,0.6073138043270151,0.6067394217882442,0.6059735784032165,0.6053991958644457,0.6067394217882442,0.6059735784032165,0.6067394217882442,0.6069308826345012,0.6084625694045568,0.6086540302508137,0.614206394792265,0.6145893164847789,0.6166953857936052,0.6216733677962857,0.6184185334099177,0.6180356117174038,0.6168868466398622,0.6155466207160636,0.6157380815623205,0.6155466207160636,0.6224392111813134,0.6249282021826537,0.6249282021826537,0.6260769672601952,0.6255025847214245,0.6243538196438828,0.6249282021826537,0.6289488799540494,0.6278001148765078,0.6289488799540494,0.6362243921118131,0.6599655370476738,0.6611143021252154,0.6276086540302508,0.623779437105112,0.6230135937200842,0.6220562894887995,0.6216733677962857,0.6193758376412024,0.6197587593337163,0.6132490905609803,0.6117174037909248,0.6115259429446678,0.610951560405897,0.6115259429446678,0.6121003254834386,0.6121003254834386,0.6090369519433276,0.6086540302508137,0.6082711085582998,0.6075052651732721,0.6071223434807582,0.6052077350181888,0.6042504307869041,0.604633352479418,0.6050162741719318,0.604633352479418,0.604441891633161,0.6042504307869041,0.6021443614780777,0.6017614397855638,0.6017614397855638,0.6023358223243347,0.6017614397855638,0.6019529006318208,0.601187057246793,0.7151062607696727,0.7158721041547004,0.7145318782309018,0.7152977216159295,0.7179781734635267,0.7275512157763737,0.7271682940838599,0.7258280681600613,0.726593911545089,0.7271682940838599,0.7269768332376029,0.7269768332376029,0.726785372391346,0.7269768332376029,0.7260195290063182,0.7258280681600613,0.726593911545089,0.7279341374688876,0.7279341374688876,0.7281255983151446,0.7288914417001723,0.7246793030825196,0.7248707639287766,0.7296572850852001,0.7294658242389431,0.7292743633926861,0.7288914417001723,0.7281255983151446,0.726785372391346,0.7262109898525752,0.7262109898525752,0.7256366073138043,0.7258280681600613,0.7250622247750335,0.7239134596974919,0.7241049205437488,0.723147616312464,0.7241049205437488,0.7262109898525752,0.7258280681600613,0.7285085200076584,0.7244878422362627,0.723530538004978,0.723530538004978,0.7241049205437488,0.7239134596974919,0.7246793030825196,0.723530538004978,0.7229561554662072,0.7219988512349225,0.7218073903886655,0.7223817729274363,0.7225732337736933,0.7221903120811795,0.7219988512349225,0.7218073903886655,0.7212330078498947,0.7212330078498947,0.7212330078498947,0.7216159295424086,0.7216159295424086,0.7218073903886655,0.7212330078498947,0.7212330078498947,0.7214244686961516,0.7218073903886655,0.7200842427723531,0.7204671644648669,0.7200842427723531,0.7198927819260961,0.7195098602335822,0.7191269385410684,0.7197013210798392,0.7195098602335822,0.7197013210798392,0.7197013210798392,0.7191269385410684,0.7187440168485545,0.7181696343097836,0.7181696343097836,0.7174037909247559,0.7172123300784989,0.7168294083859851,0.7168294083859851,0.7168294083859851,0.7174037909247559,0.7168294083859851,0.7172123300784989,0.717020869232242,0.7168294083859851,0.7168294083859851,0.7151062607696727,0.7147233390771587,0.7149147999234157,0.714148956538388],\"yaxis\":\"y\",\"type\":\"scatter\"}],                        {\"template\":{\"data\":{\"histogram2dcontour\":[{\"type\":\"histogram2dcontour\",\"colorbar\":{\"outlinewidth\":0,\"ticks\":\"\"},\"colorscale\":[[0.0,\"#0d0887\"],[0.1111111111111111,\"#46039f\"],[0.2222222222222222,\"#7201a8\"],[0.3333333333333333,\"#9c179e\"],[0.4444444444444444,\"#bd3786\"],[0.5555555555555556,\"#d8576b\"],[0.6666666666666666,\"#ed7953\"],[0.7777777777777778,\"#fb9f3a\"],[0.8888888888888888,\"#fdca26\"],[1.0,\"#f0f921\"]]}],\"choropleth\":[{\"type\":\"choropleth\",\"colorbar\":{\"outlinewidth\":0,\"ticks\":\"\"}}],\"histogram2d\":[{\"type\":\"histogram2d\",\"colorbar\":{\"outlinewidth\":0,\"ticks\":\"\"},\"colorscale\":[[0.0,\"#0d0887\"],[0.1111111111111111,\"#46039f\"],[0.2222222222222222,\"#7201a8\"],[0.3333333333333333,\"#9c179e\"],[0.4444444444444444,\"#bd3786\"],[0.5555555555555556,\"#d8576b\"],[0.6666666666666666,\"#ed7953\"],[0.7777777777777778,\"#fb9f3a\"],[0.8888888888888888,\"#fdca26\"],[1.0,\"#f0f921\"]]}],\"heatmap\":[{\"type\":\"heatmap\",\"colorbar\":{\"outlinewidth\":0,\"ticks\":\"\"},\"colorscale\":[[0.0,\"#0d0887\"],[0.1111111111111111,\"#46039f\"],[0.2222222222222222,\"#7201a8\"],[0.3333333333333333,\"#9c179e\"],[0.4444444444444444,\"#bd3786\"],[0.5555555555555556,\"#d8576b\"],[0.6666666666666666,\"#ed7953\"],[0.7777777777777778,\"#fb9f3a\"],[0.8888888888888888,\"#fdca26\"],[1.0,\"#f0f921\"]]}],\"heatmapgl\":[{\"type\":\"heatmapgl\",\"colorbar\":{\"outlinewidth\":0,\"ticks\":\"\"},\"colorscale\":[[0.0,\"#0d0887\"],[0.1111111111111111,\"#46039f\"],[0.2222222222222222,\"#7201a8\"],[0.3333333333333333,\"#9c179e\"],[0.4444444444444444,\"#bd3786\"],[0.5555555555555556,\"#d8576b\"],[0.6666666666666666,\"#ed7953\"],[0.7777777777777778,\"#fb9f3a\"],[0.8888888888888888,\"#fdca26\"],[1.0,\"#f0f921\"]]}],\"contourcarpet\":[{\"type\":\"contourcarpet\",\"colorbar\":{\"outlinewidth\":0,\"ticks\":\"\"}}],\"contour\":[{\"type\":\"contour\",\"colorbar\":{\"outlinewidth\":0,\"ticks\":\"\"},\"colorscale\":[[0.0,\"#0d0887\"],[0.1111111111111111,\"#46039f\"],[0.2222222222222222,\"#7201a8\"],[0.3333333333333333,\"#9c179e\"],[0.4444444444444444,\"#bd3786\"],[0.5555555555555556,\"#d8576b\"],[0.6666666666666666,\"#ed7953\"],[0.7777777777777778,\"#fb9f3a\"],[0.8888888888888888,\"#fdca26\"],[1.0,\"#f0f921\"]]}],\"surface\":[{\"type\":\"surface\",\"colorbar\":{\"outlinewidth\":0,\"ticks\":\"\"},\"colorscale\":[[0.0,\"#0d0887\"],[0.1111111111111111,\"#46039f\"],[0.2222222222222222,\"#7201a8\"],[0.3333333333333333,\"#9c179e\"],[0.4444444444444444,\"#bd3786\"],[0.5555555555555556,\"#d8576b\"],[0.6666666666666666,\"#ed7953\"],[0.7777777777777778,\"#fb9f3a\"],[0.8888888888888888,\"#fdca26\"],[1.0,\"#f0f921\"]]}],\"mesh3d\":[{\"type\":\"mesh3d\",\"colorbar\":{\"outlinewidth\":0,\"ticks\":\"\"}}],\"scatter\":[{\"fillpattern\":{\"fillmode\":\"overlay\",\"size\":10,\"solidity\":0.2},\"type\":\"scatter\"}],\"parcoords\":[{\"type\":\"parcoords\",\"line\":{\"colorbar\":{\"outlinewidth\":0,\"ticks\":\"\"}}}],\"scatterpolargl\":[{\"type\":\"scatterpolargl\",\"marker\":{\"colorbar\":{\"outlinewidth\":0,\"ticks\":\"\"}}}],\"bar\":[{\"error_x\":{\"color\":\"#2a3f5f\"},\"error_y\":{\"color\":\"#2a3f5f\"},\"marker\":{\"line\":{\"color\":\"#E5ECF6\",\"width\":0.5},\"pattern\":{\"fillmode\":\"overlay\",\"size\":10,\"solidity\":0.2}},\"type\":\"bar\"}],\"scattergeo\":[{\"type\":\"scattergeo\",\"marker\":{\"colorbar\":{\"outlinewidth\":0,\"ticks\":\"\"}}}],\"scatterpolar\":[{\"type\":\"scatterpolar\",\"marker\":{\"colorbar\":{\"outlinewidth\":0,\"ticks\":\"\"}}}],\"histogram\":[{\"marker\":{\"pattern\":{\"fillmode\":\"overlay\",\"size\":10,\"solidity\":0.2}},\"type\":\"histogram\"}],\"scattergl\":[{\"type\":\"scattergl\",\"marker\":{\"colorbar\":{\"outlinewidth\":0,\"ticks\":\"\"}}}],\"scatter3d\":[{\"type\":\"scatter3d\",\"line\":{\"colorbar\":{\"outlinewidth\":0,\"ticks\":\"\"}},\"marker\":{\"colorbar\":{\"outlinewidth\":0,\"ticks\":\"\"}}}],\"scattermapbox\":[{\"type\":\"scattermapbox\",\"marker\":{\"colorbar\":{\"outlinewidth\":0,\"ticks\":\"\"}}}],\"scatterternary\":[{\"type\":\"scatterternary\",\"marker\":{\"colorbar\":{\"outlinewidth\":0,\"ticks\":\"\"}}}],\"scattercarpet\":[{\"type\":\"scattercarpet\",\"marker\":{\"colorbar\":{\"outlinewidth\":0,\"ticks\":\"\"}}}],\"carpet\":[{\"aaxis\":{\"endlinecolor\":\"#2a3f5f\",\"gridcolor\":\"white\",\"linecolor\":\"white\",\"minorgridcolor\":\"white\",\"startlinecolor\":\"#2a3f5f\"},\"baxis\":{\"endlinecolor\":\"#2a3f5f\",\"gridcolor\":\"white\",\"linecolor\":\"white\",\"minorgridcolor\":\"white\",\"startlinecolor\":\"#2a3f5f\"},\"type\":\"carpet\"}],\"table\":[{\"cells\":{\"fill\":{\"color\":\"#EBF0F8\"},\"line\":{\"color\":\"white\"}},\"header\":{\"fill\":{\"color\":\"#C8D4E3\"},\"line\":{\"color\":\"white\"}},\"type\":\"table\"}],\"barpolar\":[{\"marker\":{\"line\":{\"color\":\"#E5ECF6\",\"width\":0.5},\"pattern\":{\"fillmode\":\"overlay\",\"size\":10,\"solidity\":0.2}},\"type\":\"barpolar\"}],\"pie\":[{\"automargin\":true,\"type\":\"pie\"}]},\"layout\":{\"autotypenumbers\":\"strict\",\"colorway\":[\"#636efa\",\"#EF553B\",\"#00cc96\",\"#ab63fa\",\"#FFA15A\",\"#19d3f3\",\"#FF6692\",\"#B6E880\",\"#FF97FF\",\"#FECB52\"],\"font\":{\"color\":\"#2a3f5f\"},\"hovermode\":\"closest\",\"hoverlabel\":{\"align\":\"left\"},\"paper_bgcolor\":\"white\",\"plot_bgcolor\":\"#E5ECF6\",\"polar\":{\"bgcolor\":\"#E5ECF6\",\"angularaxis\":{\"gridcolor\":\"white\",\"linecolor\":\"white\",\"ticks\":\"\"},\"radialaxis\":{\"gridcolor\":\"white\",\"linecolor\":\"white\",\"ticks\":\"\"}},\"ternary\":{\"bgcolor\":\"#E5ECF6\",\"aaxis\":{\"gridcolor\":\"white\",\"linecolor\":\"white\",\"ticks\":\"\"},\"baxis\":{\"gridcolor\":\"white\",\"linecolor\":\"white\",\"ticks\":\"\"},\"caxis\":{\"gridcolor\":\"white\",\"linecolor\":\"white\",\"ticks\":\"\"}},\"coloraxis\":{\"colorbar\":{\"outlinewidth\":0,\"ticks\":\"\"}},\"colorscale\":{\"sequential\":[[0.0,\"#0d0887\"],[0.1111111111111111,\"#46039f\"],[0.2222222222222222,\"#7201a8\"],[0.3333333333333333,\"#9c179e\"],[0.4444444444444444,\"#bd3786\"],[0.5555555555555556,\"#d8576b\"],[0.6666666666666666,\"#ed7953\"],[0.7777777777777778,\"#fb9f3a\"],[0.8888888888888888,\"#fdca26\"],[1.0,\"#f0f921\"]],\"sequentialminus\":[[0.0,\"#0d0887\"],[0.1111111111111111,\"#46039f\"],[0.2222222222222222,\"#7201a8\"],[0.3333333333333333,\"#9c179e\"],[0.4444444444444444,\"#bd3786\"],[0.5555555555555556,\"#d8576b\"],[0.6666666666666666,\"#ed7953\"],[0.7777777777777778,\"#fb9f3a\"],[0.8888888888888888,\"#fdca26\"],[1.0,\"#f0f921\"]],\"diverging\":[[0,\"#8e0152\"],[0.1,\"#c51b7d\"],[0.2,\"#de77ae\"],[0.3,\"#f1b6da\"],[0.4,\"#fde0ef\"],[0.5,\"#f7f7f7\"],[0.6,\"#e6f5d0\"],[0.7,\"#b8e186\"],[0.8,\"#7fbc41\"],[0.9,\"#4d9221\"],[1,\"#276419\"]]},\"xaxis\":{\"gridcolor\":\"white\",\"linecolor\":\"white\",\"ticks\":\"\",\"title\":{\"standoff\":15},\"zerolinecolor\":\"white\",\"automargin\":true,\"zerolinewidth\":2},\"yaxis\":{\"gridcolor\":\"white\",\"linecolor\":\"white\",\"ticks\":\"\",\"title\":{\"standoff\":15},\"zerolinecolor\":\"white\",\"automargin\":true,\"zerolinewidth\":2},\"scene\":{\"xaxis\":{\"backgroundcolor\":\"#E5ECF6\",\"gridcolor\":\"white\",\"linecolor\":\"white\",\"showbackground\":true,\"ticks\":\"\",\"zerolinecolor\":\"white\",\"gridwidth\":2},\"yaxis\":{\"backgroundcolor\":\"#E5ECF6\",\"gridcolor\":\"white\",\"linecolor\":\"white\",\"showbackground\":true,\"ticks\":\"\",\"zerolinecolor\":\"white\",\"gridwidth\":2},\"zaxis\":{\"backgroundcolor\":\"#E5ECF6\",\"gridcolor\":\"white\",\"linecolor\":\"white\",\"showbackground\":true,\"ticks\":\"\",\"zerolinecolor\":\"white\",\"gridwidth\":2}},\"shapedefaults\":{\"line\":{\"color\":\"#2a3f5f\"}},\"annotationdefaults\":{\"arrowcolor\":\"#2a3f5f\",\"arrowhead\":0,\"arrowwidth\":1},\"geo\":{\"bgcolor\":\"white\",\"landcolor\":\"#E5ECF6\",\"subunitcolor\":\"white\",\"showland\":true,\"showlakes\":true,\"lakecolor\":\"white\"},\"title\":{\"x\":0.05},\"mapbox\":{\"style\":\"light\"}}},\"xaxis\":{\"anchor\":\"y\",\"domain\":[0.0,1.0],\"title\":{\"text\":\"\"}},\"yaxis\":{\"anchor\":\"x\",\"domain\":[0.0,1.0],\"title\":{\"text\":\"\"},\"tickformat\":\".0%\"},\"legend\":{\"tracegroupgap\":0},\"title\":{\"text\":\"Figure 2: Ratios of Booked Airbnb Listings in Stockholm in 2025\"}},                        {\"responsive\": true}                    ).then(function(){\n",
       "                            \n",
       "var gd = document.getElementById('25265515-0f6f-40c4-b2b6-b74f1e23f38b');\n",
       "var x = new MutationObserver(function (mutations, observer) {{\n",
       "        var display = window.getComputedStyle(gd).display;\n",
       "        if (!display || display === 'none') {{\n",
       "            console.log([gd, 'removed!']);\n",
       "            Plotly.purge(gd);\n",
       "            observer.disconnect();\n",
       "        }}\n",
       "}});\n",
       "\n",
       "// Listen for the removal of the full notebook cells\n",
       "var notebookContainer = gd.closest('#notebook-container');\n",
       "if (notebookContainer) {{\n",
       "    x.observe(notebookContainer, {childList: true});\n",
       "}}\n",
       "\n",
       "// Listen for the clearing of the current output cell\n",
       "var outputEl = gd.closest('.output');\n",
       "if (outputEl) {{\n",
       "    x.observe(outputEl, {childList: true});\n",
       "}}\n",
       "\n",
       "                        })                };                });            </script>        </div>"
      ]
     },
     "metadata": {},
     "output_type": "display_data"
    }
   ],
   "source": [
    "# add a new column called 'busy'\n",
    "# if a listing is not available, it takes on value 1 otherwise 0\n",
    "new_calendar = calendar[['date', 'available']]\n",
    "new_calendar['busy'] = new_calendar.available.map(lambda x:0 if x == 't' else 1)\n",
    "new_calendar = new_calendar.groupby('date')['busy'].mean().reset_index()\n",
    "new_calendar['date'] = pd.to_datetime(new_calendar['date'])\n",
    "\n",
    "fig2 = px.line(new_calendar, x = 'date', y = 'busy', \n",
    "               title = 'Figure 2: Ratios of Booked Airbnb Listings in Stockholm in 2025',\n",
    "               labels = {'date': '', 'busy': ''})\n",
    "fig2.update_layout(yaxis_tickformat = '.0%')\n",
    "fig2.show()"
   ]
  },
  {
   "cell_type": "markdown",
   "metadata": {},
   "source": [
    "Figure 2 shows the ratio of booked listings in Stockholm in 2025. The values are calculated by dividing the total number of booked listings by the sum of listings. It is clear that right before January, when most people have their Christmas break, almost all (~90%) the listings were reserved, while the percentage of booked listing continued to drop before it went up again in April. The ratio stays relatively stable until November, when there is yet another surge in bookings. "
   ]
  },
  {
   "cell_type": "code",
   "execution_count": null,
   "metadata": {},
   "outputs": [],
   "source": [
    "import datetime as dt\n",
    "calendar['date'] = pd.to_datetime(calendar['date'])\n",
    "# calendar['price'] = calendar['price'].str.replace('$', '').str.replace(',', '').astype(float)\n",
    "calendar['booked'] = calendar.available.map(lambda x:1 if x == 't' else 0)\n",
    "mean_of_month = calendar.groupby(calendar['date'].dt.strftime('%B'), sort = False)['booked'].mean()\n",
    "mean_of_month = mean_of_month.reset_index()"
   ]
  },
  {
   "cell_type": "code",
   "execution_count": 66,
   "metadata": {},
   "outputs": [
    {
     "data": {
      "application/vnd.plotly.v1+json": {
       "config": {
        "plotlyServerURL": "https://plot.ly"
       },
       "data": [
        {
         "alignmentgroup": "True",
         "hovertemplate": "Ratio of Available Listings=%{x}<br>=%{y}<extra></extra>",
         "legendgroup": "",
         "marker": {
          "color": "#636efa",
          "pattern": {
           "shape": ""
          }
         },
         "name": "",
         "offsetgroup": "",
         "orientation": "h",
         "showlegend": false,
         "textposition": "auto",
         "type": "bar",
         "x": [
          0.27312198526369097,
          0.4150315292780691,
          0.45063729110254097,
          0.4586290168176737,
          0.40076584338502774,
          0.3855403827981694,
          0.417416554981173,
          0.39350762446499044,
          0.3756770611377715,
          0.3755121577637373,
          0.2731590422016762,
          0.27707575467483564
         ],
         "xaxis": "x",
         "y": [
          "December",
          "January",
          "February",
          "March",
          "April",
          "May",
          "June",
          "July",
          "August",
          "September",
          "October",
          "November"
         ],
         "yaxis": "y"
        }
       ],
       "layout": {
        "barmode": "relative",
        "legend": {
         "tracegroupgap": 0
        },
        "template": {
         "data": {
          "bar": [
           {
            "error_x": {
             "color": "#2a3f5f"
            },
            "error_y": {
             "color": "#2a3f5f"
            },
            "marker": {
             "line": {
              "color": "#E5ECF6",
              "width": 0.5
             },
             "pattern": {
              "fillmode": "overlay",
              "size": 10,
              "solidity": 0.2
             }
            },
            "type": "bar"
           }
          ],
          "barpolar": [
           {
            "marker": {
             "line": {
              "color": "#E5ECF6",
              "width": 0.5
             },
             "pattern": {
              "fillmode": "overlay",
              "size": 10,
              "solidity": 0.2
             }
            },
            "type": "barpolar"
           }
          ],
          "carpet": [
           {
            "aaxis": {
             "endlinecolor": "#2a3f5f",
             "gridcolor": "white",
             "linecolor": "white",
             "minorgridcolor": "white",
             "startlinecolor": "#2a3f5f"
            },
            "baxis": {
             "endlinecolor": "#2a3f5f",
             "gridcolor": "white",
             "linecolor": "white",
             "minorgridcolor": "white",
             "startlinecolor": "#2a3f5f"
            },
            "type": "carpet"
           }
          ],
          "choropleth": [
           {
            "colorbar": {
             "outlinewidth": 0,
             "ticks": ""
            },
            "type": "choropleth"
           }
          ],
          "contour": [
           {
            "colorbar": {
             "outlinewidth": 0,
             "ticks": ""
            },
            "colorscale": [
             [
              0,
              "#0d0887"
             ],
             [
              0.1111111111111111,
              "#46039f"
             ],
             [
              0.2222222222222222,
              "#7201a8"
             ],
             [
              0.3333333333333333,
              "#9c179e"
             ],
             [
              0.4444444444444444,
              "#bd3786"
             ],
             [
              0.5555555555555556,
              "#d8576b"
             ],
             [
              0.6666666666666666,
              "#ed7953"
             ],
             [
              0.7777777777777778,
              "#fb9f3a"
             ],
             [
              0.8888888888888888,
              "#fdca26"
             ],
             [
              1,
              "#f0f921"
             ]
            ],
            "type": "contour"
           }
          ],
          "contourcarpet": [
           {
            "colorbar": {
             "outlinewidth": 0,
             "ticks": ""
            },
            "type": "contourcarpet"
           }
          ],
          "heatmap": [
           {
            "colorbar": {
             "outlinewidth": 0,
             "ticks": ""
            },
            "colorscale": [
             [
              0,
              "#0d0887"
             ],
             [
              0.1111111111111111,
              "#46039f"
             ],
             [
              0.2222222222222222,
              "#7201a8"
             ],
             [
              0.3333333333333333,
              "#9c179e"
             ],
             [
              0.4444444444444444,
              "#bd3786"
             ],
             [
              0.5555555555555556,
              "#d8576b"
             ],
             [
              0.6666666666666666,
              "#ed7953"
             ],
             [
              0.7777777777777778,
              "#fb9f3a"
             ],
             [
              0.8888888888888888,
              "#fdca26"
             ],
             [
              1,
              "#f0f921"
             ]
            ],
            "type": "heatmap"
           }
          ],
          "heatmapgl": [
           {
            "colorbar": {
             "outlinewidth": 0,
             "ticks": ""
            },
            "colorscale": [
             [
              0,
              "#0d0887"
             ],
             [
              0.1111111111111111,
              "#46039f"
             ],
             [
              0.2222222222222222,
              "#7201a8"
             ],
             [
              0.3333333333333333,
              "#9c179e"
             ],
             [
              0.4444444444444444,
              "#bd3786"
             ],
             [
              0.5555555555555556,
              "#d8576b"
             ],
             [
              0.6666666666666666,
              "#ed7953"
             ],
             [
              0.7777777777777778,
              "#fb9f3a"
             ],
             [
              0.8888888888888888,
              "#fdca26"
             ],
             [
              1,
              "#f0f921"
             ]
            ],
            "type": "heatmapgl"
           }
          ],
          "histogram": [
           {
            "marker": {
             "pattern": {
              "fillmode": "overlay",
              "size": 10,
              "solidity": 0.2
             }
            },
            "type": "histogram"
           }
          ],
          "histogram2d": [
           {
            "colorbar": {
             "outlinewidth": 0,
             "ticks": ""
            },
            "colorscale": [
             [
              0,
              "#0d0887"
             ],
             [
              0.1111111111111111,
              "#46039f"
             ],
             [
              0.2222222222222222,
              "#7201a8"
             ],
             [
              0.3333333333333333,
              "#9c179e"
             ],
             [
              0.4444444444444444,
              "#bd3786"
             ],
             [
              0.5555555555555556,
              "#d8576b"
             ],
             [
              0.6666666666666666,
              "#ed7953"
             ],
             [
              0.7777777777777778,
              "#fb9f3a"
             ],
             [
              0.8888888888888888,
              "#fdca26"
             ],
             [
              1,
              "#f0f921"
             ]
            ],
            "type": "histogram2d"
           }
          ],
          "histogram2dcontour": [
           {
            "colorbar": {
             "outlinewidth": 0,
             "ticks": ""
            },
            "colorscale": [
             [
              0,
              "#0d0887"
             ],
             [
              0.1111111111111111,
              "#46039f"
             ],
             [
              0.2222222222222222,
              "#7201a8"
             ],
             [
              0.3333333333333333,
              "#9c179e"
             ],
             [
              0.4444444444444444,
              "#bd3786"
             ],
             [
              0.5555555555555556,
              "#d8576b"
             ],
             [
              0.6666666666666666,
              "#ed7953"
             ],
             [
              0.7777777777777778,
              "#fb9f3a"
             ],
             [
              0.8888888888888888,
              "#fdca26"
             ],
             [
              1,
              "#f0f921"
             ]
            ],
            "type": "histogram2dcontour"
           }
          ],
          "mesh3d": [
           {
            "colorbar": {
             "outlinewidth": 0,
             "ticks": ""
            },
            "type": "mesh3d"
           }
          ],
          "parcoords": [
           {
            "line": {
             "colorbar": {
              "outlinewidth": 0,
              "ticks": ""
             }
            },
            "type": "parcoords"
           }
          ],
          "pie": [
           {
            "automargin": true,
            "type": "pie"
           }
          ],
          "scatter": [
           {
            "fillpattern": {
             "fillmode": "overlay",
             "size": 10,
             "solidity": 0.2
            },
            "type": "scatter"
           }
          ],
          "scatter3d": [
           {
            "line": {
             "colorbar": {
              "outlinewidth": 0,
              "ticks": ""
             }
            },
            "marker": {
             "colorbar": {
              "outlinewidth": 0,
              "ticks": ""
             }
            },
            "type": "scatter3d"
           }
          ],
          "scattercarpet": [
           {
            "marker": {
             "colorbar": {
              "outlinewidth": 0,
              "ticks": ""
             }
            },
            "type": "scattercarpet"
           }
          ],
          "scattergeo": [
           {
            "marker": {
             "colorbar": {
              "outlinewidth": 0,
              "ticks": ""
             }
            },
            "type": "scattergeo"
           }
          ],
          "scattergl": [
           {
            "marker": {
             "colorbar": {
              "outlinewidth": 0,
              "ticks": ""
             }
            },
            "type": "scattergl"
           }
          ],
          "scattermapbox": [
           {
            "marker": {
             "colorbar": {
              "outlinewidth": 0,
              "ticks": ""
             }
            },
            "type": "scattermapbox"
           }
          ],
          "scatterpolar": [
           {
            "marker": {
             "colorbar": {
              "outlinewidth": 0,
              "ticks": ""
             }
            },
            "type": "scatterpolar"
           }
          ],
          "scatterpolargl": [
           {
            "marker": {
             "colorbar": {
              "outlinewidth": 0,
              "ticks": ""
             }
            },
            "type": "scatterpolargl"
           }
          ],
          "scatterternary": [
           {
            "marker": {
             "colorbar": {
              "outlinewidth": 0,
              "ticks": ""
             }
            },
            "type": "scatterternary"
           }
          ],
          "surface": [
           {
            "colorbar": {
             "outlinewidth": 0,
             "ticks": ""
            },
            "colorscale": [
             [
              0,
              "#0d0887"
             ],
             [
              0.1111111111111111,
              "#46039f"
             ],
             [
              0.2222222222222222,
              "#7201a8"
             ],
             [
              0.3333333333333333,
              "#9c179e"
             ],
             [
              0.4444444444444444,
              "#bd3786"
             ],
             [
              0.5555555555555556,
              "#d8576b"
             ],
             [
              0.6666666666666666,
              "#ed7953"
             ],
             [
              0.7777777777777778,
              "#fb9f3a"
             ],
             [
              0.8888888888888888,
              "#fdca26"
             ],
             [
              1,
              "#f0f921"
             ]
            ],
            "type": "surface"
           }
          ],
          "table": [
           {
            "cells": {
             "fill": {
              "color": "#EBF0F8"
             },
             "line": {
              "color": "white"
             }
            },
            "header": {
             "fill": {
              "color": "#C8D4E3"
             },
             "line": {
              "color": "white"
             }
            },
            "type": "table"
           }
          ]
         },
         "layout": {
          "annotationdefaults": {
           "arrowcolor": "#2a3f5f",
           "arrowhead": 0,
           "arrowwidth": 1
          },
          "autotypenumbers": "strict",
          "coloraxis": {
           "colorbar": {
            "outlinewidth": 0,
            "ticks": ""
           }
          },
          "colorscale": {
           "diverging": [
            [
             0,
             "#8e0152"
            ],
            [
             0.1,
             "#c51b7d"
            ],
            [
             0.2,
             "#de77ae"
            ],
            [
             0.3,
             "#f1b6da"
            ],
            [
             0.4,
             "#fde0ef"
            ],
            [
             0.5,
             "#f7f7f7"
            ],
            [
             0.6,
             "#e6f5d0"
            ],
            [
             0.7,
             "#b8e186"
            ],
            [
             0.8,
             "#7fbc41"
            ],
            [
             0.9,
             "#4d9221"
            ],
            [
             1,
             "#276419"
            ]
           ],
           "sequential": [
            [
             0,
             "#0d0887"
            ],
            [
             0.1111111111111111,
             "#46039f"
            ],
            [
             0.2222222222222222,
             "#7201a8"
            ],
            [
             0.3333333333333333,
             "#9c179e"
            ],
            [
             0.4444444444444444,
             "#bd3786"
            ],
            [
             0.5555555555555556,
             "#d8576b"
            ],
            [
             0.6666666666666666,
             "#ed7953"
            ],
            [
             0.7777777777777778,
             "#fb9f3a"
            ],
            [
             0.8888888888888888,
             "#fdca26"
            ],
            [
             1,
             "#f0f921"
            ]
           ],
           "sequentialminus": [
            [
             0,
             "#0d0887"
            ],
            [
             0.1111111111111111,
             "#46039f"
            ],
            [
             0.2222222222222222,
             "#7201a8"
            ],
            [
             0.3333333333333333,
             "#9c179e"
            ],
            [
             0.4444444444444444,
             "#bd3786"
            ],
            [
             0.5555555555555556,
             "#d8576b"
            ],
            [
             0.6666666666666666,
             "#ed7953"
            ],
            [
             0.7777777777777778,
             "#fb9f3a"
            ],
            [
             0.8888888888888888,
             "#fdca26"
            ],
            [
             1,
             "#f0f921"
            ]
           ]
          },
          "colorway": [
           "#636efa",
           "#EF553B",
           "#00cc96",
           "#ab63fa",
           "#FFA15A",
           "#19d3f3",
           "#FF6692",
           "#B6E880",
           "#FF97FF",
           "#FECB52"
          ],
          "font": {
           "color": "#2a3f5f"
          },
          "geo": {
           "bgcolor": "white",
           "lakecolor": "white",
           "landcolor": "#E5ECF6",
           "showlakes": true,
           "showland": true,
           "subunitcolor": "white"
          },
          "hoverlabel": {
           "align": "left"
          },
          "hovermode": "closest",
          "mapbox": {
           "style": "light"
          },
          "paper_bgcolor": "white",
          "plot_bgcolor": "#E5ECF6",
          "polar": {
           "angularaxis": {
            "gridcolor": "white",
            "linecolor": "white",
            "ticks": ""
           },
           "bgcolor": "#E5ECF6",
           "radialaxis": {
            "gridcolor": "white",
            "linecolor": "white",
            "ticks": ""
           }
          },
          "scene": {
           "xaxis": {
            "backgroundcolor": "#E5ECF6",
            "gridcolor": "white",
            "gridwidth": 2,
            "linecolor": "white",
            "showbackground": true,
            "ticks": "",
            "zerolinecolor": "white"
           },
           "yaxis": {
            "backgroundcolor": "#E5ECF6",
            "gridcolor": "white",
            "gridwidth": 2,
            "linecolor": "white",
            "showbackground": true,
            "ticks": "",
            "zerolinecolor": "white"
           },
           "zaxis": {
            "backgroundcolor": "#E5ECF6",
            "gridcolor": "white",
            "gridwidth": 2,
            "linecolor": "white",
            "showbackground": true,
            "ticks": "",
            "zerolinecolor": "white"
           }
          },
          "shapedefaults": {
           "line": {
            "color": "#2a3f5f"
           }
          },
          "ternary": {
           "aaxis": {
            "gridcolor": "white",
            "linecolor": "white",
            "ticks": ""
           },
           "baxis": {
            "gridcolor": "white",
            "linecolor": "white",
            "ticks": ""
           },
           "bgcolor": "#E5ECF6",
           "caxis": {
            "gridcolor": "white",
            "linecolor": "white",
            "ticks": ""
           }
          },
          "title": {
           "x": 0.05
          },
          "xaxis": {
           "automargin": true,
           "gridcolor": "white",
           "linecolor": "white",
           "ticks": "",
           "title": {
            "standoff": 15
           },
           "zerolinecolor": "white",
           "zerolinewidth": 2
          },
          "yaxis": {
           "automargin": true,
           "gridcolor": "white",
           "linecolor": "white",
           "ticks": "",
           "title": {
            "standoff": 15
           },
           "zerolinecolor": "white",
           "zerolinewidth": 2
          }
         }
        },
        "title": {
         "text": "Figure 3: Average Availability in Stockholm in 2025 by Month"
        },
        "xaxis": {
         "anchor": "y",
         "domain": [
          0,
          1
         ],
         "tickformat": ".0%",
         "title": {
          "text": "Ratio of Available Listings"
         }
        },
        "yaxis": {
         "anchor": "x",
         "domain": [
          0,
          1
         ],
         "title": {
          "text": ""
         }
        }
       }
      },
      "text/html": [
       "<div>                            <div id=\"82d5bca8-b0cd-4e27-a4d8-4a5314d54494\" class=\"plotly-graph-div\" style=\"height:525px; width:100%;\"></div>            <script type=\"text/javascript\">                require([\"plotly\"], function(Plotly) {                    window.PLOTLYENV=window.PLOTLYENV || {};                                    if (document.getElementById(\"82d5bca8-b0cd-4e27-a4d8-4a5314d54494\")) {                    Plotly.newPlot(                        \"82d5bca8-b0cd-4e27-a4d8-4a5314d54494\",                        [{\"alignmentgroup\":\"True\",\"hovertemplate\":\"Ratio of Available Listings=%{x}<br>=%{y}<extra></extra>\",\"legendgroup\":\"\",\"marker\":{\"color\":\"#636efa\",\"pattern\":{\"shape\":\"\"}},\"name\":\"\",\"offsetgroup\":\"\",\"orientation\":\"h\",\"showlegend\":false,\"textposition\":\"auto\",\"x\":[0.27312198526369097,0.4150315292780691,0.45063729110254097,0.4586290168176737,0.40076584338502774,0.3855403827981694,0.417416554981173,0.39350762446499044,0.3756770611377715,0.3755121577637373,0.2731590422016762,0.27707575467483564],\"xaxis\":\"x\",\"y\":[\"December\",\"January\",\"February\",\"March\",\"April\",\"May\",\"June\",\"July\",\"August\",\"September\",\"October\",\"November\"],\"yaxis\":\"y\",\"type\":\"bar\"}],                        {\"template\":{\"data\":{\"histogram2dcontour\":[{\"type\":\"histogram2dcontour\",\"colorbar\":{\"outlinewidth\":0,\"ticks\":\"\"},\"colorscale\":[[0.0,\"#0d0887\"],[0.1111111111111111,\"#46039f\"],[0.2222222222222222,\"#7201a8\"],[0.3333333333333333,\"#9c179e\"],[0.4444444444444444,\"#bd3786\"],[0.5555555555555556,\"#d8576b\"],[0.6666666666666666,\"#ed7953\"],[0.7777777777777778,\"#fb9f3a\"],[0.8888888888888888,\"#fdca26\"],[1.0,\"#f0f921\"]]}],\"choropleth\":[{\"type\":\"choropleth\",\"colorbar\":{\"outlinewidth\":0,\"ticks\":\"\"}}],\"histogram2d\":[{\"type\":\"histogram2d\",\"colorbar\":{\"outlinewidth\":0,\"ticks\":\"\"},\"colorscale\":[[0.0,\"#0d0887\"],[0.1111111111111111,\"#46039f\"],[0.2222222222222222,\"#7201a8\"],[0.3333333333333333,\"#9c179e\"],[0.4444444444444444,\"#bd3786\"],[0.5555555555555556,\"#d8576b\"],[0.6666666666666666,\"#ed7953\"],[0.7777777777777778,\"#fb9f3a\"],[0.8888888888888888,\"#fdca26\"],[1.0,\"#f0f921\"]]}],\"heatmap\":[{\"type\":\"heatmap\",\"colorbar\":{\"outlinewidth\":0,\"ticks\":\"\"},\"colorscale\":[[0.0,\"#0d0887\"],[0.1111111111111111,\"#46039f\"],[0.2222222222222222,\"#7201a8\"],[0.3333333333333333,\"#9c179e\"],[0.4444444444444444,\"#bd3786\"],[0.5555555555555556,\"#d8576b\"],[0.6666666666666666,\"#ed7953\"],[0.7777777777777778,\"#fb9f3a\"],[0.8888888888888888,\"#fdca26\"],[1.0,\"#f0f921\"]]}],\"heatmapgl\":[{\"type\":\"heatmapgl\",\"colorbar\":{\"outlinewidth\":0,\"ticks\":\"\"},\"colorscale\":[[0.0,\"#0d0887\"],[0.1111111111111111,\"#46039f\"],[0.2222222222222222,\"#7201a8\"],[0.3333333333333333,\"#9c179e\"],[0.4444444444444444,\"#bd3786\"],[0.5555555555555556,\"#d8576b\"],[0.6666666666666666,\"#ed7953\"],[0.7777777777777778,\"#fb9f3a\"],[0.8888888888888888,\"#fdca26\"],[1.0,\"#f0f921\"]]}],\"contourcarpet\":[{\"type\":\"contourcarpet\",\"colorbar\":{\"outlinewidth\":0,\"ticks\":\"\"}}],\"contour\":[{\"type\":\"contour\",\"colorbar\":{\"outlinewidth\":0,\"ticks\":\"\"},\"colorscale\":[[0.0,\"#0d0887\"],[0.1111111111111111,\"#46039f\"],[0.2222222222222222,\"#7201a8\"],[0.3333333333333333,\"#9c179e\"],[0.4444444444444444,\"#bd3786\"],[0.5555555555555556,\"#d8576b\"],[0.6666666666666666,\"#ed7953\"],[0.7777777777777778,\"#fb9f3a\"],[0.8888888888888888,\"#fdca26\"],[1.0,\"#f0f921\"]]}],\"surface\":[{\"type\":\"surface\",\"colorbar\":{\"outlinewidth\":0,\"ticks\":\"\"},\"colorscale\":[[0.0,\"#0d0887\"],[0.1111111111111111,\"#46039f\"],[0.2222222222222222,\"#7201a8\"],[0.3333333333333333,\"#9c179e\"],[0.4444444444444444,\"#bd3786\"],[0.5555555555555556,\"#d8576b\"],[0.6666666666666666,\"#ed7953\"],[0.7777777777777778,\"#fb9f3a\"],[0.8888888888888888,\"#fdca26\"],[1.0,\"#f0f921\"]]}],\"mesh3d\":[{\"type\":\"mesh3d\",\"colorbar\":{\"outlinewidth\":0,\"ticks\":\"\"}}],\"scatter\":[{\"fillpattern\":{\"fillmode\":\"overlay\",\"size\":10,\"solidity\":0.2},\"type\":\"scatter\"}],\"parcoords\":[{\"type\":\"parcoords\",\"line\":{\"colorbar\":{\"outlinewidth\":0,\"ticks\":\"\"}}}],\"scatterpolargl\":[{\"type\":\"scatterpolargl\",\"marker\":{\"colorbar\":{\"outlinewidth\":0,\"ticks\":\"\"}}}],\"bar\":[{\"error_x\":{\"color\":\"#2a3f5f\"},\"error_y\":{\"color\":\"#2a3f5f\"},\"marker\":{\"line\":{\"color\":\"#E5ECF6\",\"width\":0.5},\"pattern\":{\"fillmode\":\"overlay\",\"size\":10,\"solidity\":0.2}},\"type\":\"bar\"}],\"scattergeo\":[{\"type\":\"scattergeo\",\"marker\":{\"colorbar\":{\"outlinewidth\":0,\"ticks\":\"\"}}}],\"scatterpolar\":[{\"type\":\"scatterpolar\",\"marker\":{\"colorbar\":{\"outlinewidth\":0,\"ticks\":\"\"}}}],\"histogram\":[{\"marker\":{\"pattern\":{\"fillmode\":\"overlay\",\"size\":10,\"solidity\":0.2}},\"type\":\"histogram\"}],\"scattergl\":[{\"type\":\"scattergl\",\"marker\":{\"colorbar\":{\"outlinewidth\":0,\"ticks\":\"\"}}}],\"scatter3d\":[{\"type\":\"scatter3d\",\"line\":{\"colorbar\":{\"outlinewidth\":0,\"ticks\":\"\"}},\"marker\":{\"colorbar\":{\"outlinewidth\":0,\"ticks\":\"\"}}}],\"scattermapbox\":[{\"type\":\"scattermapbox\",\"marker\":{\"colorbar\":{\"outlinewidth\":0,\"ticks\":\"\"}}}],\"scatterternary\":[{\"type\":\"scatterternary\",\"marker\":{\"colorbar\":{\"outlinewidth\":0,\"ticks\":\"\"}}}],\"scattercarpet\":[{\"type\":\"scattercarpet\",\"marker\":{\"colorbar\":{\"outlinewidth\":0,\"ticks\":\"\"}}}],\"carpet\":[{\"aaxis\":{\"endlinecolor\":\"#2a3f5f\",\"gridcolor\":\"white\",\"linecolor\":\"white\",\"minorgridcolor\":\"white\",\"startlinecolor\":\"#2a3f5f\"},\"baxis\":{\"endlinecolor\":\"#2a3f5f\",\"gridcolor\":\"white\",\"linecolor\":\"white\",\"minorgridcolor\":\"white\",\"startlinecolor\":\"#2a3f5f\"},\"type\":\"carpet\"}],\"table\":[{\"cells\":{\"fill\":{\"color\":\"#EBF0F8\"},\"line\":{\"color\":\"white\"}},\"header\":{\"fill\":{\"color\":\"#C8D4E3\"},\"line\":{\"color\":\"white\"}},\"type\":\"table\"}],\"barpolar\":[{\"marker\":{\"line\":{\"color\":\"#E5ECF6\",\"width\":0.5},\"pattern\":{\"fillmode\":\"overlay\",\"size\":10,\"solidity\":0.2}},\"type\":\"barpolar\"}],\"pie\":[{\"automargin\":true,\"type\":\"pie\"}]},\"layout\":{\"autotypenumbers\":\"strict\",\"colorway\":[\"#636efa\",\"#EF553B\",\"#00cc96\",\"#ab63fa\",\"#FFA15A\",\"#19d3f3\",\"#FF6692\",\"#B6E880\",\"#FF97FF\",\"#FECB52\"],\"font\":{\"color\":\"#2a3f5f\"},\"hovermode\":\"closest\",\"hoverlabel\":{\"align\":\"left\"},\"paper_bgcolor\":\"white\",\"plot_bgcolor\":\"#E5ECF6\",\"polar\":{\"bgcolor\":\"#E5ECF6\",\"angularaxis\":{\"gridcolor\":\"white\",\"linecolor\":\"white\",\"ticks\":\"\"},\"radialaxis\":{\"gridcolor\":\"white\",\"linecolor\":\"white\",\"ticks\":\"\"}},\"ternary\":{\"bgcolor\":\"#E5ECF6\",\"aaxis\":{\"gridcolor\":\"white\",\"linecolor\":\"white\",\"ticks\":\"\"},\"baxis\":{\"gridcolor\":\"white\",\"linecolor\":\"white\",\"ticks\":\"\"},\"caxis\":{\"gridcolor\":\"white\",\"linecolor\":\"white\",\"ticks\":\"\"}},\"coloraxis\":{\"colorbar\":{\"outlinewidth\":0,\"ticks\":\"\"}},\"colorscale\":{\"sequential\":[[0.0,\"#0d0887\"],[0.1111111111111111,\"#46039f\"],[0.2222222222222222,\"#7201a8\"],[0.3333333333333333,\"#9c179e\"],[0.4444444444444444,\"#bd3786\"],[0.5555555555555556,\"#d8576b\"],[0.6666666666666666,\"#ed7953\"],[0.7777777777777778,\"#fb9f3a\"],[0.8888888888888888,\"#fdca26\"],[1.0,\"#f0f921\"]],\"sequentialminus\":[[0.0,\"#0d0887\"],[0.1111111111111111,\"#46039f\"],[0.2222222222222222,\"#7201a8\"],[0.3333333333333333,\"#9c179e\"],[0.4444444444444444,\"#bd3786\"],[0.5555555555555556,\"#d8576b\"],[0.6666666666666666,\"#ed7953\"],[0.7777777777777778,\"#fb9f3a\"],[0.8888888888888888,\"#fdca26\"],[1.0,\"#f0f921\"]],\"diverging\":[[0,\"#8e0152\"],[0.1,\"#c51b7d\"],[0.2,\"#de77ae\"],[0.3,\"#f1b6da\"],[0.4,\"#fde0ef\"],[0.5,\"#f7f7f7\"],[0.6,\"#e6f5d0\"],[0.7,\"#b8e186\"],[0.8,\"#7fbc41\"],[0.9,\"#4d9221\"],[1,\"#276419\"]]},\"xaxis\":{\"gridcolor\":\"white\",\"linecolor\":\"white\",\"ticks\":\"\",\"title\":{\"standoff\":15},\"zerolinecolor\":\"white\",\"automargin\":true,\"zerolinewidth\":2},\"yaxis\":{\"gridcolor\":\"white\",\"linecolor\":\"white\",\"ticks\":\"\",\"title\":{\"standoff\":15},\"zerolinecolor\":\"white\",\"automargin\":true,\"zerolinewidth\":2},\"scene\":{\"xaxis\":{\"backgroundcolor\":\"#E5ECF6\",\"gridcolor\":\"white\",\"linecolor\":\"white\",\"showbackground\":true,\"ticks\":\"\",\"zerolinecolor\":\"white\",\"gridwidth\":2},\"yaxis\":{\"backgroundcolor\":\"#E5ECF6\",\"gridcolor\":\"white\",\"linecolor\":\"white\",\"showbackground\":true,\"ticks\":\"\",\"zerolinecolor\":\"white\",\"gridwidth\":2},\"zaxis\":{\"backgroundcolor\":\"#E5ECF6\",\"gridcolor\":\"white\",\"linecolor\":\"white\",\"showbackground\":true,\"ticks\":\"\",\"zerolinecolor\":\"white\",\"gridwidth\":2}},\"shapedefaults\":{\"line\":{\"color\":\"#2a3f5f\"}},\"annotationdefaults\":{\"arrowcolor\":\"#2a3f5f\",\"arrowhead\":0,\"arrowwidth\":1},\"geo\":{\"bgcolor\":\"white\",\"landcolor\":\"#E5ECF6\",\"subunitcolor\":\"white\",\"showland\":true,\"showlakes\":true,\"lakecolor\":\"white\"},\"title\":{\"x\":0.05},\"mapbox\":{\"style\":\"light\"}}},\"xaxis\":{\"anchor\":\"y\",\"domain\":[0.0,1.0],\"title\":{\"text\":\"Ratio of Available Listings\"},\"tickformat\":\".0%\"},\"yaxis\":{\"anchor\":\"x\",\"domain\":[0.0,1.0],\"title\":{\"text\":\"\"}},\"legend\":{\"tracegroupgap\":0},\"title\":{\"text\":\"Figure 3: Average Availability in Stockholm in 2025 by Month\"},\"barmode\":\"relative\"},                        {\"responsive\": true}                    ).then(function(){\n",
       "                            \n",
       "var gd = document.getElementById('82d5bca8-b0cd-4e27-a4d8-4a5314d54494');\n",
       "var x = new MutationObserver(function (mutations, observer) {{\n",
       "        var display = window.getComputedStyle(gd).display;\n",
       "        if (!display || display === 'none') {{\n",
       "            console.log([gd, 'removed!']);\n",
       "            Plotly.purge(gd);\n",
       "            observer.disconnect();\n",
       "        }}\n",
       "}});\n",
       "\n",
       "// Listen for the removal of the full notebook cells\n",
       "var notebookContainer = gd.closest('#notebook-container');\n",
       "if (notebookContainer) {{\n",
       "    x.observe(notebookContainer, {childList: true});\n",
       "}}\n",
       "\n",
       "// Listen for the clearing of the current output cell\n",
       "var outputEl = gd.closest('.output');\n",
       "if (outputEl) {{\n",
       "    x.observe(outputEl, {childList: true});\n",
       "}}\n",
       "\n",
       "                        })                };                });            </script>        </div>"
      ]
     },
     "metadata": {},
     "output_type": "display_data"
    }
   ],
   "source": [
    "# visualization of average availability by month\n",
    "fig3 = px.bar(mean_of_month, x = 'booked', y = 'date', orientation= 'h',\n",
    "              title = 'Figure 3: Average Availability in Stockholm in 2025 by Month',\n",
    "              labels = {'date': '', 'booked': 'Ratio of Available Listings'})\n",
    "fig3.update_layout(xaxis_tickformat = \".0%\")\n",
    "fig3.show()"
   ]
  },
  {
   "cell_type": "markdown",
   "metadata": {},
   "source": [
    "Higher values suggest that higher number of available listings. From the Figure 3 it is obvious that in the beginning of spring, there are plenty of available listings.\n",
    "\n",
    "How about when people go out the most within a week? Figure 4 shows that on both Fridays and Saturdays, the availability is the lowest, and this partially aligns with the common knowledge that people go out on weekends. However, it is worth noticing that the difference among days is in fact very little. "
   ]
  },
  {
   "cell_type": "code",
   "execution_count": 84,
   "metadata": {},
   "outputs": [
    {
     "data": {
      "application/vnd.plotly.v1+json": {
       "config": {
        "plotlyServerURL": "https://plot.ly"
       },
       "data": [
        {
         "hovertemplate": "=%{x}<br>Ratio of Available Listings=%{y}<extra></extra>",
         "legendgroup": "",
         "line": {
          "color": "#636efa",
          "dash": "solid"
         },
         "marker": {
          "symbol": "circle"
         },
         "mode": "lines",
         "name": "",
         "orientation": "v",
         "showlegend": false,
         "type": "scatter",
         "x": [
          "Monday",
          "Tuesday",
          "Wednesday",
          "Thursday",
          "Friday",
          "Saturday",
          "Sunday"
         ],
         "xaxis": "x",
         "y": [
          0.37233354646899236,
          0.37491347442524925,
          0.37550994860012665,
          0.3750902075141018,
          0.372615944270166,
          0.3721372921545236,
          0.37630892943931427
         ],
         "yaxis": "y"
        }
       ],
       "layout": {
        "legend": {
         "tracegroupgap": 0
        },
        "template": {
         "data": {
          "bar": [
           {
            "error_x": {
             "color": "#2a3f5f"
            },
            "error_y": {
             "color": "#2a3f5f"
            },
            "marker": {
             "line": {
              "color": "#E5ECF6",
              "width": 0.5
             },
             "pattern": {
              "fillmode": "overlay",
              "size": 10,
              "solidity": 0.2
             }
            },
            "type": "bar"
           }
          ],
          "barpolar": [
           {
            "marker": {
             "line": {
              "color": "#E5ECF6",
              "width": 0.5
             },
             "pattern": {
              "fillmode": "overlay",
              "size": 10,
              "solidity": 0.2
             }
            },
            "type": "barpolar"
           }
          ],
          "carpet": [
           {
            "aaxis": {
             "endlinecolor": "#2a3f5f",
             "gridcolor": "white",
             "linecolor": "white",
             "minorgridcolor": "white",
             "startlinecolor": "#2a3f5f"
            },
            "baxis": {
             "endlinecolor": "#2a3f5f",
             "gridcolor": "white",
             "linecolor": "white",
             "minorgridcolor": "white",
             "startlinecolor": "#2a3f5f"
            },
            "type": "carpet"
           }
          ],
          "choropleth": [
           {
            "colorbar": {
             "outlinewidth": 0,
             "ticks": ""
            },
            "type": "choropleth"
           }
          ],
          "contour": [
           {
            "colorbar": {
             "outlinewidth": 0,
             "ticks": ""
            },
            "colorscale": [
             [
              0,
              "#0d0887"
             ],
             [
              0.1111111111111111,
              "#46039f"
             ],
             [
              0.2222222222222222,
              "#7201a8"
             ],
             [
              0.3333333333333333,
              "#9c179e"
             ],
             [
              0.4444444444444444,
              "#bd3786"
             ],
             [
              0.5555555555555556,
              "#d8576b"
             ],
             [
              0.6666666666666666,
              "#ed7953"
             ],
             [
              0.7777777777777778,
              "#fb9f3a"
             ],
             [
              0.8888888888888888,
              "#fdca26"
             ],
             [
              1,
              "#f0f921"
             ]
            ],
            "type": "contour"
           }
          ],
          "contourcarpet": [
           {
            "colorbar": {
             "outlinewidth": 0,
             "ticks": ""
            },
            "type": "contourcarpet"
           }
          ],
          "heatmap": [
           {
            "colorbar": {
             "outlinewidth": 0,
             "ticks": ""
            },
            "colorscale": [
             [
              0,
              "#0d0887"
             ],
             [
              0.1111111111111111,
              "#46039f"
             ],
             [
              0.2222222222222222,
              "#7201a8"
             ],
             [
              0.3333333333333333,
              "#9c179e"
             ],
             [
              0.4444444444444444,
              "#bd3786"
             ],
             [
              0.5555555555555556,
              "#d8576b"
             ],
             [
              0.6666666666666666,
              "#ed7953"
             ],
             [
              0.7777777777777778,
              "#fb9f3a"
             ],
             [
              0.8888888888888888,
              "#fdca26"
             ],
             [
              1,
              "#f0f921"
             ]
            ],
            "type": "heatmap"
           }
          ],
          "heatmapgl": [
           {
            "colorbar": {
             "outlinewidth": 0,
             "ticks": ""
            },
            "colorscale": [
             [
              0,
              "#0d0887"
             ],
             [
              0.1111111111111111,
              "#46039f"
             ],
             [
              0.2222222222222222,
              "#7201a8"
             ],
             [
              0.3333333333333333,
              "#9c179e"
             ],
             [
              0.4444444444444444,
              "#bd3786"
             ],
             [
              0.5555555555555556,
              "#d8576b"
             ],
             [
              0.6666666666666666,
              "#ed7953"
             ],
             [
              0.7777777777777778,
              "#fb9f3a"
             ],
             [
              0.8888888888888888,
              "#fdca26"
             ],
             [
              1,
              "#f0f921"
             ]
            ],
            "type": "heatmapgl"
           }
          ],
          "histogram": [
           {
            "marker": {
             "pattern": {
              "fillmode": "overlay",
              "size": 10,
              "solidity": 0.2
             }
            },
            "type": "histogram"
           }
          ],
          "histogram2d": [
           {
            "colorbar": {
             "outlinewidth": 0,
             "ticks": ""
            },
            "colorscale": [
             [
              0,
              "#0d0887"
             ],
             [
              0.1111111111111111,
              "#46039f"
             ],
             [
              0.2222222222222222,
              "#7201a8"
             ],
             [
              0.3333333333333333,
              "#9c179e"
             ],
             [
              0.4444444444444444,
              "#bd3786"
             ],
             [
              0.5555555555555556,
              "#d8576b"
             ],
             [
              0.6666666666666666,
              "#ed7953"
             ],
             [
              0.7777777777777778,
              "#fb9f3a"
             ],
             [
              0.8888888888888888,
              "#fdca26"
             ],
             [
              1,
              "#f0f921"
             ]
            ],
            "type": "histogram2d"
           }
          ],
          "histogram2dcontour": [
           {
            "colorbar": {
             "outlinewidth": 0,
             "ticks": ""
            },
            "colorscale": [
             [
              0,
              "#0d0887"
             ],
             [
              0.1111111111111111,
              "#46039f"
             ],
             [
              0.2222222222222222,
              "#7201a8"
             ],
             [
              0.3333333333333333,
              "#9c179e"
             ],
             [
              0.4444444444444444,
              "#bd3786"
             ],
             [
              0.5555555555555556,
              "#d8576b"
             ],
             [
              0.6666666666666666,
              "#ed7953"
             ],
             [
              0.7777777777777778,
              "#fb9f3a"
             ],
             [
              0.8888888888888888,
              "#fdca26"
             ],
             [
              1,
              "#f0f921"
             ]
            ],
            "type": "histogram2dcontour"
           }
          ],
          "mesh3d": [
           {
            "colorbar": {
             "outlinewidth": 0,
             "ticks": ""
            },
            "type": "mesh3d"
           }
          ],
          "parcoords": [
           {
            "line": {
             "colorbar": {
              "outlinewidth": 0,
              "ticks": ""
             }
            },
            "type": "parcoords"
           }
          ],
          "pie": [
           {
            "automargin": true,
            "type": "pie"
           }
          ],
          "scatter": [
           {
            "fillpattern": {
             "fillmode": "overlay",
             "size": 10,
             "solidity": 0.2
            },
            "type": "scatter"
           }
          ],
          "scatter3d": [
           {
            "line": {
             "colorbar": {
              "outlinewidth": 0,
              "ticks": ""
             }
            },
            "marker": {
             "colorbar": {
              "outlinewidth": 0,
              "ticks": ""
             }
            },
            "type": "scatter3d"
           }
          ],
          "scattercarpet": [
           {
            "marker": {
             "colorbar": {
              "outlinewidth": 0,
              "ticks": ""
             }
            },
            "type": "scattercarpet"
           }
          ],
          "scattergeo": [
           {
            "marker": {
             "colorbar": {
              "outlinewidth": 0,
              "ticks": ""
             }
            },
            "type": "scattergeo"
           }
          ],
          "scattergl": [
           {
            "marker": {
             "colorbar": {
              "outlinewidth": 0,
              "ticks": ""
             }
            },
            "type": "scattergl"
           }
          ],
          "scattermapbox": [
           {
            "marker": {
             "colorbar": {
              "outlinewidth": 0,
              "ticks": ""
             }
            },
            "type": "scattermapbox"
           }
          ],
          "scatterpolar": [
           {
            "marker": {
             "colorbar": {
              "outlinewidth": 0,
              "ticks": ""
             }
            },
            "type": "scatterpolar"
           }
          ],
          "scatterpolargl": [
           {
            "marker": {
             "colorbar": {
              "outlinewidth": 0,
              "ticks": ""
             }
            },
            "type": "scatterpolargl"
           }
          ],
          "scatterternary": [
           {
            "marker": {
             "colorbar": {
              "outlinewidth": 0,
              "ticks": ""
             }
            },
            "type": "scatterternary"
           }
          ],
          "surface": [
           {
            "colorbar": {
             "outlinewidth": 0,
             "ticks": ""
            },
            "colorscale": [
             [
              0,
              "#0d0887"
             ],
             [
              0.1111111111111111,
              "#46039f"
             ],
             [
              0.2222222222222222,
              "#7201a8"
             ],
             [
              0.3333333333333333,
              "#9c179e"
             ],
             [
              0.4444444444444444,
              "#bd3786"
             ],
             [
              0.5555555555555556,
              "#d8576b"
             ],
             [
              0.6666666666666666,
              "#ed7953"
             ],
             [
              0.7777777777777778,
              "#fb9f3a"
             ],
             [
              0.8888888888888888,
              "#fdca26"
             ],
             [
              1,
              "#f0f921"
             ]
            ],
            "type": "surface"
           }
          ],
          "table": [
           {
            "cells": {
             "fill": {
              "color": "#EBF0F8"
             },
             "line": {
              "color": "white"
             }
            },
            "header": {
             "fill": {
              "color": "#C8D4E3"
             },
             "line": {
              "color": "white"
             }
            },
            "type": "table"
           }
          ]
         },
         "layout": {
          "annotationdefaults": {
           "arrowcolor": "#2a3f5f",
           "arrowhead": 0,
           "arrowwidth": 1
          },
          "autotypenumbers": "strict",
          "coloraxis": {
           "colorbar": {
            "outlinewidth": 0,
            "ticks": ""
           }
          },
          "colorscale": {
           "diverging": [
            [
             0,
             "#8e0152"
            ],
            [
             0.1,
             "#c51b7d"
            ],
            [
             0.2,
             "#de77ae"
            ],
            [
             0.3,
             "#f1b6da"
            ],
            [
             0.4,
             "#fde0ef"
            ],
            [
             0.5,
             "#f7f7f7"
            ],
            [
             0.6,
             "#e6f5d0"
            ],
            [
             0.7,
             "#b8e186"
            ],
            [
             0.8,
             "#7fbc41"
            ],
            [
             0.9,
             "#4d9221"
            ],
            [
             1,
             "#276419"
            ]
           ],
           "sequential": [
            [
             0,
             "#0d0887"
            ],
            [
             0.1111111111111111,
             "#46039f"
            ],
            [
             0.2222222222222222,
             "#7201a8"
            ],
            [
             0.3333333333333333,
             "#9c179e"
            ],
            [
             0.4444444444444444,
             "#bd3786"
            ],
            [
             0.5555555555555556,
             "#d8576b"
            ],
            [
             0.6666666666666666,
             "#ed7953"
            ],
            [
             0.7777777777777778,
             "#fb9f3a"
            ],
            [
             0.8888888888888888,
             "#fdca26"
            ],
            [
             1,
             "#f0f921"
            ]
           ],
           "sequentialminus": [
            [
             0,
             "#0d0887"
            ],
            [
             0.1111111111111111,
             "#46039f"
            ],
            [
             0.2222222222222222,
             "#7201a8"
            ],
            [
             0.3333333333333333,
             "#9c179e"
            ],
            [
             0.4444444444444444,
             "#bd3786"
            ],
            [
             0.5555555555555556,
             "#d8576b"
            ],
            [
             0.6666666666666666,
             "#ed7953"
            ],
            [
             0.7777777777777778,
             "#fb9f3a"
            ],
            [
             0.8888888888888888,
             "#fdca26"
            ],
            [
             1,
             "#f0f921"
            ]
           ]
          },
          "colorway": [
           "#636efa",
           "#EF553B",
           "#00cc96",
           "#ab63fa",
           "#FFA15A",
           "#19d3f3",
           "#FF6692",
           "#B6E880",
           "#FF97FF",
           "#FECB52"
          ],
          "font": {
           "color": "#2a3f5f"
          },
          "geo": {
           "bgcolor": "white",
           "lakecolor": "white",
           "landcolor": "#E5ECF6",
           "showlakes": true,
           "showland": true,
           "subunitcolor": "white"
          },
          "hoverlabel": {
           "align": "left"
          },
          "hovermode": "closest",
          "mapbox": {
           "style": "light"
          },
          "paper_bgcolor": "white",
          "plot_bgcolor": "#E5ECF6",
          "polar": {
           "angularaxis": {
            "gridcolor": "white",
            "linecolor": "white",
            "ticks": ""
           },
           "bgcolor": "#E5ECF6",
           "radialaxis": {
            "gridcolor": "white",
            "linecolor": "white",
            "ticks": ""
           }
          },
          "scene": {
           "xaxis": {
            "backgroundcolor": "#E5ECF6",
            "gridcolor": "white",
            "gridwidth": 2,
            "linecolor": "white",
            "showbackground": true,
            "ticks": "",
            "zerolinecolor": "white"
           },
           "yaxis": {
            "backgroundcolor": "#E5ECF6",
            "gridcolor": "white",
            "gridwidth": 2,
            "linecolor": "white",
            "showbackground": true,
            "ticks": "",
            "zerolinecolor": "white"
           },
           "zaxis": {
            "backgroundcolor": "#E5ECF6",
            "gridcolor": "white",
            "gridwidth": 2,
            "linecolor": "white",
            "showbackground": true,
            "ticks": "",
            "zerolinecolor": "white"
           }
          },
          "shapedefaults": {
           "line": {
            "color": "#2a3f5f"
           }
          },
          "ternary": {
           "aaxis": {
            "gridcolor": "white",
            "linecolor": "white",
            "ticks": ""
           },
           "baxis": {
            "gridcolor": "white",
            "linecolor": "white",
            "ticks": ""
           },
           "bgcolor": "#E5ECF6",
           "caxis": {
            "gridcolor": "white",
            "linecolor": "white",
            "ticks": ""
           }
          },
          "title": {
           "x": 0.05
          },
          "xaxis": {
           "automargin": true,
           "gridcolor": "white",
           "linecolor": "white",
           "ticks": "",
           "title": {
            "standoff": 15
           },
           "zerolinecolor": "white",
           "zerolinewidth": 2
          },
          "yaxis": {
           "automargin": true,
           "gridcolor": "white",
           "linecolor": "white",
           "ticks": "",
           "title": {
            "standoff": 15
           },
           "zerolinecolor": "white",
           "zerolinewidth": 2
          }
         }
        },
        "title": {
         "text": "Figure 4: Average Availability by Day of Week in Stockholm in 2025"
        },
        "xaxis": {
         "anchor": "y",
         "domain": [
          0,
          1
         ],
         "tickangle": 45,
         "title": {
          "text": ""
         }
        },
        "yaxis": {
         "anchor": "x",
         "domain": [
          0,
          1
         ],
         "tickformat": ".1%",
         "title": {
          "text": "Ratio of Available Listings"
         }
        }
       }
      },
      "text/html": [
       "<div>                            <div id=\"15956bfc-6a35-4940-ade5-c95e42301c45\" class=\"plotly-graph-div\" style=\"height:525px; width:100%;\"></div>            <script type=\"text/javascript\">                require([\"plotly\"], function(Plotly) {                    window.PLOTLYENV=window.PLOTLYENV || {};                                    if (document.getElementById(\"15956bfc-6a35-4940-ade5-c95e42301c45\")) {                    Plotly.newPlot(                        \"15956bfc-6a35-4940-ade5-c95e42301c45\",                        [{\"hovertemplate\":\"=%{x}<br>Ratio of Available Listings=%{y}<extra></extra>\",\"legendgroup\":\"\",\"line\":{\"color\":\"#636efa\",\"dash\":\"solid\"},\"marker\":{\"symbol\":\"circle\"},\"mode\":\"lines\",\"name\":\"\",\"orientation\":\"v\",\"showlegend\":false,\"x\":[\"Monday\",\"Tuesday\",\"Wednesday\",\"Thursday\",\"Friday\",\"Saturday\",\"Sunday\"],\"xaxis\":\"x\",\"y\":[0.37233354646899236,0.37491347442524925,0.37550994860012665,0.3750902075141018,0.372615944270166,0.3721372921545236,0.37630892943931427],\"yaxis\":\"y\",\"type\":\"scatter\"}],                        {\"template\":{\"data\":{\"histogram2dcontour\":[{\"type\":\"histogram2dcontour\",\"colorbar\":{\"outlinewidth\":0,\"ticks\":\"\"},\"colorscale\":[[0.0,\"#0d0887\"],[0.1111111111111111,\"#46039f\"],[0.2222222222222222,\"#7201a8\"],[0.3333333333333333,\"#9c179e\"],[0.4444444444444444,\"#bd3786\"],[0.5555555555555556,\"#d8576b\"],[0.6666666666666666,\"#ed7953\"],[0.7777777777777778,\"#fb9f3a\"],[0.8888888888888888,\"#fdca26\"],[1.0,\"#f0f921\"]]}],\"choropleth\":[{\"type\":\"choropleth\",\"colorbar\":{\"outlinewidth\":0,\"ticks\":\"\"}}],\"histogram2d\":[{\"type\":\"histogram2d\",\"colorbar\":{\"outlinewidth\":0,\"ticks\":\"\"},\"colorscale\":[[0.0,\"#0d0887\"],[0.1111111111111111,\"#46039f\"],[0.2222222222222222,\"#7201a8\"],[0.3333333333333333,\"#9c179e\"],[0.4444444444444444,\"#bd3786\"],[0.5555555555555556,\"#d8576b\"],[0.6666666666666666,\"#ed7953\"],[0.7777777777777778,\"#fb9f3a\"],[0.8888888888888888,\"#fdca26\"],[1.0,\"#f0f921\"]]}],\"heatmap\":[{\"type\":\"heatmap\",\"colorbar\":{\"outlinewidth\":0,\"ticks\":\"\"},\"colorscale\":[[0.0,\"#0d0887\"],[0.1111111111111111,\"#46039f\"],[0.2222222222222222,\"#7201a8\"],[0.3333333333333333,\"#9c179e\"],[0.4444444444444444,\"#bd3786\"],[0.5555555555555556,\"#d8576b\"],[0.6666666666666666,\"#ed7953\"],[0.7777777777777778,\"#fb9f3a\"],[0.8888888888888888,\"#fdca26\"],[1.0,\"#f0f921\"]]}],\"heatmapgl\":[{\"type\":\"heatmapgl\",\"colorbar\":{\"outlinewidth\":0,\"ticks\":\"\"},\"colorscale\":[[0.0,\"#0d0887\"],[0.1111111111111111,\"#46039f\"],[0.2222222222222222,\"#7201a8\"],[0.3333333333333333,\"#9c179e\"],[0.4444444444444444,\"#bd3786\"],[0.5555555555555556,\"#d8576b\"],[0.6666666666666666,\"#ed7953\"],[0.7777777777777778,\"#fb9f3a\"],[0.8888888888888888,\"#fdca26\"],[1.0,\"#f0f921\"]]}],\"contourcarpet\":[{\"type\":\"contourcarpet\",\"colorbar\":{\"outlinewidth\":0,\"ticks\":\"\"}}],\"contour\":[{\"type\":\"contour\",\"colorbar\":{\"outlinewidth\":0,\"ticks\":\"\"},\"colorscale\":[[0.0,\"#0d0887\"],[0.1111111111111111,\"#46039f\"],[0.2222222222222222,\"#7201a8\"],[0.3333333333333333,\"#9c179e\"],[0.4444444444444444,\"#bd3786\"],[0.5555555555555556,\"#d8576b\"],[0.6666666666666666,\"#ed7953\"],[0.7777777777777778,\"#fb9f3a\"],[0.8888888888888888,\"#fdca26\"],[1.0,\"#f0f921\"]]}],\"surface\":[{\"type\":\"surface\",\"colorbar\":{\"outlinewidth\":0,\"ticks\":\"\"},\"colorscale\":[[0.0,\"#0d0887\"],[0.1111111111111111,\"#46039f\"],[0.2222222222222222,\"#7201a8\"],[0.3333333333333333,\"#9c179e\"],[0.4444444444444444,\"#bd3786\"],[0.5555555555555556,\"#d8576b\"],[0.6666666666666666,\"#ed7953\"],[0.7777777777777778,\"#fb9f3a\"],[0.8888888888888888,\"#fdca26\"],[1.0,\"#f0f921\"]]}],\"mesh3d\":[{\"type\":\"mesh3d\",\"colorbar\":{\"outlinewidth\":0,\"ticks\":\"\"}}],\"scatter\":[{\"fillpattern\":{\"fillmode\":\"overlay\",\"size\":10,\"solidity\":0.2},\"type\":\"scatter\"}],\"parcoords\":[{\"type\":\"parcoords\",\"line\":{\"colorbar\":{\"outlinewidth\":0,\"ticks\":\"\"}}}],\"scatterpolargl\":[{\"type\":\"scatterpolargl\",\"marker\":{\"colorbar\":{\"outlinewidth\":0,\"ticks\":\"\"}}}],\"bar\":[{\"error_x\":{\"color\":\"#2a3f5f\"},\"error_y\":{\"color\":\"#2a3f5f\"},\"marker\":{\"line\":{\"color\":\"#E5ECF6\",\"width\":0.5},\"pattern\":{\"fillmode\":\"overlay\",\"size\":10,\"solidity\":0.2}},\"type\":\"bar\"}],\"scattergeo\":[{\"type\":\"scattergeo\",\"marker\":{\"colorbar\":{\"outlinewidth\":0,\"ticks\":\"\"}}}],\"scatterpolar\":[{\"type\":\"scatterpolar\",\"marker\":{\"colorbar\":{\"outlinewidth\":0,\"ticks\":\"\"}}}],\"histogram\":[{\"marker\":{\"pattern\":{\"fillmode\":\"overlay\",\"size\":10,\"solidity\":0.2}},\"type\":\"histogram\"}],\"scattergl\":[{\"type\":\"scattergl\",\"marker\":{\"colorbar\":{\"outlinewidth\":0,\"ticks\":\"\"}}}],\"scatter3d\":[{\"type\":\"scatter3d\",\"line\":{\"colorbar\":{\"outlinewidth\":0,\"ticks\":\"\"}},\"marker\":{\"colorbar\":{\"outlinewidth\":0,\"ticks\":\"\"}}}],\"scattermapbox\":[{\"type\":\"scattermapbox\",\"marker\":{\"colorbar\":{\"outlinewidth\":0,\"ticks\":\"\"}}}],\"scatterternary\":[{\"type\":\"scatterternary\",\"marker\":{\"colorbar\":{\"outlinewidth\":0,\"ticks\":\"\"}}}],\"scattercarpet\":[{\"type\":\"scattercarpet\",\"marker\":{\"colorbar\":{\"outlinewidth\":0,\"ticks\":\"\"}}}],\"carpet\":[{\"aaxis\":{\"endlinecolor\":\"#2a3f5f\",\"gridcolor\":\"white\",\"linecolor\":\"white\",\"minorgridcolor\":\"white\",\"startlinecolor\":\"#2a3f5f\"},\"baxis\":{\"endlinecolor\":\"#2a3f5f\",\"gridcolor\":\"white\",\"linecolor\":\"white\",\"minorgridcolor\":\"white\",\"startlinecolor\":\"#2a3f5f\"},\"type\":\"carpet\"}],\"table\":[{\"cells\":{\"fill\":{\"color\":\"#EBF0F8\"},\"line\":{\"color\":\"white\"}},\"header\":{\"fill\":{\"color\":\"#C8D4E3\"},\"line\":{\"color\":\"white\"}},\"type\":\"table\"}],\"barpolar\":[{\"marker\":{\"line\":{\"color\":\"#E5ECF6\",\"width\":0.5},\"pattern\":{\"fillmode\":\"overlay\",\"size\":10,\"solidity\":0.2}},\"type\":\"barpolar\"}],\"pie\":[{\"automargin\":true,\"type\":\"pie\"}]},\"layout\":{\"autotypenumbers\":\"strict\",\"colorway\":[\"#636efa\",\"#EF553B\",\"#00cc96\",\"#ab63fa\",\"#FFA15A\",\"#19d3f3\",\"#FF6692\",\"#B6E880\",\"#FF97FF\",\"#FECB52\"],\"font\":{\"color\":\"#2a3f5f\"},\"hovermode\":\"closest\",\"hoverlabel\":{\"align\":\"left\"},\"paper_bgcolor\":\"white\",\"plot_bgcolor\":\"#E5ECF6\",\"polar\":{\"bgcolor\":\"#E5ECF6\",\"angularaxis\":{\"gridcolor\":\"white\",\"linecolor\":\"white\",\"ticks\":\"\"},\"radialaxis\":{\"gridcolor\":\"white\",\"linecolor\":\"white\",\"ticks\":\"\"}},\"ternary\":{\"bgcolor\":\"#E5ECF6\",\"aaxis\":{\"gridcolor\":\"white\",\"linecolor\":\"white\",\"ticks\":\"\"},\"baxis\":{\"gridcolor\":\"white\",\"linecolor\":\"white\",\"ticks\":\"\"},\"caxis\":{\"gridcolor\":\"white\",\"linecolor\":\"white\",\"ticks\":\"\"}},\"coloraxis\":{\"colorbar\":{\"outlinewidth\":0,\"ticks\":\"\"}},\"colorscale\":{\"sequential\":[[0.0,\"#0d0887\"],[0.1111111111111111,\"#46039f\"],[0.2222222222222222,\"#7201a8\"],[0.3333333333333333,\"#9c179e\"],[0.4444444444444444,\"#bd3786\"],[0.5555555555555556,\"#d8576b\"],[0.6666666666666666,\"#ed7953\"],[0.7777777777777778,\"#fb9f3a\"],[0.8888888888888888,\"#fdca26\"],[1.0,\"#f0f921\"]],\"sequentialminus\":[[0.0,\"#0d0887\"],[0.1111111111111111,\"#46039f\"],[0.2222222222222222,\"#7201a8\"],[0.3333333333333333,\"#9c179e\"],[0.4444444444444444,\"#bd3786\"],[0.5555555555555556,\"#d8576b\"],[0.6666666666666666,\"#ed7953\"],[0.7777777777777778,\"#fb9f3a\"],[0.8888888888888888,\"#fdca26\"],[1.0,\"#f0f921\"]],\"diverging\":[[0,\"#8e0152\"],[0.1,\"#c51b7d\"],[0.2,\"#de77ae\"],[0.3,\"#f1b6da\"],[0.4,\"#fde0ef\"],[0.5,\"#f7f7f7\"],[0.6,\"#e6f5d0\"],[0.7,\"#b8e186\"],[0.8,\"#7fbc41\"],[0.9,\"#4d9221\"],[1,\"#276419\"]]},\"xaxis\":{\"gridcolor\":\"white\",\"linecolor\":\"white\",\"ticks\":\"\",\"title\":{\"standoff\":15},\"zerolinecolor\":\"white\",\"automargin\":true,\"zerolinewidth\":2},\"yaxis\":{\"gridcolor\":\"white\",\"linecolor\":\"white\",\"ticks\":\"\",\"title\":{\"standoff\":15},\"zerolinecolor\":\"white\",\"automargin\":true,\"zerolinewidth\":2},\"scene\":{\"xaxis\":{\"backgroundcolor\":\"#E5ECF6\",\"gridcolor\":\"white\",\"linecolor\":\"white\",\"showbackground\":true,\"ticks\":\"\",\"zerolinecolor\":\"white\",\"gridwidth\":2},\"yaxis\":{\"backgroundcolor\":\"#E5ECF6\",\"gridcolor\":\"white\",\"linecolor\":\"white\",\"showbackground\":true,\"ticks\":\"\",\"zerolinecolor\":\"white\",\"gridwidth\":2},\"zaxis\":{\"backgroundcolor\":\"#E5ECF6\",\"gridcolor\":\"white\",\"linecolor\":\"white\",\"showbackground\":true,\"ticks\":\"\",\"zerolinecolor\":\"white\",\"gridwidth\":2}},\"shapedefaults\":{\"line\":{\"color\":\"#2a3f5f\"}},\"annotationdefaults\":{\"arrowcolor\":\"#2a3f5f\",\"arrowhead\":0,\"arrowwidth\":1},\"geo\":{\"bgcolor\":\"white\",\"landcolor\":\"#E5ECF6\",\"subunitcolor\":\"white\",\"showland\":true,\"showlakes\":true,\"lakecolor\":\"white\"},\"title\":{\"x\":0.05},\"mapbox\":{\"style\":\"light\"}}},\"xaxis\":{\"anchor\":\"y\",\"domain\":[0.0,1.0],\"title\":{\"text\":\"\"},\"tickangle\":45},\"yaxis\":{\"anchor\":\"x\",\"domain\":[0.0,1.0],\"title\":{\"text\":\"Ratio of Available Listings\"},\"tickformat\":\".1%\"},\"legend\":{\"tracegroupgap\":0},\"title\":{\"text\":\"Figure 4: Average Availability by Day of Week in Stockholm in 2025\"}},                        {\"responsive\": true}                    ).then(function(){\n",
       "                            \n",
       "var gd = document.getElementById('15956bfc-6a35-4940-ade5-c95e42301c45');\n",
       "var x = new MutationObserver(function (mutations, observer) {{\n",
       "        var display = window.getComputedStyle(gd).display;\n",
       "        if (!display || display === 'none') {{\n",
       "            console.log([gd, 'removed!']);\n",
       "            Plotly.purge(gd);\n",
       "            observer.disconnect();\n",
       "        }}\n",
       "}});\n",
       "\n",
       "// Listen for the removal of the full notebook cells\n",
       "var notebookContainer = gd.closest('#notebook-container');\n",
       "if (notebookContainer) {{\n",
       "    x.observe(notebookContainer, {childList: true});\n",
       "}}\n",
       "\n",
       "// Listen for the clearing of the current output cell\n",
       "var outputEl = gd.closest('.output');\n",
       "if (outputEl) {{\n",
       "    x.observe(outputEl, {childList: true});\n",
       "}}\n",
       "\n",
       "                        })                };                });            </script>        </div>"
      ]
     },
     "metadata": {},
     "output_type": "display_data"
    }
   ],
   "source": [
    "calendar['dayofweek'] = calendar.date.dt.day_name()\n",
    "days = calendar['dayofweek'].unique().tolist()\n",
    "df_week = price_week = calendar.groupby('dayofweek')['booked'].mean().reindex(days)\n",
    "df_week = df_week.reset_index()\n",
    "fig4 = px.line(df_week, x = 'dayofweek', y = 'booked', title= 'Figure 4: Average Availability by Day of Week in Stockholm in 2025', \n",
    "               labels = {'dayofweek': '', 'booked': 'Ratio of Available Listings'})\n",
    "fig4.update_xaxes(tickangle= 45)\n",
    "fig4.update_layout(yaxis_tickformat = '.1%')\n",
    "fig4.show()"
   ]
  },
  {
   "cell_type": "code",
   "execution_count": 83,
   "metadata": {},
   "outputs": [
    {
     "name": "stdout",
     "output_type": "stream",
     "text": [
      "There are a total of 5223 listings in Stockholm as of 2025.\n"
     ]
    }
   ],
   "source": [
    "# listing data\n",
    "listings = pd.read_csv('./listings.csv')\n",
    "print('There are a total of', listings.id.nunique(), 'listings in Stockholm as of 2025.')"
   ]
  },
  {
   "cell_type": "code",
   "execution_count": 68,
   "metadata": {},
   "outputs": [
    {
     "data": {
      "application/vnd.plotly.v1+json": {
       "config": {
        "plotlyServerURL": "https://plot.ly"
       },
       "data": [
        {
         "alignmentgroup": "True",
         "hovertemplate": "Area=%{x}<br>Counts=%{y}<extra></extra>",
         "legendgroup": "",
         "marker": {
          "color": "#636efa",
          "pattern": {
           "shape": ""
          }
         },
         "name": "",
         "offsetgroup": "",
         "orientation": "v",
         "showlegend": false,
         "textposition": "auto",
         "type": "bar",
         "x": [
          "Skärholmens",
          "Spånga-Tensta",
          "Rinkeby-Tensta",
          "Hässelby-Vällingby",
          "Farsta",
          "Älvsjö",
          "Skarpnäcks",
          "Bromma",
          "Östermalms",
          "Enskede-Årsta-Vantörs",
          "Kungsholmens",
          "Hägersten-Liljeholmens",
          "Norrmalms",
          "Södermalms"
         ],
         "xaxis": "x",
         "y": [
          98,
          100,
          125,
          167,
          182,
          187,
          286,
          334,
          364,
          468,
          517,
          528,
          550,
          1317
         ],
         "yaxis": "y"
        }
       ],
       "layout": {
        "barmode": "relative",
        "legend": {
         "tracegroupgap": 0
        },
        "template": {
         "data": {
          "bar": [
           {
            "error_x": {
             "color": "#2a3f5f"
            },
            "error_y": {
             "color": "#2a3f5f"
            },
            "marker": {
             "line": {
              "color": "#E5ECF6",
              "width": 0.5
             },
             "pattern": {
              "fillmode": "overlay",
              "size": 10,
              "solidity": 0.2
             }
            },
            "type": "bar"
           }
          ],
          "barpolar": [
           {
            "marker": {
             "line": {
              "color": "#E5ECF6",
              "width": 0.5
             },
             "pattern": {
              "fillmode": "overlay",
              "size": 10,
              "solidity": 0.2
             }
            },
            "type": "barpolar"
           }
          ],
          "carpet": [
           {
            "aaxis": {
             "endlinecolor": "#2a3f5f",
             "gridcolor": "white",
             "linecolor": "white",
             "minorgridcolor": "white",
             "startlinecolor": "#2a3f5f"
            },
            "baxis": {
             "endlinecolor": "#2a3f5f",
             "gridcolor": "white",
             "linecolor": "white",
             "minorgridcolor": "white",
             "startlinecolor": "#2a3f5f"
            },
            "type": "carpet"
           }
          ],
          "choropleth": [
           {
            "colorbar": {
             "outlinewidth": 0,
             "ticks": ""
            },
            "type": "choropleth"
           }
          ],
          "contour": [
           {
            "colorbar": {
             "outlinewidth": 0,
             "ticks": ""
            },
            "colorscale": [
             [
              0,
              "#0d0887"
             ],
             [
              0.1111111111111111,
              "#46039f"
             ],
             [
              0.2222222222222222,
              "#7201a8"
             ],
             [
              0.3333333333333333,
              "#9c179e"
             ],
             [
              0.4444444444444444,
              "#bd3786"
             ],
             [
              0.5555555555555556,
              "#d8576b"
             ],
             [
              0.6666666666666666,
              "#ed7953"
             ],
             [
              0.7777777777777778,
              "#fb9f3a"
             ],
             [
              0.8888888888888888,
              "#fdca26"
             ],
             [
              1,
              "#f0f921"
             ]
            ],
            "type": "contour"
           }
          ],
          "contourcarpet": [
           {
            "colorbar": {
             "outlinewidth": 0,
             "ticks": ""
            },
            "type": "contourcarpet"
           }
          ],
          "heatmap": [
           {
            "colorbar": {
             "outlinewidth": 0,
             "ticks": ""
            },
            "colorscale": [
             [
              0,
              "#0d0887"
             ],
             [
              0.1111111111111111,
              "#46039f"
             ],
             [
              0.2222222222222222,
              "#7201a8"
             ],
             [
              0.3333333333333333,
              "#9c179e"
             ],
             [
              0.4444444444444444,
              "#bd3786"
             ],
             [
              0.5555555555555556,
              "#d8576b"
             ],
             [
              0.6666666666666666,
              "#ed7953"
             ],
             [
              0.7777777777777778,
              "#fb9f3a"
             ],
             [
              0.8888888888888888,
              "#fdca26"
             ],
             [
              1,
              "#f0f921"
             ]
            ],
            "type": "heatmap"
           }
          ],
          "heatmapgl": [
           {
            "colorbar": {
             "outlinewidth": 0,
             "ticks": ""
            },
            "colorscale": [
             [
              0,
              "#0d0887"
             ],
             [
              0.1111111111111111,
              "#46039f"
             ],
             [
              0.2222222222222222,
              "#7201a8"
             ],
             [
              0.3333333333333333,
              "#9c179e"
             ],
             [
              0.4444444444444444,
              "#bd3786"
             ],
             [
              0.5555555555555556,
              "#d8576b"
             ],
             [
              0.6666666666666666,
              "#ed7953"
             ],
             [
              0.7777777777777778,
              "#fb9f3a"
             ],
             [
              0.8888888888888888,
              "#fdca26"
             ],
             [
              1,
              "#f0f921"
             ]
            ],
            "type": "heatmapgl"
           }
          ],
          "histogram": [
           {
            "marker": {
             "pattern": {
              "fillmode": "overlay",
              "size": 10,
              "solidity": 0.2
             }
            },
            "type": "histogram"
           }
          ],
          "histogram2d": [
           {
            "colorbar": {
             "outlinewidth": 0,
             "ticks": ""
            },
            "colorscale": [
             [
              0,
              "#0d0887"
             ],
             [
              0.1111111111111111,
              "#46039f"
             ],
             [
              0.2222222222222222,
              "#7201a8"
             ],
             [
              0.3333333333333333,
              "#9c179e"
             ],
             [
              0.4444444444444444,
              "#bd3786"
             ],
             [
              0.5555555555555556,
              "#d8576b"
             ],
             [
              0.6666666666666666,
              "#ed7953"
             ],
             [
              0.7777777777777778,
              "#fb9f3a"
             ],
             [
              0.8888888888888888,
              "#fdca26"
             ],
             [
              1,
              "#f0f921"
             ]
            ],
            "type": "histogram2d"
           }
          ],
          "histogram2dcontour": [
           {
            "colorbar": {
             "outlinewidth": 0,
             "ticks": ""
            },
            "colorscale": [
             [
              0,
              "#0d0887"
             ],
             [
              0.1111111111111111,
              "#46039f"
             ],
             [
              0.2222222222222222,
              "#7201a8"
             ],
             [
              0.3333333333333333,
              "#9c179e"
             ],
             [
              0.4444444444444444,
              "#bd3786"
             ],
             [
              0.5555555555555556,
              "#d8576b"
             ],
             [
              0.6666666666666666,
              "#ed7953"
             ],
             [
              0.7777777777777778,
              "#fb9f3a"
             ],
             [
              0.8888888888888888,
              "#fdca26"
             ],
             [
              1,
              "#f0f921"
             ]
            ],
            "type": "histogram2dcontour"
           }
          ],
          "mesh3d": [
           {
            "colorbar": {
             "outlinewidth": 0,
             "ticks": ""
            },
            "type": "mesh3d"
           }
          ],
          "parcoords": [
           {
            "line": {
             "colorbar": {
              "outlinewidth": 0,
              "ticks": ""
             }
            },
            "type": "parcoords"
           }
          ],
          "pie": [
           {
            "automargin": true,
            "type": "pie"
           }
          ],
          "scatter": [
           {
            "fillpattern": {
             "fillmode": "overlay",
             "size": 10,
             "solidity": 0.2
            },
            "type": "scatter"
           }
          ],
          "scatter3d": [
           {
            "line": {
             "colorbar": {
              "outlinewidth": 0,
              "ticks": ""
             }
            },
            "marker": {
             "colorbar": {
              "outlinewidth": 0,
              "ticks": ""
             }
            },
            "type": "scatter3d"
           }
          ],
          "scattercarpet": [
           {
            "marker": {
             "colorbar": {
              "outlinewidth": 0,
              "ticks": ""
             }
            },
            "type": "scattercarpet"
           }
          ],
          "scattergeo": [
           {
            "marker": {
             "colorbar": {
              "outlinewidth": 0,
              "ticks": ""
             }
            },
            "type": "scattergeo"
           }
          ],
          "scattergl": [
           {
            "marker": {
             "colorbar": {
              "outlinewidth": 0,
              "ticks": ""
             }
            },
            "type": "scattergl"
           }
          ],
          "scattermapbox": [
           {
            "marker": {
             "colorbar": {
              "outlinewidth": 0,
              "ticks": ""
             }
            },
            "type": "scattermapbox"
           }
          ],
          "scatterpolar": [
           {
            "marker": {
             "colorbar": {
              "outlinewidth": 0,
              "ticks": ""
             }
            },
            "type": "scatterpolar"
           }
          ],
          "scatterpolargl": [
           {
            "marker": {
             "colorbar": {
              "outlinewidth": 0,
              "ticks": ""
             }
            },
            "type": "scatterpolargl"
           }
          ],
          "scatterternary": [
           {
            "marker": {
             "colorbar": {
              "outlinewidth": 0,
              "ticks": ""
             }
            },
            "type": "scatterternary"
           }
          ],
          "surface": [
           {
            "colorbar": {
             "outlinewidth": 0,
             "ticks": ""
            },
            "colorscale": [
             [
              0,
              "#0d0887"
             ],
             [
              0.1111111111111111,
              "#46039f"
             ],
             [
              0.2222222222222222,
              "#7201a8"
             ],
             [
              0.3333333333333333,
              "#9c179e"
             ],
             [
              0.4444444444444444,
              "#bd3786"
             ],
             [
              0.5555555555555556,
              "#d8576b"
             ],
             [
              0.6666666666666666,
              "#ed7953"
             ],
             [
              0.7777777777777778,
              "#fb9f3a"
             ],
             [
              0.8888888888888888,
              "#fdca26"
             ],
             [
              1,
              "#f0f921"
             ]
            ],
            "type": "surface"
           }
          ],
          "table": [
           {
            "cells": {
             "fill": {
              "color": "#EBF0F8"
             },
             "line": {
              "color": "white"
             }
            },
            "header": {
             "fill": {
              "color": "#C8D4E3"
             },
             "line": {
              "color": "white"
             }
            },
            "type": "table"
           }
          ]
         },
         "layout": {
          "annotationdefaults": {
           "arrowcolor": "#2a3f5f",
           "arrowhead": 0,
           "arrowwidth": 1
          },
          "autotypenumbers": "strict",
          "coloraxis": {
           "colorbar": {
            "outlinewidth": 0,
            "ticks": ""
           }
          },
          "colorscale": {
           "diverging": [
            [
             0,
             "#8e0152"
            ],
            [
             0.1,
             "#c51b7d"
            ],
            [
             0.2,
             "#de77ae"
            ],
            [
             0.3,
             "#f1b6da"
            ],
            [
             0.4,
             "#fde0ef"
            ],
            [
             0.5,
             "#f7f7f7"
            ],
            [
             0.6,
             "#e6f5d0"
            ],
            [
             0.7,
             "#b8e186"
            ],
            [
             0.8,
             "#7fbc41"
            ],
            [
             0.9,
             "#4d9221"
            ],
            [
             1,
             "#276419"
            ]
           ],
           "sequential": [
            [
             0,
             "#0d0887"
            ],
            [
             0.1111111111111111,
             "#46039f"
            ],
            [
             0.2222222222222222,
             "#7201a8"
            ],
            [
             0.3333333333333333,
             "#9c179e"
            ],
            [
             0.4444444444444444,
             "#bd3786"
            ],
            [
             0.5555555555555556,
             "#d8576b"
            ],
            [
             0.6666666666666666,
             "#ed7953"
            ],
            [
             0.7777777777777778,
             "#fb9f3a"
            ],
            [
             0.8888888888888888,
             "#fdca26"
            ],
            [
             1,
             "#f0f921"
            ]
           ],
           "sequentialminus": [
            [
             0,
             "#0d0887"
            ],
            [
             0.1111111111111111,
             "#46039f"
            ],
            [
             0.2222222222222222,
             "#7201a8"
            ],
            [
             0.3333333333333333,
             "#9c179e"
            ],
            [
             0.4444444444444444,
             "#bd3786"
            ],
            [
             0.5555555555555556,
             "#d8576b"
            ],
            [
             0.6666666666666666,
             "#ed7953"
            ],
            [
             0.7777777777777778,
             "#fb9f3a"
            ],
            [
             0.8888888888888888,
             "#fdca26"
            ],
            [
             1,
             "#f0f921"
            ]
           ]
          },
          "colorway": [
           "#636efa",
           "#EF553B",
           "#00cc96",
           "#ab63fa",
           "#FFA15A",
           "#19d3f3",
           "#FF6692",
           "#B6E880",
           "#FF97FF",
           "#FECB52"
          ],
          "font": {
           "color": "#2a3f5f"
          },
          "geo": {
           "bgcolor": "white",
           "lakecolor": "white",
           "landcolor": "#E5ECF6",
           "showlakes": true,
           "showland": true,
           "subunitcolor": "white"
          },
          "hoverlabel": {
           "align": "left"
          },
          "hovermode": "closest",
          "mapbox": {
           "style": "light"
          },
          "paper_bgcolor": "white",
          "plot_bgcolor": "#E5ECF6",
          "polar": {
           "angularaxis": {
            "gridcolor": "white",
            "linecolor": "white",
            "ticks": ""
           },
           "bgcolor": "#E5ECF6",
           "radialaxis": {
            "gridcolor": "white",
            "linecolor": "white",
            "ticks": ""
           }
          },
          "scene": {
           "xaxis": {
            "backgroundcolor": "#E5ECF6",
            "gridcolor": "white",
            "gridwidth": 2,
            "linecolor": "white",
            "showbackground": true,
            "ticks": "",
            "zerolinecolor": "white"
           },
           "yaxis": {
            "backgroundcolor": "#E5ECF6",
            "gridcolor": "white",
            "gridwidth": 2,
            "linecolor": "white",
            "showbackground": true,
            "ticks": "",
            "zerolinecolor": "white"
           },
           "zaxis": {
            "backgroundcolor": "#E5ECF6",
            "gridcolor": "white",
            "gridwidth": 2,
            "linecolor": "white",
            "showbackground": true,
            "ticks": "",
            "zerolinecolor": "white"
           }
          },
          "shapedefaults": {
           "line": {
            "color": "#2a3f5f"
           }
          },
          "ternary": {
           "aaxis": {
            "gridcolor": "white",
            "linecolor": "white",
            "ticks": ""
           },
           "baxis": {
            "gridcolor": "white",
            "linecolor": "white",
            "ticks": ""
           },
           "bgcolor": "#E5ECF6",
           "caxis": {
            "gridcolor": "white",
            "linecolor": "white",
            "ticks": ""
           }
          },
          "title": {
           "x": 0.05
          },
          "xaxis": {
           "automargin": true,
           "gridcolor": "white",
           "linecolor": "white",
           "ticks": "",
           "title": {
            "standoff": 15
           },
           "zerolinecolor": "white",
           "zerolinewidth": 2
          },
          "yaxis": {
           "automargin": true,
           "gridcolor": "white",
           "linecolor": "white",
           "ticks": "",
           "title": {
            "standoff": 15
           },
           "zerolinecolor": "white",
           "zerolinewidth": 2
          }
         }
        },
        "title": {
         "text": "Figure 5: Number of Listings in Stockholm in 2025 by Area"
        },
        "xaxis": {
         "anchor": "y",
         "domain": [
          0,
          1
         ],
         "title": {
          "text": "Area"
         }
        },
        "yaxis": {
         "anchor": "x",
         "domain": [
          0,
          1
         ],
         "title": {
          "text": "Counts"
         }
        }
       }
      },
      "text/html": [
       "<div>                            <div id=\"06a12cf1-05a3-4068-8353-e462c25ba337\" class=\"plotly-graph-div\" style=\"height:525px; width:100%;\"></div>            <script type=\"text/javascript\">                require([\"plotly\"], function(Plotly) {                    window.PLOTLYENV=window.PLOTLYENV || {};                                    if (document.getElementById(\"06a12cf1-05a3-4068-8353-e462c25ba337\")) {                    Plotly.newPlot(                        \"06a12cf1-05a3-4068-8353-e462c25ba337\",                        [{\"alignmentgroup\":\"True\",\"hovertemplate\":\"Area=%{x}<br>Counts=%{y}<extra></extra>\",\"legendgroup\":\"\",\"marker\":{\"color\":\"#636efa\",\"pattern\":{\"shape\":\"\"}},\"name\":\"\",\"offsetgroup\":\"\",\"orientation\":\"v\",\"showlegend\":false,\"textposition\":\"auto\",\"x\":[\"Sk\\u00e4rholmens\",\"Sp\\u00e5nga-Tensta\",\"Rinkeby-Tensta\",\"H\\u00e4sselby-V\\u00e4llingby\",\"Farsta\",\"\\u00c4lvsj\\u00f6\",\"Skarpn\\u00e4cks\",\"Bromma\",\"\\u00d6stermalms\",\"Enskede-\\u00c5rsta-Vant\\u00f6rs\",\"Kungsholmens\",\"H\\u00e4gersten-Liljeholmens\",\"Norrmalms\",\"S\\u00f6dermalms\"],\"xaxis\":\"x\",\"y\":[98,100,125,167,182,187,286,334,364,468,517,528,550,1317],\"yaxis\":\"y\",\"type\":\"bar\"}],                        {\"template\":{\"data\":{\"histogram2dcontour\":[{\"type\":\"histogram2dcontour\",\"colorbar\":{\"outlinewidth\":0,\"ticks\":\"\"},\"colorscale\":[[0.0,\"#0d0887\"],[0.1111111111111111,\"#46039f\"],[0.2222222222222222,\"#7201a8\"],[0.3333333333333333,\"#9c179e\"],[0.4444444444444444,\"#bd3786\"],[0.5555555555555556,\"#d8576b\"],[0.6666666666666666,\"#ed7953\"],[0.7777777777777778,\"#fb9f3a\"],[0.8888888888888888,\"#fdca26\"],[1.0,\"#f0f921\"]]}],\"choropleth\":[{\"type\":\"choropleth\",\"colorbar\":{\"outlinewidth\":0,\"ticks\":\"\"}}],\"histogram2d\":[{\"type\":\"histogram2d\",\"colorbar\":{\"outlinewidth\":0,\"ticks\":\"\"},\"colorscale\":[[0.0,\"#0d0887\"],[0.1111111111111111,\"#46039f\"],[0.2222222222222222,\"#7201a8\"],[0.3333333333333333,\"#9c179e\"],[0.4444444444444444,\"#bd3786\"],[0.5555555555555556,\"#d8576b\"],[0.6666666666666666,\"#ed7953\"],[0.7777777777777778,\"#fb9f3a\"],[0.8888888888888888,\"#fdca26\"],[1.0,\"#f0f921\"]]}],\"heatmap\":[{\"type\":\"heatmap\",\"colorbar\":{\"outlinewidth\":0,\"ticks\":\"\"},\"colorscale\":[[0.0,\"#0d0887\"],[0.1111111111111111,\"#46039f\"],[0.2222222222222222,\"#7201a8\"],[0.3333333333333333,\"#9c179e\"],[0.4444444444444444,\"#bd3786\"],[0.5555555555555556,\"#d8576b\"],[0.6666666666666666,\"#ed7953\"],[0.7777777777777778,\"#fb9f3a\"],[0.8888888888888888,\"#fdca26\"],[1.0,\"#f0f921\"]]}],\"heatmapgl\":[{\"type\":\"heatmapgl\",\"colorbar\":{\"outlinewidth\":0,\"ticks\":\"\"},\"colorscale\":[[0.0,\"#0d0887\"],[0.1111111111111111,\"#46039f\"],[0.2222222222222222,\"#7201a8\"],[0.3333333333333333,\"#9c179e\"],[0.4444444444444444,\"#bd3786\"],[0.5555555555555556,\"#d8576b\"],[0.6666666666666666,\"#ed7953\"],[0.7777777777777778,\"#fb9f3a\"],[0.8888888888888888,\"#fdca26\"],[1.0,\"#f0f921\"]]}],\"contourcarpet\":[{\"type\":\"contourcarpet\",\"colorbar\":{\"outlinewidth\":0,\"ticks\":\"\"}}],\"contour\":[{\"type\":\"contour\",\"colorbar\":{\"outlinewidth\":0,\"ticks\":\"\"},\"colorscale\":[[0.0,\"#0d0887\"],[0.1111111111111111,\"#46039f\"],[0.2222222222222222,\"#7201a8\"],[0.3333333333333333,\"#9c179e\"],[0.4444444444444444,\"#bd3786\"],[0.5555555555555556,\"#d8576b\"],[0.6666666666666666,\"#ed7953\"],[0.7777777777777778,\"#fb9f3a\"],[0.8888888888888888,\"#fdca26\"],[1.0,\"#f0f921\"]]}],\"surface\":[{\"type\":\"surface\",\"colorbar\":{\"outlinewidth\":0,\"ticks\":\"\"},\"colorscale\":[[0.0,\"#0d0887\"],[0.1111111111111111,\"#46039f\"],[0.2222222222222222,\"#7201a8\"],[0.3333333333333333,\"#9c179e\"],[0.4444444444444444,\"#bd3786\"],[0.5555555555555556,\"#d8576b\"],[0.6666666666666666,\"#ed7953\"],[0.7777777777777778,\"#fb9f3a\"],[0.8888888888888888,\"#fdca26\"],[1.0,\"#f0f921\"]]}],\"mesh3d\":[{\"type\":\"mesh3d\",\"colorbar\":{\"outlinewidth\":0,\"ticks\":\"\"}}],\"scatter\":[{\"fillpattern\":{\"fillmode\":\"overlay\",\"size\":10,\"solidity\":0.2},\"type\":\"scatter\"}],\"parcoords\":[{\"type\":\"parcoords\",\"line\":{\"colorbar\":{\"outlinewidth\":0,\"ticks\":\"\"}}}],\"scatterpolargl\":[{\"type\":\"scatterpolargl\",\"marker\":{\"colorbar\":{\"outlinewidth\":0,\"ticks\":\"\"}}}],\"bar\":[{\"error_x\":{\"color\":\"#2a3f5f\"},\"error_y\":{\"color\":\"#2a3f5f\"},\"marker\":{\"line\":{\"color\":\"#E5ECF6\",\"width\":0.5},\"pattern\":{\"fillmode\":\"overlay\",\"size\":10,\"solidity\":0.2}},\"type\":\"bar\"}],\"scattergeo\":[{\"type\":\"scattergeo\",\"marker\":{\"colorbar\":{\"outlinewidth\":0,\"ticks\":\"\"}}}],\"scatterpolar\":[{\"type\":\"scatterpolar\",\"marker\":{\"colorbar\":{\"outlinewidth\":0,\"ticks\":\"\"}}}],\"histogram\":[{\"marker\":{\"pattern\":{\"fillmode\":\"overlay\",\"size\":10,\"solidity\":0.2}},\"type\":\"histogram\"}],\"scattergl\":[{\"type\":\"scattergl\",\"marker\":{\"colorbar\":{\"outlinewidth\":0,\"ticks\":\"\"}}}],\"scatter3d\":[{\"type\":\"scatter3d\",\"line\":{\"colorbar\":{\"outlinewidth\":0,\"ticks\":\"\"}},\"marker\":{\"colorbar\":{\"outlinewidth\":0,\"ticks\":\"\"}}}],\"scattermapbox\":[{\"type\":\"scattermapbox\",\"marker\":{\"colorbar\":{\"outlinewidth\":0,\"ticks\":\"\"}}}],\"scatterternary\":[{\"type\":\"scatterternary\",\"marker\":{\"colorbar\":{\"outlinewidth\":0,\"ticks\":\"\"}}}],\"scattercarpet\":[{\"type\":\"scattercarpet\",\"marker\":{\"colorbar\":{\"outlinewidth\":0,\"ticks\":\"\"}}}],\"carpet\":[{\"aaxis\":{\"endlinecolor\":\"#2a3f5f\",\"gridcolor\":\"white\",\"linecolor\":\"white\",\"minorgridcolor\":\"white\",\"startlinecolor\":\"#2a3f5f\"},\"baxis\":{\"endlinecolor\":\"#2a3f5f\",\"gridcolor\":\"white\",\"linecolor\":\"white\",\"minorgridcolor\":\"white\",\"startlinecolor\":\"#2a3f5f\"},\"type\":\"carpet\"}],\"table\":[{\"cells\":{\"fill\":{\"color\":\"#EBF0F8\"},\"line\":{\"color\":\"white\"}},\"header\":{\"fill\":{\"color\":\"#C8D4E3\"},\"line\":{\"color\":\"white\"}},\"type\":\"table\"}],\"barpolar\":[{\"marker\":{\"line\":{\"color\":\"#E5ECF6\",\"width\":0.5},\"pattern\":{\"fillmode\":\"overlay\",\"size\":10,\"solidity\":0.2}},\"type\":\"barpolar\"}],\"pie\":[{\"automargin\":true,\"type\":\"pie\"}]},\"layout\":{\"autotypenumbers\":\"strict\",\"colorway\":[\"#636efa\",\"#EF553B\",\"#00cc96\",\"#ab63fa\",\"#FFA15A\",\"#19d3f3\",\"#FF6692\",\"#B6E880\",\"#FF97FF\",\"#FECB52\"],\"font\":{\"color\":\"#2a3f5f\"},\"hovermode\":\"closest\",\"hoverlabel\":{\"align\":\"left\"},\"paper_bgcolor\":\"white\",\"plot_bgcolor\":\"#E5ECF6\",\"polar\":{\"bgcolor\":\"#E5ECF6\",\"angularaxis\":{\"gridcolor\":\"white\",\"linecolor\":\"white\",\"ticks\":\"\"},\"radialaxis\":{\"gridcolor\":\"white\",\"linecolor\":\"white\",\"ticks\":\"\"}},\"ternary\":{\"bgcolor\":\"#E5ECF6\",\"aaxis\":{\"gridcolor\":\"white\",\"linecolor\":\"white\",\"ticks\":\"\"},\"baxis\":{\"gridcolor\":\"white\",\"linecolor\":\"white\",\"ticks\":\"\"},\"caxis\":{\"gridcolor\":\"white\",\"linecolor\":\"white\",\"ticks\":\"\"}},\"coloraxis\":{\"colorbar\":{\"outlinewidth\":0,\"ticks\":\"\"}},\"colorscale\":{\"sequential\":[[0.0,\"#0d0887\"],[0.1111111111111111,\"#46039f\"],[0.2222222222222222,\"#7201a8\"],[0.3333333333333333,\"#9c179e\"],[0.4444444444444444,\"#bd3786\"],[0.5555555555555556,\"#d8576b\"],[0.6666666666666666,\"#ed7953\"],[0.7777777777777778,\"#fb9f3a\"],[0.8888888888888888,\"#fdca26\"],[1.0,\"#f0f921\"]],\"sequentialminus\":[[0.0,\"#0d0887\"],[0.1111111111111111,\"#46039f\"],[0.2222222222222222,\"#7201a8\"],[0.3333333333333333,\"#9c179e\"],[0.4444444444444444,\"#bd3786\"],[0.5555555555555556,\"#d8576b\"],[0.6666666666666666,\"#ed7953\"],[0.7777777777777778,\"#fb9f3a\"],[0.8888888888888888,\"#fdca26\"],[1.0,\"#f0f921\"]],\"diverging\":[[0,\"#8e0152\"],[0.1,\"#c51b7d\"],[0.2,\"#de77ae\"],[0.3,\"#f1b6da\"],[0.4,\"#fde0ef\"],[0.5,\"#f7f7f7\"],[0.6,\"#e6f5d0\"],[0.7,\"#b8e186\"],[0.8,\"#7fbc41\"],[0.9,\"#4d9221\"],[1,\"#276419\"]]},\"xaxis\":{\"gridcolor\":\"white\",\"linecolor\":\"white\",\"ticks\":\"\",\"title\":{\"standoff\":15},\"zerolinecolor\":\"white\",\"automargin\":true,\"zerolinewidth\":2},\"yaxis\":{\"gridcolor\":\"white\",\"linecolor\":\"white\",\"ticks\":\"\",\"title\":{\"standoff\":15},\"zerolinecolor\":\"white\",\"automargin\":true,\"zerolinewidth\":2},\"scene\":{\"xaxis\":{\"backgroundcolor\":\"#E5ECF6\",\"gridcolor\":\"white\",\"linecolor\":\"white\",\"showbackground\":true,\"ticks\":\"\",\"zerolinecolor\":\"white\",\"gridwidth\":2},\"yaxis\":{\"backgroundcolor\":\"#E5ECF6\",\"gridcolor\":\"white\",\"linecolor\":\"white\",\"showbackground\":true,\"ticks\":\"\",\"zerolinecolor\":\"white\",\"gridwidth\":2},\"zaxis\":{\"backgroundcolor\":\"#E5ECF6\",\"gridcolor\":\"white\",\"linecolor\":\"white\",\"showbackground\":true,\"ticks\":\"\",\"zerolinecolor\":\"white\",\"gridwidth\":2}},\"shapedefaults\":{\"line\":{\"color\":\"#2a3f5f\"}},\"annotationdefaults\":{\"arrowcolor\":\"#2a3f5f\",\"arrowhead\":0,\"arrowwidth\":1},\"geo\":{\"bgcolor\":\"white\",\"landcolor\":\"#E5ECF6\",\"subunitcolor\":\"white\",\"showland\":true,\"showlakes\":true,\"lakecolor\":\"white\"},\"title\":{\"x\":0.05},\"mapbox\":{\"style\":\"light\"}}},\"xaxis\":{\"anchor\":\"y\",\"domain\":[0.0,1.0],\"title\":{\"text\":\"Area\"}},\"yaxis\":{\"anchor\":\"x\",\"domain\":[0.0,1.0],\"title\":{\"text\":\"Counts\"}},\"legend\":{\"tracegroupgap\":0},\"title\":{\"text\":\"Figure 5: Number of Listings in Stockholm in 2025 by Area\"},\"barmode\":\"relative\"},                        {\"responsive\": true}                    ).then(function(){\n",
       "                            \n",
       "var gd = document.getElementById('06a12cf1-05a3-4068-8353-e462c25ba337');\n",
       "var x = new MutationObserver(function (mutations, observer) {{\n",
       "        var display = window.getComputedStyle(gd).display;\n",
       "        if (!display || display === 'none') {{\n",
       "            console.log([gd, 'removed!']);\n",
       "            Plotly.purge(gd);\n",
       "            observer.disconnect();\n",
       "        }}\n",
       "}});\n",
       "\n",
       "// Listen for the removal of the full notebook cells\n",
       "var notebookContainer = gd.closest('#notebook-container');\n",
       "if (notebookContainer) {{\n",
       "    x.observe(notebookContainer, {childList: true});\n",
       "}}\n",
       "\n",
       "// Listen for the clearing of the current output cell\n",
       "var outputEl = gd.closest('.output');\n",
       "if (outputEl) {{\n",
       "    x.observe(outputEl, {childList: true});\n",
       "}}\n",
       "\n",
       "                        })                };                });            </script>        </div>"
      ]
     },
     "metadata": {},
     "output_type": "display_data"
    }
   ],
   "source": [
    "by_area = listings.groupby('neighbourhood').count()[['id']].sort_values('id', ascending= True)\n",
    "by_area = by_area.reset_index()\n",
    "fig5 = px.bar(by_area, x = 'neighbourhood', y = 'id', title= 'Figure 5: Number of Listings in Stockholm in 2025 by Area',\n",
    "              labels = {'neighbourhood': 'Area', 'id': 'Counts'})\n",
    "fig5.show()"
   ]
  },
  {
   "cell_type": "markdown",
   "metadata": {},
   "source": [
    "The minimum price per night is \\$ 105 and the maximum price per night is up to \\$ 500000, which makes the initial visualization not very comprehensible. Thus, I removed some outliers whose price per night is greater than $ 10000, and this lead to a removal of 25 listings, which accounts for less than 1% of the listings in Stockholm.\n",
    "\n",
    "As what is shown in *Figure 5*, the median price per night in each area does not differ much but some areas, such as Sodermalms and Norrmalms see a considerable number of listings whose price is much higher than the average. "
   ]
  },
  {
   "cell_type": "code",
   "execution_count": 69,
   "metadata": {},
   "outputs": [
    {
     "data": {
      "application/vnd.plotly.v1+json": {
       "config": {
        "plotlyServerURL": "https://plot.ly"
       },
       "data": [
        {
         "alignmentgroup": "True",
         "hovertemplate": "Area=%{x}<br>Price=%{y}<extra></extra>",
         "legendgroup": "",
         "marker": {
          "color": "#636efa"
         },
         "name": "",
         "notched": false,
         "offsetgroup": "",
         "orientation": "v",
         "showlegend": false,
         "type": "box",
         "x": [
          "Södermalms",
          "Kungsholmens",
          "Norrmalms",
          "Södermalms",
          "Södermalms",
          "Södermalms",
          "Älvsjö",
          "Norrmalms",
          "Norrmalms",
          "Södermalms",
          "Skarpnäcks",
          "Enskede-Årsta-Vantörs",
          "Enskede-Årsta-Vantörs",
          "Södermalms",
          "Hägersten-Liljeholmens",
          "Skarpnäcks",
          "Norrmalms",
          "Bromma",
          "Hägersten-Liljeholmens",
          "Kungsholmens",
          "Östermalms",
          "Skarpnäcks",
          "Södermalms",
          "Kungsholmens",
          "Norrmalms",
          "Norrmalms",
          "Kungsholmens",
          "Norrmalms",
          "Östermalms",
          "Hägersten-Liljeholmens",
          "Norrmalms",
          "Kungsholmens",
          "Skärholmens",
          "Norrmalms",
          "Östermalms",
          "Södermalms",
          "Enskede-Årsta-Vantörs",
          "Skärholmens",
          "Södermalms",
          "Kungsholmens",
          "Skarpnäcks",
          "Älvsjö",
          "Enskede-Årsta-Vantörs",
          "Södermalms",
          "Kungsholmens",
          "Östermalms",
          "Hägersten-Liljeholmens",
          "Norrmalms",
          "Enskede-Årsta-Vantörs",
          "Norrmalms",
          "Enskede-Årsta-Vantörs",
          "Östermalms",
          "Norrmalms",
          "Kungsholmens",
          "Norrmalms",
          "Södermalms",
          "Östermalms",
          "Hägersten-Liljeholmens",
          "Södermalms",
          "Skarpnäcks",
          "Kungsholmens",
          "Skarpnäcks",
          "Skarpnäcks",
          "Skärholmens",
          "Hägersten-Liljeholmens",
          "Hägersten-Liljeholmens",
          "Södermalms",
          "Södermalms",
          "Södermalms",
          "Södermalms",
          "Södermalms",
          "Södermalms",
          "Södermalms",
          "Älvsjö",
          "Älvsjö",
          "Skärholmens",
          "Skärholmens",
          "Hägersten-Liljeholmens",
          "Norrmalms",
          "Enskede-Årsta-Vantörs",
          "Södermalms",
          "Södermalms",
          "Norrmalms",
          "Kungsholmens",
          "Norrmalms",
          "Bromma",
          "Södermalms",
          "Enskede-Årsta-Vantörs",
          "Hägersten-Liljeholmens",
          "Kungsholmens",
          "Skarpnäcks",
          "Farsta",
          "Östermalms",
          "Södermalms",
          "Södermalms",
          "Bromma",
          "Farsta",
          "Bromma",
          "Norrmalms",
          "Enskede-Årsta-Vantörs",
          "Södermalms",
          "Södermalms",
          "Älvsjö",
          "Norrmalms",
          "Hägersten-Liljeholmens",
          "Farsta",
          "Hägersten-Liljeholmens",
          "Bromma",
          "Södermalms",
          "Norrmalms",
          "Södermalms",
          "Norrmalms",
          "Södermalms",
          "Enskede-Årsta-Vantörs",
          "Södermalms",
          "Kungsholmens",
          "Kungsholmens",
          "Södermalms",
          "Älvsjö",
          "Kungsholmens",
          "Enskede-Årsta-Vantörs",
          "Södermalms",
          "Södermalms",
          "Skarpnäcks",
          "Hägersten-Liljeholmens",
          "Södermalms",
          "Södermalms",
          "Norrmalms",
          "Norrmalms",
          "Östermalms",
          "Älvsjö",
          "Hägersten-Liljeholmens",
          "Norrmalms",
          "Skarpnäcks",
          "Kungsholmens",
          "Enskede-Årsta-Vantörs",
          "Älvsjö",
          "Farsta",
          "Bromma",
          "Södermalms",
          "Kungsholmens",
          "Kungsholmens",
          "Älvsjö",
          "Östermalms",
          "Norrmalms",
          "Södermalms",
          "Norrmalms",
          "Skarpnäcks",
          "Enskede-Årsta-Vantörs",
          "Bromma",
          "Farsta",
          "Södermalms",
          "Skärholmens",
          "Hässelby-Vällingby",
          "Norrmalms",
          "Östermalms",
          "Skarpnäcks",
          "Södermalms",
          "Hägersten-Liljeholmens",
          "Östermalms",
          "Södermalms",
          "Skärholmens",
          "Norrmalms",
          "Älvsjö",
          "Bromma",
          "Kungsholmens",
          "Hägersten-Liljeholmens",
          "Skarpnäcks",
          "Skarpnäcks",
          "Skarpnäcks",
          "Skarpnäcks",
          "Norrmalms",
          "Södermalms",
          "Hägersten-Liljeholmens",
          "Södermalms",
          "Östermalms",
          "Enskede-Årsta-Vantörs",
          "Hässelby-Vällingby",
          "Norrmalms",
          "Bromma",
          "Kungsholmens",
          "Kungsholmens",
          "Hägersten-Liljeholmens",
          "Enskede-Årsta-Vantörs",
          "Skarpnäcks",
          "Skarpnäcks",
          "Bromma",
          "Norrmalms",
          "Farsta",
          "Skarpnäcks",
          "Farsta",
          "Hägersten-Liljeholmens",
          "Norrmalms",
          "Södermalms",
          "Södermalms",
          "Södermalms",
          "Södermalms",
          "Hägersten-Liljeholmens",
          "Östermalms",
          "Hägersten-Liljeholmens",
          "Skarpnäcks",
          "Södermalms",
          "Södermalms",
          "Skärholmens",
          "Farsta",
          "Skärholmens",
          "Östermalms",
          "Farsta",
          "Hägersten-Liljeholmens",
          "Södermalms",
          "Södermalms",
          "Östermalms",
          "Södermalms",
          "Södermalms",
          "Norrmalms",
          "Bromma",
          "Norrmalms",
          "Södermalms",
          "Enskede-Årsta-Vantörs",
          "Bromma",
          "Hägersten-Liljeholmens",
          "Kungsholmens",
          "Farsta",
          "Södermalms",
          "Norrmalms",
          "Södermalms",
          "Norrmalms",
          "Södermalms",
          "Spånga-Tensta",
          "Hässelby-Vällingby",
          "Hägersten-Liljeholmens",
          "Hägersten-Liljeholmens",
          "Södermalms",
          "Hägersten-Liljeholmens",
          "Östermalms",
          "Skärholmens",
          "Hässelby-Vällingby",
          "Södermalms",
          "Södermalms",
          "Södermalms",
          "Norrmalms",
          "Södermalms",
          "Norrmalms",
          "Älvsjö",
          "Hässelby-Vällingby",
          "Kungsholmens",
          "Östermalms",
          "Östermalms",
          "Hägersten-Liljeholmens",
          "Södermalms",
          "Östermalms",
          "Södermalms",
          "Södermalms",
          "Östermalms",
          "Östermalms",
          "Bromma",
          "Hägersten-Liljeholmens",
          "Bromma",
          "Norrmalms",
          "Södermalms",
          "Södermalms",
          "Södermalms",
          "Enskede-Årsta-Vantörs",
          "Södermalms",
          "Hägersten-Liljeholmens",
          "Enskede-Årsta-Vantörs",
          "Södermalms",
          "Enskede-Årsta-Vantörs",
          "Spånga-Tensta",
          "Östermalms",
          "Kungsholmens",
          "Norrmalms",
          "Kungsholmens",
          "Enskede-Årsta-Vantörs",
          "Södermalms",
          "Rinkeby-Tensta",
          "Enskede-Årsta-Vantörs",
          "Hägersten-Liljeholmens",
          "Hägersten-Liljeholmens",
          "Södermalms",
          "Södermalms",
          "Skarpnäcks",
          "Rinkeby-Tensta",
          "Kungsholmens",
          "Spånga-Tensta",
          "Enskede-Årsta-Vantörs",
          "Södermalms",
          "Farsta",
          "Rinkeby-Tensta",
          "Hägersten-Liljeholmens",
          "Rinkeby-Tensta",
          "Farsta",
          "Hägersten-Liljeholmens",
          "Hägersten-Liljeholmens",
          "Skarpnäcks",
          "Norrmalms",
          "Södermalms",
          "Södermalms",
          "Älvsjö",
          "Hägersten-Liljeholmens",
          "Södermalms",
          "Östermalms",
          "Skarpnäcks",
          "Hägersten-Liljeholmens",
          "Södermalms",
          "Östermalms",
          "Spånga-Tensta",
          "Skärholmens",
          "Skärholmens",
          "Södermalms",
          "Älvsjö",
          "Rinkeby-Tensta",
          "Södermalms",
          "Östermalms",
          "Farsta",
          "Kungsholmens",
          "Rinkeby-Tensta",
          "Spånga-Tensta",
          "Enskede-Årsta-Vantörs",
          "Kungsholmens",
          "Enskede-Årsta-Vantörs",
          "Enskede-Årsta-Vantörs",
          "Bromma",
          "Enskede-Årsta-Vantörs",
          "Enskede-Årsta-Vantörs",
          "Bromma",
          "Skarpnäcks",
          "Södermalms",
          "Enskede-Årsta-Vantörs",
          "Norrmalms",
          "Bromma",
          "Kungsholmens",
          "Kungsholmens",
          "Södermalms",
          "Bromma",
          "Södermalms",
          "Hässelby-Vällingby",
          "Södermalms",
          "Kungsholmens",
          "Södermalms",
          "Bromma",
          "Skarpnäcks",
          "Skarpnäcks",
          "Bromma",
          "Enskede-Årsta-Vantörs",
          "Hägersten-Liljeholmens",
          "Södermalms",
          "Hässelby-Vällingby",
          "Södermalms",
          "Norrmalms",
          "Södermalms",
          "Södermalms",
          "Kungsholmens",
          "Kungsholmens",
          "Södermalms",
          "Södermalms",
          "Enskede-Årsta-Vantörs",
          "Kungsholmens",
          "Södermalms",
          "Spånga-Tensta",
          "Kungsholmens",
          "Östermalms",
          "Södermalms",
          "Spånga-Tensta",
          "Södermalms",
          "Kungsholmens",
          "Södermalms",
          "Södermalms",
          "Bromma",
          "Södermalms",
          "Spånga-Tensta",
          "Skarpnäcks",
          "Hägersten-Liljeholmens",
          "Östermalms",
          "Bromma",
          "Södermalms",
          "Hässelby-Vällingby",
          "Hägersten-Liljeholmens",
          "Enskede-Årsta-Vantörs",
          "Södermalms",
          "Enskede-Årsta-Vantörs",
          "Norrmalms",
          "Södermalms",
          "Bromma",
          "Bromma",
          "Hägersten-Liljeholmens",
          "Kungsholmens",
          "Södermalms",
          "Södermalms",
          "Hägersten-Liljeholmens",
          "Norrmalms",
          "Hägersten-Liljeholmens",
          "Hägersten-Liljeholmens",
          "Hägersten-Liljeholmens",
          "Södermalms",
          "Norrmalms",
          "Bromma",
          "Södermalms",
          "Kungsholmens",
          "Skarpnäcks",
          "Farsta",
          "Enskede-Årsta-Vantörs",
          "Södermalms",
          "Farsta",
          "Spånga-Tensta",
          "Södermalms",
          "Norrmalms",
          "Skarpnäcks",
          "Farsta",
          "Södermalms",
          "Södermalms",
          "Norrmalms",
          "Södermalms",
          "Skärholmens",
          "Kungsholmens",
          "Farsta",
          "Skarpnäcks",
          "Enskede-Årsta-Vantörs",
          "Östermalms",
          "Södermalms",
          "Östermalms",
          "Norrmalms",
          "Rinkeby-Tensta",
          "Södermalms",
          "Hägersten-Liljeholmens",
          "Enskede-Årsta-Vantörs",
          "Bromma",
          "Södermalms",
          "Enskede-Årsta-Vantörs",
          "Enskede-Årsta-Vantörs",
          "Hägersten-Liljeholmens",
          "Hägersten-Liljeholmens",
          "Bromma",
          "Norrmalms",
          "Södermalms",
          "Södermalms",
          "Södermalms",
          "Enskede-Årsta-Vantörs",
          "Hässelby-Vällingby",
          "Skarpnäcks",
          "Bromma",
          "Södermalms",
          "Enskede-Årsta-Vantörs",
          "Kungsholmens",
          "Enskede-Årsta-Vantörs",
          "Södermalms",
          "Bromma",
          "Södermalms",
          "Kungsholmens",
          "Norrmalms",
          "Älvsjö",
          "Södermalms",
          "Hägersten-Liljeholmens",
          "Södermalms",
          "Södermalms",
          "Kungsholmens",
          "Enskede-Årsta-Vantörs",
          "Älvsjö",
          "Östermalms",
          "Kungsholmens",
          "Södermalms",
          "Södermalms",
          "Norrmalms",
          "Södermalms",
          "Bromma",
          "Bromma",
          "Östermalms",
          "Södermalms",
          "Södermalms",
          "Östermalms",
          "Kungsholmens",
          "Spånga-Tensta",
          "Södermalms",
          "Älvsjö",
          "Älvsjö",
          "Kungsholmens",
          "Kungsholmens",
          "Södermalms",
          "Norrmalms",
          "Spånga-Tensta",
          "Södermalms",
          "Östermalms",
          "Kungsholmens",
          "Älvsjö",
          "Södermalms",
          "Östermalms",
          "Skarpnäcks",
          "Bromma",
          "Södermalms",
          "Hässelby-Vällingby",
          "Enskede-Årsta-Vantörs",
          "Skärholmens",
          "Bromma",
          "Södermalms",
          "Farsta",
          "Rinkeby-Tensta",
          "Södermalms",
          "Skärholmens",
          "Enskede-Årsta-Vantörs",
          "Södermalms",
          "Bromma",
          "Farsta",
          "Östermalms",
          "Södermalms",
          "Bromma",
          "Hägersten-Liljeholmens",
          "Hägersten-Liljeholmens",
          "Södermalms",
          "Skarpnäcks",
          "Hässelby-Vällingby",
          "Enskede-Årsta-Vantörs",
          "Kungsholmens",
          "Hägersten-Liljeholmens",
          "Södermalms",
          "Södermalms",
          "Farsta",
          "Kungsholmens",
          "Södermalms",
          "Enskede-Årsta-Vantörs",
          "Kungsholmens",
          "Skarpnäcks",
          "Skarpnäcks",
          "Södermalms",
          "Norrmalms",
          "Södermalms",
          "Kungsholmens",
          "Bromma",
          "Bromma",
          "Kungsholmens",
          "Skärholmens",
          "Älvsjö",
          "Farsta",
          "Hässelby-Vällingby",
          "Enskede-Årsta-Vantörs",
          "Enskede-Årsta-Vantörs",
          "Norrmalms",
          "Skarpnäcks",
          "Bromma",
          "Södermalms",
          "Södermalms",
          "Norrmalms",
          "Östermalms",
          "Hässelby-Vällingby",
          "Södermalms",
          "Hägersten-Liljeholmens",
          "Södermalms",
          "Skarpnäcks",
          "Skarpnäcks",
          "Norrmalms",
          "Spånga-Tensta",
          "Hägersten-Liljeholmens",
          "Enskede-Årsta-Vantörs",
          "Östermalms",
          "Östermalms",
          "Södermalms",
          "Enskede-Årsta-Vantörs",
          "Älvsjö",
          "Hässelby-Vällingby",
          "Norrmalms",
          "Skarpnäcks",
          "Östermalms",
          "Östermalms",
          "Skarpnäcks",
          "Södermalms",
          "Hägersten-Liljeholmens",
          "Hässelby-Vällingby",
          "Södermalms",
          "Södermalms",
          "Hägersten-Liljeholmens",
          "Skarpnäcks",
          "Södermalms",
          "Norrmalms",
          "Skarpnäcks",
          "Södermalms",
          "Skarpnäcks",
          "Södermalms",
          "Södermalms",
          "Norrmalms",
          "Södermalms",
          "Södermalms",
          "Kungsholmens",
          "Kungsholmens",
          "Södermalms",
          "Södermalms",
          "Södermalms",
          "Södermalms",
          "Norrmalms",
          "Kungsholmens",
          "Enskede-Årsta-Vantörs",
          "Södermalms",
          "Hägersten-Liljeholmens",
          "Kungsholmens",
          "Skärholmens",
          "Älvsjö",
          "Älvsjö",
          "Södermalms",
          "Östermalms",
          "Södermalms",
          "Enskede-Årsta-Vantörs",
          "Bromma",
          "Norrmalms",
          "Hägersten-Liljeholmens",
          "Södermalms",
          "Södermalms",
          "Södermalms",
          "Hägersten-Liljeholmens",
          "Farsta",
          "Södermalms",
          "Östermalms",
          "Östermalms",
          "Kungsholmens",
          "Bromma",
          "Södermalms",
          "Södermalms",
          "Södermalms",
          "Östermalms",
          "Södermalms",
          "Södermalms",
          "Östermalms",
          "Södermalms",
          "Kungsholmens",
          "Kungsholmens",
          "Skarpnäcks",
          "Kungsholmens",
          "Kungsholmens",
          "Kungsholmens",
          "Kungsholmens",
          "Kungsholmens",
          "Enskede-Årsta-Vantörs",
          "Södermalms",
          "Södermalms",
          "Rinkeby-Tensta",
          "Södermalms",
          "Södermalms",
          "Östermalms",
          "Södermalms",
          "Bromma",
          "Älvsjö",
          "Älvsjö",
          "Älvsjö",
          "Södermalms",
          "Södermalms",
          "Södermalms",
          "Kungsholmens",
          "Södermalms",
          "Södermalms",
          "Södermalms",
          "Södermalms",
          "Enskede-Årsta-Vantörs",
          "Bromma",
          "Skarpnäcks",
          "Södermalms",
          "Kungsholmens",
          "Bromma",
          "Södermalms",
          "Enskede-Årsta-Vantörs",
          "Södermalms",
          "Södermalms",
          "Södermalms",
          "Bromma",
          "Södermalms",
          "Kungsholmens",
          "Bromma",
          "Södermalms",
          "Enskede-Årsta-Vantörs",
          "Norrmalms",
          "Kungsholmens",
          "Kungsholmens",
          "Hägersten-Liljeholmens",
          "Norrmalms",
          "Hägersten-Liljeholmens",
          "Enskede-Årsta-Vantörs",
          "Östermalms",
          "Södermalms",
          "Hägersten-Liljeholmens",
          "Rinkeby-Tensta",
          "Farsta",
          "Södermalms",
          "Södermalms",
          "Bromma",
          "Skarpnäcks",
          "Enskede-Årsta-Vantörs",
          "Södermalms",
          "Norrmalms",
          "Södermalms",
          "Bromma",
          "Bromma",
          "Skärholmens",
          "Farsta",
          "Hägersten-Liljeholmens",
          "Kungsholmens",
          "Södermalms",
          "Bromma",
          "Kungsholmens",
          "Södermalms",
          "Älvsjö",
          "Södermalms",
          "Norrmalms",
          "Södermalms",
          "Norrmalms",
          "Södermalms",
          "Bromma",
          "Kungsholmens",
          "Älvsjö",
          "Älvsjö",
          "Bromma",
          "Kungsholmens",
          "Älvsjö",
          "Södermalms",
          "Hägersten-Liljeholmens",
          "Östermalms",
          "Södermalms",
          "Södermalms",
          "Södermalms",
          "Norrmalms",
          "Älvsjö",
          "Södermalms",
          "Södermalms",
          "Södermalms",
          "Hägersten-Liljeholmens",
          "Älvsjö",
          "Enskede-Årsta-Vantörs",
          "Hägersten-Liljeholmens",
          "Hässelby-Vällingby",
          "Skarpnäcks",
          "Södermalms",
          "Hägersten-Liljeholmens",
          "Farsta",
          "Norrmalms",
          "Södermalms",
          "Södermalms",
          "Södermalms",
          "Hägersten-Liljeholmens",
          "Södermalms",
          "Norrmalms",
          "Hägersten-Liljeholmens",
          "Hägersten-Liljeholmens",
          "Kungsholmens",
          "Södermalms",
          "Södermalms",
          "Södermalms",
          "Södermalms",
          "Farsta",
          "Farsta",
          "Skärholmens",
          "Hässelby-Vällingby",
          "Södermalms",
          "Södermalms",
          "Enskede-Årsta-Vantörs",
          "Älvsjö",
          "Hägersten-Liljeholmens",
          "Södermalms",
          "Södermalms",
          "Bromma",
          "Norrmalms",
          "Norrmalms",
          "Norrmalms",
          "Norrmalms",
          "Norrmalms",
          "Norrmalms",
          "Norrmalms",
          "Norrmalms",
          "Enskede-Årsta-Vantörs",
          "Hägersten-Liljeholmens",
          "Enskede-Årsta-Vantörs",
          "Södermalms",
          "Södermalms",
          "Kungsholmens",
          "Södermalms",
          "Hägersten-Liljeholmens",
          "Farsta",
          "Rinkeby-Tensta",
          "Bromma",
          "Södermalms",
          "Hässelby-Vällingby",
          "Östermalms",
          "Kungsholmens",
          "Södermalms",
          "Enskede-Årsta-Vantörs",
          "Norrmalms",
          "Bromma",
          "Södermalms",
          "Skarpnäcks",
          "Södermalms",
          "Kungsholmens",
          "Södermalms",
          "Hägersten-Liljeholmens",
          "Södermalms",
          "Hägersten-Liljeholmens",
          "Södermalms",
          "Hässelby-Vällingby",
          "Skarpnäcks",
          "Norrmalms",
          "Södermalms",
          "Södermalms",
          "Norrmalms",
          "Farsta",
          "Kungsholmens",
          "Kungsholmens",
          "Skärholmens",
          "Södermalms",
          "Östermalms",
          "Enskede-Årsta-Vantörs",
          "Södermalms",
          "Norrmalms",
          "Södermalms",
          "Södermalms",
          "Norrmalms",
          "Södermalms",
          "Farsta",
          "Södermalms",
          "Östermalms",
          "Norrmalms",
          "Södermalms",
          "Östermalms",
          "Kungsholmens",
          "Kungsholmens",
          "Hägersten-Liljeholmens",
          "Kungsholmens",
          "Skärholmens",
          "Hägersten-Liljeholmens",
          "Södermalms",
          "Kungsholmens",
          "Södermalms",
          "Södermalms",
          "Södermalms",
          "Södermalms",
          "Södermalms",
          "Södermalms",
          "Södermalms",
          "Hägersten-Liljeholmens",
          "Södermalms",
          "Kungsholmens",
          "Södermalms",
          "Rinkeby-Tensta",
          "Södermalms",
          "Enskede-Årsta-Vantörs",
          "Hägersten-Liljeholmens",
          "Farsta",
          "Kungsholmens",
          "Kungsholmens",
          "Kungsholmens",
          "Älvsjö",
          "Älvsjö",
          "Norrmalms",
          "Skarpnäcks",
          "Södermalms",
          "Södermalms",
          "Kungsholmens",
          "Kungsholmens",
          "Enskede-Årsta-Vantörs",
          "Rinkeby-Tensta",
          "Rinkeby-Tensta",
          "Rinkeby-Tensta",
          "Östermalms",
          "Skarpnäcks",
          "Spånga-Tensta",
          "Södermalms",
          "Farsta",
          "Hässelby-Vällingby",
          "Södermalms",
          "Södermalms",
          "Södermalms",
          "Hägersten-Liljeholmens",
          "Hässelby-Vällingby",
          "Skarpnäcks",
          "Enskede-Årsta-Vantörs",
          "Bromma",
          "Farsta",
          "Enskede-Årsta-Vantörs",
          "Skarpnäcks",
          "Enskede-Årsta-Vantörs",
          "Enskede-Årsta-Vantörs",
          "Enskede-Årsta-Vantörs",
          "Kungsholmens",
          "Hägersten-Liljeholmens",
          "Hägersten-Liljeholmens",
          "Farsta",
          "Södermalms",
          "Enskede-Årsta-Vantörs",
          "Östermalms",
          "Älvsjö",
          "Farsta",
          "Södermalms",
          "Skärholmens",
          "Hässelby-Vällingby",
          "Kungsholmens",
          "Rinkeby-Tensta",
          "Norrmalms",
          "Hägersten-Liljeholmens",
          "Norrmalms",
          "Södermalms",
          "Enskede-Årsta-Vantörs",
          "Enskede-Årsta-Vantörs",
          "Kungsholmens",
          "Södermalms",
          "Södermalms",
          "Skarpnäcks",
          "Norrmalms",
          "Hässelby-Vällingby",
          "Hässelby-Vällingby",
          "Hässelby-Vällingby",
          "Enskede-Årsta-Vantörs",
          "Bromma",
          "Södermalms",
          "Hägersten-Liljeholmens",
          "Södermalms",
          "Södermalms",
          "Bromma",
          "Spånga-Tensta",
          "Norrmalms",
          "Hägersten-Liljeholmens",
          "Norrmalms",
          "Bromma",
          "Södermalms",
          "Skarpnäcks",
          "Enskede-Årsta-Vantörs",
          "Skarpnäcks",
          "Bromma",
          "Farsta",
          "Södermalms",
          "Norrmalms",
          "Rinkeby-Tensta",
          "Hägersten-Liljeholmens",
          "Rinkeby-Tensta",
          "Södermalms",
          "Södermalms",
          "Rinkeby-Tensta",
          "Södermalms",
          "Södermalms",
          "Bromma",
          "Södermalms",
          "Hägersten-Liljeholmens",
          "Södermalms",
          "Södermalms",
          "Norrmalms",
          "Norrmalms",
          "Rinkeby-Tensta",
          "Norrmalms",
          "Norrmalms",
          "Enskede-Årsta-Vantörs",
          "Kungsholmens",
          "Södermalms",
          "Östermalms",
          "Hässelby-Vällingby",
          "Södermalms",
          "Södermalms",
          "Skarpnäcks",
          "Södermalms",
          "Enskede-Årsta-Vantörs",
          "Norrmalms",
          "Södermalms",
          "Hässelby-Vällingby",
          "Södermalms",
          "Farsta",
          "Södermalms",
          "Östermalms",
          "Södermalms",
          "Södermalms",
          "Norrmalms",
          "Hägersten-Liljeholmens",
          "Skarpnäcks",
          "Skarpnäcks",
          "Kungsholmens",
          "Hägersten-Liljeholmens",
          "Södermalms",
          "Södermalms",
          "Östermalms",
          "Södermalms",
          "Östermalms",
          "Spånga-Tensta",
          "Älvsjö",
          "Östermalms",
          "Södermalms",
          "Södermalms",
          "Spånga-Tensta",
          "Kungsholmens",
          "Södermalms",
          "Södermalms",
          "Södermalms",
          "Södermalms",
          "Skärholmens",
          "Bromma",
          "Bromma",
          "Älvsjö",
          "Bromma",
          "Hässelby-Vällingby",
          "Norrmalms",
          "Spånga-Tensta",
          "Bromma",
          "Skarpnäcks",
          "Södermalms",
          "Södermalms",
          "Norrmalms",
          "Kungsholmens",
          "Norrmalms",
          "Enskede-Årsta-Vantörs",
          "Södermalms",
          "Norrmalms",
          "Södermalms",
          "Bromma",
          "Norrmalms",
          "Norrmalms",
          "Rinkeby-Tensta",
          "Norrmalms",
          "Norrmalms",
          "Bromma",
          "Kungsholmens",
          "Södermalms",
          "Östermalms",
          "Södermalms",
          "Östermalms",
          "Södermalms",
          "Enskede-Årsta-Vantörs",
          "Enskede-Årsta-Vantörs",
          "Hägersten-Liljeholmens",
          "Norrmalms",
          "Rinkeby-Tensta",
          "Södermalms",
          "Kungsholmens",
          "Södermalms",
          "Södermalms",
          "Södermalms",
          "Södermalms",
          "Södermalms",
          "Hägersten-Liljeholmens",
          "Kungsholmens",
          "Norrmalms",
          "Södermalms",
          "Södermalms",
          "Södermalms",
          "Södermalms",
          "Södermalms",
          "Södermalms",
          "Södermalms",
          "Södermalms",
          "Södermalms",
          "Södermalms",
          "Södermalms",
          "Södermalms",
          "Södermalms",
          "Södermalms",
          "Södermalms",
          "Södermalms",
          "Södermalms",
          "Södermalms",
          "Södermalms",
          "Södermalms",
          "Södermalms",
          "Södermalms",
          "Södermalms",
          "Södermalms",
          "Södermalms",
          "Södermalms",
          "Södermalms",
          "Kungsholmens",
          "Hägersten-Liljeholmens",
          "Södermalms",
          "Södermalms",
          "Hässelby-Vällingby",
          "Hägersten-Liljeholmens",
          "Södermalms",
          "Södermalms",
          "Södermalms",
          "Enskede-Årsta-Vantörs",
          "Hässelby-Vällingby",
          "Östermalms",
          "Hägersten-Liljeholmens",
          "Södermalms",
          "Södermalms",
          "Norrmalms",
          "Södermalms",
          "Södermalms",
          "Bromma",
          "Södermalms",
          "Hägersten-Liljeholmens",
          "Älvsjö",
          "Södermalms",
          "Rinkeby-Tensta",
          "Kungsholmens",
          "Södermalms",
          "Rinkeby-Tensta",
          "Södermalms",
          "Södermalms",
          "Södermalms",
          "Södermalms",
          "Skarpnäcks",
          "Södermalms",
          "Hässelby-Vällingby",
          "Bromma",
          "Enskede-Årsta-Vantörs",
          "Enskede-Årsta-Vantörs",
          "Enskede-Årsta-Vantörs",
          "Spånga-Tensta",
          "Östermalms",
          "Södermalms",
          "Södermalms",
          "Norrmalms",
          "Södermalms",
          "Norrmalms",
          "Södermalms",
          "Hägersten-Liljeholmens",
          "Älvsjö",
          "Södermalms",
          "Norrmalms",
          "Södermalms",
          "Kungsholmens",
          "Bromma",
          "Enskede-Årsta-Vantörs",
          "Skarpnäcks",
          "Farsta",
          "Hägersten-Liljeholmens",
          "Hägersten-Liljeholmens",
          "Hägersten-Liljeholmens",
          "Hägersten-Liljeholmens",
          "Hägersten-Liljeholmens",
          "Södermalms",
          "Skarpnäcks",
          "Hägersten-Liljeholmens",
          "Rinkeby-Tensta",
          "Hägersten-Liljeholmens",
          "Norrmalms",
          "Södermalms",
          "Kungsholmens",
          "Södermalms",
          "Farsta",
          "Södermalms",
          "Enskede-Årsta-Vantörs",
          "Hägersten-Liljeholmens",
          "Norrmalms",
          "Bromma",
          "Skärholmens",
          "Södermalms",
          "Rinkeby-Tensta",
          "Rinkeby-Tensta",
          "Spånga-Tensta",
          "Södermalms",
          "Enskede-Årsta-Vantörs",
          "Norrmalms",
          "Bromma",
          "Enskede-Årsta-Vantörs",
          "Södermalms",
          "Kungsholmens",
          "Skärholmens",
          "Södermalms",
          "Skarpnäcks",
          "Östermalms",
          "Södermalms",
          "Södermalms",
          "Kungsholmens",
          "Norrmalms",
          "Östermalms",
          "Bromma",
          "Södermalms",
          "Kungsholmens",
          "Bromma",
          "Norrmalms",
          "Bromma",
          "Östermalms",
          "Skärholmens",
          "Södermalms",
          "Södermalms",
          "Södermalms",
          "Östermalms",
          "Södermalms",
          "Södermalms",
          "Södermalms",
          "Norrmalms",
          "Södermalms",
          "Farsta",
          "Östermalms",
          "Skarpnäcks",
          "Skarpnäcks",
          "Norrmalms",
          "Södermalms",
          "Skarpnäcks",
          "Södermalms",
          "Södermalms",
          "Södermalms",
          "Bromma",
          "Hägersten-Liljeholmens",
          "Hägersten-Liljeholmens",
          "Södermalms",
          "Enskede-Årsta-Vantörs",
          "Kungsholmens",
          "Östermalms",
          "Enskede-Årsta-Vantörs",
          "Södermalms",
          "Hägersten-Liljeholmens",
          "Hägersten-Liljeholmens",
          "Södermalms",
          "Skarpnäcks",
          "Södermalms",
          "Hägersten-Liljeholmens",
          "Södermalms",
          "Hässelby-Vällingby",
          "Hägersten-Liljeholmens",
          "Hägersten-Liljeholmens",
          "Hägersten-Liljeholmens",
          "Södermalms",
          "Älvsjö",
          "Skarpnäcks",
          "Rinkeby-Tensta",
          "Älvsjö",
          "Bromma",
          "Södermalms",
          "Kungsholmens",
          "Kungsholmens",
          "Kungsholmens",
          "Skärholmens",
          "Älvsjö",
          "Hägersten-Liljeholmens",
          "Södermalms",
          "Norrmalms",
          "Bromma",
          "Älvsjö",
          "Östermalms",
          "Östermalms",
          "Enskede-Årsta-Vantörs",
          "Södermalms",
          "Farsta",
          "Enskede-Årsta-Vantörs",
          "Rinkeby-Tensta",
          "Bromma",
          "Skarpnäcks",
          "Skarpnäcks",
          "Södermalms",
          "Hägersten-Liljeholmens",
          "Södermalms",
          "Östermalms",
          "Skarpnäcks",
          "Södermalms",
          "Farsta",
          "Kungsholmens",
          "Farsta",
          "Södermalms",
          "Bromma",
          "Hägersten-Liljeholmens",
          "Södermalms",
          "Hägersten-Liljeholmens",
          "Södermalms",
          "Norrmalms",
          "Östermalms",
          "Östermalms",
          "Farsta",
          "Hägersten-Liljeholmens",
          "Södermalms",
          "Södermalms",
          "Älvsjö",
          "Bromma",
          "Bromma",
          "Hässelby-Vällingby",
          "Hägersten-Liljeholmens",
          "Södermalms",
          "Södermalms",
          "Hägersten-Liljeholmens",
          "Skärholmens",
          "Hässelby-Vällingby",
          "Enskede-Årsta-Vantörs",
          "Östermalms",
          "Hägersten-Liljeholmens",
          "Hässelby-Vällingby",
          "Södermalms",
          "Hägersten-Liljeholmens",
          "Skarpnäcks",
          "Östermalms",
          "Kungsholmens",
          "Östermalms",
          "Farsta",
          "Hägersten-Liljeholmens",
          "Östermalms",
          "Hägersten-Liljeholmens",
          "Enskede-Årsta-Vantörs",
          "Hässelby-Vällingby",
          "Enskede-Årsta-Vantörs",
          "Södermalms",
          "Bromma",
          "Kungsholmens",
          "Kungsholmens",
          "Bromma",
          "Enskede-Årsta-Vantörs",
          "Södermalms",
          "Hägersten-Liljeholmens",
          "Hägersten-Liljeholmens",
          "Södermalms",
          "Norrmalms",
          "Hägersten-Liljeholmens",
          "Södermalms",
          "Bromma",
          "Kungsholmens",
          "Enskede-Årsta-Vantörs",
          "Kungsholmens",
          "Södermalms",
          "Södermalms",
          "Enskede-Årsta-Vantörs",
          "Södermalms",
          "Norrmalms",
          "Norrmalms",
          "Enskede-Årsta-Vantörs",
          "Bromma",
          "Bromma",
          "Kungsholmens",
          "Farsta",
          "Enskede-Årsta-Vantörs",
          "Enskede-Årsta-Vantörs",
          "Hägersten-Liljeholmens",
          "Bromma",
          "Hässelby-Vällingby",
          "Södermalms",
          "Enskede-Årsta-Vantörs",
          "Enskede-Årsta-Vantörs",
          "Skarpnäcks",
          "Spånga-Tensta",
          "Södermalms",
          "Södermalms",
          "Södermalms",
          "Södermalms",
          "Södermalms",
          "Älvsjö",
          "Södermalms",
          "Hässelby-Vällingby",
          "Spånga-Tensta",
          "Bromma",
          "Södermalms",
          "Norrmalms",
          "Norrmalms",
          "Älvsjö",
          "Södermalms",
          "Östermalms",
          "Södermalms",
          "Enskede-Årsta-Vantörs",
          "Södermalms",
          "Norrmalms",
          "Spånga-Tensta",
          "Hägersten-Liljeholmens",
          "Skärholmens",
          "Spånga-Tensta",
          "Spånga-Tensta",
          "Hägersten-Liljeholmens",
          "Norrmalms",
          "Älvsjö",
          "Södermalms",
          "Södermalms",
          "Norrmalms",
          "Hägersten-Liljeholmens",
          "Södermalms",
          "Hägersten-Liljeholmens",
          "Enskede-Årsta-Vantörs",
          "Södermalms",
          "Södermalms",
          "Norrmalms",
          "Kungsholmens",
          "Norrmalms",
          "Enskede-Årsta-Vantörs",
          "Farsta",
          "Kungsholmens",
          "Norrmalms",
          "Skärholmens",
          "Enskede-Årsta-Vantörs",
          "Södermalms",
          "Norrmalms",
          "Södermalms",
          "Kungsholmens",
          "Farsta",
          "Hägersten-Liljeholmens",
          "Älvsjö",
          "Hägersten-Liljeholmens",
          "Södermalms",
          "Skarpnäcks",
          "Södermalms",
          "Norrmalms",
          "Enskede-Årsta-Vantörs",
          "Enskede-Årsta-Vantörs",
          "Östermalms",
          "Södermalms",
          "Södermalms",
          "Enskede-Årsta-Vantörs",
          "Hässelby-Vällingby",
          "Norrmalms",
          "Hägersten-Liljeholmens",
          "Östermalms",
          "Hägersten-Liljeholmens",
          "Södermalms",
          "Kungsholmens",
          "Kungsholmens",
          "Kungsholmens",
          "Kungsholmens",
          "Östermalms",
          "Hägersten-Liljeholmens",
          "Skarpnäcks",
          "Hägersten-Liljeholmens",
          "Skarpnäcks",
          "Hässelby-Vällingby",
          "Farsta",
          "Södermalms",
          "Älvsjö",
          "Södermalms",
          "Södermalms",
          "Södermalms",
          "Hägersten-Liljeholmens",
          "Södermalms",
          "Hägersten-Liljeholmens",
          "Norrmalms",
          "Bromma",
          "Kungsholmens",
          "Hägersten-Liljeholmens",
          "Bromma",
          "Bromma",
          "Kungsholmens",
          "Kungsholmens",
          "Norrmalms",
          "Älvsjö",
          "Hägersten-Liljeholmens",
          "Hässelby-Vällingby",
          "Kungsholmens",
          "Södermalms",
          "Södermalms",
          "Farsta",
          "Hägersten-Liljeholmens",
          "Södermalms",
          "Enskede-Årsta-Vantörs",
          "Hägersten-Liljeholmens",
          "Bromma",
          "Enskede-Årsta-Vantörs",
          "Älvsjö",
          "Kungsholmens",
          "Södermalms",
          "Farsta",
          "Södermalms",
          "Älvsjö",
          "Östermalms",
          "Bromma",
          "Södermalms",
          "Rinkeby-Tensta",
          "Södermalms",
          "Bromma",
          "Norrmalms",
          "Hässelby-Vällingby",
          "Södermalms",
          "Rinkeby-Tensta",
          "Älvsjö",
          "Östermalms",
          "Norrmalms",
          "Älvsjö",
          "Enskede-Årsta-Vantörs",
          "Bromma",
          "Norrmalms",
          "Älvsjö",
          "Södermalms",
          "Södermalms",
          "Södermalms",
          "Bromma",
          "Farsta",
          "Hägersten-Liljeholmens",
          "Hässelby-Vällingby",
          "Södermalms",
          "Farsta",
          "Enskede-Årsta-Vantörs",
          "Hässelby-Vällingby",
          "Norrmalms",
          "Södermalms",
          "Södermalms",
          "Östermalms",
          "Kungsholmens",
          "Södermalms",
          "Farsta",
          "Hässelby-Vällingby",
          "Rinkeby-Tensta",
          "Hässelby-Vällingby",
          "Bromma",
          "Bromma",
          "Bromma",
          "Södermalms",
          "Hägersten-Liljeholmens",
          "Enskede-Årsta-Vantörs",
          "Södermalms",
          "Hägersten-Liljeholmens",
          "Bromma",
          "Södermalms",
          "Södermalms",
          "Södermalms",
          "Södermalms",
          "Kungsholmens",
          "Bromma",
          "Södermalms",
          "Södermalms",
          "Östermalms",
          "Östermalms",
          "Hägersten-Liljeholmens",
          "Skarpnäcks",
          "Älvsjö",
          "Hässelby-Vällingby",
          "Älvsjö",
          "Norrmalms",
          "Östermalms",
          "Hägersten-Liljeholmens",
          "Farsta",
          "Södermalms",
          "Östermalms",
          "Hägersten-Liljeholmens",
          "Norrmalms",
          "Norrmalms",
          "Östermalms",
          "Hässelby-Vällingby",
          "Farsta",
          "Hägersten-Liljeholmens",
          "Enskede-Årsta-Vantörs",
          "Södermalms",
          "Bromma",
          "Östermalms",
          "Rinkeby-Tensta",
          "Enskede-Årsta-Vantörs",
          "Norrmalms",
          "Hägersten-Liljeholmens",
          "Bromma",
          "Södermalms",
          "Södermalms",
          "Östermalms",
          "Södermalms",
          "Skarpnäcks",
          "Bromma",
          "Hägersten-Liljeholmens",
          "Älvsjö",
          "Bromma",
          "Kungsholmens",
          "Bromma",
          "Östermalms",
          "Enskede-Årsta-Vantörs",
          "Bromma",
          "Hägersten-Liljeholmens",
          "Kungsholmens",
          "Hägersten-Liljeholmens",
          "Kungsholmens",
          "Kungsholmens",
          "Spånga-Tensta",
          "Enskede-Årsta-Vantörs",
          "Södermalms",
          "Kungsholmens",
          "Farsta",
          "Kungsholmens",
          "Södermalms",
          "Kungsholmens",
          "Södermalms",
          "Södermalms",
          "Södermalms",
          "Bromma",
          "Södermalms",
          "Södermalms",
          "Hägersten-Liljeholmens",
          "Bromma",
          "Norrmalms",
          "Södermalms",
          "Hässelby-Vällingby",
          "Enskede-Årsta-Vantörs",
          "Södermalms",
          "Norrmalms",
          "Södermalms",
          "Kungsholmens",
          "Rinkeby-Tensta",
          "Södermalms",
          "Kungsholmens",
          "Norrmalms",
          "Bromma",
          "Älvsjö",
          "Östermalms",
          "Södermalms",
          "Bromma",
          "Kungsholmens",
          "Södermalms",
          "Norrmalms",
          "Bromma",
          "Hässelby-Vällingby",
          "Bromma",
          "Spånga-Tensta",
          "Hässelby-Vällingby",
          "Kungsholmens",
          "Kungsholmens",
          "Enskede-Årsta-Vantörs",
          "Farsta",
          "Rinkeby-Tensta",
          "Enskede-Årsta-Vantörs",
          "Hägersten-Liljeholmens",
          "Hägersten-Liljeholmens",
          "Kungsholmens",
          "Kungsholmens",
          "Södermalms",
          "Östermalms",
          "Kungsholmens",
          "Södermalms",
          "Älvsjö",
          "Södermalms",
          "Södermalms",
          "Enskede-Årsta-Vantörs",
          "Östermalms",
          "Hägersten-Liljeholmens",
          "Enskede-Årsta-Vantörs",
          "Södermalms",
          "Hägersten-Liljeholmens",
          "Södermalms",
          "Älvsjö",
          "Norrmalms",
          "Södermalms",
          "Södermalms",
          "Kungsholmens",
          "Farsta",
          "Östermalms",
          "Hägersten-Liljeholmens",
          "Enskede-Årsta-Vantörs",
          "Södermalms",
          "Älvsjö",
          "Skarpnäcks",
          "Södermalms",
          "Hägersten-Liljeholmens",
          "Hägersten-Liljeholmens",
          "Hägersten-Liljeholmens",
          "Farsta",
          "Norrmalms",
          "Bromma",
          "Bromma",
          "Södermalms",
          "Östermalms",
          "Spånga-Tensta",
          "Södermalms",
          "Bromma",
          "Skarpnäcks",
          "Skarpnäcks",
          "Kungsholmens",
          "Södermalms",
          "Södermalms",
          "Kungsholmens",
          "Bromma",
          "Norrmalms",
          "Södermalms",
          "Farsta",
          "Bromma",
          "Rinkeby-Tensta",
          "Rinkeby-Tensta",
          "Enskede-Årsta-Vantörs",
          "Södermalms",
          "Norrmalms",
          "Enskede-Årsta-Vantörs",
          "Enskede-Årsta-Vantörs",
          "Norrmalms",
          "Bromma",
          "Bromma",
          "Södermalms",
          "Östermalms",
          "Skarpnäcks",
          "Södermalms",
          "Kungsholmens",
          "Hägersten-Liljeholmens",
          "Skarpnäcks",
          "Älvsjö",
          "Östermalms",
          "Bromma",
          "Farsta",
          "Skärholmens",
          "Södermalms",
          "Älvsjö",
          "Södermalms",
          "Hässelby-Vällingby",
          "Norrmalms",
          "Enskede-Årsta-Vantörs",
          "Skarpnäcks",
          "Södermalms",
          "Spånga-Tensta",
          "Spånga-Tensta",
          "Älvsjö",
          "Norrmalms",
          "Kungsholmens",
          "Hägersten-Liljeholmens",
          "Bromma",
          "Södermalms",
          "Södermalms",
          "Farsta",
          "Södermalms",
          "Södermalms",
          "Bromma",
          "Bromma",
          "Bromma",
          "Enskede-Årsta-Vantörs",
          "Norrmalms",
          "Norrmalms",
          "Rinkeby-Tensta",
          "Rinkeby-Tensta",
          "Södermalms",
          "Norrmalms",
          "Södermalms",
          "Östermalms",
          "Enskede-Årsta-Vantörs",
          "Enskede-Årsta-Vantörs",
          "Hägersten-Liljeholmens",
          "Hägersten-Liljeholmens",
          "Södermalms",
          "Bromma",
          "Bromma",
          "Bromma",
          "Norrmalms",
          "Norrmalms",
          "Skarpnäcks",
          "Södermalms",
          "Södermalms",
          "Kungsholmens",
          "Hägersten-Liljeholmens",
          "Östermalms",
          "Enskede-Årsta-Vantörs",
          "Bromma",
          "Norrmalms",
          "Hägersten-Liljeholmens",
          "Kungsholmens",
          "Bromma",
          "Enskede-Årsta-Vantörs",
          "Bromma",
          "Norrmalms",
          "Norrmalms",
          "Södermalms",
          "Farsta",
          "Södermalms",
          "Enskede-Årsta-Vantörs",
          "Östermalms",
          "Kungsholmens",
          "Skarpnäcks",
          "Södermalms",
          "Farsta",
          "Norrmalms",
          "Hägersten-Liljeholmens",
          "Skarpnäcks",
          "Södermalms",
          "Norrmalms",
          "Kungsholmens",
          "Kungsholmens",
          "Enskede-Årsta-Vantörs",
          "Södermalms",
          "Hägersten-Liljeholmens",
          "Kungsholmens",
          "Hägersten-Liljeholmens",
          "Farsta",
          "Östermalms",
          "Södermalms",
          "Skarpnäcks",
          "Östermalms",
          "Kungsholmens",
          "Norrmalms",
          "Skarpnäcks",
          "Kungsholmens",
          "Kungsholmens",
          "Hägersten-Liljeholmens",
          "Skärholmens",
          "Södermalms",
          "Skärholmens",
          "Skärholmens",
          "Östermalms",
          "Skarpnäcks",
          "Bromma",
          "Bromma",
          "Spånga-Tensta",
          "Kungsholmens",
          "Skärholmens",
          "Skärholmens",
          "Skarpnäcks",
          "Rinkeby-Tensta",
          "Spånga-Tensta",
          "Skarpnäcks",
          "Enskede-Årsta-Vantörs",
          "Bromma",
          "Bromma",
          "Hägersten-Liljeholmens",
          "Östermalms",
          "Älvsjö",
          "Kungsholmens",
          "Hägersten-Liljeholmens",
          "Östermalms",
          "Södermalms",
          "Östermalms",
          "Hägersten-Liljeholmens",
          "Enskede-Årsta-Vantörs",
          "Bromma",
          "Spånga-Tensta",
          "Södermalms",
          "Spånga-Tensta",
          "Södermalms",
          "Södermalms",
          "Södermalms",
          "Södermalms",
          "Kungsholmens",
          "Södermalms",
          "Bromma",
          "Kungsholmens",
          "Enskede-Årsta-Vantörs",
          "Bromma",
          "Hässelby-Vällingby",
          "Enskede-Årsta-Vantörs",
          "Norrmalms",
          "Kungsholmens",
          "Östermalms",
          "Rinkeby-Tensta",
          "Hässelby-Vällingby",
          "Hägersten-Liljeholmens",
          "Hägersten-Liljeholmens",
          "Enskede-Årsta-Vantörs",
          "Bromma",
          "Östermalms",
          "Kungsholmens",
          "Enskede-Årsta-Vantörs",
          "Södermalms",
          "Norrmalms",
          "Södermalms",
          "Skarpnäcks",
          "Södermalms",
          "Spånga-Tensta",
          "Kungsholmens",
          "Kungsholmens",
          "Enskede-Årsta-Vantörs",
          "Östermalms",
          "Södermalms",
          "Hässelby-Vällingby",
          "Spånga-Tensta",
          "Skärholmens",
          "Hägersten-Liljeholmens",
          "Hägersten-Liljeholmens",
          "Norrmalms",
          "Hägersten-Liljeholmens",
          "Skärholmens",
          "Södermalms",
          "Bromma",
          "Södermalms",
          "Södermalms",
          "Farsta",
          "Södermalms",
          "Södermalms",
          "Älvsjö",
          "Norrmalms",
          "Älvsjö",
          "Östermalms",
          "Enskede-Årsta-Vantörs",
          "Enskede-Årsta-Vantörs",
          "Enskede-Årsta-Vantörs",
          "Enskede-Årsta-Vantörs",
          "Hässelby-Vällingby",
          "Hässelby-Vällingby",
          "Södermalms",
          "Södermalms",
          "Enskede-Årsta-Vantörs",
          "Älvsjö",
          "Hägersten-Liljeholmens",
          "Kungsholmens",
          "Södermalms",
          "Norrmalms",
          "Enskede-Årsta-Vantörs",
          "Hägersten-Liljeholmens",
          "Norrmalms",
          "Södermalms",
          "Hägersten-Liljeholmens",
          "Rinkeby-Tensta",
          "Enskede-Årsta-Vantörs",
          "Södermalms",
          "Södermalms",
          "Skarpnäcks",
          "Enskede-Årsta-Vantörs",
          "Östermalms",
          "Södermalms",
          "Enskede-Årsta-Vantörs",
          "Hägersten-Liljeholmens",
          "Kungsholmens",
          "Kungsholmens",
          "Kungsholmens",
          "Norrmalms",
          "Södermalms",
          "Hägersten-Liljeholmens",
          "Södermalms",
          "Skarpnäcks",
          "Norrmalms",
          "Hägersten-Liljeholmens",
          "Bromma",
          "Bromma",
          "Hässelby-Vällingby",
          "Skarpnäcks",
          "Skärholmens",
          "Bromma",
          "Södermalms",
          "Skarpnäcks",
          "Enskede-Årsta-Vantörs",
          "Enskede-Årsta-Vantörs",
          "Enskede-Årsta-Vantörs",
          "Enskede-Årsta-Vantörs",
          "Skärholmens",
          "Älvsjö",
          "Norrmalms",
          "Hägersten-Liljeholmens",
          "Enskede-Årsta-Vantörs",
          "Hässelby-Vällingby",
          "Enskede-Årsta-Vantörs",
          "Skarpnäcks",
          "Enskede-Årsta-Vantörs",
          "Södermalms",
          "Södermalms",
          "Kungsholmens",
          "Norrmalms",
          "Södermalms",
          "Kungsholmens",
          "Hägersten-Liljeholmens",
          "Hägersten-Liljeholmens",
          "Enskede-Årsta-Vantörs",
          "Kungsholmens",
          "Enskede-Årsta-Vantörs",
          "Farsta",
          "Södermalms",
          "Hägersten-Liljeholmens",
          "Älvsjö",
          "Kungsholmens",
          "Skärholmens",
          "Enskede-Årsta-Vantörs",
          "Farsta",
          "Bromma",
          "Hägersten-Liljeholmens",
          "Kungsholmens",
          "Skärholmens",
          "Kungsholmens",
          "Norrmalms",
          "Farsta",
          "Skarpnäcks",
          "Enskede-Årsta-Vantörs",
          "Bromma",
          "Skarpnäcks",
          "Enskede-Årsta-Vantörs",
          "Östermalms",
          "Rinkeby-Tensta",
          "Södermalms",
          "Bromma",
          "Bromma",
          "Hägersten-Liljeholmens",
          "Rinkeby-Tensta",
          "Östermalms",
          "Norrmalms",
          "Bromma",
          "Bromma",
          "Hägersten-Liljeholmens",
          "Östermalms",
          "Kungsholmens",
          "Enskede-Årsta-Vantörs",
          "Södermalms",
          "Södermalms",
          "Södermalms",
          "Södermalms",
          "Östermalms",
          "Norrmalms",
          "Södermalms",
          "Östermalms",
          "Södermalms",
          "Hägersten-Liljeholmens",
          "Hässelby-Vällingby",
          "Södermalms",
          "Bromma",
          "Södermalms",
          "Södermalms",
          "Södermalms",
          "Södermalms",
          "Södermalms",
          "Kungsholmens",
          "Bromma",
          "Älvsjö",
          "Hägersten-Liljeholmens",
          "Älvsjö",
          "Kungsholmens",
          "Hässelby-Vällingby",
          "Hägersten-Liljeholmens",
          "Enskede-Årsta-Vantörs",
          "Enskede-Årsta-Vantörs",
          "Enskede-Årsta-Vantörs",
          "Enskede-Årsta-Vantörs",
          "Bromma",
          "Kungsholmens",
          "Kungsholmens",
          "Kungsholmens",
          "Kungsholmens",
          "Södermalms",
          "Enskede-Årsta-Vantörs",
          "Södermalms",
          "Södermalms",
          "Hägersten-Liljeholmens",
          "Skärholmens",
          "Kungsholmens",
          "Älvsjö",
          "Enskede-Årsta-Vantörs",
          "Södermalms",
          "Norrmalms",
          "Bromma",
          "Bromma",
          "Kungsholmens",
          "Norrmalms",
          "Södermalms",
          "Hägersten-Liljeholmens",
          "Skarpnäcks",
          "Norrmalms",
          "Södermalms",
          "Södermalms",
          "Södermalms",
          "Bromma",
          "Bromma",
          "Södermalms",
          "Södermalms",
          "Södermalms",
          "Södermalms",
          "Bromma",
          "Bromma",
          "Bromma",
          "Kungsholmens",
          "Kungsholmens",
          "Skärholmens",
          "Enskede-Årsta-Vantörs",
          "Skarpnäcks",
          "Bromma",
          "Södermalms",
          "Norrmalms",
          "Östermalms",
          "Enskede-Årsta-Vantörs",
          "Hässelby-Vällingby",
          "Kungsholmens",
          "Hägersten-Liljeholmens",
          "Älvsjö",
          "Bromma",
          "Farsta",
          "Kungsholmens",
          "Enskede-Årsta-Vantörs",
          "Farsta",
          "Enskede-Årsta-Vantörs",
          "Farsta",
          "Enskede-Årsta-Vantörs",
          "Enskede-Årsta-Vantörs",
          "Enskede-Årsta-Vantörs",
          "Enskede-Årsta-Vantörs",
          "Enskede-Årsta-Vantörs",
          "Bromma",
          "Bromma",
          "Bromma",
          "Enskede-Årsta-Vantörs",
          "Spånga-Tensta",
          "Enskede-Årsta-Vantörs",
          "Södermalms",
          "Södermalms",
          "Skärholmens",
          "Skärholmens",
          "Enskede-Årsta-Vantörs",
          "Södermalms",
          "Östermalms",
          "Södermalms",
          "Enskede-Årsta-Vantörs",
          "Södermalms",
          "Östermalms",
          "Södermalms",
          "Kungsholmens",
          "Norrmalms",
          "Älvsjö",
          "Norrmalms",
          "Norrmalms",
          "Södermalms",
          "Skärholmens",
          "Skärholmens",
          "Bromma",
          "Bromma",
          "Farsta",
          "Enskede-Årsta-Vantörs",
          "Södermalms",
          "Södermalms",
          "Södermalms",
          "Kungsholmens",
          "Norrmalms",
          "Östermalms",
          "Hägersten-Liljeholmens",
          "Södermalms",
          "Hägersten-Liljeholmens",
          "Skärholmens",
          "Södermalms",
          "Skarpnäcks",
          "Södermalms",
          "Enskede-Årsta-Vantörs",
          "Enskede-Årsta-Vantörs",
          "Älvsjö",
          "Kungsholmens",
          "Östermalms",
          "Södermalms",
          "Norrmalms",
          "Rinkeby-Tensta",
          "Hässelby-Vällingby",
          "Älvsjö",
          "Norrmalms",
          "Södermalms",
          "Södermalms",
          "Norrmalms",
          "Farsta",
          "Hägersten-Liljeholmens",
          "Kungsholmens",
          "Södermalms",
          "Södermalms",
          "Södermalms",
          "Hägersten-Liljeholmens",
          "Spånga-Tensta",
          "Östermalms",
          "Rinkeby-Tensta",
          "Södermalms",
          "Hägersten-Liljeholmens",
          "Hässelby-Vällingby",
          "Södermalms",
          "Skarpnäcks",
          "Norrmalms",
          "Skarpnäcks",
          "Norrmalms",
          "Farsta",
          "Kungsholmens",
          "Södermalms",
          "Bromma",
          "Kungsholmens",
          "Norrmalms",
          "Enskede-Årsta-Vantörs",
          "Kungsholmens",
          "Enskede-Årsta-Vantörs",
          "Norrmalms",
          "Enskede-Årsta-Vantörs",
          "Enskede-Årsta-Vantörs",
          "Södermalms",
          "Älvsjö",
          "Norrmalms",
          "Skarpnäcks",
          "Norrmalms",
          "Enskede-Årsta-Vantörs",
          "Södermalms",
          "Enskede-Årsta-Vantörs",
          "Rinkeby-Tensta",
          "Hässelby-Vällingby",
          "Östermalms",
          "Enskede-Årsta-Vantörs",
          "Bromma",
          "Södermalms",
          "Enskede-Årsta-Vantörs",
          "Norrmalms",
          "Skarpnäcks",
          "Norrmalms",
          "Norrmalms",
          "Skärholmens",
          "Enskede-Årsta-Vantörs",
          "Östermalms",
          "Älvsjö",
          "Södermalms",
          "Kungsholmens",
          "Södermalms",
          "Kungsholmens",
          "Östermalms",
          "Södermalms",
          "Hässelby-Vällingby",
          "Norrmalms",
          "Bromma",
          "Södermalms",
          "Östermalms",
          "Södermalms",
          "Älvsjö",
          "Norrmalms",
          "Södermalms",
          "Bromma",
          "Skarpnäcks",
          "Hägersten-Liljeholmens",
          "Norrmalms",
          "Kungsholmens",
          "Kungsholmens",
          "Norrmalms",
          "Kungsholmens",
          "Hägersten-Liljeholmens",
          "Enskede-Årsta-Vantörs",
          "Östermalms",
          "Enskede-Årsta-Vantörs",
          "Enskede-Årsta-Vantörs",
          "Hägersten-Liljeholmens",
          "Hägersten-Liljeholmens",
          "Hägersten-Liljeholmens",
          "Södermalms",
          "Södermalms",
          "Södermalms",
          "Bromma",
          "Norrmalms",
          "Hässelby-Vällingby",
          "Enskede-Årsta-Vantörs",
          "Skärholmens",
          "Norrmalms",
          "Södermalms",
          "Rinkeby-Tensta",
          "Älvsjö",
          "Hägersten-Liljeholmens",
          "Skarpnäcks",
          "Bromma",
          "Enskede-Årsta-Vantörs",
          "Hägersten-Liljeholmens",
          "Södermalms",
          "Älvsjö",
          "Södermalms",
          "Hässelby-Vällingby",
          "Farsta",
          "Södermalms",
          "Hässelby-Vällingby",
          "Hässelby-Vällingby",
          "Östermalms",
          "Hägersten-Liljeholmens",
          "Södermalms",
          "Norrmalms",
          "Bromma",
          "Farsta",
          "Rinkeby-Tensta",
          "Norrmalms",
          "Rinkeby-Tensta",
          "Norrmalms",
          "Rinkeby-Tensta",
          "Kungsholmens",
          "Rinkeby-Tensta",
          "Skarpnäcks",
          "Kungsholmens",
          "Skarpnäcks",
          "Skarpnäcks",
          "Kungsholmens",
          "Östermalms",
          "Södermalms",
          "Östermalms",
          "Rinkeby-Tensta",
          "Rinkeby-Tensta",
          "Kungsholmens",
          "Älvsjö",
          "Hässelby-Vällingby",
          "Bromma",
          "Södermalms",
          "Södermalms",
          "Enskede-Årsta-Vantörs",
          "Södermalms",
          "Södermalms",
          "Enskede-Årsta-Vantörs",
          "Norrmalms",
          "Skarpnäcks",
          "Södermalms",
          "Södermalms",
          "Södermalms",
          "Östermalms",
          "Norrmalms",
          "Södermalms",
          "Enskede-Årsta-Vantörs",
          "Skärholmens",
          "Bromma",
          "Östermalms",
          "Kungsholmens",
          "Södermalms",
          "Enskede-Årsta-Vantörs",
          "Norrmalms",
          "Norrmalms",
          "Norrmalms",
          "Hägersten-Liljeholmens",
          "Skarpnäcks",
          "Södermalms",
          "Skarpnäcks",
          "Södermalms",
          "Skärholmens",
          "Södermalms",
          "Södermalms",
          "Södermalms",
          "Hägersten-Liljeholmens",
          "Bromma",
          "Enskede-Årsta-Vantörs",
          "Norrmalms",
          "Södermalms",
          "Hässelby-Vällingby",
          "Kungsholmens",
          "Kungsholmens",
          "Enskede-Årsta-Vantörs",
          "Södermalms",
          "Kungsholmens",
          "Kungsholmens",
          "Östermalms",
          "Södermalms",
          "Södermalms",
          "Södermalms",
          "Östermalms",
          "Södermalms",
          "Enskede-Årsta-Vantörs",
          "Bromma",
          "Hägersten-Liljeholmens",
          "Norrmalms",
          "Norrmalms",
          "Norrmalms",
          "Norrmalms",
          "Bromma",
          "Enskede-Årsta-Vantörs",
          "Enskede-Årsta-Vantörs",
          "Södermalms",
          "Södermalms",
          "Södermalms",
          "Södermalms",
          "Hägersten-Liljeholmens",
          "Östermalms",
          "Skärholmens",
          "Östermalms",
          "Östermalms",
          "Östermalms",
          "Östermalms",
          "Södermalms",
          "Enskede-Årsta-Vantörs",
          "Södermalms",
          "Östermalms",
          "Östermalms",
          "Östermalms",
          "Skärholmens",
          "Hägersten-Liljeholmens",
          "Norrmalms",
          "Bromma",
          "Hässelby-Vällingby",
          "Älvsjö",
          "Östermalms",
          "Hässelby-Vällingby",
          "Kungsholmens",
          "Södermalms",
          "Norrmalms",
          "Kungsholmens",
          "Södermalms",
          "Älvsjö",
          "Södermalms",
          "Norrmalms",
          "Norrmalms",
          "Norrmalms",
          "Norrmalms",
          "Bromma",
          "Hägersten-Liljeholmens",
          "Hägersten-Liljeholmens",
          "Hässelby-Vällingby",
          "Norrmalms",
          "Hägersten-Liljeholmens",
          "Enskede-Årsta-Vantörs",
          "Norrmalms",
          "Norrmalms",
          "Bromma",
          "Södermalms",
          "Enskede-Årsta-Vantörs",
          "Östermalms",
          "Farsta",
          "Hägersten-Liljeholmens",
          "Hägersten-Liljeholmens",
          "Södermalms",
          "Södermalms",
          "Norrmalms",
          "Södermalms",
          "Älvsjö",
          "Spånga-Tensta",
          "Kungsholmens",
          "Hägersten-Liljeholmens",
          "Norrmalms",
          "Södermalms",
          "Farsta",
          "Södermalms",
          "Älvsjö",
          "Bromma",
          "Hässelby-Vällingby",
          "Farsta",
          "Rinkeby-Tensta",
          "Hägersten-Liljeholmens",
          "Östermalms",
          "Skärholmens",
          "Norrmalms",
          "Norrmalms",
          "Norrmalms",
          "Norrmalms",
          "Östermalms",
          "Bromma",
          "Farsta",
          "Hägersten-Liljeholmens",
          "Södermalms",
          "Hägersten-Liljeholmens",
          "Östermalms",
          "Östermalms",
          "Norrmalms",
          "Kungsholmens",
          "Farsta",
          "Hägersten-Liljeholmens",
          "Södermalms",
          "Östermalms",
          "Hägersten-Liljeholmens",
          "Norrmalms",
          "Kungsholmens",
          "Kungsholmens",
          "Kungsholmens",
          "Kungsholmens",
          "Kungsholmens",
          "Kungsholmens",
          "Hässelby-Vällingby",
          "Södermalms",
          "Östermalms",
          "Rinkeby-Tensta",
          "Södermalms",
          "Östermalms",
          "Hägersten-Liljeholmens",
          "Södermalms",
          "Hägersten-Liljeholmens",
          "Skarpnäcks",
          "Södermalms",
          "Bromma",
          "Rinkeby-Tensta",
          "Södermalms",
          "Södermalms",
          "Bromma",
          "Norrmalms",
          "Södermalms",
          "Östermalms",
          "Södermalms",
          "Östermalms",
          "Norrmalms",
          "Kungsholmens",
          "Enskede-Årsta-Vantörs",
          "Kungsholmens",
          "Norrmalms",
          "Älvsjö",
          "Södermalms",
          "Hässelby-Vällingby",
          "Bromma",
          "Södermalms",
          "Farsta",
          "Kungsholmens",
          "Kungsholmens",
          "Enskede-Årsta-Vantörs",
          "Enskede-Årsta-Vantörs",
          "Norrmalms",
          "Spånga-Tensta",
          "Norrmalms",
          "Enskede-Årsta-Vantörs",
          "Spånga-Tensta",
          "Södermalms",
          "Södermalms",
          "Hägersten-Liljeholmens",
          "Hägersten-Liljeholmens",
          "Enskede-Årsta-Vantörs",
          "Enskede-Årsta-Vantörs",
          "Skärholmens",
          "Södermalms",
          "Norrmalms",
          "Hägersten-Liljeholmens",
          "Norrmalms",
          "Södermalms",
          "Södermalms",
          "Hägersten-Liljeholmens",
          "Bromma",
          "Kungsholmens",
          "Södermalms",
          "Södermalms",
          "Farsta",
          "Kungsholmens",
          "Bromma",
          "Bromma",
          "Enskede-Årsta-Vantörs",
          "Bromma",
          "Bromma",
          "Södermalms",
          "Norrmalms",
          "Norrmalms",
          "Södermalms",
          "Hässelby-Vällingby",
          "Södermalms",
          "Södermalms",
          "Norrmalms",
          "Norrmalms",
          "Enskede-Årsta-Vantörs",
          "Enskede-Årsta-Vantörs",
          "Enskede-Årsta-Vantörs",
          "Södermalms",
          "Hägersten-Liljeholmens",
          "Södermalms",
          "Norrmalms",
          "Södermalms",
          "Hägersten-Liljeholmens",
          "Älvsjö",
          "Bromma",
          "Farsta",
          "Södermalms",
          "Älvsjö",
          "Hägersten-Liljeholmens",
          "Södermalms",
          "Rinkeby-Tensta",
          "Rinkeby-Tensta",
          "Rinkeby-Tensta",
          "Hägersten-Liljeholmens",
          "Södermalms",
          "Älvsjö",
          "Södermalms",
          "Hägersten-Liljeholmens",
          "Hägersten-Liljeholmens",
          "Södermalms",
          "Hägersten-Liljeholmens",
          "Farsta",
          "Hägersten-Liljeholmens",
          "Hägersten-Liljeholmens",
          "Skarpnäcks",
          "Norrmalms",
          "Kungsholmens",
          "Farsta",
          "Hägersten-Liljeholmens",
          "Hägersten-Liljeholmens",
          "Södermalms",
          "Enskede-Årsta-Vantörs",
          "Kungsholmens",
          "Farsta",
          "Östermalms",
          "Rinkeby-Tensta",
          "Bromma",
          "Bromma",
          "Södermalms",
          "Hägersten-Liljeholmens",
          "Södermalms",
          "Södermalms",
          "Södermalms",
          "Södermalms",
          "Norrmalms",
          "Södermalms",
          "Skarpnäcks",
          "Hägersten-Liljeholmens",
          "Skarpnäcks",
          "Norrmalms",
          "Skärholmens",
          "Enskede-Årsta-Vantörs",
          "Spånga-Tensta",
          "Östermalms",
          "Norrmalms",
          "Kungsholmens",
          "Hägersten-Liljeholmens",
          "Södermalms",
          "Spånga-Tensta",
          "Södermalms",
          "Södermalms",
          "Hägersten-Liljeholmens",
          "Enskede-Årsta-Vantörs",
          "Farsta",
          "Södermalms",
          "Södermalms",
          "Kungsholmens",
          "Kungsholmens",
          "Kungsholmens",
          "Kungsholmens",
          "Östermalms",
          "Hässelby-Vällingby",
          "Farsta",
          "Södermalms",
          "Södermalms",
          "Södermalms",
          "Bromma",
          "Södermalms",
          "Södermalms",
          "Spånga-Tensta",
          "Östermalms",
          "Norrmalms",
          "Kungsholmens",
          "Skarpnäcks",
          "Bromma",
          "Bromma",
          "Södermalms",
          "Södermalms",
          "Södermalms",
          "Hägersten-Liljeholmens",
          "Norrmalms",
          "Skarpnäcks",
          "Södermalms",
          "Enskede-Årsta-Vantörs",
          "Södermalms",
          "Kungsholmens",
          "Norrmalms",
          "Spånga-Tensta",
          "Kungsholmens",
          "Bromma",
          "Södermalms",
          "Södermalms",
          "Bromma",
          "Rinkeby-Tensta",
          "Södermalms",
          "Hägersten-Liljeholmens",
          "Södermalms",
          "Södermalms",
          "Kungsholmens",
          "Kungsholmens",
          "Östermalms",
          "Enskede-Årsta-Vantörs",
          "Södermalms",
          "Östermalms",
          "Bromma",
          "Östermalms",
          "Södermalms",
          "Norrmalms",
          "Hägersten-Liljeholmens",
          "Enskede-Årsta-Vantörs",
          "Södermalms",
          "Kungsholmens",
          "Norrmalms",
          "Hässelby-Vällingby",
          "Bromma",
          "Hässelby-Vällingby",
          "Farsta",
          "Norrmalms",
          "Södermalms",
          "Södermalms",
          "Södermalms",
          "Norrmalms",
          "Södermalms",
          "Norrmalms",
          "Enskede-Årsta-Vantörs",
          "Rinkeby-Tensta",
          "Bromma",
          "Norrmalms",
          "Kungsholmens",
          "Södermalms",
          "Södermalms",
          "Norrmalms",
          "Södermalms",
          "Norrmalms",
          "Södermalms",
          "Spånga-Tensta",
          "Hägersten-Liljeholmens",
          "Enskede-Årsta-Vantörs",
          "Östermalms",
          "Södermalms",
          "Södermalms",
          "Östermalms",
          "Bromma",
          "Östermalms",
          "Älvsjö",
          "Enskede-Årsta-Vantörs",
          "Farsta",
          "Enskede-Årsta-Vantörs",
          "Norrmalms",
          "Skarpnäcks",
          "Hässelby-Vällingby",
          "Kungsholmens",
          "Hägersten-Liljeholmens",
          "Södermalms",
          "Farsta",
          "Kungsholmens",
          "Norrmalms",
          "Södermalms",
          "Rinkeby-Tensta",
          "Enskede-Årsta-Vantörs",
          "Hägersten-Liljeholmens",
          "Kungsholmens",
          "Hässelby-Vällingby",
          "Södermalms",
          "Kungsholmens",
          "Kungsholmens",
          "Kungsholmens",
          "Södermalms",
          "Södermalms",
          "Norrmalms",
          "Södermalms",
          "Kungsholmens",
          "Södermalms",
          "Södermalms",
          "Hässelby-Vällingby",
          "Spånga-Tensta",
          "Kungsholmens",
          "Hägersten-Liljeholmens",
          "Hässelby-Vällingby",
          "Bromma",
          "Norrmalms",
          "Hägersten-Liljeholmens",
          "Östermalms",
          "Rinkeby-Tensta",
          "Hägersten-Liljeholmens",
          "Södermalms",
          "Östermalms",
          "Enskede-Årsta-Vantörs",
          "Kungsholmens",
          "Älvsjö",
          "Enskede-Årsta-Vantörs",
          "Norrmalms",
          "Rinkeby-Tensta",
          "Enskede-Årsta-Vantörs",
          "Södermalms",
          "Skarpnäcks",
          "Enskede-Årsta-Vantörs",
          "Hässelby-Vällingby",
          "Älvsjö",
          "Skarpnäcks",
          "Älvsjö",
          "Södermalms",
          "Spånga-Tensta",
          "Norrmalms",
          "Enskede-Årsta-Vantörs",
          "Kungsholmens",
          "Norrmalms",
          "Bromma",
          "Norrmalms",
          "Södermalms",
          "Östermalms",
          "Östermalms",
          "Södermalms",
          "Södermalms",
          "Farsta",
          "Södermalms",
          "Norrmalms",
          "Södermalms",
          "Södermalms",
          "Farsta",
          "Norrmalms",
          "Älvsjö",
          "Enskede-Årsta-Vantörs",
          "Södermalms",
          "Södermalms",
          "Skarpnäcks",
          "Östermalms",
          "Östermalms",
          "Östermalms",
          "Bromma",
          "Östermalms",
          "Östermalms",
          "Bromma",
          "Hägersten-Liljeholmens",
          "Kungsholmens",
          "Bromma",
          "Farsta",
          "Norrmalms",
          "Skärholmens",
          "Kungsholmens",
          "Enskede-Årsta-Vantörs",
          "Södermalms",
          "Östermalms",
          "Norrmalms",
          "Hässelby-Vällingby",
          "Norrmalms",
          "Farsta",
          "Farsta",
          "Hägersten-Liljeholmens",
          "Enskede-Årsta-Vantörs",
          "Kungsholmens",
          "Älvsjö",
          "Östermalms",
          "Bromma",
          "Enskede-Årsta-Vantörs",
          "Södermalms",
          "Södermalms",
          "Enskede-Årsta-Vantörs",
          "Hägersten-Liljeholmens",
          "Östermalms",
          "Älvsjö",
          "Bromma",
          "Spånga-Tensta",
          "Östermalms",
          "Södermalms",
          "Hässelby-Vällingby",
          "Kungsholmens",
          "Södermalms",
          "Hägersten-Liljeholmens",
          "Bromma",
          "Enskede-Årsta-Vantörs",
          "Hägersten-Liljeholmens",
          "Hägersten-Liljeholmens",
          "Östermalms",
          "Södermalms",
          "Hägersten-Liljeholmens",
          "Bromma",
          "Södermalms",
          "Södermalms",
          "Hässelby-Vällingby",
          "Kungsholmens",
          "Södermalms",
          "Södermalms",
          "Älvsjö",
          "Kungsholmens",
          "Södermalms",
          "Södermalms",
          "Rinkeby-Tensta",
          "Södermalms",
          "Spånga-Tensta",
          "Skarpnäcks",
          "Södermalms",
          "Hägersten-Liljeholmens",
          "Hägersten-Liljeholmens",
          "Skärholmens",
          "Skärholmens",
          "Kungsholmens",
          "Kungsholmens",
          "Södermalms",
          "Södermalms",
          "Skarpnäcks",
          "Norrmalms",
          "Hägersten-Liljeholmens",
          "Enskede-Årsta-Vantörs",
          "Södermalms",
          "Bromma",
          "Hägersten-Liljeholmens",
          "Bromma",
          "Södermalms",
          "Bromma",
          "Södermalms",
          "Södermalms",
          "Södermalms",
          "Östermalms",
          "Norrmalms",
          "Södermalms",
          "Hässelby-Vällingby",
          "Skärholmens",
          "Älvsjö",
          "Enskede-Årsta-Vantörs",
          "Södermalms",
          "Södermalms",
          "Farsta",
          "Farsta",
          "Kungsholmens",
          "Norrmalms",
          "Rinkeby-Tensta",
          "Östermalms",
          "Enskede-Årsta-Vantörs",
          "Skärholmens",
          "Hägersten-Liljeholmens",
          "Skarpnäcks",
          "Södermalms",
          "Norrmalms",
          "Hässelby-Vällingby",
          "Östermalms",
          "Spånga-Tensta",
          "Kungsholmens",
          "Östermalms",
          "Hägersten-Liljeholmens",
          "Södermalms",
          "Östermalms",
          "Östermalms",
          "Södermalms",
          "Södermalms",
          "Hägersten-Liljeholmens",
          "Skarpnäcks",
          "Spånga-Tensta",
          "Älvsjö",
          "Norrmalms",
          "Skarpnäcks",
          "Kungsholmens",
          "Rinkeby-Tensta",
          "Hässelby-Vällingby",
          "Spånga-Tensta",
          "Spånga-Tensta",
          "Södermalms",
          "Södermalms",
          "Älvsjö",
          "Kungsholmens",
          "Enskede-Årsta-Vantörs",
          "Södermalms",
          "Södermalms",
          "Södermalms",
          "Hägersten-Liljeholmens",
          "Norrmalms",
          "Bromma",
          "Farsta",
          "Södermalms",
          "Kungsholmens",
          "Enskede-Årsta-Vantörs",
          "Norrmalms",
          "Norrmalms",
          "Hägersten-Liljeholmens",
          "Hägersten-Liljeholmens",
          "Bromma",
          "Kungsholmens",
          "Södermalms",
          "Kungsholmens",
          "Östermalms",
          "Farsta",
          "Hägersten-Liljeholmens",
          "Hägersten-Liljeholmens",
          "Östermalms",
          "Kungsholmens",
          "Kungsholmens",
          "Enskede-Årsta-Vantörs",
          "Östermalms",
          "Enskede-Årsta-Vantörs",
          "Enskede-Årsta-Vantörs",
          "Skarpnäcks",
          "Rinkeby-Tensta",
          "Östermalms",
          "Kungsholmens",
          "Hägersten-Liljeholmens",
          "Hässelby-Vällingby",
          "Kungsholmens",
          "Hässelby-Vällingby",
          "Södermalms",
          "Hägersten-Liljeholmens",
          "Södermalms",
          "Enskede-Årsta-Vantörs",
          "Södermalms",
          "Enskede-Årsta-Vantörs",
          "Enskede-Årsta-Vantörs",
          "Södermalms",
          "Södermalms",
          "Östermalms",
          "Enskede-Årsta-Vantörs",
          "Hägersten-Liljeholmens",
          "Enskede-Årsta-Vantörs",
          "Hägersten-Liljeholmens",
          "Bromma",
          "Södermalms",
          "Norrmalms",
          "Enskede-Årsta-Vantörs",
          "Kungsholmens",
          "Enskede-Årsta-Vantörs",
          "Södermalms",
          "Spånga-Tensta",
          "Skarpnäcks",
          "Spånga-Tensta",
          "Södermalms",
          "Norrmalms",
          "Skarpnäcks",
          "Södermalms",
          "Enskede-Årsta-Vantörs",
          "Hägersten-Liljeholmens",
          "Södermalms",
          "Norrmalms",
          "Bromma",
          "Norrmalms",
          "Bromma",
          "Södermalms",
          "Södermalms",
          "Rinkeby-Tensta",
          "Hägersten-Liljeholmens",
          "Rinkeby-Tensta",
          "Kungsholmens",
          "Norrmalms",
          "Hägersten-Liljeholmens",
          "Hägersten-Liljeholmens",
          "Södermalms",
          "Farsta",
          "Norrmalms",
          "Enskede-Årsta-Vantörs",
          "Norrmalms",
          "Kungsholmens",
          "Kungsholmens",
          "Hägersten-Liljeholmens",
          "Kungsholmens",
          "Kungsholmens",
          "Södermalms",
          "Hägersten-Liljeholmens",
          "Södermalms",
          "Bromma",
          "Älvsjö",
          "Bromma",
          "Södermalms",
          "Norrmalms",
          "Skarpnäcks",
          "Kungsholmens",
          "Södermalms",
          "Södermalms",
          "Hägersten-Liljeholmens",
          "Skärholmens",
          "Älvsjö",
          "Rinkeby-Tensta",
          "Enskede-Årsta-Vantörs",
          "Enskede-Årsta-Vantörs",
          "Enskede-Årsta-Vantörs",
          "Enskede-Årsta-Vantörs",
          "Södermalms",
          "Södermalms",
          "Norrmalms",
          "Södermalms",
          "Rinkeby-Tensta",
          "Rinkeby-Tensta",
          "Spånga-Tensta",
          "Södermalms",
          "Norrmalms",
          "Norrmalms",
          "Norrmalms",
          "Kungsholmens",
          "Södermalms",
          "Rinkeby-Tensta",
          "Farsta",
          "Hägersten-Liljeholmens",
          "Enskede-Årsta-Vantörs",
          "Östermalms",
          "Östermalms",
          "Södermalms",
          "Södermalms",
          "Södermalms",
          "Södermalms",
          "Enskede-Årsta-Vantörs",
          "Norrmalms",
          "Norrmalms",
          "Hägersten-Liljeholmens",
          "Östermalms",
          "Spånga-Tensta",
          "Södermalms",
          "Södermalms",
          "Norrmalms",
          "Skarpnäcks",
          "Spånga-Tensta",
          "Norrmalms",
          "Norrmalms",
          "Norrmalms",
          "Rinkeby-Tensta",
          "Älvsjö",
          "Södermalms",
          "Bromma",
          "Farsta",
          "Hässelby-Vällingby",
          "Hässelby-Vällingby",
          "Östermalms",
          "Hägersten-Liljeholmens",
          "Spånga-Tensta",
          "Östermalms",
          "Enskede-Årsta-Vantörs",
          "Östermalms",
          "Norrmalms",
          "Kungsholmens",
          "Enskede-Årsta-Vantörs",
          "Bromma",
          "Södermalms",
          "Östermalms",
          "Östermalms",
          "Södermalms",
          "Östermalms",
          "Kungsholmens",
          "Östermalms",
          "Bromma",
          "Farsta",
          "Södermalms",
          "Södermalms",
          "Hägersten-Liljeholmens",
          "Kungsholmens",
          "Hässelby-Vällingby",
          "Enskede-Årsta-Vantörs",
          "Skarpnäcks",
          "Skarpnäcks",
          "Enskede-Årsta-Vantörs",
          "Enskede-Årsta-Vantörs",
          "Hägersten-Liljeholmens",
          "Farsta",
          "Östermalms",
          "Rinkeby-Tensta",
          "Norrmalms",
          "Hägersten-Liljeholmens",
          "Hässelby-Vällingby",
          "Norrmalms",
          "Hägersten-Liljeholmens",
          "Enskede-Årsta-Vantörs",
          "Skärholmens",
          "Södermalms",
          "Norrmalms",
          "Enskede-Årsta-Vantörs",
          "Södermalms",
          "Farsta",
          "Södermalms",
          "Hägersten-Liljeholmens",
          "Enskede-Årsta-Vantörs",
          "Skarpnäcks",
          "Enskede-Årsta-Vantörs",
          "Norrmalms",
          "Kungsholmens",
          "Södermalms",
          "Enskede-Årsta-Vantörs",
          "Enskede-Årsta-Vantörs",
          "Skarpnäcks",
          "Kungsholmens",
          "Enskede-Årsta-Vantörs",
          "Kungsholmens",
          "Norrmalms",
          "Älvsjö",
          "Älvsjö",
          "Bromma",
          "Bromma",
          "Norrmalms",
          "Skärholmens",
          "Kungsholmens",
          "Norrmalms",
          "Rinkeby-Tensta",
          "Hässelby-Vällingby",
          "Kungsholmens",
          "Södermalms",
          "Bromma",
          "Östermalms",
          "Södermalms",
          "Södermalms",
          "Södermalms",
          "Södermalms",
          "Södermalms",
          "Kungsholmens",
          "Spånga-Tensta",
          "Hägersten-Liljeholmens",
          "Södermalms",
          "Södermalms",
          "Enskede-Årsta-Vantörs",
          "Östermalms",
          "Älvsjö",
          "Bromma",
          "Enskede-Årsta-Vantörs",
          "Enskede-Årsta-Vantörs",
          "Hägersten-Liljeholmens",
          "Hägersten-Liljeholmens",
          "Södermalms",
          "Hässelby-Vällingby",
          "Kungsholmens",
          "Södermalms",
          "Norrmalms",
          "Östermalms",
          "Rinkeby-Tensta",
          "Norrmalms",
          "Kungsholmens",
          "Norrmalms",
          "Kungsholmens",
          "Rinkeby-Tensta",
          "Kungsholmens",
          "Kungsholmens",
          "Enskede-Årsta-Vantörs",
          "Enskede-Årsta-Vantörs",
          "Hägersten-Liljeholmens",
          "Södermalms",
          "Södermalms",
          "Hässelby-Vällingby",
          "Södermalms",
          "Skärholmens",
          "Östermalms",
          "Östermalms",
          "Hässelby-Vällingby",
          "Enskede-Årsta-Vantörs",
          "Södermalms",
          "Hägersten-Liljeholmens",
          "Norrmalms",
          "Östermalms",
          "Skarpnäcks",
          "Enskede-Årsta-Vantörs",
          "Älvsjö",
          "Södermalms",
          "Kungsholmens",
          "Norrmalms",
          "Älvsjö",
          "Östermalms",
          "Bromma",
          "Bromma",
          "Skarpnäcks",
          "Skarpnäcks",
          "Skarpnäcks",
          "Spånga-Tensta",
          "Skarpnäcks",
          "Skarpnäcks",
          "Skarpnäcks",
          "Skarpnäcks",
          "Skarpnäcks",
          "Skarpnäcks",
          "Skarpnäcks",
          "Skarpnäcks",
          "Skarpnäcks",
          "Skarpnäcks",
          "Skarpnäcks",
          "Skarpnäcks",
          "Skarpnäcks",
          "Skarpnäcks",
          "Norrmalms",
          "Skärholmens",
          "Kungsholmens",
          "Hägersten-Liljeholmens",
          "Hägersten-Liljeholmens",
          "Enskede-Årsta-Vantörs",
          "Spånga-Tensta",
          "Hägersten-Liljeholmens",
          "Bromma",
          "Södermalms",
          "Farsta",
          "Östermalms",
          "Skärholmens",
          "Norrmalms",
          "Östermalms",
          "Södermalms",
          "Bromma",
          "Rinkeby-Tensta",
          "Södermalms",
          "Kungsholmens",
          "Skarpnäcks",
          "Södermalms",
          "Kungsholmens",
          "Kungsholmens",
          "Kungsholmens",
          "Kungsholmens",
          "Södermalms",
          "Östermalms",
          "Södermalms",
          "Norrmalms",
          "Enskede-Årsta-Vantörs",
          "Södermalms",
          "Norrmalms",
          "Norrmalms",
          "Hägersten-Liljeholmens",
          "Hägersten-Liljeholmens",
          "Bromma",
          "Södermalms",
          "Bromma",
          "Norrmalms",
          "Hägersten-Liljeholmens",
          "Enskede-Årsta-Vantörs",
          "Enskede-Årsta-Vantörs",
          "Södermalms",
          "Enskede-Årsta-Vantörs",
          "Hägersten-Liljeholmens",
          "Hägersten-Liljeholmens",
          "Hässelby-Vällingby",
          "Östermalms",
          "Östermalms",
          "Norrmalms",
          "Norrmalms",
          "Enskede-Årsta-Vantörs",
          "Hägersten-Liljeholmens",
          "Södermalms",
          "Kungsholmens",
          "Östermalms",
          "Enskede-Årsta-Vantörs",
          "Södermalms",
          "Södermalms",
          "Södermalms",
          "Rinkeby-Tensta",
          "Östermalms",
          "Skarpnäcks",
          "Hägersten-Liljeholmens",
          "Enskede-Årsta-Vantörs",
          "Skärholmens",
          "Hägersten-Liljeholmens",
          "Östermalms",
          "Skarpnäcks",
          "Kungsholmens",
          "Kungsholmens",
          "Södermalms",
          "Södermalms",
          "Södermalms",
          "Skarpnäcks",
          "Skarpnäcks",
          "Hässelby-Vällingby",
          "Rinkeby-Tensta",
          "Norrmalms",
          "Södermalms",
          "Östermalms",
          "Rinkeby-Tensta",
          "Spånga-Tensta",
          "Enskede-Årsta-Vantörs",
          "Södermalms",
          "Östermalms",
          "Spånga-Tensta",
          "Kungsholmens",
          "Norrmalms",
          "Kungsholmens",
          "Östermalms",
          "Kungsholmens",
          "Spånga-Tensta",
          "Norrmalms",
          "Södermalms",
          "Norrmalms",
          "Norrmalms",
          "Enskede-Årsta-Vantörs",
          "Bromma",
          "Rinkeby-Tensta",
          "Norrmalms",
          "Norrmalms",
          "Hägersten-Liljeholmens",
          "Farsta",
          "Östermalms",
          "Kungsholmens",
          "Rinkeby-Tensta",
          "Östermalms",
          "Norrmalms",
          "Norrmalms",
          "Kungsholmens",
          "Kungsholmens",
          "Kungsholmens",
          "Kungsholmens",
          "Kungsholmens",
          "Kungsholmens",
          "Kungsholmens",
          "Hägersten-Liljeholmens",
          "Farsta",
          "Norrmalms",
          "Norrmalms",
          "Östermalms",
          "Södermalms",
          "Södermalms",
          "Södermalms",
          "Östermalms",
          "Norrmalms",
          "Norrmalms",
          "Kungsholmens",
          "Enskede-Årsta-Vantörs",
          "Enskede-Årsta-Vantörs",
          "Enskede-Årsta-Vantörs",
          "Farsta",
          "Farsta",
          "Norrmalms",
          "Södermalms",
          "Farsta",
          "Östermalms",
          "Rinkeby-Tensta",
          "Farsta",
          "Östermalms",
          "Norrmalms",
          "Södermalms",
          "Enskede-Årsta-Vantörs",
          "Enskede-Årsta-Vantörs",
          "Bromma",
          "Enskede-Årsta-Vantörs",
          "Älvsjö",
          "Södermalms",
          "Norrmalms",
          "Södermalms",
          "Kungsholmens",
          "Hässelby-Vällingby",
          "Hägersten-Liljeholmens",
          "Skärholmens",
          "Norrmalms",
          "Norrmalms",
          "Hägersten-Liljeholmens",
          "Bromma",
          "Norrmalms",
          "Östermalms",
          "Hägersten-Liljeholmens",
          "Södermalms",
          "Farsta",
          "Södermalms",
          "Norrmalms",
          "Skarpnäcks",
          "Norrmalms",
          "Spånga-Tensta",
          "Östermalms",
          "Kungsholmens",
          "Östermalms",
          "Östermalms",
          "Hägersten-Liljeholmens",
          "Norrmalms",
          "Östermalms",
          "Hägersten-Liljeholmens",
          "Kungsholmens",
          "Hässelby-Vällingby",
          "Södermalms",
          "Kungsholmens",
          "Bromma",
          "Södermalms",
          "Bromma",
          "Södermalms",
          "Rinkeby-Tensta",
          "Hässelby-Vällingby",
          "Södermalms",
          "Södermalms",
          "Hägersten-Liljeholmens",
          "Bromma",
          "Södermalms",
          "Södermalms",
          "Södermalms",
          "Södermalms",
          "Södermalms",
          "Hägersten-Liljeholmens",
          "Skärholmens",
          "Kungsholmens",
          "Södermalms",
          "Enskede-Årsta-Vantörs",
          "Enskede-Årsta-Vantörs",
          "Hägersten-Liljeholmens",
          "Hässelby-Vällingby",
          "Södermalms",
          "Södermalms",
          "Södermalms",
          "Södermalms",
          "Norrmalms",
          "Hägersten-Liljeholmens",
          "Rinkeby-Tensta",
          "Norrmalms",
          "Farsta",
          "Hässelby-Vällingby",
          "Södermalms",
          "Östermalms",
          "Södermalms",
          "Spånga-Tensta",
          "Rinkeby-Tensta",
          "Östermalms",
          "Rinkeby-Tensta",
          "Södermalms",
          "Farsta",
          "Södermalms",
          "Södermalms",
          "Kungsholmens",
          "Södermalms",
          "Kungsholmens",
          "Bromma",
          "Kungsholmens",
          "Södermalms",
          "Hägersten-Liljeholmens",
          "Rinkeby-Tensta",
          "Enskede-Årsta-Vantörs",
          "Hässelby-Vällingby",
          "Norrmalms",
          "Norrmalms",
          "Östermalms",
          "Södermalms",
          "Spånga-Tensta",
          "Bromma",
          "Södermalms",
          "Södermalms",
          "Hässelby-Vällingby",
          "Hässelby-Vällingby",
          "Södermalms",
          "Södermalms",
          "Enskede-Årsta-Vantörs",
          "Enskede-Årsta-Vantörs",
          "Östermalms",
          "Älvsjö",
          "Norrmalms",
          "Skarpnäcks",
          "Östermalms",
          "Hässelby-Vällingby",
          "Spånga-Tensta",
          "Södermalms",
          "Östermalms",
          "Spånga-Tensta",
          "Kungsholmens",
          "Hässelby-Vällingby",
          "Enskede-Årsta-Vantörs",
          "Norrmalms",
          "Kungsholmens",
          "Norrmalms",
          "Kungsholmens",
          "Östermalms",
          "Hägersten-Liljeholmens",
          "Norrmalms",
          "Kungsholmens",
          "Enskede-Årsta-Vantörs",
          "Kungsholmens",
          "Farsta",
          "Hägersten-Liljeholmens",
          "Hässelby-Vällingby",
          "Farsta",
          "Södermalms",
          "Kungsholmens",
          "Kungsholmens",
          "Älvsjö",
          "Skärholmens",
          "Bromma",
          "Kungsholmens",
          "Södermalms",
          "Hässelby-Vällingby",
          "Skarpnäcks",
          "Kungsholmens",
          "Hässelby-Vällingby",
          "Hässelby-Vällingby",
          "Rinkeby-Tensta",
          "Södermalms",
          "Södermalms",
          "Hägersten-Liljeholmens",
          "Östermalms",
          "Kungsholmens",
          "Kungsholmens",
          "Kungsholmens",
          "Kungsholmens",
          "Södermalms",
          "Norrmalms",
          "Östermalms",
          "Södermalms",
          "Södermalms",
          "Södermalms",
          "Norrmalms",
          "Norrmalms",
          "Södermalms",
          "Hässelby-Vällingby",
          "Hägersten-Liljeholmens",
          "Rinkeby-Tensta",
          "Skarpnäcks",
          "Södermalms",
          "Hägersten-Liljeholmens",
          "Enskede-Årsta-Vantörs",
          "Södermalms",
          "Bromma",
          "Södermalms",
          "Bromma",
          "Norrmalms",
          "Norrmalms",
          "Norrmalms",
          "Östermalms",
          "Östermalms",
          "Skarpnäcks",
          "Farsta",
          "Älvsjö",
          "Spånga-Tensta"
         ],
         "x0": " ",
         "xaxis": "x",
         "y": [
          944,
          414,
          1320,
          814,
          2750,
          1190,
          750,
          4300,
          900,
          1400,
          360,
          350,
          2200,
          523,
          1399,
          2700,
          1000,
          1760,
          4245,
          981,
          470,
          552,
          1250,
          1549,
          1850,
          1800,
          1700,
          2200,
          2500,
          1843,
          2626,
          890,
          220,
          1300,
          740,
          1320,
          873,
          790,
          3000,
          1250,
          800,
          921,
          1000,
          2300,
          1800,
          3300,
          3683,
          850,
          1800,
          1572,
          3786,
          700,
          1500,
          2200,
          2200,
          900,
          975,
          2294,
          2210,
          450,
          700,
          3300,
          350,
          1499,
          1500,
          229,
          1686,
          3400,
          1690,
          1543,
          4000,
          950,
          1100,
          8000,
          799,
          590,
          690,
          1050,
          850,
          3500,
          350,
          3950,
          1193,
          990,
          4000,
          700,
          2500,
          1900,
          459,
          1850,
          2000,
          390,
          630,
          1900,
          1085,
          3129,
          1800,
          1500,
          3434,
          630,
          2616,
          4000,
          1200,
          3450,
          550,
          2600,
          229,
          3900,
          3500,
          3200,
          3200,
          3026,
          3629,
          1100,
          1533,
          2000,
          2500,
          1366,
          3500,
          2000,
          584,
          2057,
          1800,
          1290,
          720,
          3999,
          1200,
          803,
          4000,
          887,
          2500,
          2400,
          2490,
          500,
          495,
          2500,
          665,
          3500,
          4500,
          2500,
          1200,
          1000,
          950,
          3058,
          3000,
          1541,
          5000,
          1000,
          820,
          670,
          5057,
          2500,
          2150,
          1200,
          1100,
          1491,
          2000,
          2999,
          500,
          1500,
          1490,
          2294,
          1600,
          1778,
          3500,
          2600,
          660,
          500,
          629,
          250,
          850,
          2000,
          2785,
          1000,
          9450,
          4000,
          1400,
          3141,
          1850,
          549,
          1606,
          3500,
          2100,
          980,
          1490,
          1000,
          3862,
          360,
          701,
          3750,
          250,
          1500,
          700,
          1000,
          1190,
          1457,
          2822,
          1995,
          1500,
          699,
          1119,
          4293,
          3121,
          450,
          2640,
          790,
          900,
          1757,
          950,
          2000,
          725,
          422,
          855,
          1690,
          6450,
          1150,
          1300,
          2500,
          2500,
          1864,
          228,
          2750,
          2195,
          712,
          700,
          1400,
          500,
          1000,
          203,
          1300,
          4500,
          2294,
          2450,
          3000,
          500,
          231,
          4700,
          1050,
          848,
          340,
          1930,
          578,
          1057,
          3500,
          1800,
          995,
          1657,
          999,
          975,
          2350,
          4048,
          3114,
          2500,
          850,
          6000,
          1605,
          397,
          3800,
          1750,
          1064,
          1619,
          1727,
          3650,
          1700,
          425,
          2539,
          1901,
          7150,
          1967,
          1200,
          1200,
          3200,
          4500,
          755,
          1800,
          500,
          470,
          700,
          450,
          1800,
          2250,
          3700,
          500,
          800,
          2800,
          4531,
          2129,
          2500,
          350,
          900,
          500,
          750,
          1000,
          3000,
          1050,
          4500,
          2330,
          2966,
          857,
          1000,
          579,
          1042,
          2500,
          3000,
          1500,
          950,
          2200,
          453,
          800,
          4015,
          3200,
          414,
          1329,
          1029,
          1650,
          981,
          479,
          850,
          871,
          585,
          3000,
          375,
          2189,
          450,
          385,
          2000,
          3000,
          3500,
          375,
          1629,
          2100,
          925,
          1529,
          1230,
          2800,
          1595,
          650,
          1909,
          1000,
          2500,
          3500,
          857,
          2450,
          4100,
          3500,
          368,
          3900,
          899,
          999,
          2500,
          857,
          5286,
          1700,
          6495,
          4410,
          600,
          1721,
          3313,
          1800,
          200,
          1875,
          2150,
          1064,
          280,
          1000,
          2500,
          1957,
          5000,
          1829,
          1200,
          200,
          1900,
          1543,
          1343,
          2500,
          2700,
          1350,
          2400,
          690,
          1800,
          750,
          1100,
          1700,
          743,
          3400,
          1200,
          1000,
          1013,
          1750,
          5490,
          2526,
          399,
          700,
          363,
          1858,
          993,
          665,
          3653,
          6000,
          5132,
          2000,
          2200,
          4000,
          540,
          2143,
          2516,
          4905,
          1750,
          2200,
          525,
          627,
          4000,
          3690,
          1300,
          1750,
          2700,
          1893,
          3800,
          3100,
          1800,
          1200,
          2730,
          1000,
          1657,
          990,
          2500,
          1500,
          3200,
          399,
          454,
          1500,
          4000,
          1036,
          950,
          3500,
          3400,
          1000,
          376,
          1015,
          450,
          595,
          2679,
          2713,
          743,
          2550,
          1400,
          943,
          2286,
          900,
          907,
          1950,
          1832,
          450,
          2531,
          2000,
          640,
          900,
          990,
          2071,
          395,
          2996,
          1750,
          5000,
          1200,
          668,
          871,
          1700,
          1050,
          2356,
          896,
          1060,
          250,
          886,
          734,
          350,
          1279,
          1300,
          1588,
          1620,
          200,
          1621,
          892,
          750,
          3979,
          2871,
          3500,
          500,
          543,
          2253,
          1100,
          900,
          369,
          283,
          2800,
          2857,
          410,
          1903,
          367,
          900,
          1073,
          2700,
          400,
          1500,
          1191,
          2086,
          3500,
          385,
          3343,
          363,
          1200,
          3900,
          1262,
          415,
          1366,
          1511,
          2143,
          600,
          1360,
          397,
          943,
          1471,
          1400,
          1214,
          2000,
          3824,
          1800,
          371,
          874,
          5000,
          379,
          520,
          3000,
          3000,
          3000,
          4000,
          900,
          1200,
          1500,
          3081,
          1200,
          1950,
          950,
          5600,
          1057,
          900,
          1086,
          400,
          380,
          2500,
          1293,
          2495,
          350,
          1500,
          1950,
          1290,
          350,
          2000,
          3000,
          3813,
          1300,
          3000,
          6000,
          2300,
          3300,
          1000,
          300,
          5000,
          2500,
          970,
          3000,
          1950,
          804,
          3800,
          2800,
          700,
          1292,
          2410,
          3550,
          950,
          1365,
          749,
          996,
          1292,
          976,
          948,
          748,
          1989,
          800,
          1600,
          1100,
          860,
          1721,
          350,
          1032,
          1032,
          900,
          900,
          2686,
          699,
          890,
          5500,
          218,
          617,
          2160,
          700,
          672,
          850,
          667,
          950,
          805,
          1052,
          736,
          4000,
          2467,
          2384,
          1788,
          2000,
          400,
          2795,
          2889,
          671,
          671,
          900,
          699,
          629,
          654,
          574,
          720,
          3000,
          858,
          925,
          410,
          1111,
          1344,
          900,
          590,
          650,
          825,
          945,
          752,
          2514,
          2263,
          2632,
          577,
          1967,
          1967,
          2159,
          3200,
          450,
          650,
          500,
          1800,
          906,
          631,
          714,
          1800,
          2401,
          1800,
          2100,
          633,
          1614,
          2294,
          950,
          1433,
          1100,
          4862,
          1000,
          689,
          344,
          480,
          1800,
          503,
          3850,
          599,
          1271,
          350,
          615,
          3634,
          2279,
          811,
          2000,
          590,
          1121,
          900,
          2500,
          633,
          1130,
          750,
          1600,
          1500,
          689,
          1374,
          2950,
          1482,
          2200,
          1200,
          2200,
          700,
          500,
          2000,
          2988,
          2000,
          1000,
          650,
          400,
          2500,
          2294,
          2591,
          950,
          866,
          1350,
          1965,
          1028,
          3348,
          1200,
          1200,
          1028,
          947,
          2500,
          3097,
          1300,
          800,
          800,
          1100,
          2200,
          2546,
          3500,
          950,
          4977,
          3250,
          1925,
          850,
          820,
          1964,
          1900,
          614,
          672,
          400,
          1157,
          2237,
          2868,
          875,
          1800,
          1600,
          699,
          2000,
          1166,
          1715,
          1071,
          450,
          7000,
          1300,
          700,
          886,
          2076,
          1350,
          386,
          2327,
          1663,
          491,
          1965,
          700,
          649,
          1500,
          880,
          1529,
          1800,
          3000,
          990,
          580,
          2200,
          463,
          1757,
          1117,
          450,
          795,
          700,
          3500,
          524,
          1100,
          1629,
          2500,
          576,
          3407,
          850,
          1250,
          432,
          554,
          1000,
          640,
          1390,
          2729,
          2000,
          2674,
          2762,
          1200,
          520,
          580,
          577,
          3300,
          990,
          910,
          513,
          2950,
          450,
          1029,
          751,
          1900,
          1803,
          697,
          1243,
          4000,
          4200,
          690,
          1400,
          688,
          697,
          950,
          585,
          409,
          2050,
          2365,
          613,
          1275,
          1275,
          1382,
          1489,
          1596,
          1918,
          1704,
          1857,
          2439,
          613,
          1553,
          567,
          500,
          1434,
          1104,
          595,
          580,
          629,
          671,
          310,
          296,
          1900,
          1000,
          1269,
          990,
          1300,
          729,
          600,
          1300,
          850,
          850,
          2120,
          1600,
          400,
          1000,
          4921,
          200,
          1943,
          1160,
          2193,
          2895,
          400,
          2914,
          1200,
          960,
          2900,
          2000,
          2250,
          694,
          2500,
          1100,
          2500,
          500,
          1009,
          349,
          1443,
          880,
          3500,
          298,
          540,
          1050,
          449,
          3900,
          867,
          850,
          607,
          900,
          2500,
          1029,
          1000,
          3000,
          4870,
          2913,
          1768,
          1350,
          2000,
          1259,
          1898,
          2243,
          1031,
          2150,
          2699,
          5000,
          997,
          799,
          3500,
          2800,
          1302,
          2316,
          1323,
          1150,
          2122,
          1000,
          843,
          1350,
          200,
          1723,
          1466,
          2108,
          500,
          437,
          900,
          1200,
          1368,
          534,
          600,
          2864,
          2000,
          793,
          503,
          3495,
          1320,
          746,
          1036,
          900,
          972,
          1610,
          1986,
          1750,
          1241,
          1246,
          420,
          724,
          1340,
          300,
          1150,
          725,
          875,
          729,
          2000,
          656,
          1179,
          886,
          1434,
          1000,
          1386,
          1171,
          409,
          2750,
          1660,
          2000,
          3769,
          1456,
          1160,
          1262,
          900,
          4067,
          2500,
          1200,
          1532,
          580,
          1482,
          450,
          1157,
          650,
          850,
          4286,
          1584,
          475,
          2200,
          2300,
          6500,
          1450,
          2588,
          2541,
          3643,
          3000,
          1200,
          5786,
          2500,
          1182,
          2400,
          1600,
          600,
          1000,
          1275,
          850,
          2700,
          5421,
          1500,
          1800,
          2900,
          2495,
          3000,
          3000,
          700,
          778,
          2343,
          1491,
          966,
          860,
          2850,
          850,
          2400,
          3886,
          1400,
          1864,
          1500,
          1725,
          1489,
          1489,
          1881,
          803,
          2800,
          1871,
          1324,
          1424,
          1262,
          2904,
          1107,
          1605,
          1639,
          1764,
          1362,
          3002,
          1073,
          1568,
          1685,
          1615,
          3018,
          1787,
          1503,
          1725,
          1564,
          4867,
          1579,
          2500,
          1615,
          1175,
          1615,
          1366,
          1353,
          8000,
          869,
          1787,
          1688,
          731,
          3000,
          600,
          1671,
          1100,
          2250,
          377,
          1500,
          457,
          1200,
          1800,
          600,
          1200,
          1628,
          1000,
          1243,
          859,
          420,
          2200,
          1000,
          800,
          1921,
          390,
          2500,
          2714,
          550,
          1200,
          1600,
          1557,
          1900,
          640,
          750,
          1750,
          585,
          2429,
          994,
          2000,
          1928,
          1395,
          537,
          839,
          1102,
          1879,
          2000,
          2777,
          1010,
          2100,
          1347,
          1671,
          1200,
          1257,
          1400,
          889,
          1229,
          1979,
          1519,
          1260,
          1400,
          1000,
          989,
          607,
          2279,
          2600,
          1564,
          1400,
          918,
          950,
          1100,
          3200,
          2143,
          815,
          1000,
          350,
          1901,
          810,
          2000,
          320,
          555,
          949,
          659,
          3236,
          1500,
          2600,
          1300,
          3000,
          2214,
          700,
          671,
          871,
          2125,
          1690,
          800,
          680,
          1038,
          1890,
          4500,
          910,
          1279,
          2599,
          898,
          600,
          1000,
          1244,
          3000,
          1300,
          1616,
          1686,
          1498,
          2400,
          2628,
          2550,
          1550,
          2581,
          265,
          2000,
          2200,
          1229,
          1050,
          5000,
          2218,
          1500,
          3995,
          1857,
          1537,
          964,
          2100,
          753,
          330,
          2400,
          1200,
          1800,
          1527,
          600,
          1555,
          2350,
          1819,
          1950,
          600,
          1200,
          1071,
          2531,
          1500,
          900,
          365,
          947,
          2800,
          1461,
          1300,
          3800,
          2250,
          2000,
          3000,
          625,
          3297,
          1461,
          1520,
          1950,
          1300,
          4500,
          1943,
          2000,
          2000,
          2100,
          750,
          950,
          814,
          1071,
          2338,
          1200,
          1100,
          900,
          2995,
          1300,
          1100,
          1499,
          3000,
          1316,
          2900,
          2929,
          3600,
          956,
          2000,
          1121,
          3449,
          1300,
          400,
          990,
          3000,
          767,
          1699,
          2200,
          3995,
          1329,
          1500,
          3000,
          2300,
          1000,
          2500,
          2800,
          1257,
          1389,
          2100,
          2500,
          2868,
          2800,
          2379,
          1400,
          688,
          700,
          900,
          2000,
          689,
          2314,
          500,
          3227,
          965,
          1650,
          757,
          1650,
          2286,
          2750,
          402,
          1399,
          1322,
          700,
          1213,
          3250,
          1200,
          3000,
          611,
          1900,
          700,
          1101,
          7857,
          6500,
          298,
          1150,
          1214,
          1527,
          900,
          900,
          1900,
          779,
          1950,
          287,
          1520,
          900,
          2000,
          2000,
          1961,
          379,
          402,
          2900,
          550,
          1200,
          1699,
          1500,
          849,
          1436,
          2500,
          1700,
          841,
          1100,
          4500,
          635,
          3500,
          1100,
          751,
          783,
          907,
          1300,
          529,
          2011,
          746,
          2500,
          1443,
          2273,
          200,
          250,
          3976,
          1259,
          1200,
          2542,
          5343,
          2333,
          900,
          6400,
          1872,
          892,
          190,
          633,
          2736,
          1700,
          1400,
          600,
          1269,
          1457,
          1577,
          600,
          344,
          999,
          4929,
          779,
          759,
          1999,
          870,
          1400,
          920,
          973,
          2500,
          3677,
          436,
          643,
          800,
          871,
          1107,
          964,
          936,
          2000,
          3000,
          1300,
          1320,
          1682,
          829,
          3410,
          1293,
          2045,
          1462,
          528,
          4500,
          700,
          409,
          350,
          3800,
          2295,
          3600,
          525,
          2150,
          1365,
          1929,
          550,
          914,
          1350,
          1157,
          3446,
          1250,
          990,
          421,
          900,
          2500,
          1529,
          1250,
          825,
          4575,
          499,
          1300,
          1700,
          1463,
          1550,
          1200,
          2500,
          528,
          1100,
          1500,
          600,
          1100,
          1586,
          1647,
          1290,
          1122,
          2214,
          3000,
          4000,
          1400,
          300,
          1456,
          1000,
          943,
          2000,
          2000,
          1300,
          1200,
          800,
          2250,
          929,
          379,
          850,
          566,
          549,
          1600,
          2200,
          1014,
          2500,
          816,
          1400,
          1600,
          1964,
          1700,
          1500,
          950,
          1300,
          3957,
          845,
          2070,
          1419,
          1050,
          2429,
          180,
          535,
          180,
          1130,
          560,
          1130,
          1600,
          2914,
          2900,
          1929,
          2228,
          3486,
          5392,
          1500,
          2696,
          762,
          1026,
          2500,
          2910,
          1419,
          970,
          907,
          105,
          3029,
          650,
          450,
          400,
          1131,
          551,
          707,
          995,
          1237,
          2051,
          1290,
          1400,
          2999,
          2288,
          850,
          500,
          690,
          3450,
          2500,
          300,
          4200,
          500,
          800,
          3800,
          2700,
          1800,
          1000,
          4225,
          3500,
          1571,
          1671,
          5000,
          659,
          3214,
          3200,
          1057,
          700,
          7899,
          650,
          4000,
          1800,
          896,
          1750,
          3000,
          680,
          7000,
          529,
          1252,
          1100,
          1500,
          1800,
          934,
          1325,
          1191,
          1443,
          3000,
          1350,
          1786,
          1550,
          900,
          1200,
          800,
          1050,
          552,
          3899,
          2200,
          1200,
          2299,
          900,
          370,
          2100,
          5999,
          1250,
          4490,
          949,
          1807,
          1521,
          3725,
          3000,
          892,
          1114,
          8995,
          3000,
          2600,
          710,
          2657,
          1084,
          6500,
          2500,
          677,
          1886,
          3500,
          1800,
          1760,
          5000,
          817,
          798,
          1700,
          1513,
          2200,
          1900,
          664,
          2221,
          924,
          1500,
          2518,
          750,
          690,
          360,
          597,
          600,
          3887,
          1011,
          3164,
          1586,
          1950,
          2000,
          830,
          2200,
          1500,
          4700,
          3000,
          2889,
          864,
          1400,
          2429,
          500,
          1158,
          2500,
          5000,
          1657,
          927,
          2000,
          1068,
          650,
          1500,
          800,
          2887,
          1396,
          2500,
          1350,
          996,
          1300,
          2500,
          511,
          800,
          489,
          450,
          1300,
          5392,
          580,
          2103,
          1400,
          1762,
          1750,
          1200,
          4100,
          2300,
          1595,
          750,
          2000,
          1329,
          1200,
          680,
          3309,
          3900,
          906,
          292,
          3828,
          2700,
          3500,
          1500,
          2995,
          5000,
          1013,
          1514,
          2100,
          1300,
          1080,
          3179,
          920,
          302,
          756,
          1207,
          4000,
          938,
          2900,
          825,
          1379,
          959,
          1134,
          1600,
          1946,
          1393,
          1372,
          1064,
          2014,
          700,
          4000,
          1700,
          3998,
          650,
          566,
          406,
          2200,
          3500,
          700,
          891,
          1789,
          750,
          1300,
          2008,
          3750,
          2500,
          547,
          4300,
          208,
          2996,
          1279,
          1750,
          1500,
          2500,
          1700,
          4950,
          2500,
          2172,
          7329,
          1100,
          838,
          250,
          800,
          1021,
          1200,
          5271,
          1800,
          1200,
          684,
          2250,
          636,
          1500,
          662,
          1143,
          558,
          1200,
          2500,
          1286,
          1500,
          1494,
          2800,
          857,
          3200,
          3000,
          1500,
          900,
          2500,
          1000,
          1050,
          1040,
          888,
          1650,
          334,
          344,
          4000,
          1500,
          3799,
          2000,
          525,
          650,
          1689,
          973,
          1340,
          362,
          459,
          1043,
          900,
          750,
          1100,
          2800,
          1600,
          1100,
          2286,
          2000,
          5000,
          1307,
          720,
          950,
          350,
          540,
          1985,
          4700,
          402,
          4500,
          1486,
          2029,
          1750,
          4000,
          2801,
          1200,
          2943,
          1209,
          800,
          1750,
          557,
          3000,
          3500,
          918,
          1277,
          1345,
          622,
          2150,
          450,
          990,
          2500,
          1200,
          2500,
          1321,
          1943,
          2386,
          2500,
          1150,
          2120,
          1750,
          1500,
          374,
          850,
          1307,
          3800,
          2160,
          1920,
          2000,
          2000,
          1100,
          600,
          900,
          2500,
          3071,
          6757,
          1500,
          3229,
          2000,
          1949,
          3000,
          3500,
          3000,
          795,
          819,
          464,
          499,
          500,
          499,
          2459,
          1806,
          2700,
          4986,
          2243,
          3000,
          1493,
          1500,
          2500,
          1500,
          1200,
          4500,
          4941,
          850,
          4000,
          925,
          1080,
          2200,
          1800,
          1650,
          1360,
          1000,
          928,
          600,
          4000,
          700,
          2964,
          2471,
          1800,
          1300,
          1500,
          700,
          1400,
          289,
          769,
          700,
          420,
          950,
          500,
          1200,
          2500,
          1300,
          1408,
          1023,
          551,
          2006,
          1243,
          1617,
          650,
          1500,
          3000,
          1300,
          2000,
          1300,
          1700,
          697,
          2600,
          1599,
          1995,
          2398,
          847,
          804,
          1701,
          550,
          1200,
          3600,
          950,
          1200,
          555,
          723,
          1964,
          800,
          2000,
          850,
          3500,
          2000,
          1600,
          645,
          750,
          1888,
          1300,
          500,
          910,
          800,
          500,
          1200,
          3600,
          500,
          1090,
          737,
          680,
          700,
          1453,
          1520,
          1145,
          6900,
          1236,
          2000,
          1900,
          749,
          400,
          650,
          2057,
          1033,
          738,
          1800,
          1100,
          1075,
          2100,
          3637,
          3500,
          495,
          1343,
          320,
          3050,
          2900,
          2300,
          2900,
          2900,
          1561,
          1356,
          402,
          3750,
          600,
          550,
          500,
          1286,
          464,
          3300,
          552,
          1803,
          500,
          2000,
          1884,
          2028,
          819,
          776,
          540,
          1577,
          4000,
          971,
          2150,
          961,
          1329,
          664,
          1500,
          1990,
          750,
          524,
          2371,
          1511,
          571,
          1200,
          450,
          1100,
          971,
          1200,
          1343,
          1138,
          800,
          2240,
          3826,
          1633,
          1633,
          633,
          838,
          1138,
          1914,
          809,
          1182,
          957,
          2600,
          700,
          3429,
          993,
          2500,
          1094,
          570,
          1000,
          729,
          1386,
          748,
          603,
          1200,
          3500,
          2357,
          476,
          6743,
          712,
          560,
          555,
          760,
          472,
          938,
          938,
          690,
          760,
          650,
          1483,
          2100,
          249,
          700,
          1500,
          691,
          1212,
          1349,
          939,
          1183,
          1456,
          800,
          3859,
          1741,
          956,
          1300,
          699,
          1400,
          821,
          652,
          3586,
          900,
          1800,
          476,
          637,
          1145,
          4000,
          1121,
          2415,
          1323,
          1800,
          1921,
          2000,
          2750,
          334,
          2500,
          580,
          1046,
          600,
          400,
          550,
          1419,
          1243,
          1456,
          901,
          350,
          400,
          1100,
          2500,
          2903,
          1200,
          1629,
          1660,
          699,
          950,
          1693,
          1307,
          2500,
          549,
          875,
          888,
          270,
          4417,
          1490,
          300,
          902,
          620,
          2029,
          5600,
          2265,
          1045,
          680,
          3489,
          637,
          1500,
          700,
          600,
          1631,
          520,
          1331,
          771,
          694,
          1586,
          409,
          889,
          1200,
          1400,
          800,
          3571,
          1000,
          771,
          1800,
          855,
          2800,
          817,
          1200,
          3000,
          1457,
          1700,
          1403,
          1604,
          232,
          629,
          5000,
          1186,
          1494,
          1500,
          1750,
          650,
          1400,
          1400,
          600,
          880,
          857,
          926,
          623,
          1700,
          1500,
          1557,
          667,
          800,
          3510,
          318,
          1350,
          1575,
          1000,
          1893,
          1404,
          2852,
          1185,
          960,
          1006,
          585,
          900,
          3200,
          800,
          1400,
          609,
          908,
          714,
          3717,
          420,
          900,
          842,
          1685,
          1943,
          499,
          683,
          829,
          525,
          5700,
          2500,
          1733,
          2500,
          2600,
          2500,
          800,
          1500,
          960,
          995,
          1395,
          2398,
          525,
          654,
          2000,
          500,
          3000,
          1000,
          2000,
          1000,
          3800,
          399,
          950,
          628,
          1671,
          4000,
          1400,
          1200,
          6500,
          4343,
          2357,
          1257,
          439,
          1200,
          1303,
          2392,
          1984,
          1900,
          758,
          733,
          1835,
          1171,
          1631,
          1103,
          1147,
          3200,
          1174,
          1750,
          1350,
          891,
          2876,
          1786,
          920,
          720,
          500,
          1800,
          2500,
          1450,
          2500,
          1965,
          1856,
          1967,
          850,
          1000,
          2975,
          700,
          2056,
          1180,
          1295,
          703,
          1456,
          920,
          485,
          1150,
          1724,
          1456,
          550,
          887,
          1045,
          690,
          1456,
          2200,
          700,
          1500,
          620,
          966,
          520,
          7000,
          796,
          681,
          748,
          4143,
          2346,
          1567,
          1720,
          3270,
          1143,
          1251,
          1357,
          1100,
          675,
          927,
          642,
          1196,
          300,
          589,
          300,
          300,
          1143,
          1006,
          1650,
          280,
          2500,
          3800,
          1051,
          760,
          1300,
          869,
          260,
          1600,
          950,
          3250,
          5900,
          360,
          3000,
          815,
          1620,
          1979,
          1750,
          1400,
          1467,
          1440,
          1018,
          600,
          1721,
          750,
          496,
          3500,
          270,
          1080,
          1750,
          1214,
          1115,
          5300,
          2500,
          4000,
          671,
          1350,
          290,
          321,
          800,
          795,
          800,
          1049,
          3000,
          2156,
          2900,
          1440,
          1100,
          2579,
          3479,
          2500,
          2029,
          474,
          950,
          600,
          1300,
          1320,
          2500,
          1275,
          720,
          1620,
          2000,
          1098,
          1074,
          934,
          929,
          2200,
          409,
          1100,
          4832,
          1047,
          1213,
          1962,
          1209,
          1843,
          2190,
          750,
          1326,
          590,
          846,
          1190,
          1017,
          959,
          839,
          1239,
          1190,
          761,
          1900,
          1263,
          450,
          1700,
          7800,
          750,
          1350,
          2550,
          780,
          1036,
          700,
          416,
          3000,
          5200,
          3899,
          5500,
          1600,
          3350,
          1915,
          964,
          600,
          4000,
          800,
          4640,
          1400,
          789,
          850,
          2000,
          1330,
          2000,
          800,
          875,
          1136,
          700,
          402,
          1000,
          416,
          2186,
          2068,
          416,
          702,
          2000,
          340,
          414,
          1000,
          2700,
          840,
          1700,
          809,
          4500,
          3600,
          2891,
          2122,
          506,
          1200,
          1054,
          1410,
          1134,
          1900,
          7000,
          1379,
          2500,
          3000,
          1666,
          1533,
          1016,
          600,
          1943,
          820,
          700,
          779,
          2405,
          3304,
          8000,
          259,
          1000,
          1200,
          2700,
          400,
          1120,
          2500,
          1850,
          2300,
          877,
          800,
          775,
          5000,
          799,
          1840,
          1545,
          1428,
          1638,
          1946,
          3400,
          1500,
          1300,
          900,
          1800,
          1003,
          2425,
          600,
          1643,
          709,
          717,
          3505,
          9926,
          2071,
          1100,
          4500,
          1800,
          896,
          1000,
          5000,
          2500,
          1300,
          2278,
          820,
          895,
          4000,
          1000,
          984,
          3304,
          1601,
          5000,
          2000,
          1604,
          400,
          1027,
          1250,
          2042,
          2000,
          743,
          2195,
          1043,
          1356,
          2500,
          875,
          950,
          2500,
          2200,
          1300,
          4000,
          1500,
          2078,
          1090,
          380,
          840,
          672,
          1114,
          672,
          7000,
          600,
          4000,
          2749,
          1681,
          1236,
          850,
          1681,
          2500,
          2900,
          2257,
          4000,
          1300,
          1800,
          1148,
          1260,
          1221,
          1668,
          700,
          1300,
          4000,
          4286,
          1660,
          2500,
          600,
          1100,
          2995,
          2500,
          2500,
          2500,
          1500,
          1160,
          780,
          1500,
          5000,
          3327,
          2393,
          3571,
          1240,
          985,
          2500,
          363,
          1157,
          650,
          6250,
          3400,
          3500,
          788,
          4000,
          646,
          6000,
          4000,
          7500,
          1050,
          2400,
          600,
          580,
          5000,
          3000,
          2779,
          1900,
          2700,
          993,
          1450,
          229,
          559,
          1243,
          2000,
          1500,
          2500,
          2900,
          7000,
          1645,
          878,
          8000,
          840,
          2800,
          1195,
          3600,
          3500,
          1576,
          4000,
          2250,
          2000,
          1000,
          647,
          880,
          621,
          1170,
          2429,
          2240,
          1257,
          1600,
          2000,
          2000,
          1037,
          1384,
          1281,
          160,
          875,
          3000,
          2500,
          2800,
          1657,
          967,
          967,
          514,
          2000,
          1278,
          9000,
          1278,
          1107,
          3000,
          2000,
          1043,
          6029,
          450,
          2960,
          1500,
          1500,
          796,
          1900,
          2143,
          315,
          2100,
          1206,
          1320,
          3000,
          4500,
          950,
          1000,
          6000,
          5000,
          960,
          2800,
          1000,
          2900,
          850,
          2800,
          864,
          950,
          8500,
          1900,
          3500,
          3600,
          2500,
          1277,
          700,
          1999,
          3200,
          1111,
          757,
          1314,
          1235,
          2990,
          2614,
          1092,
          5000,
          4500,
          2900,
          1520,
          1280,
          2800,
          1300,
          2000,
          900,
          2226,
          1275,
          2513,
          2800,
          1050,
          1024,
          950,
          3000,
          2600,
          2400,
          3000,
          8000,
          800,
          2700,
          960,
          739,
          6000,
          1300,
          2086,
          4000,
          3000,
          7000,
          914,
          2421,
          1300,
          2050,
          1700,
          2600,
          1700,
          1200,
          3500,
          1750,
          2643,
          5000,
          2200,
          900,
          1100,
          2500,
          556,
          577,
          3000,
          1300,
          2000,
          2786,
          4000,
          2300,
          1500,
          3960,
          900,
          1200,
          850,
          3000,
          2429,
          550,
          1200,
          1260,
          1469,
          2457,
          500,
          613,
          499,
          490,
          1343,
          784,
          1750,
          1007,
          2100,
          450,
          279,
          279,
          1000,
          811,
          1300,
          936,
          494,
          1186,
          2500,
          519,
          1800,
          4000,
          800,
          2500,
          843,
          3400,
          816,
          1075,
          2000,
          2500,
          1700,
          900,
          2000,
          764,
          3800,
          4300,
          1106,
          3000,
          314,
          1400,
          1048,
          1700,
          394,
          1199,
          989,
          325,
          1160,
          252,
          1753,
          2964,
          480,
          709,
          210,
          950,
          2900,
          880,
          2650,
          1615,
          800,
          1199,
          1457,
          1650,
          600,
          2400,
          800,
          635,
          400,
          1120,
          537,
          1367,
          4687,
          500,
          1486,
          1900,
          2450,
          879,
          1300,
          1757,
          489,
          618,
          646,
          1100,
          1713,
          2100,
          1600,
          1317,
          629,
          2000,
          1500,
          705,
          857,
          1975,
          1133,
          563,
          1500,
          1250,
          621,
          1500,
          731,
          2000,
          1272,
          1509,
          936,
          1500,
          1074,
          900,
          2399,
          520,
          2010,
          3042,
          1750,
          1850,
          1200,
          1605,
          2057,
          607,
          830,
          2350,
          2857,
          5257,
          504,
          3990,
          1700,
          986,
          1300,
          2099,
          2000,
          2500,
          2429,
          2300,
          1400,
          4200,
          806,
          1660,
          950,
          5000,
          997,
          1120,
          705,
          950,
          1700,
          818,
          231,
          2343,
          1573,
          1869,
          1200,
          2800,
          450,
          3844,
          1929,
          875,
          1000,
          724,
          3000,
          2286,
          1000,
          1273,
          3000,
          353,
          2511,
          1500,
          2080,
          1500,
          950,
          1564,
          1153,
          500,
          2250,
          1040,
          3893,
          800,
          361,
          959,
          3000,
          2800,
          697,
          1900,
          2736,
          900,
          2000,
          514,
          904,
          280,
          2190,
          4000,
          680,
          2400,
          2200,
          2500,
          936,
          2300,
          900,
          550,
          488,
          1800,
          1259,
          1500,
          1290,
          1100,
          1400,
          330,
          500,
          1379,
          3000,
          2041,
          750,
          1400,
          1400,
          1400,
          1400,
          669,
          990,
          1384,
          1400,
          1007,
          599,
          1180,
          1900,
          993,
          1100,
          1300,
          2199,
          1911,
          1786,
          200,
          1243,
          1400,
          300,
          985,
          520,
          423,
          620,
          1271,
          1600,
          1800,
          957,
          5300,
          2134,
          1200,
          1600,
          600,
          944,
          1797,
          1219,
          1600,
          978,
          2500,
          1300,
          1350,
          880,
          4500,
          944,
          951,
          760,
          1200,
          1000,
          2300,
          544,
          390,
          1750,
          900,
          1600,
          2000,
          1000,
          3000,
          406,
          960,
          679,
          600,
          603,
          810,
          2000,
          1500,
          1893,
          1400,
          400,
          1300,
          1114,
          1950,
          750,
          700,
          1750,
          2300,
          1100,
          600,
          1400,
          645,
          1300,
          614,
          1000,
          2232,
          8720,
          8720,
          450,
          1300,
          800,
          799,
          7246,
          480,
          4500,
          700,
          550,
          1700,
          640,
          2339,
          1058,
          600,
          1600,
          950,
          1500,
          1461,
          532,
          2184,
          1000,
          2562,
          950,
          5500,
          705,
          462,
          693,
          777,
          800,
          2150,
          500,
          580,
          2256,
          2200,
          1700,
          3000,
          543,
          1169,
          1700,
          1000,
          950,
          700,
          725,
          704,
          1039,
          686,
          886,
          950,
          750,
          735,
          1066,
          283,
          1730,
          1300,
          600,
          666,
          2157,
          1000,
          1797,
          1055,
          856,
          586,
          600,
          1154,
          1500,
          1600,
          3000,
          1250,
          1050,
          1050,
          851,
          800,
          800,
          800,
          800,
          896,
          800,
          895,
          801,
          984,
          800,
          809,
          800,
          850,
          800,
          820,
          800,
          850,
          1836,
          330,
          2200,
          2357,
          1092,
          903,
          2400,
          709,
          990,
          480,
          1174,
          3500,
          754,
          1300,
          2482,
          837,
          800,
          200,
          1795,
          2286,
          1500,
          815,
          1797,
          2445,
          1960,
          1460,
          1000,
          2000,
          4000,
          1400,
          269,
          1629,
          1142,
          1995,
          721,
          790,
          1095,
          1750,
          1000,
          1929,
          500,
          1200,
          1000,
          1929,
          957,
          1640,
          1200,
          600,
          1199,
          1371,
          1400,
          2000,
          1514,
          2811,
          1500,
          1300,
          870,
          800,
          748,
          3382,
          1440,
          600,
          1700,
          880,
          583,
          1285,
          904,
          550,
          1753,
          200,
          1089,
          931,
          2430,
          1657,
          3243,
          1700,
          800,
          1583,
          400,
          700,
          1503,
          4200,
          950,
          800,
          857,
          590,
          1615,
          2000,
          1400,
          1200,
          1631,
          2000,
          1221,
          857,
          1258,
          850,
          400,
          1042,
          1570,
          1040,
          300,
          2628,
          2311,
          524,
          365,
          1755,
          2832,
          2115,
          5545,
          1800,
          1221,
          1673,
          1115,
          2231,
          920,
          920,
          920,
          1046,
          2079,
          1750,
          2822,
          3357,
          2053,
          820,
          866,
          859,
          1000,
          2000,
          1853,
          346,
          1200,
          999,
          1728,
          566,
          2400,
          1173,
          1750,
          750,
          1300,
          720,
          2800,
          536,
          1496,
          769,
          480,
          383,
          460,
          800,
          5900,
          2950,
          2500,
          1360,
          800,
          384,
          900,
          1040,
          1373,
          848,
          1000,
          450,
          746,
          1000,
          760,
          720,
          682,
          1200,
          600,
          1700,
          2890,
          794,
          623,
          720,
          508,
          447,
          1200,
          1132,
          852,
          714,
          2000,
          800,
          986,
          1600,
          2186,
          1266,
          1780,
          1006,
          455,
          315,
          3059,
          957,
          850,
          1107,
          1050,
          1350,
          2274,
          2630,
          1000,
          950,
          1000,
          1214,
          2123,
          1000,
          280,
          470,
          1900,
          4800,
          1400,
          1234,
          1680,
          977,
          2750,
          2491,
          1152,
          909,
          895,
          1700,
          2200,
          393,
          1107,
          570,
          1400,
          1063,
          800,
          4000,
          1371,
          1600,
          2500,
          1000,
          1084,
          690,
          1679,
          1029,
          2000,
          960,
          278,
          450,
          2345,
          1000,
          993,
          2829,
          696,
          1033,
          2000,
          2100,
          590,
          927,
          2313,
          843,
          310,
          3200,
          1130,
          1920,
          1500,
          977,
          500,
          320,
          800,
          934,
          2000,
          1000,
          1326,
          460,
          805,
          1690,
          1000,
          1000,
          1100,
          491,
          1120,
          1003,
          1025,
          720,
          1299,
          609,
          782,
          490,
          773,
          1600,
          960,
          960,
          2286,
          850,
          2020,
          640,
          1646,
          505,
          838,
          850,
          266,
          272,
          510,
          3724,
          3724,
          1061,
          1750,
          1809,
          2269,
          2506,
          1784,
          985,
          1028,
          562,
          854,
          891,
          2050,
          800,
          1083,
          960,
          410,
          1006,
          1680,
          877,
          2600,
          800,
          540,
          1264,
          2000,
          996,
          484,
          1052,
          1820,
          1820,
          1750,
          800,
          1014,
          360,
          1400,
          1000
         ],
         "y0": " ",
         "yaxis": "y"
        }
       ],
       "layout": {
        "boxmode": "group",
        "legend": {
         "tracegroupgap": 0
        },
        "template": {
         "data": {
          "bar": [
           {
            "error_x": {
             "color": "#2a3f5f"
            },
            "error_y": {
             "color": "#2a3f5f"
            },
            "marker": {
             "line": {
              "color": "#E5ECF6",
              "width": 0.5
             },
             "pattern": {
              "fillmode": "overlay",
              "size": 10,
              "solidity": 0.2
             }
            },
            "type": "bar"
           }
          ],
          "barpolar": [
           {
            "marker": {
             "line": {
              "color": "#E5ECF6",
              "width": 0.5
             },
             "pattern": {
              "fillmode": "overlay",
              "size": 10,
              "solidity": 0.2
             }
            },
            "type": "barpolar"
           }
          ],
          "carpet": [
           {
            "aaxis": {
             "endlinecolor": "#2a3f5f",
             "gridcolor": "white",
             "linecolor": "white",
             "minorgridcolor": "white",
             "startlinecolor": "#2a3f5f"
            },
            "baxis": {
             "endlinecolor": "#2a3f5f",
             "gridcolor": "white",
             "linecolor": "white",
             "minorgridcolor": "white",
             "startlinecolor": "#2a3f5f"
            },
            "type": "carpet"
           }
          ],
          "choropleth": [
           {
            "colorbar": {
             "outlinewidth": 0,
             "ticks": ""
            },
            "type": "choropleth"
           }
          ],
          "contour": [
           {
            "colorbar": {
             "outlinewidth": 0,
             "ticks": ""
            },
            "colorscale": [
             [
              0,
              "#0d0887"
             ],
             [
              0.1111111111111111,
              "#46039f"
             ],
             [
              0.2222222222222222,
              "#7201a8"
             ],
             [
              0.3333333333333333,
              "#9c179e"
             ],
             [
              0.4444444444444444,
              "#bd3786"
             ],
             [
              0.5555555555555556,
              "#d8576b"
             ],
             [
              0.6666666666666666,
              "#ed7953"
             ],
             [
              0.7777777777777778,
              "#fb9f3a"
             ],
             [
              0.8888888888888888,
              "#fdca26"
             ],
             [
              1,
              "#f0f921"
             ]
            ],
            "type": "contour"
           }
          ],
          "contourcarpet": [
           {
            "colorbar": {
             "outlinewidth": 0,
             "ticks": ""
            },
            "type": "contourcarpet"
           }
          ],
          "heatmap": [
           {
            "colorbar": {
             "outlinewidth": 0,
             "ticks": ""
            },
            "colorscale": [
             [
              0,
              "#0d0887"
             ],
             [
              0.1111111111111111,
              "#46039f"
             ],
             [
              0.2222222222222222,
              "#7201a8"
             ],
             [
              0.3333333333333333,
              "#9c179e"
             ],
             [
              0.4444444444444444,
              "#bd3786"
             ],
             [
              0.5555555555555556,
              "#d8576b"
             ],
             [
              0.6666666666666666,
              "#ed7953"
             ],
             [
              0.7777777777777778,
              "#fb9f3a"
             ],
             [
              0.8888888888888888,
              "#fdca26"
             ],
             [
              1,
              "#f0f921"
             ]
            ],
            "type": "heatmap"
           }
          ],
          "heatmapgl": [
           {
            "colorbar": {
             "outlinewidth": 0,
             "ticks": ""
            },
            "colorscale": [
             [
              0,
              "#0d0887"
             ],
             [
              0.1111111111111111,
              "#46039f"
             ],
             [
              0.2222222222222222,
              "#7201a8"
             ],
             [
              0.3333333333333333,
              "#9c179e"
             ],
             [
              0.4444444444444444,
              "#bd3786"
             ],
             [
              0.5555555555555556,
              "#d8576b"
             ],
             [
              0.6666666666666666,
              "#ed7953"
             ],
             [
              0.7777777777777778,
              "#fb9f3a"
             ],
             [
              0.8888888888888888,
              "#fdca26"
             ],
             [
              1,
              "#f0f921"
             ]
            ],
            "type": "heatmapgl"
           }
          ],
          "histogram": [
           {
            "marker": {
             "pattern": {
              "fillmode": "overlay",
              "size": 10,
              "solidity": 0.2
             }
            },
            "type": "histogram"
           }
          ],
          "histogram2d": [
           {
            "colorbar": {
             "outlinewidth": 0,
             "ticks": ""
            },
            "colorscale": [
             [
              0,
              "#0d0887"
             ],
             [
              0.1111111111111111,
              "#46039f"
             ],
             [
              0.2222222222222222,
              "#7201a8"
             ],
             [
              0.3333333333333333,
              "#9c179e"
             ],
             [
              0.4444444444444444,
              "#bd3786"
             ],
             [
              0.5555555555555556,
              "#d8576b"
             ],
             [
              0.6666666666666666,
              "#ed7953"
             ],
             [
              0.7777777777777778,
              "#fb9f3a"
             ],
             [
              0.8888888888888888,
              "#fdca26"
             ],
             [
              1,
              "#f0f921"
             ]
            ],
            "type": "histogram2d"
           }
          ],
          "histogram2dcontour": [
           {
            "colorbar": {
             "outlinewidth": 0,
             "ticks": ""
            },
            "colorscale": [
             [
              0,
              "#0d0887"
             ],
             [
              0.1111111111111111,
              "#46039f"
             ],
             [
              0.2222222222222222,
              "#7201a8"
             ],
             [
              0.3333333333333333,
              "#9c179e"
             ],
             [
              0.4444444444444444,
              "#bd3786"
             ],
             [
              0.5555555555555556,
              "#d8576b"
             ],
             [
              0.6666666666666666,
              "#ed7953"
             ],
             [
              0.7777777777777778,
              "#fb9f3a"
             ],
             [
              0.8888888888888888,
              "#fdca26"
             ],
             [
              1,
              "#f0f921"
             ]
            ],
            "type": "histogram2dcontour"
           }
          ],
          "mesh3d": [
           {
            "colorbar": {
             "outlinewidth": 0,
             "ticks": ""
            },
            "type": "mesh3d"
           }
          ],
          "parcoords": [
           {
            "line": {
             "colorbar": {
              "outlinewidth": 0,
              "ticks": ""
             }
            },
            "type": "parcoords"
           }
          ],
          "pie": [
           {
            "automargin": true,
            "type": "pie"
           }
          ],
          "scatter": [
           {
            "fillpattern": {
             "fillmode": "overlay",
             "size": 10,
             "solidity": 0.2
            },
            "type": "scatter"
           }
          ],
          "scatter3d": [
           {
            "line": {
             "colorbar": {
              "outlinewidth": 0,
              "ticks": ""
             }
            },
            "marker": {
             "colorbar": {
              "outlinewidth": 0,
              "ticks": ""
             }
            },
            "type": "scatter3d"
           }
          ],
          "scattercarpet": [
           {
            "marker": {
             "colorbar": {
              "outlinewidth": 0,
              "ticks": ""
             }
            },
            "type": "scattercarpet"
           }
          ],
          "scattergeo": [
           {
            "marker": {
             "colorbar": {
              "outlinewidth": 0,
              "ticks": ""
             }
            },
            "type": "scattergeo"
           }
          ],
          "scattergl": [
           {
            "marker": {
             "colorbar": {
              "outlinewidth": 0,
              "ticks": ""
             }
            },
            "type": "scattergl"
           }
          ],
          "scattermapbox": [
           {
            "marker": {
             "colorbar": {
              "outlinewidth": 0,
              "ticks": ""
             }
            },
            "type": "scattermapbox"
           }
          ],
          "scatterpolar": [
           {
            "marker": {
             "colorbar": {
              "outlinewidth": 0,
              "ticks": ""
             }
            },
            "type": "scatterpolar"
           }
          ],
          "scatterpolargl": [
           {
            "marker": {
             "colorbar": {
              "outlinewidth": 0,
              "ticks": ""
             }
            },
            "type": "scatterpolargl"
           }
          ],
          "scatterternary": [
           {
            "marker": {
             "colorbar": {
              "outlinewidth": 0,
              "ticks": ""
             }
            },
            "type": "scatterternary"
           }
          ],
          "surface": [
           {
            "colorbar": {
             "outlinewidth": 0,
             "ticks": ""
            },
            "colorscale": [
             [
              0,
              "#0d0887"
             ],
             [
              0.1111111111111111,
              "#46039f"
             ],
             [
              0.2222222222222222,
              "#7201a8"
             ],
             [
              0.3333333333333333,
              "#9c179e"
             ],
             [
              0.4444444444444444,
              "#bd3786"
             ],
             [
              0.5555555555555556,
              "#d8576b"
             ],
             [
              0.6666666666666666,
              "#ed7953"
             ],
             [
              0.7777777777777778,
              "#fb9f3a"
             ],
             [
              0.8888888888888888,
              "#fdca26"
             ],
             [
              1,
              "#f0f921"
             ]
            ],
            "type": "surface"
           }
          ],
          "table": [
           {
            "cells": {
             "fill": {
              "color": "#EBF0F8"
             },
             "line": {
              "color": "white"
             }
            },
            "header": {
             "fill": {
              "color": "#C8D4E3"
             },
             "line": {
              "color": "white"
             }
            },
            "type": "table"
           }
          ]
         },
         "layout": {
          "annotationdefaults": {
           "arrowcolor": "#2a3f5f",
           "arrowhead": 0,
           "arrowwidth": 1
          },
          "autotypenumbers": "strict",
          "coloraxis": {
           "colorbar": {
            "outlinewidth": 0,
            "ticks": ""
           }
          },
          "colorscale": {
           "diverging": [
            [
             0,
             "#8e0152"
            ],
            [
             0.1,
             "#c51b7d"
            ],
            [
             0.2,
             "#de77ae"
            ],
            [
             0.3,
             "#f1b6da"
            ],
            [
             0.4,
             "#fde0ef"
            ],
            [
             0.5,
             "#f7f7f7"
            ],
            [
             0.6,
             "#e6f5d0"
            ],
            [
             0.7,
             "#b8e186"
            ],
            [
             0.8,
             "#7fbc41"
            ],
            [
             0.9,
             "#4d9221"
            ],
            [
             1,
             "#276419"
            ]
           ],
           "sequential": [
            [
             0,
             "#0d0887"
            ],
            [
             0.1111111111111111,
             "#46039f"
            ],
            [
             0.2222222222222222,
             "#7201a8"
            ],
            [
             0.3333333333333333,
             "#9c179e"
            ],
            [
             0.4444444444444444,
             "#bd3786"
            ],
            [
             0.5555555555555556,
             "#d8576b"
            ],
            [
             0.6666666666666666,
             "#ed7953"
            ],
            [
             0.7777777777777778,
             "#fb9f3a"
            ],
            [
             0.8888888888888888,
             "#fdca26"
            ],
            [
             1,
             "#f0f921"
            ]
           ],
           "sequentialminus": [
            [
             0,
             "#0d0887"
            ],
            [
             0.1111111111111111,
             "#46039f"
            ],
            [
             0.2222222222222222,
             "#7201a8"
            ],
            [
             0.3333333333333333,
             "#9c179e"
            ],
            [
             0.4444444444444444,
             "#bd3786"
            ],
            [
             0.5555555555555556,
             "#d8576b"
            ],
            [
             0.6666666666666666,
             "#ed7953"
            ],
            [
             0.7777777777777778,
             "#fb9f3a"
            ],
            [
             0.8888888888888888,
             "#fdca26"
            ],
            [
             1,
             "#f0f921"
            ]
           ]
          },
          "colorway": [
           "#636efa",
           "#EF553B",
           "#00cc96",
           "#ab63fa",
           "#FFA15A",
           "#19d3f3",
           "#FF6692",
           "#B6E880",
           "#FF97FF",
           "#FECB52"
          ],
          "font": {
           "color": "#2a3f5f"
          },
          "geo": {
           "bgcolor": "white",
           "lakecolor": "white",
           "landcolor": "#E5ECF6",
           "showlakes": true,
           "showland": true,
           "subunitcolor": "white"
          },
          "hoverlabel": {
           "align": "left"
          },
          "hovermode": "closest",
          "mapbox": {
           "style": "light"
          },
          "paper_bgcolor": "white",
          "plot_bgcolor": "#E5ECF6",
          "polar": {
           "angularaxis": {
            "gridcolor": "white",
            "linecolor": "white",
            "ticks": ""
           },
           "bgcolor": "#E5ECF6",
           "radialaxis": {
            "gridcolor": "white",
            "linecolor": "white",
            "ticks": ""
           }
          },
          "scene": {
           "xaxis": {
            "backgroundcolor": "#E5ECF6",
            "gridcolor": "white",
            "gridwidth": 2,
            "linecolor": "white",
            "showbackground": true,
            "ticks": "",
            "zerolinecolor": "white"
           },
           "yaxis": {
            "backgroundcolor": "#E5ECF6",
            "gridcolor": "white",
            "gridwidth": 2,
            "linecolor": "white",
            "showbackground": true,
            "ticks": "",
            "zerolinecolor": "white"
           },
           "zaxis": {
            "backgroundcolor": "#E5ECF6",
            "gridcolor": "white",
            "gridwidth": 2,
            "linecolor": "white",
            "showbackground": true,
            "ticks": "",
            "zerolinecolor": "white"
           }
          },
          "shapedefaults": {
           "line": {
            "color": "#2a3f5f"
           }
          },
          "ternary": {
           "aaxis": {
            "gridcolor": "white",
            "linecolor": "white",
            "ticks": ""
           },
           "baxis": {
            "gridcolor": "white",
            "linecolor": "white",
            "ticks": ""
           },
           "bgcolor": "#E5ECF6",
           "caxis": {
            "gridcolor": "white",
            "linecolor": "white",
            "ticks": ""
           }
          },
          "title": {
           "x": 0.05
          },
          "xaxis": {
           "automargin": true,
           "gridcolor": "white",
           "linecolor": "white",
           "ticks": "",
           "title": {
            "standoff": 15
           },
           "zerolinecolor": "white",
           "zerolinewidth": 2
          },
          "yaxis": {
           "automargin": true,
           "gridcolor": "white",
           "linecolor": "white",
           "ticks": "",
           "title": {
            "standoff": 15
           },
           "zerolinecolor": "white",
           "zerolinewidth": 2
          }
         }
        },
        "title": {
         "text": "Figure 6: Price of Arbnb Listing Per Night in Stockholm in 2025 by Area"
        },
        "xaxis": {
         "anchor": "y",
         "categoryarray": [
          "Skärholmens",
          "Spånga-Tensta",
          "Rinkeby-Tensta",
          "Hässelby-Vällingby",
          "Farsta",
          "Älvsjö",
          "Skarpnäcks",
          "Bromma",
          "Östermalms",
          "Enskede-Årsta-Vantörs",
          "Kungsholmens",
          "Hägersten-Liljeholmens",
          "Norrmalms",
          "Södermalms"
         ],
         "categoryorder": "array",
         "domain": [
          0,
          1
         ],
         "title": {
          "text": "Area"
         }
        },
        "yaxis": {
         "anchor": "x",
         "domain": [
          0,
          1
         ],
         "title": {
          "text": "Price"
         }
        }
       }
      },
      "text/html": [
       "<div>                            <div id=\"21907bc6-70a3-4d8f-ac42-cff03fd232ff\" class=\"plotly-graph-div\" style=\"height:525px; width:100%;\"></div>            <script type=\"text/javascript\">                require([\"plotly\"], function(Plotly) {                    window.PLOTLYENV=window.PLOTLYENV || {};                                    if (document.getElementById(\"21907bc6-70a3-4d8f-ac42-cff03fd232ff\")) {                    Plotly.newPlot(                        \"21907bc6-70a3-4d8f-ac42-cff03fd232ff\",                        [{\"alignmentgroup\":\"True\",\"hovertemplate\":\"Area=%{x}<br>Price=%{y}<extra></extra>\",\"legendgroup\":\"\",\"marker\":{\"color\":\"#636efa\"},\"name\":\"\",\"notched\":false,\"offsetgroup\":\"\",\"orientation\":\"v\",\"showlegend\":false,\"x\":[\"S\\u00f6dermalms\",\"Kungsholmens\",\"Norrmalms\",\"S\\u00f6dermalms\",\"S\\u00f6dermalms\",\"S\\u00f6dermalms\",\"\\u00c4lvsj\\u00f6\",\"Norrmalms\",\"Norrmalms\",\"S\\u00f6dermalms\",\"Skarpn\\u00e4cks\",\"Enskede-\\u00c5rsta-Vant\\u00f6rs\",\"Enskede-\\u00c5rsta-Vant\\u00f6rs\",\"S\\u00f6dermalms\",\"H\\u00e4gersten-Liljeholmens\",\"Skarpn\\u00e4cks\",\"Norrmalms\",\"Bromma\",\"H\\u00e4gersten-Liljeholmens\",\"Kungsholmens\",\"\\u00d6stermalms\",\"Skarpn\\u00e4cks\",\"S\\u00f6dermalms\",\"Kungsholmens\",\"Norrmalms\",\"Norrmalms\",\"Kungsholmens\",\"Norrmalms\",\"\\u00d6stermalms\",\"H\\u00e4gersten-Liljeholmens\",\"Norrmalms\",\"Kungsholmens\",\"Sk\\u00e4rholmens\",\"Norrmalms\",\"\\u00d6stermalms\",\"S\\u00f6dermalms\",\"Enskede-\\u00c5rsta-Vant\\u00f6rs\",\"Sk\\u00e4rholmens\",\"S\\u00f6dermalms\",\"Kungsholmens\",\"Skarpn\\u00e4cks\",\"\\u00c4lvsj\\u00f6\",\"Enskede-\\u00c5rsta-Vant\\u00f6rs\",\"S\\u00f6dermalms\",\"Kungsholmens\",\"\\u00d6stermalms\",\"H\\u00e4gersten-Liljeholmens\",\"Norrmalms\",\"Enskede-\\u00c5rsta-Vant\\u00f6rs\",\"Norrmalms\",\"Enskede-\\u00c5rsta-Vant\\u00f6rs\",\"\\u00d6stermalms\",\"Norrmalms\",\"Kungsholmens\",\"Norrmalms\",\"S\\u00f6dermalms\",\"\\u00d6stermalms\",\"H\\u00e4gersten-Liljeholmens\",\"S\\u00f6dermalms\",\"Skarpn\\u00e4cks\",\"Kungsholmens\",\"Skarpn\\u00e4cks\",\"Skarpn\\u00e4cks\",\"Sk\\u00e4rholmens\",\"H\\u00e4gersten-Liljeholmens\",\"H\\u00e4gersten-Liljeholmens\",\"S\\u00f6dermalms\",\"S\\u00f6dermalms\",\"S\\u00f6dermalms\",\"S\\u00f6dermalms\",\"S\\u00f6dermalms\",\"S\\u00f6dermalms\",\"S\\u00f6dermalms\",\"\\u00c4lvsj\\u00f6\",\"\\u00c4lvsj\\u00f6\",\"Sk\\u00e4rholmens\",\"Sk\\u00e4rholmens\",\"H\\u00e4gersten-Liljeholmens\",\"Norrmalms\",\"Enskede-\\u00c5rsta-Vant\\u00f6rs\",\"S\\u00f6dermalms\",\"S\\u00f6dermalms\",\"Norrmalms\",\"Kungsholmens\",\"Norrmalms\",\"Bromma\",\"S\\u00f6dermalms\",\"Enskede-\\u00c5rsta-Vant\\u00f6rs\",\"H\\u00e4gersten-Liljeholmens\",\"Kungsholmens\",\"Skarpn\\u00e4cks\",\"Farsta\",\"\\u00d6stermalms\",\"S\\u00f6dermalms\",\"S\\u00f6dermalms\",\"Bromma\",\"Farsta\",\"Bromma\",\"Norrmalms\",\"Enskede-\\u00c5rsta-Vant\\u00f6rs\",\"S\\u00f6dermalms\",\"S\\u00f6dermalms\",\"\\u00c4lvsj\\u00f6\",\"Norrmalms\",\"H\\u00e4gersten-Liljeholmens\",\"Farsta\",\"H\\u00e4gersten-Liljeholmens\",\"Bromma\",\"S\\u00f6dermalms\",\"Norrmalms\",\"S\\u00f6dermalms\",\"Norrmalms\",\"S\\u00f6dermalms\",\"Enskede-\\u00c5rsta-Vant\\u00f6rs\",\"S\\u00f6dermalms\",\"Kungsholmens\",\"Kungsholmens\",\"S\\u00f6dermalms\",\"\\u00c4lvsj\\u00f6\",\"Kungsholmens\",\"Enskede-\\u00c5rsta-Vant\\u00f6rs\",\"S\\u00f6dermalms\",\"S\\u00f6dermalms\",\"Skarpn\\u00e4cks\",\"H\\u00e4gersten-Liljeholmens\",\"S\\u00f6dermalms\",\"S\\u00f6dermalms\",\"Norrmalms\",\"Norrmalms\",\"\\u00d6stermalms\",\"\\u00c4lvsj\\u00f6\",\"H\\u00e4gersten-Liljeholmens\",\"Norrmalms\",\"Skarpn\\u00e4cks\",\"Kungsholmens\",\"Enskede-\\u00c5rsta-Vant\\u00f6rs\",\"\\u00c4lvsj\\u00f6\",\"Farsta\",\"Bromma\",\"S\\u00f6dermalms\",\"Kungsholmens\",\"Kungsholmens\",\"\\u00c4lvsj\\u00f6\",\"\\u00d6stermalms\",\"Norrmalms\",\"S\\u00f6dermalms\",\"Norrmalms\",\"Skarpn\\u00e4cks\",\"Enskede-\\u00c5rsta-Vant\\u00f6rs\",\"Bromma\",\"Farsta\",\"S\\u00f6dermalms\",\"Sk\\u00e4rholmens\",\"H\\u00e4sselby-V\\u00e4llingby\",\"Norrmalms\",\"\\u00d6stermalms\",\"Skarpn\\u00e4cks\",\"S\\u00f6dermalms\",\"H\\u00e4gersten-Liljeholmens\",\"\\u00d6stermalms\",\"S\\u00f6dermalms\",\"Sk\\u00e4rholmens\",\"Norrmalms\",\"\\u00c4lvsj\\u00f6\",\"Bromma\",\"Kungsholmens\",\"H\\u00e4gersten-Liljeholmens\",\"Skarpn\\u00e4cks\",\"Skarpn\\u00e4cks\",\"Skarpn\\u00e4cks\",\"Skarpn\\u00e4cks\",\"Norrmalms\",\"S\\u00f6dermalms\",\"H\\u00e4gersten-Liljeholmens\",\"S\\u00f6dermalms\",\"\\u00d6stermalms\",\"Enskede-\\u00c5rsta-Vant\\u00f6rs\",\"H\\u00e4sselby-V\\u00e4llingby\",\"Norrmalms\",\"Bromma\",\"Kungsholmens\",\"Kungsholmens\",\"H\\u00e4gersten-Liljeholmens\",\"Enskede-\\u00c5rsta-Vant\\u00f6rs\",\"Skarpn\\u00e4cks\",\"Skarpn\\u00e4cks\",\"Bromma\",\"Norrmalms\",\"Farsta\",\"Skarpn\\u00e4cks\",\"Farsta\",\"H\\u00e4gersten-Liljeholmens\",\"Norrmalms\",\"S\\u00f6dermalms\",\"S\\u00f6dermalms\",\"S\\u00f6dermalms\",\"S\\u00f6dermalms\",\"H\\u00e4gersten-Liljeholmens\",\"\\u00d6stermalms\",\"H\\u00e4gersten-Liljeholmens\",\"Skarpn\\u00e4cks\",\"S\\u00f6dermalms\",\"S\\u00f6dermalms\",\"Sk\\u00e4rholmens\",\"Farsta\",\"Sk\\u00e4rholmens\",\"\\u00d6stermalms\",\"Farsta\",\"H\\u00e4gersten-Liljeholmens\",\"S\\u00f6dermalms\",\"S\\u00f6dermalms\",\"\\u00d6stermalms\",\"S\\u00f6dermalms\",\"S\\u00f6dermalms\",\"Norrmalms\",\"Bromma\",\"Norrmalms\",\"S\\u00f6dermalms\",\"Enskede-\\u00c5rsta-Vant\\u00f6rs\",\"Bromma\",\"H\\u00e4gersten-Liljeholmens\",\"Kungsholmens\",\"Farsta\",\"S\\u00f6dermalms\",\"Norrmalms\",\"S\\u00f6dermalms\",\"Norrmalms\",\"S\\u00f6dermalms\",\"Sp\\u00e5nga-Tensta\",\"H\\u00e4sselby-V\\u00e4llingby\",\"H\\u00e4gersten-Liljeholmens\",\"H\\u00e4gersten-Liljeholmens\",\"S\\u00f6dermalms\",\"H\\u00e4gersten-Liljeholmens\",\"\\u00d6stermalms\",\"Sk\\u00e4rholmens\",\"H\\u00e4sselby-V\\u00e4llingby\",\"S\\u00f6dermalms\",\"S\\u00f6dermalms\",\"S\\u00f6dermalms\",\"Norrmalms\",\"S\\u00f6dermalms\",\"Norrmalms\",\"\\u00c4lvsj\\u00f6\",\"H\\u00e4sselby-V\\u00e4llingby\",\"Kungsholmens\",\"\\u00d6stermalms\",\"\\u00d6stermalms\",\"H\\u00e4gersten-Liljeholmens\",\"S\\u00f6dermalms\",\"\\u00d6stermalms\",\"S\\u00f6dermalms\",\"S\\u00f6dermalms\",\"\\u00d6stermalms\",\"\\u00d6stermalms\",\"Bromma\",\"H\\u00e4gersten-Liljeholmens\",\"Bromma\",\"Norrmalms\",\"S\\u00f6dermalms\",\"S\\u00f6dermalms\",\"S\\u00f6dermalms\",\"Enskede-\\u00c5rsta-Vant\\u00f6rs\",\"S\\u00f6dermalms\",\"H\\u00e4gersten-Liljeholmens\",\"Enskede-\\u00c5rsta-Vant\\u00f6rs\",\"S\\u00f6dermalms\",\"Enskede-\\u00c5rsta-Vant\\u00f6rs\",\"Sp\\u00e5nga-Tensta\",\"\\u00d6stermalms\",\"Kungsholmens\",\"Norrmalms\",\"Kungsholmens\",\"Enskede-\\u00c5rsta-Vant\\u00f6rs\",\"S\\u00f6dermalms\",\"Rinkeby-Tensta\",\"Enskede-\\u00c5rsta-Vant\\u00f6rs\",\"H\\u00e4gersten-Liljeholmens\",\"H\\u00e4gersten-Liljeholmens\",\"S\\u00f6dermalms\",\"S\\u00f6dermalms\",\"Skarpn\\u00e4cks\",\"Rinkeby-Tensta\",\"Kungsholmens\",\"Sp\\u00e5nga-Tensta\",\"Enskede-\\u00c5rsta-Vant\\u00f6rs\",\"S\\u00f6dermalms\",\"Farsta\",\"Rinkeby-Tensta\",\"H\\u00e4gersten-Liljeholmens\",\"Rinkeby-Tensta\",\"Farsta\",\"H\\u00e4gersten-Liljeholmens\",\"H\\u00e4gersten-Liljeholmens\",\"Skarpn\\u00e4cks\",\"Norrmalms\",\"S\\u00f6dermalms\",\"S\\u00f6dermalms\",\"\\u00c4lvsj\\u00f6\",\"H\\u00e4gersten-Liljeholmens\",\"S\\u00f6dermalms\",\"\\u00d6stermalms\",\"Skarpn\\u00e4cks\",\"H\\u00e4gersten-Liljeholmens\",\"S\\u00f6dermalms\",\"\\u00d6stermalms\",\"Sp\\u00e5nga-Tensta\",\"Sk\\u00e4rholmens\",\"Sk\\u00e4rholmens\",\"S\\u00f6dermalms\",\"\\u00c4lvsj\\u00f6\",\"Rinkeby-Tensta\",\"S\\u00f6dermalms\",\"\\u00d6stermalms\",\"Farsta\",\"Kungsholmens\",\"Rinkeby-Tensta\",\"Sp\\u00e5nga-Tensta\",\"Enskede-\\u00c5rsta-Vant\\u00f6rs\",\"Kungsholmens\",\"Enskede-\\u00c5rsta-Vant\\u00f6rs\",\"Enskede-\\u00c5rsta-Vant\\u00f6rs\",\"Bromma\",\"Enskede-\\u00c5rsta-Vant\\u00f6rs\",\"Enskede-\\u00c5rsta-Vant\\u00f6rs\",\"Bromma\",\"Skarpn\\u00e4cks\",\"S\\u00f6dermalms\",\"Enskede-\\u00c5rsta-Vant\\u00f6rs\",\"Norrmalms\",\"Bromma\",\"Kungsholmens\",\"Kungsholmens\",\"S\\u00f6dermalms\",\"Bromma\",\"S\\u00f6dermalms\",\"H\\u00e4sselby-V\\u00e4llingby\",\"S\\u00f6dermalms\",\"Kungsholmens\",\"S\\u00f6dermalms\",\"Bromma\",\"Skarpn\\u00e4cks\",\"Skarpn\\u00e4cks\",\"Bromma\",\"Enskede-\\u00c5rsta-Vant\\u00f6rs\",\"H\\u00e4gersten-Liljeholmens\",\"S\\u00f6dermalms\",\"H\\u00e4sselby-V\\u00e4llingby\",\"S\\u00f6dermalms\",\"Norrmalms\",\"S\\u00f6dermalms\",\"S\\u00f6dermalms\",\"Kungsholmens\",\"Kungsholmens\",\"S\\u00f6dermalms\",\"S\\u00f6dermalms\",\"Enskede-\\u00c5rsta-Vant\\u00f6rs\",\"Kungsholmens\",\"S\\u00f6dermalms\",\"Sp\\u00e5nga-Tensta\",\"Kungsholmens\",\"\\u00d6stermalms\",\"S\\u00f6dermalms\",\"Sp\\u00e5nga-Tensta\",\"S\\u00f6dermalms\",\"Kungsholmens\",\"S\\u00f6dermalms\",\"S\\u00f6dermalms\",\"Bromma\",\"S\\u00f6dermalms\",\"Sp\\u00e5nga-Tensta\",\"Skarpn\\u00e4cks\",\"H\\u00e4gersten-Liljeholmens\",\"\\u00d6stermalms\",\"Bromma\",\"S\\u00f6dermalms\",\"H\\u00e4sselby-V\\u00e4llingby\",\"H\\u00e4gersten-Liljeholmens\",\"Enskede-\\u00c5rsta-Vant\\u00f6rs\",\"S\\u00f6dermalms\",\"Enskede-\\u00c5rsta-Vant\\u00f6rs\",\"Norrmalms\",\"S\\u00f6dermalms\",\"Bromma\",\"Bromma\",\"H\\u00e4gersten-Liljeholmens\",\"Kungsholmens\",\"S\\u00f6dermalms\",\"S\\u00f6dermalms\",\"H\\u00e4gersten-Liljeholmens\",\"Norrmalms\",\"H\\u00e4gersten-Liljeholmens\",\"H\\u00e4gersten-Liljeholmens\",\"H\\u00e4gersten-Liljeholmens\",\"S\\u00f6dermalms\",\"Norrmalms\",\"Bromma\",\"S\\u00f6dermalms\",\"Kungsholmens\",\"Skarpn\\u00e4cks\",\"Farsta\",\"Enskede-\\u00c5rsta-Vant\\u00f6rs\",\"S\\u00f6dermalms\",\"Farsta\",\"Sp\\u00e5nga-Tensta\",\"S\\u00f6dermalms\",\"Norrmalms\",\"Skarpn\\u00e4cks\",\"Farsta\",\"S\\u00f6dermalms\",\"S\\u00f6dermalms\",\"Norrmalms\",\"S\\u00f6dermalms\",\"Sk\\u00e4rholmens\",\"Kungsholmens\",\"Farsta\",\"Skarpn\\u00e4cks\",\"Enskede-\\u00c5rsta-Vant\\u00f6rs\",\"\\u00d6stermalms\",\"S\\u00f6dermalms\",\"\\u00d6stermalms\",\"Norrmalms\",\"Rinkeby-Tensta\",\"S\\u00f6dermalms\",\"H\\u00e4gersten-Liljeholmens\",\"Enskede-\\u00c5rsta-Vant\\u00f6rs\",\"Bromma\",\"S\\u00f6dermalms\",\"Enskede-\\u00c5rsta-Vant\\u00f6rs\",\"Enskede-\\u00c5rsta-Vant\\u00f6rs\",\"H\\u00e4gersten-Liljeholmens\",\"H\\u00e4gersten-Liljeholmens\",\"Bromma\",\"Norrmalms\",\"S\\u00f6dermalms\",\"S\\u00f6dermalms\",\"S\\u00f6dermalms\",\"Enskede-\\u00c5rsta-Vant\\u00f6rs\",\"H\\u00e4sselby-V\\u00e4llingby\",\"Skarpn\\u00e4cks\",\"Bromma\",\"S\\u00f6dermalms\",\"Enskede-\\u00c5rsta-Vant\\u00f6rs\",\"Kungsholmens\",\"Enskede-\\u00c5rsta-Vant\\u00f6rs\",\"S\\u00f6dermalms\",\"Bromma\",\"S\\u00f6dermalms\",\"Kungsholmens\",\"Norrmalms\",\"\\u00c4lvsj\\u00f6\",\"S\\u00f6dermalms\",\"H\\u00e4gersten-Liljeholmens\",\"S\\u00f6dermalms\",\"S\\u00f6dermalms\",\"Kungsholmens\",\"Enskede-\\u00c5rsta-Vant\\u00f6rs\",\"\\u00c4lvsj\\u00f6\",\"\\u00d6stermalms\",\"Kungsholmens\",\"S\\u00f6dermalms\",\"S\\u00f6dermalms\",\"Norrmalms\",\"S\\u00f6dermalms\",\"Bromma\",\"Bromma\",\"\\u00d6stermalms\",\"S\\u00f6dermalms\",\"S\\u00f6dermalms\",\"\\u00d6stermalms\",\"Kungsholmens\",\"Sp\\u00e5nga-Tensta\",\"S\\u00f6dermalms\",\"\\u00c4lvsj\\u00f6\",\"\\u00c4lvsj\\u00f6\",\"Kungsholmens\",\"Kungsholmens\",\"S\\u00f6dermalms\",\"Norrmalms\",\"Sp\\u00e5nga-Tensta\",\"S\\u00f6dermalms\",\"\\u00d6stermalms\",\"Kungsholmens\",\"\\u00c4lvsj\\u00f6\",\"S\\u00f6dermalms\",\"\\u00d6stermalms\",\"Skarpn\\u00e4cks\",\"Bromma\",\"S\\u00f6dermalms\",\"H\\u00e4sselby-V\\u00e4llingby\",\"Enskede-\\u00c5rsta-Vant\\u00f6rs\",\"Sk\\u00e4rholmens\",\"Bromma\",\"S\\u00f6dermalms\",\"Farsta\",\"Rinkeby-Tensta\",\"S\\u00f6dermalms\",\"Sk\\u00e4rholmens\",\"Enskede-\\u00c5rsta-Vant\\u00f6rs\",\"S\\u00f6dermalms\",\"Bromma\",\"Farsta\",\"\\u00d6stermalms\",\"S\\u00f6dermalms\",\"Bromma\",\"H\\u00e4gersten-Liljeholmens\",\"H\\u00e4gersten-Liljeholmens\",\"S\\u00f6dermalms\",\"Skarpn\\u00e4cks\",\"H\\u00e4sselby-V\\u00e4llingby\",\"Enskede-\\u00c5rsta-Vant\\u00f6rs\",\"Kungsholmens\",\"H\\u00e4gersten-Liljeholmens\",\"S\\u00f6dermalms\",\"S\\u00f6dermalms\",\"Farsta\",\"Kungsholmens\",\"S\\u00f6dermalms\",\"Enskede-\\u00c5rsta-Vant\\u00f6rs\",\"Kungsholmens\",\"Skarpn\\u00e4cks\",\"Skarpn\\u00e4cks\",\"S\\u00f6dermalms\",\"Norrmalms\",\"S\\u00f6dermalms\",\"Kungsholmens\",\"Bromma\",\"Bromma\",\"Kungsholmens\",\"Sk\\u00e4rholmens\",\"\\u00c4lvsj\\u00f6\",\"Farsta\",\"H\\u00e4sselby-V\\u00e4llingby\",\"Enskede-\\u00c5rsta-Vant\\u00f6rs\",\"Enskede-\\u00c5rsta-Vant\\u00f6rs\",\"Norrmalms\",\"Skarpn\\u00e4cks\",\"Bromma\",\"S\\u00f6dermalms\",\"S\\u00f6dermalms\",\"Norrmalms\",\"\\u00d6stermalms\",\"H\\u00e4sselby-V\\u00e4llingby\",\"S\\u00f6dermalms\",\"H\\u00e4gersten-Liljeholmens\",\"S\\u00f6dermalms\",\"Skarpn\\u00e4cks\",\"Skarpn\\u00e4cks\",\"Norrmalms\",\"Sp\\u00e5nga-Tensta\",\"H\\u00e4gersten-Liljeholmens\",\"Enskede-\\u00c5rsta-Vant\\u00f6rs\",\"\\u00d6stermalms\",\"\\u00d6stermalms\",\"S\\u00f6dermalms\",\"Enskede-\\u00c5rsta-Vant\\u00f6rs\",\"\\u00c4lvsj\\u00f6\",\"H\\u00e4sselby-V\\u00e4llingby\",\"Norrmalms\",\"Skarpn\\u00e4cks\",\"\\u00d6stermalms\",\"\\u00d6stermalms\",\"Skarpn\\u00e4cks\",\"S\\u00f6dermalms\",\"H\\u00e4gersten-Liljeholmens\",\"H\\u00e4sselby-V\\u00e4llingby\",\"S\\u00f6dermalms\",\"S\\u00f6dermalms\",\"H\\u00e4gersten-Liljeholmens\",\"Skarpn\\u00e4cks\",\"S\\u00f6dermalms\",\"Norrmalms\",\"Skarpn\\u00e4cks\",\"S\\u00f6dermalms\",\"Skarpn\\u00e4cks\",\"S\\u00f6dermalms\",\"S\\u00f6dermalms\",\"Norrmalms\",\"S\\u00f6dermalms\",\"S\\u00f6dermalms\",\"Kungsholmens\",\"Kungsholmens\",\"S\\u00f6dermalms\",\"S\\u00f6dermalms\",\"S\\u00f6dermalms\",\"S\\u00f6dermalms\",\"Norrmalms\",\"Kungsholmens\",\"Enskede-\\u00c5rsta-Vant\\u00f6rs\",\"S\\u00f6dermalms\",\"H\\u00e4gersten-Liljeholmens\",\"Kungsholmens\",\"Sk\\u00e4rholmens\",\"\\u00c4lvsj\\u00f6\",\"\\u00c4lvsj\\u00f6\",\"S\\u00f6dermalms\",\"\\u00d6stermalms\",\"S\\u00f6dermalms\",\"Enskede-\\u00c5rsta-Vant\\u00f6rs\",\"Bromma\",\"Norrmalms\",\"H\\u00e4gersten-Liljeholmens\",\"S\\u00f6dermalms\",\"S\\u00f6dermalms\",\"S\\u00f6dermalms\",\"H\\u00e4gersten-Liljeholmens\",\"Farsta\",\"S\\u00f6dermalms\",\"\\u00d6stermalms\",\"\\u00d6stermalms\",\"Kungsholmens\",\"Bromma\",\"S\\u00f6dermalms\",\"S\\u00f6dermalms\",\"S\\u00f6dermalms\",\"\\u00d6stermalms\",\"S\\u00f6dermalms\",\"S\\u00f6dermalms\",\"\\u00d6stermalms\",\"S\\u00f6dermalms\",\"Kungsholmens\",\"Kungsholmens\",\"Skarpn\\u00e4cks\",\"Kungsholmens\",\"Kungsholmens\",\"Kungsholmens\",\"Kungsholmens\",\"Kungsholmens\",\"Enskede-\\u00c5rsta-Vant\\u00f6rs\",\"S\\u00f6dermalms\",\"S\\u00f6dermalms\",\"Rinkeby-Tensta\",\"S\\u00f6dermalms\",\"S\\u00f6dermalms\",\"\\u00d6stermalms\",\"S\\u00f6dermalms\",\"Bromma\",\"\\u00c4lvsj\\u00f6\",\"\\u00c4lvsj\\u00f6\",\"\\u00c4lvsj\\u00f6\",\"S\\u00f6dermalms\",\"S\\u00f6dermalms\",\"S\\u00f6dermalms\",\"Kungsholmens\",\"S\\u00f6dermalms\",\"S\\u00f6dermalms\",\"S\\u00f6dermalms\",\"S\\u00f6dermalms\",\"Enskede-\\u00c5rsta-Vant\\u00f6rs\",\"Bromma\",\"Skarpn\\u00e4cks\",\"S\\u00f6dermalms\",\"Kungsholmens\",\"Bromma\",\"S\\u00f6dermalms\",\"Enskede-\\u00c5rsta-Vant\\u00f6rs\",\"S\\u00f6dermalms\",\"S\\u00f6dermalms\",\"S\\u00f6dermalms\",\"Bromma\",\"S\\u00f6dermalms\",\"Kungsholmens\",\"Bromma\",\"S\\u00f6dermalms\",\"Enskede-\\u00c5rsta-Vant\\u00f6rs\",\"Norrmalms\",\"Kungsholmens\",\"Kungsholmens\",\"H\\u00e4gersten-Liljeholmens\",\"Norrmalms\",\"H\\u00e4gersten-Liljeholmens\",\"Enskede-\\u00c5rsta-Vant\\u00f6rs\",\"\\u00d6stermalms\",\"S\\u00f6dermalms\",\"H\\u00e4gersten-Liljeholmens\",\"Rinkeby-Tensta\",\"Farsta\",\"S\\u00f6dermalms\",\"S\\u00f6dermalms\",\"Bromma\",\"Skarpn\\u00e4cks\",\"Enskede-\\u00c5rsta-Vant\\u00f6rs\",\"S\\u00f6dermalms\",\"Norrmalms\",\"S\\u00f6dermalms\",\"Bromma\",\"Bromma\",\"Sk\\u00e4rholmens\",\"Farsta\",\"H\\u00e4gersten-Liljeholmens\",\"Kungsholmens\",\"S\\u00f6dermalms\",\"Bromma\",\"Kungsholmens\",\"S\\u00f6dermalms\",\"\\u00c4lvsj\\u00f6\",\"S\\u00f6dermalms\",\"Norrmalms\",\"S\\u00f6dermalms\",\"Norrmalms\",\"S\\u00f6dermalms\",\"Bromma\",\"Kungsholmens\",\"\\u00c4lvsj\\u00f6\",\"\\u00c4lvsj\\u00f6\",\"Bromma\",\"Kungsholmens\",\"\\u00c4lvsj\\u00f6\",\"S\\u00f6dermalms\",\"H\\u00e4gersten-Liljeholmens\",\"\\u00d6stermalms\",\"S\\u00f6dermalms\",\"S\\u00f6dermalms\",\"S\\u00f6dermalms\",\"Norrmalms\",\"\\u00c4lvsj\\u00f6\",\"S\\u00f6dermalms\",\"S\\u00f6dermalms\",\"S\\u00f6dermalms\",\"H\\u00e4gersten-Liljeholmens\",\"\\u00c4lvsj\\u00f6\",\"Enskede-\\u00c5rsta-Vant\\u00f6rs\",\"H\\u00e4gersten-Liljeholmens\",\"H\\u00e4sselby-V\\u00e4llingby\",\"Skarpn\\u00e4cks\",\"S\\u00f6dermalms\",\"H\\u00e4gersten-Liljeholmens\",\"Farsta\",\"Norrmalms\",\"S\\u00f6dermalms\",\"S\\u00f6dermalms\",\"S\\u00f6dermalms\",\"H\\u00e4gersten-Liljeholmens\",\"S\\u00f6dermalms\",\"Norrmalms\",\"H\\u00e4gersten-Liljeholmens\",\"H\\u00e4gersten-Liljeholmens\",\"Kungsholmens\",\"S\\u00f6dermalms\",\"S\\u00f6dermalms\",\"S\\u00f6dermalms\",\"S\\u00f6dermalms\",\"Farsta\",\"Farsta\",\"Sk\\u00e4rholmens\",\"H\\u00e4sselby-V\\u00e4llingby\",\"S\\u00f6dermalms\",\"S\\u00f6dermalms\",\"Enskede-\\u00c5rsta-Vant\\u00f6rs\",\"\\u00c4lvsj\\u00f6\",\"H\\u00e4gersten-Liljeholmens\",\"S\\u00f6dermalms\",\"S\\u00f6dermalms\",\"Bromma\",\"Norrmalms\",\"Norrmalms\",\"Norrmalms\",\"Norrmalms\",\"Norrmalms\",\"Norrmalms\",\"Norrmalms\",\"Norrmalms\",\"Enskede-\\u00c5rsta-Vant\\u00f6rs\",\"H\\u00e4gersten-Liljeholmens\",\"Enskede-\\u00c5rsta-Vant\\u00f6rs\",\"S\\u00f6dermalms\",\"S\\u00f6dermalms\",\"Kungsholmens\",\"S\\u00f6dermalms\",\"H\\u00e4gersten-Liljeholmens\",\"Farsta\",\"Rinkeby-Tensta\",\"Bromma\",\"S\\u00f6dermalms\",\"H\\u00e4sselby-V\\u00e4llingby\",\"\\u00d6stermalms\",\"Kungsholmens\",\"S\\u00f6dermalms\",\"Enskede-\\u00c5rsta-Vant\\u00f6rs\",\"Norrmalms\",\"Bromma\",\"S\\u00f6dermalms\",\"Skarpn\\u00e4cks\",\"S\\u00f6dermalms\",\"Kungsholmens\",\"S\\u00f6dermalms\",\"H\\u00e4gersten-Liljeholmens\",\"S\\u00f6dermalms\",\"H\\u00e4gersten-Liljeholmens\",\"S\\u00f6dermalms\",\"H\\u00e4sselby-V\\u00e4llingby\",\"Skarpn\\u00e4cks\",\"Norrmalms\",\"S\\u00f6dermalms\",\"S\\u00f6dermalms\",\"Norrmalms\",\"Farsta\",\"Kungsholmens\",\"Kungsholmens\",\"Sk\\u00e4rholmens\",\"S\\u00f6dermalms\",\"\\u00d6stermalms\",\"Enskede-\\u00c5rsta-Vant\\u00f6rs\",\"S\\u00f6dermalms\",\"Norrmalms\",\"S\\u00f6dermalms\",\"S\\u00f6dermalms\",\"Norrmalms\",\"S\\u00f6dermalms\",\"Farsta\",\"S\\u00f6dermalms\",\"\\u00d6stermalms\",\"Norrmalms\",\"S\\u00f6dermalms\",\"\\u00d6stermalms\",\"Kungsholmens\",\"Kungsholmens\",\"H\\u00e4gersten-Liljeholmens\",\"Kungsholmens\",\"Sk\\u00e4rholmens\",\"H\\u00e4gersten-Liljeholmens\",\"S\\u00f6dermalms\",\"Kungsholmens\",\"S\\u00f6dermalms\",\"S\\u00f6dermalms\",\"S\\u00f6dermalms\",\"S\\u00f6dermalms\",\"S\\u00f6dermalms\",\"S\\u00f6dermalms\",\"S\\u00f6dermalms\",\"H\\u00e4gersten-Liljeholmens\",\"S\\u00f6dermalms\",\"Kungsholmens\",\"S\\u00f6dermalms\",\"Rinkeby-Tensta\",\"S\\u00f6dermalms\",\"Enskede-\\u00c5rsta-Vant\\u00f6rs\",\"H\\u00e4gersten-Liljeholmens\",\"Farsta\",\"Kungsholmens\",\"Kungsholmens\",\"Kungsholmens\",\"\\u00c4lvsj\\u00f6\",\"\\u00c4lvsj\\u00f6\",\"Norrmalms\",\"Skarpn\\u00e4cks\",\"S\\u00f6dermalms\",\"S\\u00f6dermalms\",\"Kungsholmens\",\"Kungsholmens\",\"Enskede-\\u00c5rsta-Vant\\u00f6rs\",\"Rinkeby-Tensta\",\"Rinkeby-Tensta\",\"Rinkeby-Tensta\",\"\\u00d6stermalms\",\"Skarpn\\u00e4cks\",\"Sp\\u00e5nga-Tensta\",\"S\\u00f6dermalms\",\"Farsta\",\"H\\u00e4sselby-V\\u00e4llingby\",\"S\\u00f6dermalms\",\"S\\u00f6dermalms\",\"S\\u00f6dermalms\",\"H\\u00e4gersten-Liljeholmens\",\"H\\u00e4sselby-V\\u00e4llingby\",\"Skarpn\\u00e4cks\",\"Enskede-\\u00c5rsta-Vant\\u00f6rs\",\"Bromma\",\"Farsta\",\"Enskede-\\u00c5rsta-Vant\\u00f6rs\",\"Skarpn\\u00e4cks\",\"Enskede-\\u00c5rsta-Vant\\u00f6rs\",\"Enskede-\\u00c5rsta-Vant\\u00f6rs\",\"Enskede-\\u00c5rsta-Vant\\u00f6rs\",\"Kungsholmens\",\"H\\u00e4gersten-Liljeholmens\",\"H\\u00e4gersten-Liljeholmens\",\"Farsta\",\"S\\u00f6dermalms\",\"Enskede-\\u00c5rsta-Vant\\u00f6rs\",\"\\u00d6stermalms\",\"\\u00c4lvsj\\u00f6\",\"Farsta\",\"S\\u00f6dermalms\",\"Sk\\u00e4rholmens\",\"H\\u00e4sselby-V\\u00e4llingby\",\"Kungsholmens\",\"Rinkeby-Tensta\",\"Norrmalms\",\"H\\u00e4gersten-Liljeholmens\",\"Norrmalms\",\"S\\u00f6dermalms\",\"Enskede-\\u00c5rsta-Vant\\u00f6rs\",\"Enskede-\\u00c5rsta-Vant\\u00f6rs\",\"Kungsholmens\",\"S\\u00f6dermalms\",\"S\\u00f6dermalms\",\"Skarpn\\u00e4cks\",\"Norrmalms\",\"H\\u00e4sselby-V\\u00e4llingby\",\"H\\u00e4sselby-V\\u00e4llingby\",\"H\\u00e4sselby-V\\u00e4llingby\",\"Enskede-\\u00c5rsta-Vant\\u00f6rs\",\"Bromma\",\"S\\u00f6dermalms\",\"H\\u00e4gersten-Liljeholmens\",\"S\\u00f6dermalms\",\"S\\u00f6dermalms\",\"Bromma\",\"Sp\\u00e5nga-Tensta\",\"Norrmalms\",\"H\\u00e4gersten-Liljeholmens\",\"Norrmalms\",\"Bromma\",\"S\\u00f6dermalms\",\"Skarpn\\u00e4cks\",\"Enskede-\\u00c5rsta-Vant\\u00f6rs\",\"Skarpn\\u00e4cks\",\"Bromma\",\"Farsta\",\"S\\u00f6dermalms\",\"Norrmalms\",\"Rinkeby-Tensta\",\"H\\u00e4gersten-Liljeholmens\",\"Rinkeby-Tensta\",\"S\\u00f6dermalms\",\"S\\u00f6dermalms\",\"Rinkeby-Tensta\",\"S\\u00f6dermalms\",\"S\\u00f6dermalms\",\"Bromma\",\"S\\u00f6dermalms\",\"H\\u00e4gersten-Liljeholmens\",\"S\\u00f6dermalms\",\"S\\u00f6dermalms\",\"Norrmalms\",\"Norrmalms\",\"Rinkeby-Tensta\",\"Norrmalms\",\"Norrmalms\",\"Enskede-\\u00c5rsta-Vant\\u00f6rs\",\"Kungsholmens\",\"S\\u00f6dermalms\",\"\\u00d6stermalms\",\"H\\u00e4sselby-V\\u00e4llingby\",\"S\\u00f6dermalms\",\"S\\u00f6dermalms\",\"Skarpn\\u00e4cks\",\"S\\u00f6dermalms\",\"Enskede-\\u00c5rsta-Vant\\u00f6rs\",\"Norrmalms\",\"S\\u00f6dermalms\",\"H\\u00e4sselby-V\\u00e4llingby\",\"S\\u00f6dermalms\",\"Farsta\",\"S\\u00f6dermalms\",\"\\u00d6stermalms\",\"S\\u00f6dermalms\",\"S\\u00f6dermalms\",\"Norrmalms\",\"H\\u00e4gersten-Liljeholmens\",\"Skarpn\\u00e4cks\",\"Skarpn\\u00e4cks\",\"Kungsholmens\",\"H\\u00e4gersten-Liljeholmens\",\"S\\u00f6dermalms\",\"S\\u00f6dermalms\",\"\\u00d6stermalms\",\"S\\u00f6dermalms\",\"\\u00d6stermalms\",\"Sp\\u00e5nga-Tensta\",\"\\u00c4lvsj\\u00f6\",\"\\u00d6stermalms\",\"S\\u00f6dermalms\",\"S\\u00f6dermalms\",\"Sp\\u00e5nga-Tensta\",\"Kungsholmens\",\"S\\u00f6dermalms\",\"S\\u00f6dermalms\",\"S\\u00f6dermalms\",\"S\\u00f6dermalms\",\"Sk\\u00e4rholmens\",\"Bromma\",\"Bromma\",\"\\u00c4lvsj\\u00f6\",\"Bromma\",\"H\\u00e4sselby-V\\u00e4llingby\",\"Norrmalms\",\"Sp\\u00e5nga-Tensta\",\"Bromma\",\"Skarpn\\u00e4cks\",\"S\\u00f6dermalms\",\"S\\u00f6dermalms\",\"Norrmalms\",\"Kungsholmens\",\"Norrmalms\",\"Enskede-\\u00c5rsta-Vant\\u00f6rs\",\"S\\u00f6dermalms\",\"Norrmalms\",\"S\\u00f6dermalms\",\"Bromma\",\"Norrmalms\",\"Norrmalms\",\"Rinkeby-Tensta\",\"Norrmalms\",\"Norrmalms\",\"Bromma\",\"Kungsholmens\",\"S\\u00f6dermalms\",\"\\u00d6stermalms\",\"S\\u00f6dermalms\",\"\\u00d6stermalms\",\"S\\u00f6dermalms\",\"Enskede-\\u00c5rsta-Vant\\u00f6rs\",\"Enskede-\\u00c5rsta-Vant\\u00f6rs\",\"H\\u00e4gersten-Liljeholmens\",\"Norrmalms\",\"Rinkeby-Tensta\",\"S\\u00f6dermalms\",\"Kungsholmens\",\"S\\u00f6dermalms\",\"S\\u00f6dermalms\",\"S\\u00f6dermalms\",\"S\\u00f6dermalms\",\"S\\u00f6dermalms\",\"H\\u00e4gersten-Liljeholmens\",\"Kungsholmens\",\"Norrmalms\",\"S\\u00f6dermalms\",\"S\\u00f6dermalms\",\"S\\u00f6dermalms\",\"S\\u00f6dermalms\",\"S\\u00f6dermalms\",\"S\\u00f6dermalms\",\"S\\u00f6dermalms\",\"S\\u00f6dermalms\",\"S\\u00f6dermalms\",\"S\\u00f6dermalms\",\"S\\u00f6dermalms\",\"S\\u00f6dermalms\",\"S\\u00f6dermalms\",\"S\\u00f6dermalms\",\"S\\u00f6dermalms\",\"S\\u00f6dermalms\",\"S\\u00f6dermalms\",\"S\\u00f6dermalms\",\"S\\u00f6dermalms\",\"S\\u00f6dermalms\",\"S\\u00f6dermalms\",\"S\\u00f6dermalms\",\"S\\u00f6dermalms\",\"S\\u00f6dermalms\",\"S\\u00f6dermalms\",\"S\\u00f6dermalms\",\"S\\u00f6dermalms\",\"Kungsholmens\",\"H\\u00e4gersten-Liljeholmens\",\"S\\u00f6dermalms\",\"S\\u00f6dermalms\",\"H\\u00e4sselby-V\\u00e4llingby\",\"H\\u00e4gersten-Liljeholmens\",\"S\\u00f6dermalms\",\"S\\u00f6dermalms\",\"S\\u00f6dermalms\",\"Enskede-\\u00c5rsta-Vant\\u00f6rs\",\"H\\u00e4sselby-V\\u00e4llingby\",\"\\u00d6stermalms\",\"H\\u00e4gersten-Liljeholmens\",\"S\\u00f6dermalms\",\"S\\u00f6dermalms\",\"Norrmalms\",\"S\\u00f6dermalms\",\"S\\u00f6dermalms\",\"Bromma\",\"S\\u00f6dermalms\",\"H\\u00e4gersten-Liljeholmens\",\"\\u00c4lvsj\\u00f6\",\"S\\u00f6dermalms\",\"Rinkeby-Tensta\",\"Kungsholmens\",\"S\\u00f6dermalms\",\"Rinkeby-Tensta\",\"S\\u00f6dermalms\",\"S\\u00f6dermalms\",\"S\\u00f6dermalms\",\"S\\u00f6dermalms\",\"Skarpn\\u00e4cks\",\"S\\u00f6dermalms\",\"H\\u00e4sselby-V\\u00e4llingby\",\"Bromma\",\"Enskede-\\u00c5rsta-Vant\\u00f6rs\",\"Enskede-\\u00c5rsta-Vant\\u00f6rs\",\"Enskede-\\u00c5rsta-Vant\\u00f6rs\",\"Sp\\u00e5nga-Tensta\",\"\\u00d6stermalms\",\"S\\u00f6dermalms\",\"S\\u00f6dermalms\",\"Norrmalms\",\"S\\u00f6dermalms\",\"Norrmalms\",\"S\\u00f6dermalms\",\"H\\u00e4gersten-Liljeholmens\",\"\\u00c4lvsj\\u00f6\",\"S\\u00f6dermalms\",\"Norrmalms\",\"S\\u00f6dermalms\",\"Kungsholmens\",\"Bromma\",\"Enskede-\\u00c5rsta-Vant\\u00f6rs\",\"Skarpn\\u00e4cks\",\"Farsta\",\"H\\u00e4gersten-Liljeholmens\",\"H\\u00e4gersten-Liljeholmens\",\"H\\u00e4gersten-Liljeholmens\",\"H\\u00e4gersten-Liljeholmens\",\"H\\u00e4gersten-Liljeholmens\",\"S\\u00f6dermalms\",\"Skarpn\\u00e4cks\",\"H\\u00e4gersten-Liljeholmens\",\"Rinkeby-Tensta\",\"H\\u00e4gersten-Liljeholmens\",\"Norrmalms\",\"S\\u00f6dermalms\",\"Kungsholmens\",\"S\\u00f6dermalms\",\"Farsta\",\"S\\u00f6dermalms\",\"Enskede-\\u00c5rsta-Vant\\u00f6rs\",\"H\\u00e4gersten-Liljeholmens\",\"Norrmalms\",\"Bromma\",\"Sk\\u00e4rholmens\",\"S\\u00f6dermalms\",\"Rinkeby-Tensta\",\"Rinkeby-Tensta\",\"Sp\\u00e5nga-Tensta\",\"S\\u00f6dermalms\",\"Enskede-\\u00c5rsta-Vant\\u00f6rs\",\"Norrmalms\",\"Bromma\",\"Enskede-\\u00c5rsta-Vant\\u00f6rs\",\"S\\u00f6dermalms\",\"Kungsholmens\",\"Sk\\u00e4rholmens\",\"S\\u00f6dermalms\",\"Skarpn\\u00e4cks\",\"\\u00d6stermalms\",\"S\\u00f6dermalms\",\"S\\u00f6dermalms\",\"Kungsholmens\",\"Norrmalms\",\"\\u00d6stermalms\",\"Bromma\",\"S\\u00f6dermalms\",\"Kungsholmens\",\"Bromma\",\"Norrmalms\",\"Bromma\",\"\\u00d6stermalms\",\"Sk\\u00e4rholmens\",\"S\\u00f6dermalms\",\"S\\u00f6dermalms\",\"S\\u00f6dermalms\",\"\\u00d6stermalms\",\"S\\u00f6dermalms\",\"S\\u00f6dermalms\",\"S\\u00f6dermalms\",\"Norrmalms\",\"S\\u00f6dermalms\",\"Farsta\",\"\\u00d6stermalms\",\"Skarpn\\u00e4cks\",\"Skarpn\\u00e4cks\",\"Norrmalms\",\"S\\u00f6dermalms\",\"Skarpn\\u00e4cks\",\"S\\u00f6dermalms\",\"S\\u00f6dermalms\",\"S\\u00f6dermalms\",\"Bromma\",\"H\\u00e4gersten-Liljeholmens\",\"H\\u00e4gersten-Liljeholmens\",\"S\\u00f6dermalms\",\"Enskede-\\u00c5rsta-Vant\\u00f6rs\",\"Kungsholmens\",\"\\u00d6stermalms\",\"Enskede-\\u00c5rsta-Vant\\u00f6rs\",\"S\\u00f6dermalms\",\"H\\u00e4gersten-Liljeholmens\",\"H\\u00e4gersten-Liljeholmens\",\"S\\u00f6dermalms\",\"Skarpn\\u00e4cks\",\"S\\u00f6dermalms\",\"H\\u00e4gersten-Liljeholmens\",\"S\\u00f6dermalms\",\"H\\u00e4sselby-V\\u00e4llingby\",\"H\\u00e4gersten-Liljeholmens\",\"H\\u00e4gersten-Liljeholmens\",\"H\\u00e4gersten-Liljeholmens\",\"S\\u00f6dermalms\",\"\\u00c4lvsj\\u00f6\",\"Skarpn\\u00e4cks\",\"Rinkeby-Tensta\",\"\\u00c4lvsj\\u00f6\",\"Bromma\",\"S\\u00f6dermalms\",\"Kungsholmens\",\"Kungsholmens\",\"Kungsholmens\",\"Sk\\u00e4rholmens\",\"\\u00c4lvsj\\u00f6\",\"H\\u00e4gersten-Liljeholmens\",\"S\\u00f6dermalms\",\"Norrmalms\",\"Bromma\",\"\\u00c4lvsj\\u00f6\",\"\\u00d6stermalms\",\"\\u00d6stermalms\",\"Enskede-\\u00c5rsta-Vant\\u00f6rs\",\"S\\u00f6dermalms\",\"Farsta\",\"Enskede-\\u00c5rsta-Vant\\u00f6rs\",\"Rinkeby-Tensta\",\"Bromma\",\"Skarpn\\u00e4cks\",\"Skarpn\\u00e4cks\",\"S\\u00f6dermalms\",\"H\\u00e4gersten-Liljeholmens\",\"S\\u00f6dermalms\",\"\\u00d6stermalms\",\"Skarpn\\u00e4cks\",\"S\\u00f6dermalms\",\"Farsta\",\"Kungsholmens\",\"Farsta\",\"S\\u00f6dermalms\",\"Bromma\",\"H\\u00e4gersten-Liljeholmens\",\"S\\u00f6dermalms\",\"H\\u00e4gersten-Liljeholmens\",\"S\\u00f6dermalms\",\"Norrmalms\",\"\\u00d6stermalms\",\"\\u00d6stermalms\",\"Farsta\",\"H\\u00e4gersten-Liljeholmens\",\"S\\u00f6dermalms\",\"S\\u00f6dermalms\",\"\\u00c4lvsj\\u00f6\",\"Bromma\",\"Bromma\",\"H\\u00e4sselby-V\\u00e4llingby\",\"H\\u00e4gersten-Liljeholmens\",\"S\\u00f6dermalms\",\"S\\u00f6dermalms\",\"H\\u00e4gersten-Liljeholmens\",\"Sk\\u00e4rholmens\",\"H\\u00e4sselby-V\\u00e4llingby\",\"Enskede-\\u00c5rsta-Vant\\u00f6rs\",\"\\u00d6stermalms\",\"H\\u00e4gersten-Liljeholmens\",\"H\\u00e4sselby-V\\u00e4llingby\",\"S\\u00f6dermalms\",\"H\\u00e4gersten-Liljeholmens\",\"Skarpn\\u00e4cks\",\"\\u00d6stermalms\",\"Kungsholmens\",\"\\u00d6stermalms\",\"Farsta\",\"H\\u00e4gersten-Liljeholmens\",\"\\u00d6stermalms\",\"H\\u00e4gersten-Liljeholmens\",\"Enskede-\\u00c5rsta-Vant\\u00f6rs\",\"H\\u00e4sselby-V\\u00e4llingby\",\"Enskede-\\u00c5rsta-Vant\\u00f6rs\",\"S\\u00f6dermalms\",\"Bromma\",\"Kungsholmens\",\"Kungsholmens\",\"Bromma\",\"Enskede-\\u00c5rsta-Vant\\u00f6rs\",\"S\\u00f6dermalms\",\"H\\u00e4gersten-Liljeholmens\",\"H\\u00e4gersten-Liljeholmens\",\"S\\u00f6dermalms\",\"Norrmalms\",\"H\\u00e4gersten-Liljeholmens\",\"S\\u00f6dermalms\",\"Bromma\",\"Kungsholmens\",\"Enskede-\\u00c5rsta-Vant\\u00f6rs\",\"Kungsholmens\",\"S\\u00f6dermalms\",\"S\\u00f6dermalms\",\"Enskede-\\u00c5rsta-Vant\\u00f6rs\",\"S\\u00f6dermalms\",\"Norrmalms\",\"Norrmalms\",\"Enskede-\\u00c5rsta-Vant\\u00f6rs\",\"Bromma\",\"Bromma\",\"Kungsholmens\",\"Farsta\",\"Enskede-\\u00c5rsta-Vant\\u00f6rs\",\"Enskede-\\u00c5rsta-Vant\\u00f6rs\",\"H\\u00e4gersten-Liljeholmens\",\"Bromma\",\"H\\u00e4sselby-V\\u00e4llingby\",\"S\\u00f6dermalms\",\"Enskede-\\u00c5rsta-Vant\\u00f6rs\",\"Enskede-\\u00c5rsta-Vant\\u00f6rs\",\"Skarpn\\u00e4cks\",\"Sp\\u00e5nga-Tensta\",\"S\\u00f6dermalms\",\"S\\u00f6dermalms\",\"S\\u00f6dermalms\",\"S\\u00f6dermalms\",\"S\\u00f6dermalms\",\"\\u00c4lvsj\\u00f6\",\"S\\u00f6dermalms\",\"H\\u00e4sselby-V\\u00e4llingby\",\"Sp\\u00e5nga-Tensta\",\"Bromma\",\"S\\u00f6dermalms\",\"Norrmalms\",\"Norrmalms\",\"\\u00c4lvsj\\u00f6\",\"S\\u00f6dermalms\",\"\\u00d6stermalms\",\"S\\u00f6dermalms\",\"Enskede-\\u00c5rsta-Vant\\u00f6rs\",\"S\\u00f6dermalms\",\"Norrmalms\",\"Sp\\u00e5nga-Tensta\",\"H\\u00e4gersten-Liljeholmens\",\"Sk\\u00e4rholmens\",\"Sp\\u00e5nga-Tensta\",\"Sp\\u00e5nga-Tensta\",\"H\\u00e4gersten-Liljeholmens\",\"Norrmalms\",\"\\u00c4lvsj\\u00f6\",\"S\\u00f6dermalms\",\"S\\u00f6dermalms\",\"Norrmalms\",\"H\\u00e4gersten-Liljeholmens\",\"S\\u00f6dermalms\",\"H\\u00e4gersten-Liljeholmens\",\"Enskede-\\u00c5rsta-Vant\\u00f6rs\",\"S\\u00f6dermalms\",\"S\\u00f6dermalms\",\"Norrmalms\",\"Kungsholmens\",\"Norrmalms\",\"Enskede-\\u00c5rsta-Vant\\u00f6rs\",\"Farsta\",\"Kungsholmens\",\"Norrmalms\",\"Sk\\u00e4rholmens\",\"Enskede-\\u00c5rsta-Vant\\u00f6rs\",\"S\\u00f6dermalms\",\"Norrmalms\",\"S\\u00f6dermalms\",\"Kungsholmens\",\"Farsta\",\"H\\u00e4gersten-Liljeholmens\",\"\\u00c4lvsj\\u00f6\",\"H\\u00e4gersten-Liljeholmens\",\"S\\u00f6dermalms\",\"Skarpn\\u00e4cks\",\"S\\u00f6dermalms\",\"Norrmalms\",\"Enskede-\\u00c5rsta-Vant\\u00f6rs\",\"Enskede-\\u00c5rsta-Vant\\u00f6rs\",\"\\u00d6stermalms\",\"S\\u00f6dermalms\",\"S\\u00f6dermalms\",\"Enskede-\\u00c5rsta-Vant\\u00f6rs\",\"H\\u00e4sselby-V\\u00e4llingby\",\"Norrmalms\",\"H\\u00e4gersten-Liljeholmens\",\"\\u00d6stermalms\",\"H\\u00e4gersten-Liljeholmens\",\"S\\u00f6dermalms\",\"Kungsholmens\",\"Kungsholmens\",\"Kungsholmens\",\"Kungsholmens\",\"\\u00d6stermalms\",\"H\\u00e4gersten-Liljeholmens\",\"Skarpn\\u00e4cks\",\"H\\u00e4gersten-Liljeholmens\",\"Skarpn\\u00e4cks\",\"H\\u00e4sselby-V\\u00e4llingby\",\"Farsta\",\"S\\u00f6dermalms\",\"\\u00c4lvsj\\u00f6\",\"S\\u00f6dermalms\",\"S\\u00f6dermalms\",\"S\\u00f6dermalms\",\"H\\u00e4gersten-Liljeholmens\",\"S\\u00f6dermalms\",\"H\\u00e4gersten-Liljeholmens\",\"Norrmalms\",\"Bromma\",\"Kungsholmens\",\"H\\u00e4gersten-Liljeholmens\",\"Bromma\",\"Bromma\",\"Kungsholmens\",\"Kungsholmens\",\"Norrmalms\",\"\\u00c4lvsj\\u00f6\",\"H\\u00e4gersten-Liljeholmens\",\"H\\u00e4sselby-V\\u00e4llingby\",\"Kungsholmens\",\"S\\u00f6dermalms\",\"S\\u00f6dermalms\",\"Farsta\",\"H\\u00e4gersten-Liljeholmens\",\"S\\u00f6dermalms\",\"Enskede-\\u00c5rsta-Vant\\u00f6rs\",\"H\\u00e4gersten-Liljeholmens\",\"Bromma\",\"Enskede-\\u00c5rsta-Vant\\u00f6rs\",\"\\u00c4lvsj\\u00f6\",\"Kungsholmens\",\"S\\u00f6dermalms\",\"Farsta\",\"S\\u00f6dermalms\",\"\\u00c4lvsj\\u00f6\",\"\\u00d6stermalms\",\"Bromma\",\"S\\u00f6dermalms\",\"Rinkeby-Tensta\",\"S\\u00f6dermalms\",\"Bromma\",\"Norrmalms\",\"H\\u00e4sselby-V\\u00e4llingby\",\"S\\u00f6dermalms\",\"Rinkeby-Tensta\",\"\\u00c4lvsj\\u00f6\",\"\\u00d6stermalms\",\"Norrmalms\",\"\\u00c4lvsj\\u00f6\",\"Enskede-\\u00c5rsta-Vant\\u00f6rs\",\"Bromma\",\"Norrmalms\",\"\\u00c4lvsj\\u00f6\",\"S\\u00f6dermalms\",\"S\\u00f6dermalms\",\"S\\u00f6dermalms\",\"Bromma\",\"Farsta\",\"H\\u00e4gersten-Liljeholmens\",\"H\\u00e4sselby-V\\u00e4llingby\",\"S\\u00f6dermalms\",\"Farsta\",\"Enskede-\\u00c5rsta-Vant\\u00f6rs\",\"H\\u00e4sselby-V\\u00e4llingby\",\"Norrmalms\",\"S\\u00f6dermalms\",\"S\\u00f6dermalms\",\"\\u00d6stermalms\",\"Kungsholmens\",\"S\\u00f6dermalms\",\"Farsta\",\"H\\u00e4sselby-V\\u00e4llingby\",\"Rinkeby-Tensta\",\"H\\u00e4sselby-V\\u00e4llingby\",\"Bromma\",\"Bromma\",\"Bromma\",\"S\\u00f6dermalms\",\"H\\u00e4gersten-Liljeholmens\",\"Enskede-\\u00c5rsta-Vant\\u00f6rs\",\"S\\u00f6dermalms\",\"H\\u00e4gersten-Liljeholmens\",\"Bromma\",\"S\\u00f6dermalms\",\"S\\u00f6dermalms\",\"S\\u00f6dermalms\",\"S\\u00f6dermalms\",\"Kungsholmens\",\"Bromma\",\"S\\u00f6dermalms\",\"S\\u00f6dermalms\",\"\\u00d6stermalms\",\"\\u00d6stermalms\",\"H\\u00e4gersten-Liljeholmens\",\"Skarpn\\u00e4cks\",\"\\u00c4lvsj\\u00f6\",\"H\\u00e4sselby-V\\u00e4llingby\",\"\\u00c4lvsj\\u00f6\",\"Norrmalms\",\"\\u00d6stermalms\",\"H\\u00e4gersten-Liljeholmens\",\"Farsta\",\"S\\u00f6dermalms\",\"\\u00d6stermalms\",\"H\\u00e4gersten-Liljeholmens\",\"Norrmalms\",\"Norrmalms\",\"\\u00d6stermalms\",\"H\\u00e4sselby-V\\u00e4llingby\",\"Farsta\",\"H\\u00e4gersten-Liljeholmens\",\"Enskede-\\u00c5rsta-Vant\\u00f6rs\",\"S\\u00f6dermalms\",\"Bromma\",\"\\u00d6stermalms\",\"Rinkeby-Tensta\",\"Enskede-\\u00c5rsta-Vant\\u00f6rs\",\"Norrmalms\",\"H\\u00e4gersten-Liljeholmens\",\"Bromma\",\"S\\u00f6dermalms\",\"S\\u00f6dermalms\",\"\\u00d6stermalms\",\"S\\u00f6dermalms\",\"Skarpn\\u00e4cks\",\"Bromma\",\"H\\u00e4gersten-Liljeholmens\",\"\\u00c4lvsj\\u00f6\",\"Bromma\",\"Kungsholmens\",\"Bromma\",\"\\u00d6stermalms\",\"Enskede-\\u00c5rsta-Vant\\u00f6rs\",\"Bromma\",\"H\\u00e4gersten-Liljeholmens\",\"Kungsholmens\",\"H\\u00e4gersten-Liljeholmens\",\"Kungsholmens\",\"Kungsholmens\",\"Sp\\u00e5nga-Tensta\",\"Enskede-\\u00c5rsta-Vant\\u00f6rs\",\"S\\u00f6dermalms\",\"Kungsholmens\",\"Farsta\",\"Kungsholmens\",\"S\\u00f6dermalms\",\"Kungsholmens\",\"S\\u00f6dermalms\",\"S\\u00f6dermalms\",\"S\\u00f6dermalms\",\"Bromma\",\"S\\u00f6dermalms\",\"S\\u00f6dermalms\",\"H\\u00e4gersten-Liljeholmens\",\"Bromma\",\"Norrmalms\",\"S\\u00f6dermalms\",\"H\\u00e4sselby-V\\u00e4llingby\",\"Enskede-\\u00c5rsta-Vant\\u00f6rs\",\"S\\u00f6dermalms\",\"Norrmalms\",\"S\\u00f6dermalms\",\"Kungsholmens\",\"Rinkeby-Tensta\",\"S\\u00f6dermalms\",\"Kungsholmens\",\"Norrmalms\",\"Bromma\",\"\\u00c4lvsj\\u00f6\",\"\\u00d6stermalms\",\"S\\u00f6dermalms\",\"Bromma\",\"Kungsholmens\",\"S\\u00f6dermalms\",\"Norrmalms\",\"Bromma\",\"H\\u00e4sselby-V\\u00e4llingby\",\"Bromma\",\"Sp\\u00e5nga-Tensta\",\"H\\u00e4sselby-V\\u00e4llingby\",\"Kungsholmens\",\"Kungsholmens\",\"Enskede-\\u00c5rsta-Vant\\u00f6rs\",\"Farsta\",\"Rinkeby-Tensta\",\"Enskede-\\u00c5rsta-Vant\\u00f6rs\",\"H\\u00e4gersten-Liljeholmens\",\"H\\u00e4gersten-Liljeholmens\",\"Kungsholmens\",\"Kungsholmens\",\"S\\u00f6dermalms\",\"\\u00d6stermalms\",\"Kungsholmens\",\"S\\u00f6dermalms\",\"\\u00c4lvsj\\u00f6\",\"S\\u00f6dermalms\",\"S\\u00f6dermalms\",\"Enskede-\\u00c5rsta-Vant\\u00f6rs\",\"\\u00d6stermalms\",\"H\\u00e4gersten-Liljeholmens\",\"Enskede-\\u00c5rsta-Vant\\u00f6rs\",\"S\\u00f6dermalms\",\"H\\u00e4gersten-Liljeholmens\",\"S\\u00f6dermalms\",\"\\u00c4lvsj\\u00f6\",\"Norrmalms\",\"S\\u00f6dermalms\",\"S\\u00f6dermalms\",\"Kungsholmens\",\"Farsta\",\"\\u00d6stermalms\",\"H\\u00e4gersten-Liljeholmens\",\"Enskede-\\u00c5rsta-Vant\\u00f6rs\",\"S\\u00f6dermalms\",\"\\u00c4lvsj\\u00f6\",\"Skarpn\\u00e4cks\",\"S\\u00f6dermalms\",\"H\\u00e4gersten-Liljeholmens\",\"H\\u00e4gersten-Liljeholmens\",\"H\\u00e4gersten-Liljeholmens\",\"Farsta\",\"Norrmalms\",\"Bromma\",\"Bromma\",\"S\\u00f6dermalms\",\"\\u00d6stermalms\",\"Sp\\u00e5nga-Tensta\",\"S\\u00f6dermalms\",\"Bromma\",\"Skarpn\\u00e4cks\",\"Skarpn\\u00e4cks\",\"Kungsholmens\",\"S\\u00f6dermalms\",\"S\\u00f6dermalms\",\"Kungsholmens\",\"Bromma\",\"Norrmalms\",\"S\\u00f6dermalms\",\"Farsta\",\"Bromma\",\"Rinkeby-Tensta\",\"Rinkeby-Tensta\",\"Enskede-\\u00c5rsta-Vant\\u00f6rs\",\"S\\u00f6dermalms\",\"Norrmalms\",\"Enskede-\\u00c5rsta-Vant\\u00f6rs\",\"Enskede-\\u00c5rsta-Vant\\u00f6rs\",\"Norrmalms\",\"Bromma\",\"Bromma\",\"S\\u00f6dermalms\",\"\\u00d6stermalms\",\"Skarpn\\u00e4cks\",\"S\\u00f6dermalms\",\"Kungsholmens\",\"H\\u00e4gersten-Liljeholmens\",\"Skarpn\\u00e4cks\",\"\\u00c4lvsj\\u00f6\",\"\\u00d6stermalms\",\"Bromma\",\"Farsta\",\"Sk\\u00e4rholmens\",\"S\\u00f6dermalms\",\"\\u00c4lvsj\\u00f6\",\"S\\u00f6dermalms\",\"H\\u00e4sselby-V\\u00e4llingby\",\"Norrmalms\",\"Enskede-\\u00c5rsta-Vant\\u00f6rs\",\"Skarpn\\u00e4cks\",\"S\\u00f6dermalms\",\"Sp\\u00e5nga-Tensta\",\"Sp\\u00e5nga-Tensta\",\"\\u00c4lvsj\\u00f6\",\"Norrmalms\",\"Kungsholmens\",\"H\\u00e4gersten-Liljeholmens\",\"Bromma\",\"S\\u00f6dermalms\",\"S\\u00f6dermalms\",\"Farsta\",\"S\\u00f6dermalms\",\"S\\u00f6dermalms\",\"Bromma\",\"Bromma\",\"Bromma\",\"Enskede-\\u00c5rsta-Vant\\u00f6rs\",\"Norrmalms\",\"Norrmalms\",\"Rinkeby-Tensta\",\"Rinkeby-Tensta\",\"S\\u00f6dermalms\",\"Norrmalms\",\"S\\u00f6dermalms\",\"\\u00d6stermalms\",\"Enskede-\\u00c5rsta-Vant\\u00f6rs\",\"Enskede-\\u00c5rsta-Vant\\u00f6rs\",\"H\\u00e4gersten-Liljeholmens\",\"H\\u00e4gersten-Liljeholmens\",\"S\\u00f6dermalms\",\"Bromma\",\"Bromma\",\"Bromma\",\"Norrmalms\",\"Norrmalms\",\"Skarpn\\u00e4cks\",\"S\\u00f6dermalms\",\"S\\u00f6dermalms\",\"Kungsholmens\",\"H\\u00e4gersten-Liljeholmens\",\"\\u00d6stermalms\",\"Enskede-\\u00c5rsta-Vant\\u00f6rs\",\"Bromma\",\"Norrmalms\",\"H\\u00e4gersten-Liljeholmens\",\"Kungsholmens\",\"Bromma\",\"Enskede-\\u00c5rsta-Vant\\u00f6rs\",\"Bromma\",\"Norrmalms\",\"Norrmalms\",\"S\\u00f6dermalms\",\"Farsta\",\"S\\u00f6dermalms\",\"Enskede-\\u00c5rsta-Vant\\u00f6rs\",\"\\u00d6stermalms\",\"Kungsholmens\",\"Skarpn\\u00e4cks\",\"S\\u00f6dermalms\",\"Farsta\",\"Norrmalms\",\"H\\u00e4gersten-Liljeholmens\",\"Skarpn\\u00e4cks\",\"S\\u00f6dermalms\",\"Norrmalms\",\"Kungsholmens\",\"Kungsholmens\",\"Enskede-\\u00c5rsta-Vant\\u00f6rs\",\"S\\u00f6dermalms\",\"H\\u00e4gersten-Liljeholmens\",\"Kungsholmens\",\"H\\u00e4gersten-Liljeholmens\",\"Farsta\",\"\\u00d6stermalms\",\"S\\u00f6dermalms\",\"Skarpn\\u00e4cks\",\"\\u00d6stermalms\",\"Kungsholmens\",\"Norrmalms\",\"Skarpn\\u00e4cks\",\"Kungsholmens\",\"Kungsholmens\",\"H\\u00e4gersten-Liljeholmens\",\"Sk\\u00e4rholmens\",\"S\\u00f6dermalms\",\"Sk\\u00e4rholmens\",\"Sk\\u00e4rholmens\",\"\\u00d6stermalms\",\"Skarpn\\u00e4cks\",\"Bromma\",\"Bromma\",\"Sp\\u00e5nga-Tensta\",\"Kungsholmens\",\"Sk\\u00e4rholmens\",\"Sk\\u00e4rholmens\",\"Skarpn\\u00e4cks\",\"Rinkeby-Tensta\",\"Sp\\u00e5nga-Tensta\",\"Skarpn\\u00e4cks\",\"Enskede-\\u00c5rsta-Vant\\u00f6rs\",\"Bromma\",\"Bromma\",\"H\\u00e4gersten-Liljeholmens\",\"\\u00d6stermalms\",\"\\u00c4lvsj\\u00f6\",\"Kungsholmens\",\"H\\u00e4gersten-Liljeholmens\",\"\\u00d6stermalms\",\"S\\u00f6dermalms\",\"\\u00d6stermalms\",\"H\\u00e4gersten-Liljeholmens\",\"Enskede-\\u00c5rsta-Vant\\u00f6rs\",\"Bromma\",\"Sp\\u00e5nga-Tensta\",\"S\\u00f6dermalms\",\"Sp\\u00e5nga-Tensta\",\"S\\u00f6dermalms\",\"S\\u00f6dermalms\",\"S\\u00f6dermalms\",\"S\\u00f6dermalms\",\"Kungsholmens\",\"S\\u00f6dermalms\",\"Bromma\",\"Kungsholmens\",\"Enskede-\\u00c5rsta-Vant\\u00f6rs\",\"Bromma\",\"H\\u00e4sselby-V\\u00e4llingby\",\"Enskede-\\u00c5rsta-Vant\\u00f6rs\",\"Norrmalms\",\"Kungsholmens\",\"\\u00d6stermalms\",\"Rinkeby-Tensta\",\"H\\u00e4sselby-V\\u00e4llingby\",\"H\\u00e4gersten-Liljeholmens\",\"H\\u00e4gersten-Liljeholmens\",\"Enskede-\\u00c5rsta-Vant\\u00f6rs\",\"Bromma\",\"\\u00d6stermalms\",\"Kungsholmens\",\"Enskede-\\u00c5rsta-Vant\\u00f6rs\",\"S\\u00f6dermalms\",\"Norrmalms\",\"S\\u00f6dermalms\",\"Skarpn\\u00e4cks\",\"S\\u00f6dermalms\",\"Sp\\u00e5nga-Tensta\",\"Kungsholmens\",\"Kungsholmens\",\"Enskede-\\u00c5rsta-Vant\\u00f6rs\",\"\\u00d6stermalms\",\"S\\u00f6dermalms\",\"H\\u00e4sselby-V\\u00e4llingby\",\"Sp\\u00e5nga-Tensta\",\"Sk\\u00e4rholmens\",\"H\\u00e4gersten-Liljeholmens\",\"H\\u00e4gersten-Liljeholmens\",\"Norrmalms\",\"H\\u00e4gersten-Liljeholmens\",\"Sk\\u00e4rholmens\",\"S\\u00f6dermalms\",\"Bromma\",\"S\\u00f6dermalms\",\"S\\u00f6dermalms\",\"Farsta\",\"S\\u00f6dermalms\",\"S\\u00f6dermalms\",\"\\u00c4lvsj\\u00f6\",\"Norrmalms\",\"\\u00c4lvsj\\u00f6\",\"\\u00d6stermalms\",\"Enskede-\\u00c5rsta-Vant\\u00f6rs\",\"Enskede-\\u00c5rsta-Vant\\u00f6rs\",\"Enskede-\\u00c5rsta-Vant\\u00f6rs\",\"Enskede-\\u00c5rsta-Vant\\u00f6rs\",\"H\\u00e4sselby-V\\u00e4llingby\",\"H\\u00e4sselby-V\\u00e4llingby\",\"S\\u00f6dermalms\",\"S\\u00f6dermalms\",\"Enskede-\\u00c5rsta-Vant\\u00f6rs\",\"\\u00c4lvsj\\u00f6\",\"H\\u00e4gersten-Liljeholmens\",\"Kungsholmens\",\"S\\u00f6dermalms\",\"Norrmalms\",\"Enskede-\\u00c5rsta-Vant\\u00f6rs\",\"H\\u00e4gersten-Liljeholmens\",\"Norrmalms\",\"S\\u00f6dermalms\",\"H\\u00e4gersten-Liljeholmens\",\"Rinkeby-Tensta\",\"Enskede-\\u00c5rsta-Vant\\u00f6rs\",\"S\\u00f6dermalms\",\"S\\u00f6dermalms\",\"Skarpn\\u00e4cks\",\"Enskede-\\u00c5rsta-Vant\\u00f6rs\",\"\\u00d6stermalms\",\"S\\u00f6dermalms\",\"Enskede-\\u00c5rsta-Vant\\u00f6rs\",\"H\\u00e4gersten-Liljeholmens\",\"Kungsholmens\",\"Kungsholmens\",\"Kungsholmens\",\"Norrmalms\",\"S\\u00f6dermalms\",\"H\\u00e4gersten-Liljeholmens\",\"S\\u00f6dermalms\",\"Skarpn\\u00e4cks\",\"Norrmalms\",\"H\\u00e4gersten-Liljeholmens\",\"Bromma\",\"Bromma\",\"H\\u00e4sselby-V\\u00e4llingby\",\"Skarpn\\u00e4cks\",\"Sk\\u00e4rholmens\",\"Bromma\",\"S\\u00f6dermalms\",\"Skarpn\\u00e4cks\",\"Enskede-\\u00c5rsta-Vant\\u00f6rs\",\"Enskede-\\u00c5rsta-Vant\\u00f6rs\",\"Enskede-\\u00c5rsta-Vant\\u00f6rs\",\"Enskede-\\u00c5rsta-Vant\\u00f6rs\",\"Sk\\u00e4rholmens\",\"\\u00c4lvsj\\u00f6\",\"Norrmalms\",\"H\\u00e4gersten-Liljeholmens\",\"Enskede-\\u00c5rsta-Vant\\u00f6rs\",\"H\\u00e4sselby-V\\u00e4llingby\",\"Enskede-\\u00c5rsta-Vant\\u00f6rs\",\"Skarpn\\u00e4cks\",\"Enskede-\\u00c5rsta-Vant\\u00f6rs\",\"S\\u00f6dermalms\",\"S\\u00f6dermalms\",\"Kungsholmens\",\"Norrmalms\",\"S\\u00f6dermalms\",\"Kungsholmens\",\"H\\u00e4gersten-Liljeholmens\",\"H\\u00e4gersten-Liljeholmens\",\"Enskede-\\u00c5rsta-Vant\\u00f6rs\",\"Kungsholmens\",\"Enskede-\\u00c5rsta-Vant\\u00f6rs\",\"Farsta\",\"S\\u00f6dermalms\",\"H\\u00e4gersten-Liljeholmens\",\"\\u00c4lvsj\\u00f6\",\"Kungsholmens\",\"Sk\\u00e4rholmens\",\"Enskede-\\u00c5rsta-Vant\\u00f6rs\",\"Farsta\",\"Bromma\",\"H\\u00e4gersten-Liljeholmens\",\"Kungsholmens\",\"Sk\\u00e4rholmens\",\"Kungsholmens\",\"Norrmalms\",\"Farsta\",\"Skarpn\\u00e4cks\",\"Enskede-\\u00c5rsta-Vant\\u00f6rs\",\"Bromma\",\"Skarpn\\u00e4cks\",\"Enskede-\\u00c5rsta-Vant\\u00f6rs\",\"\\u00d6stermalms\",\"Rinkeby-Tensta\",\"S\\u00f6dermalms\",\"Bromma\",\"Bromma\",\"H\\u00e4gersten-Liljeholmens\",\"Rinkeby-Tensta\",\"\\u00d6stermalms\",\"Norrmalms\",\"Bromma\",\"Bromma\",\"H\\u00e4gersten-Liljeholmens\",\"\\u00d6stermalms\",\"Kungsholmens\",\"Enskede-\\u00c5rsta-Vant\\u00f6rs\",\"S\\u00f6dermalms\",\"S\\u00f6dermalms\",\"S\\u00f6dermalms\",\"S\\u00f6dermalms\",\"\\u00d6stermalms\",\"Norrmalms\",\"S\\u00f6dermalms\",\"\\u00d6stermalms\",\"S\\u00f6dermalms\",\"H\\u00e4gersten-Liljeholmens\",\"H\\u00e4sselby-V\\u00e4llingby\",\"S\\u00f6dermalms\",\"Bromma\",\"S\\u00f6dermalms\",\"S\\u00f6dermalms\",\"S\\u00f6dermalms\",\"S\\u00f6dermalms\",\"S\\u00f6dermalms\",\"Kungsholmens\",\"Bromma\",\"\\u00c4lvsj\\u00f6\",\"H\\u00e4gersten-Liljeholmens\",\"\\u00c4lvsj\\u00f6\",\"Kungsholmens\",\"H\\u00e4sselby-V\\u00e4llingby\",\"H\\u00e4gersten-Liljeholmens\",\"Enskede-\\u00c5rsta-Vant\\u00f6rs\",\"Enskede-\\u00c5rsta-Vant\\u00f6rs\",\"Enskede-\\u00c5rsta-Vant\\u00f6rs\",\"Enskede-\\u00c5rsta-Vant\\u00f6rs\",\"Bromma\",\"Kungsholmens\",\"Kungsholmens\",\"Kungsholmens\",\"Kungsholmens\",\"S\\u00f6dermalms\",\"Enskede-\\u00c5rsta-Vant\\u00f6rs\",\"S\\u00f6dermalms\",\"S\\u00f6dermalms\",\"H\\u00e4gersten-Liljeholmens\",\"Sk\\u00e4rholmens\",\"Kungsholmens\",\"\\u00c4lvsj\\u00f6\",\"Enskede-\\u00c5rsta-Vant\\u00f6rs\",\"S\\u00f6dermalms\",\"Norrmalms\",\"Bromma\",\"Bromma\",\"Kungsholmens\",\"Norrmalms\",\"S\\u00f6dermalms\",\"H\\u00e4gersten-Liljeholmens\",\"Skarpn\\u00e4cks\",\"Norrmalms\",\"S\\u00f6dermalms\",\"S\\u00f6dermalms\",\"S\\u00f6dermalms\",\"Bromma\",\"Bromma\",\"S\\u00f6dermalms\",\"S\\u00f6dermalms\",\"S\\u00f6dermalms\",\"S\\u00f6dermalms\",\"Bromma\",\"Bromma\",\"Bromma\",\"Kungsholmens\",\"Kungsholmens\",\"Sk\\u00e4rholmens\",\"Enskede-\\u00c5rsta-Vant\\u00f6rs\",\"Skarpn\\u00e4cks\",\"Bromma\",\"S\\u00f6dermalms\",\"Norrmalms\",\"\\u00d6stermalms\",\"Enskede-\\u00c5rsta-Vant\\u00f6rs\",\"H\\u00e4sselby-V\\u00e4llingby\",\"Kungsholmens\",\"H\\u00e4gersten-Liljeholmens\",\"\\u00c4lvsj\\u00f6\",\"Bromma\",\"Farsta\",\"Kungsholmens\",\"Enskede-\\u00c5rsta-Vant\\u00f6rs\",\"Farsta\",\"Enskede-\\u00c5rsta-Vant\\u00f6rs\",\"Farsta\",\"Enskede-\\u00c5rsta-Vant\\u00f6rs\",\"Enskede-\\u00c5rsta-Vant\\u00f6rs\",\"Enskede-\\u00c5rsta-Vant\\u00f6rs\",\"Enskede-\\u00c5rsta-Vant\\u00f6rs\",\"Enskede-\\u00c5rsta-Vant\\u00f6rs\",\"Bromma\",\"Bromma\",\"Bromma\",\"Enskede-\\u00c5rsta-Vant\\u00f6rs\",\"Sp\\u00e5nga-Tensta\",\"Enskede-\\u00c5rsta-Vant\\u00f6rs\",\"S\\u00f6dermalms\",\"S\\u00f6dermalms\",\"Sk\\u00e4rholmens\",\"Sk\\u00e4rholmens\",\"Enskede-\\u00c5rsta-Vant\\u00f6rs\",\"S\\u00f6dermalms\",\"\\u00d6stermalms\",\"S\\u00f6dermalms\",\"Enskede-\\u00c5rsta-Vant\\u00f6rs\",\"S\\u00f6dermalms\",\"\\u00d6stermalms\",\"S\\u00f6dermalms\",\"Kungsholmens\",\"Norrmalms\",\"\\u00c4lvsj\\u00f6\",\"Norrmalms\",\"Norrmalms\",\"S\\u00f6dermalms\",\"Sk\\u00e4rholmens\",\"Sk\\u00e4rholmens\",\"Bromma\",\"Bromma\",\"Farsta\",\"Enskede-\\u00c5rsta-Vant\\u00f6rs\",\"S\\u00f6dermalms\",\"S\\u00f6dermalms\",\"S\\u00f6dermalms\",\"Kungsholmens\",\"Norrmalms\",\"\\u00d6stermalms\",\"H\\u00e4gersten-Liljeholmens\",\"S\\u00f6dermalms\",\"H\\u00e4gersten-Liljeholmens\",\"Sk\\u00e4rholmens\",\"S\\u00f6dermalms\",\"Skarpn\\u00e4cks\",\"S\\u00f6dermalms\",\"Enskede-\\u00c5rsta-Vant\\u00f6rs\",\"Enskede-\\u00c5rsta-Vant\\u00f6rs\",\"\\u00c4lvsj\\u00f6\",\"Kungsholmens\",\"\\u00d6stermalms\",\"S\\u00f6dermalms\",\"Norrmalms\",\"Rinkeby-Tensta\",\"H\\u00e4sselby-V\\u00e4llingby\",\"\\u00c4lvsj\\u00f6\",\"Norrmalms\",\"S\\u00f6dermalms\",\"S\\u00f6dermalms\",\"Norrmalms\",\"Farsta\",\"H\\u00e4gersten-Liljeholmens\",\"Kungsholmens\",\"S\\u00f6dermalms\",\"S\\u00f6dermalms\",\"S\\u00f6dermalms\",\"H\\u00e4gersten-Liljeholmens\",\"Sp\\u00e5nga-Tensta\",\"\\u00d6stermalms\",\"Rinkeby-Tensta\",\"S\\u00f6dermalms\",\"H\\u00e4gersten-Liljeholmens\",\"H\\u00e4sselby-V\\u00e4llingby\",\"S\\u00f6dermalms\",\"Skarpn\\u00e4cks\",\"Norrmalms\",\"Skarpn\\u00e4cks\",\"Norrmalms\",\"Farsta\",\"Kungsholmens\",\"S\\u00f6dermalms\",\"Bromma\",\"Kungsholmens\",\"Norrmalms\",\"Enskede-\\u00c5rsta-Vant\\u00f6rs\",\"Kungsholmens\",\"Enskede-\\u00c5rsta-Vant\\u00f6rs\",\"Norrmalms\",\"Enskede-\\u00c5rsta-Vant\\u00f6rs\",\"Enskede-\\u00c5rsta-Vant\\u00f6rs\",\"S\\u00f6dermalms\",\"\\u00c4lvsj\\u00f6\",\"Norrmalms\",\"Skarpn\\u00e4cks\",\"Norrmalms\",\"Enskede-\\u00c5rsta-Vant\\u00f6rs\",\"S\\u00f6dermalms\",\"Enskede-\\u00c5rsta-Vant\\u00f6rs\",\"Rinkeby-Tensta\",\"H\\u00e4sselby-V\\u00e4llingby\",\"\\u00d6stermalms\",\"Enskede-\\u00c5rsta-Vant\\u00f6rs\",\"Bromma\",\"S\\u00f6dermalms\",\"Enskede-\\u00c5rsta-Vant\\u00f6rs\",\"Norrmalms\",\"Skarpn\\u00e4cks\",\"Norrmalms\",\"Norrmalms\",\"Sk\\u00e4rholmens\",\"Enskede-\\u00c5rsta-Vant\\u00f6rs\",\"\\u00d6stermalms\",\"\\u00c4lvsj\\u00f6\",\"S\\u00f6dermalms\",\"Kungsholmens\",\"S\\u00f6dermalms\",\"Kungsholmens\",\"\\u00d6stermalms\",\"S\\u00f6dermalms\",\"H\\u00e4sselby-V\\u00e4llingby\",\"Norrmalms\",\"Bromma\",\"S\\u00f6dermalms\",\"\\u00d6stermalms\",\"S\\u00f6dermalms\",\"\\u00c4lvsj\\u00f6\",\"Norrmalms\",\"S\\u00f6dermalms\",\"Bromma\",\"Skarpn\\u00e4cks\",\"H\\u00e4gersten-Liljeholmens\",\"Norrmalms\",\"Kungsholmens\",\"Kungsholmens\",\"Norrmalms\",\"Kungsholmens\",\"H\\u00e4gersten-Liljeholmens\",\"Enskede-\\u00c5rsta-Vant\\u00f6rs\",\"\\u00d6stermalms\",\"Enskede-\\u00c5rsta-Vant\\u00f6rs\",\"Enskede-\\u00c5rsta-Vant\\u00f6rs\",\"H\\u00e4gersten-Liljeholmens\",\"H\\u00e4gersten-Liljeholmens\",\"H\\u00e4gersten-Liljeholmens\",\"S\\u00f6dermalms\",\"S\\u00f6dermalms\",\"S\\u00f6dermalms\",\"Bromma\",\"Norrmalms\",\"H\\u00e4sselby-V\\u00e4llingby\",\"Enskede-\\u00c5rsta-Vant\\u00f6rs\",\"Sk\\u00e4rholmens\",\"Norrmalms\",\"S\\u00f6dermalms\",\"Rinkeby-Tensta\",\"\\u00c4lvsj\\u00f6\",\"H\\u00e4gersten-Liljeholmens\",\"Skarpn\\u00e4cks\",\"Bromma\",\"Enskede-\\u00c5rsta-Vant\\u00f6rs\",\"H\\u00e4gersten-Liljeholmens\",\"S\\u00f6dermalms\",\"\\u00c4lvsj\\u00f6\",\"S\\u00f6dermalms\",\"H\\u00e4sselby-V\\u00e4llingby\",\"Farsta\",\"S\\u00f6dermalms\",\"H\\u00e4sselby-V\\u00e4llingby\",\"H\\u00e4sselby-V\\u00e4llingby\",\"\\u00d6stermalms\",\"H\\u00e4gersten-Liljeholmens\",\"S\\u00f6dermalms\",\"Norrmalms\",\"Bromma\",\"Farsta\",\"Rinkeby-Tensta\",\"Norrmalms\",\"Rinkeby-Tensta\",\"Norrmalms\",\"Rinkeby-Tensta\",\"Kungsholmens\",\"Rinkeby-Tensta\",\"Skarpn\\u00e4cks\",\"Kungsholmens\",\"Skarpn\\u00e4cks\",\"Skarpn\\u00e4cks\",\"Kungsholmens\",\"\\u00d6stermalms\",\"S\\u00f6dermalms\",\"\\u00d6stermalms\",\"Rinkeby-Tensta\",\"Rinkeby-Tensta\",\"Kungsholmens\",\"\\u00c4lvsj\\u00f6\",\"H\\u00e4sselby-V\\u00e4llingby\",\"Bromma\",\"S\\u00f6dermalms\",\"S\\u00f6dermalms\",\"Enskede-\\u00c5rsta-Vant\\u00f6rs\",\"S\\u00f6dermalms\",\"S\\u00f6dermalms\",\"Enskede-\\u00c5rsta-Vant\\u00f6rs\",\"Norrmalms\",\"Skarpn\\u00e4cks\",\"S\\u00f6dermalms\",\"S\\u00f6dermalms\",\"S\\u00f6dermalms\",\"\\u00d6stermalms\",\"Norrmalms\",\"S\\u00f6dermalms\",\"Enskede-\\u00c5rsta-Vant\\u00f6rs\",\"Sk\\u00e4rholmens\",\"Bromma\",\"\\u00d6stermalms\",\"Kungsholmens\",\"S\\u00f6dermalms\",\"Enskede-\\u00c5rsta-Vant\\u00f6rs\",\"Norrmalms\",\"Norrmalms\",\"Norrmalms\",\"H\\u00e4gersten-Liljeholmens\",\"Skarpn\\u00e4cks\",\"S\\u00f6dermalms\",\"Skarpn\\u00e4cks\",\"S\\u00f6dermalms\",\"Sk\\u00e4rholmens\",\"S\\u00f6dermalms\",\"S\\u00f6dermalms\",\"S\\u00f6dermalms\",\"H\\u00e4gersten-Liljeholmens\",\"Bromma\",\"Enskede-\\u00c5rsta-Vant\\u00f6rs\",\"Norrmalms\",\"S\\u00f6dermalms\",\"H\\u00e4sselby-V\\u00e4llingby\",\"Kungsholmens\",\"Kungsholmens\",\"Enskede-\\u00c5rsta-Vant\\u00f6rs\",\"S\\u00f6dermalms\",\"Kungsholmens\",\"Kungsholmens\",\"\\u00d6stermalms\",\"S\\u00f6dermalms\",\"S\\u00f6dermalms\",\"S\\u00f6dermalms\",\"\\u00d6stermalms\",\"S\\u00f6dermalms\",\"Enskede-\\u00c5rsta-Vant\\u00f6rs\",\"Bromma\",\"H\\u00e4gersten-Liljeholmens\",\"Norrmalms\",\"Norrmalms\",\"Norrmalms\",\"Norrmalms\",\"Bromma\",\"Enskede-\\u00c5rsta-Vant\\u00f6rs\",\"Enskede-\\u00c5rsta-Vant\\u00f6rs\",\"S\\u00f6dermalms\",\"S\\u00f6dermalms\",\"S\\u00f6dermalms\",\"S\\u00f6dermalms\",\"H\\u00e4gersten-Liljeholmens\",\"\\u00d6stermalms\",\"Sk\\u00e4rholmens\",\"\\u00d6stermalms\",\"\\u00d6stermalms\",\"\\u00d6stermalms\",\"\\u00d6stermalms\",\"S\\u00f6dermalms\",\"Enskede-\\u00c5rsta-Vant\\u00f6rs\",\"S\\u00f6dermalms\",\"\\u00d6stermalms\",\"\\u00d6stermalms\",\"\\u00d6stermalms\",\"Sk\\u00e4rholmens\",\"H\\u00e4gersten-Liljeholmens\",\"Norrmalms\",\"Bromma\",\"H\\u00e4sselby-V\\u00e4llingby\",\"\\u00c4lvsj\\u00f6\",\"\\u00d6stermalms\",\"H\\u00e4sselby-V\\u00e4llingby\",\"Kungsholmens\",\"S\\u00f6dermalms\",\"Norrmalms\",\"Kungsholmens\",\"S\\u00f6dermalms\",\"\\u00c4lvsj\\u00f6\",\"S\\u00f6dermalms\",\"Norrmalms\",\"Norrmalms\",\"Norrmalms\",\"Norrmalms\",\"Bromma\",\"H\\u00e4gersten-Liljeholmens\",\"H\\u00e4gersten-Liljeholmens\",\"H\\u00e4sselby-V\\u00e4llingby\",\"Norrmalms\",\"H\\u00e4gersten-Liljeholmens\",\"Enskede-\\u00c5rsta-Vant\\u00f6rs\",\"Norrmalms\",\"Norrmalms\",\"Bromma\",\"S\\u00f6dermalms\",\"Enskede-\\u00c5rsta-Vant\\u00f6rs\",\"\\u00d6stermalms\",\"Farsta\",\"H\\u00e4gersten-Liljeholmens\",\"H\\u00e4gersten-Liljeholmens\",\"S\\u00f6dermalms\",\"S\\u00f6dermalms\",\"Norrmalms\",\"S\\u00f6dermalms\",\"\\u00c4lvsj\\u00f6\",\"Sp\\u00e5nga-Tensta\",\"Kungsholmens\",\"H\\u00e4gersten-Liljeholmens\",\"Norrmalms\",\"S\\u00f6dermalms\",\"Farsta\",\"S\\u00f6dermalms\",\"\\u00c4lvsj\\u00f6\",\"Bromma\",\"H\\u00e4sselby-V\\u00e4llingby\",\"Farsta\",\"Rinkeby-Tensta\",\"H\\u00e4gersten-Liljeholmens\",\"\\u00d6stermalms\",\"Sk\\u00e4rholmens\",\"Norrmalms\",\"Norrmalms\",\"Norrmalms\",\"Norrmalms\",\"\\u00d6stermalms\",\"Bromma\",\"Farsta\",\"H\\u00e4gersten-Liljeholmens\",\"S\\u00f6dermalms\",\"H\\u00e4gersten-Liljeholmens\",\"\\u00d6stermalms\",\"\\u00d6stermalms\",\"Norrmalms\",\"Kungsholmens\",\"Farsta\",\"H\\u00e4gersten-Liljeholmens\",\"S\\u00f6dermalms\",\"\\u00d6stermalms\",\"H\\u00e4gersten-Liljeholmens\",\"Norrmalms\",\"Kungsholmens\",\"Kungsholmens\",\"Kungsholmens\",\"Kungsholmens\",\"Kungsholmens\",\"Kungsholmens\",\"H\\u00e4sselby-V\\u00e4llingby\",\"S\\u00f6dermalms\",\"\\u00d6stermalms\",\"Rinkeby-Tensta\",\"S\\u00f6dermalms\",\"\\u00d6stermalms\",\"H\\u00e4gersten-Liljeholmens\",\"S\\u00f6dermalms\",\"H\\u00e4gersten-Liljeholmens\",\"Skarpn\\u00e4cks\",\"S\\u00f6dermalms\",\"Bromma\",\"Rinkeby-Tensta\",\"S\\u00f6dermalms\",\"S\\u00f6dermalms\",\"Bromma\",\"Norrmalms\",\"S\\u00f6dermalms\",\"\\u00d6stermalms\",\"S\\u00f6dermalms\",\"\\u00d6stermalms\",\"Norrmalms\",\"Kungsholmens\",\"Enskede-\\u00c5rsta-Vant\\u00f6rs\",\"Kungsholmens\",\"Norrmalms\",\"\\u00c4lvsj\\u00f6\",\"S\\u00f6dermalms\",\"H\\u00e4sselby-V\\u00e4llingby\",\"Bromma\",\"S\\u00f6dermalms\",\"Farsta\",\"Kungsholmens\",\"Kungsholmens\",\"Enskede-\\u00c5rsta-Vant\\u00f6rs\",\"Enskede-\\u00c5rsta-Vant\\u00f6rs\",\"Norrmalms\",\"Sp\\u00e5nga-Tensta\",\"Norrmalms\",\"Enskede-\\u00c5rsta-Vant\\u00f6rs\",\"Sp\\u00e5nga-Tensta\",\"S\\u00f6dermalms\",\"S\\u00f6dermalms\",\"H\\u00e4gersten-Liljeholmens\",\"H\\u00e4gersten-Liljeholmens\",\"Enskede-\\u00c5rsta-Vant\\u00f6rs\",\"Enskede-\\u00c5rsta-Vant\\u00f6rs\",\"Sk\\u00e4rholmens\",\"S\\u00f6dermalms\",\"Norrmalms\",\"H\\u00e4gersten-Liljeholmens\",\"Norrmalms\",\"S\\u00f6dermalms\",\"S\\u00f6dermalms\",\"H\\u00e4gersten-Liljeholmens\",\"Bromma\",\"Kungsholmens\",\"S\\u00f6dermalms\",\"S\\u00f6dermalms\",\"Farsta\",\"Kungsholmens\",\"Bromma\",\"Bromma\",\"Enskede-\\u00c5rsta-Vant\\u00f6rs\",\"Bromma\",\"Bromma\",\"S\\u00f6dermalms\",\"Norrmalms\",\"Norrmalms\",\"S\\u00f6dermalms\",\"H\\u00e4sselby-V\\u00e4llingby\",\"S\\u00f6dermalms\",\"S\\u00f6dermalms\",\"Norrmalms\",\"Norrmalms\",\"Enskede-\\u00c5rsta-Vant\\u00f6rs\",\"Enskede-\\u00c5rsta-Vant\\u00f6rs\",\"Enskede-\\u00c5rsta-Vant\\u00f6rs\",\"S\\u00f6dermalms\",\"H\\u00e4gersten-Liljeholmens\",\"S\\u00f6dermalms\",\"Norrmalms\",\"S\\u00f6dermalms\",\"H\\u00e4gersten-Liljeholmens\",\"\\u00c4lvsj\\u00f6\",\"Bromma\",\"Farsta\",\"S\\u00f6dermalms\",\"\\u00c4lvsj\\u00f6\",\"H\\u00e4gersten-Liljeholmens\",\"S\\u00f6dermalms\",\"Rinkeby-Tensta\",\"Rinkeby-Tensta\",\"Rinkeby-Tensta\",\"H\\u00e4gersten-Liljeholmens\",\"S\\u00f6dermalms\",\"\\u00c4lvsj\\u00f6\",\"S\\u00f6dermalms\",\"H\\u00e4gersten-Liljeholmens\",\"H\\u00e4gersten-Liljeholmens\",\"S\\u00f6dermalms\",\"H\\u00e4gersten-Liljeholmens\",\"Farsta\",\"H\\u00e4gersten-Liljeholmens\",\"H\\u00e4gersten-Liljeholmens\",\"Skarpn\\u00e4cks\",\"Norrmalms\",\"Kungsholmens\",\"Farsta\",\"H\\u00e4gersten-Liljeholmens\",\"H\\u00e4gersten-Liljeholmens\",\"S\\u00f6dermalms\",\"Enskede-\\u00c5rsta-Vant\\u00f6rs\",\"Kungsholmens\",\"Farsta\",\"\\u00d6stermalms\",\"Rinkeby-Tensta\",\"Bromma\",\"Bromma\",\"S\\u00f6dermalms\",\"H\\u00e4gersten-Liljeholmens\",\"S\\u00f6dermalms\",\"S\\u00f6dermalms\",\"S\\u00f6dermalms\",\"S\\u00f6dermalms\",\"Norrmalms\",\"S\\u00f6dermalms\",\"Skarpn\\u00e4cks\",\"H\\u00e4gersten-Liljeholmens\",\"Skarpn\\u00e4cks\",\"Norrmalms\",\"Sk\\u00e4rholmens\",\"Enskede-\\u00c5rsta-Vant\\u00f6rs\",\"Sp\\u00e5nga-Tensta\",\"\\u00d6stermalms\",\"Norrmalms\",\"Kungsholmens\",\"H\\u00e4gersten-Liljeholmens\",\"S\\u00f6dermalms\",\"Sp\\u00e5nga-Tensta\",\"S\\u00f6dermalms\",\"S\\u00f6dermalms\",\"H\\u00e4gersten-Liljeholmens\",\"Enskede-\\u00c5rsta-Vant\\u00f6rs\",\"Farsta\",\"S\\u00f6dermalms\",\"S\\u00f6dermalms\",\"Kungsholmens\",\"Kungsholmens\",\"Kungsholmens\",\"Kungsholmens\",\"\\u00d6stermalms\",\"H\\u00e4sselby-V\\u00e4llingby\",\"Farsta\",\"S\\u00f6dermalms\",\"S\\u00f6dermalms\",\"S\\u00f6dermalms\",\"Bromma\",\"S\\u00f6dermalms\",\"S\\u00f6dermalms\",\"Sp\\u00e5nga-Tensta\",\"\\u00d6stermalms\",\"Norrmalms\",\"Kungsholmens\",\"Skarpn\\u00e4cks\",\"Bromma\",\"Bromma\",\"S\\u00f6dermalms\",\"S\\u00f6dermalms\",\"S\\u00f6dermalms\",\"H\\u00e4gersten-Liljeholmens\",\"Norrmalms\",\"Skarpn\\u00e4cks\",\"S\\u00f6dermalms\",\"Enskede-\\u00c5rsta-Vant\\u00f6rs\",\"S\\u00f6dermalms\",\"Kungsholmens\",\"Norrmalms\",\"Sp\\u00e5nga-Tensta\",\"Kungsholmens\",\"Bromma\",\"S\\u00f6dermalms\",\"S\\u00f6dermalms\",\"Bromma\",\"Rinkeby-Tensta\",\"S\\u00f6dermalms\",\"H\\u00e4gersten-Liljeholmens\",\"S\\u00f6dermalms\",\"S\\u00f6dermalms\",\"Kungsholmens\",\"Kungsholmens\",\"\\u00d6stermalms\",\"Enskede-\\u00c5rsta-Vant\\u00f6rs\",\"S\\u00f6dermalms\",\"\\u00d6stermalms\",\"Bromma\",\"\\u00d6stermalms\",\"S\\u00f6dermalms\",\"Norrmalms\",\"H\\u00e4gersten-Liljeholmens\",\"Enskede-\\u00c5rsta-Vant\\u00f6rs\",\"S\\u00f6dermalms\",\"Kungsholmens\",\"Norrmalms\",\"H\\u00e4sselby-V\\u00e4llingby\",\"Bromma\",\"H\\u00e4sselby-V\\u00e4llingby\",\"Farsta\",\"Norrmalms\",\"S\\u00f6dermalms\",\"S\\u00f6dermalms\",\"S\\u00f6dermalms\",\"Norrmalms\",\"S\\u00f6dermalms\",\"Norrmalms\",\"Enskede-\\u00c5rsta-Vant\\u00f6rs\",\"Rinkeby-Tensta\",\"Bromma\",\"Norrmalms\",\"Kungsholmens\",\"S\\u00f6dermalms\",\"S\\u00f6dermalms\",\"Norrmalms\",\"S\\u00f6dermalms\",\"Norrmalms\",\"S\\u00f6dermalms\",\"Sp\\u00e5nga-Tensta\",\"H\\u00e4gersten-Liljeholmens\",\"Enskede-\\u00c5rsta-Vant\\u00f6rs\",\"\\u00d6stermalms\",\"S\\u00f6dermalms\",\"S\\u00f6dermalms\",\"\\u00d6stermalms\",\"Bromma\",\"\\u00d6stermalms\",\"\\u00c4lvsj\\u00f6\",\"Enskede-\\u00c5rsta-Vant\\u00f6rs\",\"Farsta\",\"Enskede-\\u00c5rsta-Vant\\u00f6rs\",\"Norrmalms\",\"Skarpn\\u00e4cks\",\"H\\u00e4sselby-V\\u00e4llingby\",\"Kungsholmens\",\"H\\u00e4gersten-Liljeholmens\",\"S\\u00f6dermalms\",\"Farsta\",\"Kungsholmens\",\"Norrmalms\",\"S\\u00f6dermalms\",\"Rinkeby-Tensta\",\"Enskede-\\u00c5rsta-Vant\\u00f6rs\",\"H\\u00e4gersten-Liljeholmens\",\"Kungsholmens\",\"H\\u00e4sselby-V\\u00e4llingby\",\"S\\u00f6dermalms\",\"Kungsholmens\",\"Kungsholmens\",\"Kungsholmens\",\"S\\u00f6dermalms\",\"S\\u00f6dermalms\",\"Norrmalms\",\"S\\u00f6dermalms\",\"Kungsholmens\",\"S\\u00f6dermalms\",\"S\\u00f6dermalms\",\"H\\u00e4sselby-V\\u00e4llingby\",\"Sp\\u00e5nga-Tensta\",\"Kungsholmens\",\"H\\u00e4gersten-Liljeholmens\",\"H\\u00e4sselby-V\\u00e4llingby\",\"Bromma\",\"Norrmalms\",\"H\\u00e4gersten-Liljeholmens\",\"\\u00d6stermalms\",\"Rinkeby-Tensta\",\"H\\u00e4gersten-Liljeholmens\",\"S\\u00f6dermalms\",\"\\u00d6stermalms\",\"Enskede-\\u00c5rsta-Vant\\u00f6rs\",\"Kungsholmens\",\"\\u00c4lvsj\\u00f6\",\"Enskede-\\u00c5rsta-Vant\\u00f6rs\",\"Norrmalms\",\"Rinkeby-Tensta\",\"Enskede-\\u00c5rsta-Vant\\u00f6rs\",\"S\\u00f6dermalms\",\"Skarpn\\u00e4cks\",\"Enskede-\\u00c5rsta-Vant\\u00f6rs\",\"H\\u00e4sselby-V\\u00e4llingby\",\"\\u00c4lvsj\\u00f6\",\"Skarpn\\u00e4cks\",\"\\u00c4lvsj\\u00f6\",\"S\\u00f6dermalms\",\"Sp\\u00e5nga-Tensta\",\"Norrmalms\",\"Enskede-\\u00c5rsta-Vant\\u00f6rs\",\"Kungsholmens\",\"Norrmalms\",\"Bromma\",\"Norrmalms\",\"S\\u00f6dermalms\",\"\\u00d6stermalms\",\"\\u00d6stermalms\",\"S\\u00f6dermalms\",\"S\\u00f6dermalms\",\"Farsta\",\"S\\u00f6dermalms\",\"Norrmalms\",\"S\\u00f6dermalms\",\"S\\u00f6dermalms\",\"Farsta\",\"Norrmalms\",\"\\u00c4lvsj\\u00f6\",\"Enskede-\\u00c5rsta-Vant\\u00f6rs\",\"S\\u00f6dermalms\",\"S\\u00f6dermalms\",\"Skarpn\\u00e4cks\",\"\\u00d6stermalms\",\"\\u00d6stermalms\",\"\\u00d6stermalms\",\"Bromma\",\"\\u00d6stermalms\",\"\\u00d6stermalms\",\"Bromma\",\"H\\u00e4gersten-Liljeholmens\",\"Kungsholmens\",\"Bromma\",\"Farsta\",\"Norrmalms\",\"Sk\\u00e4rholmens\",\"Kungsholmens\",\"Enskede-\\u00c5rsta-Vant\\u00f6rs\",\"S\\u00f6dermalms\",\"\\u00d6stermalms\",\"Norrmalms\",\"H\\u00e4sselby-V\\u00e4llingby\",\"Norrmalms\",\"Farsta\",\"Farsta\",\"H\\u00e4gersten-Liljeholmens\",\"Enskede-\\u00c5rsta-Vant\\u00f6rs\",\"Kungsholmens\",\"\\u00c4lvsj\\u00f6\",\"\\u00d6stermalms\",\"Bromma\",\"Enskede-\\u00c5rsta-Vant\\u00f6rs\",\"S\\u00f6dermalms\",\"S\\u00f6dermalms\",\"Enskede-\\u00c5rsta-Vant\\u00f6rs\",\"H\\u00e4gersten-Liljeholmens\",\"\\u00d6stermalms\",\"\\u00c4lvsj\\u00f6\",\"Bromma\",\"Sp\\u00e5nga-Tensta\",\"\\u00d6stermalms\",\"S\\u00f6dermalms\",\"H\\u00e4sselby-V\\u00e4llingby\",\"Kungsholmens\",\"S\\u00f6dermalms\",\"H\\u00e4gersten-Liljeholmens\",\"Bromma\",\"Enskede-\\u00c5rsta-Vant\\u00f6rs\",\"H\\u00e4gersten-Liljeholmens\",\"H\\u00e4gersten-Liljeholmens\",\"\\u00d6stermalms\",\"S\\u00f6dermalms\",\"H\\u00e4gersten-Liljeholmens\",\"Bromma\",\"S\\u00f6dermalms\",\"S\\u00f6dermalms\",\"H\\u00e4sselby-V\\u00e4llingby\",\"Kungsholmens\",\"S\\u00f6dermalms\",\"S\\u00f6dermalms\",\"\\u00c4lvsj\\u00f6\",\"Kungsholmens\",\"S\\u00f6dermalms\",\"S\\u00f6dermalms\",\"Rinkeby-Tensta\",\"S\\u00f6dermalms\",\"Sp\\u00e5nga-Tensta\",\"Skarpn\\u00e4cks\",\"S\\u00f6dermalms\",\"H\\u00e4gersten-Liljeholmens\",\"H\\u00e4gersten-Liljeholmens\",\"Sk\\u00e4rholmens\",\"Sk\\u00e4rholmens\",\"Kungsholmens\",\"Kungsholmens\",\"S\\u00f6dermalms\",\"S\\u00f6dermalms\",\"Skarpn\\u00e4cks\",\"Norrmalms\",\"H\\u00e4gersten-Liljeholmens\",\"Enskede-\\u00c5rsta-Vant\\u00f6rs\",\"S\\u00f6dermalms\",\"Bromma\",\"H\\u00e4gersten-Liljeholmens\",\"Bromma\",\"S\\u00f6dermalms\",\"Bromma\",\"S\\u00f6dermalms\",\"S\\u00f6dermalms\",\"S\\u00f6dermalms\",\"\\u00d6stermalms\",\"Norrmalms\",\"S\\u00f6dermalms\",\"H\\u00e4sselby-V\\u00e4llingby\",\"Sk\\u00e4rholmens\",\"\\u00c4lvsj\\u00f6\",\"Enskede-\\u00c5rsta-Vant\\u00f6rs\",\"S\\u00f6dermalms\",\"S\\u00f6dermalms\",\"Farsta\",\"Farsta\",\"Kungsholmens\",\"Norrmalms\",\"Rinkeby-Tensta\",\"\\u00d6stermalms\",\"Enskede-\\u00c5rsta-Vant\\u00f6rs\",\"Sk\\u00e4rholmens\",\"H\\u00e4gersten-Liljeholmens\",\"Skarpn\\u00e4cks\",\"S\\u00f6dermalms\",\"Norrmalms\",\"H\\u00e4sselby-V\\u00e4llingby\",\"\\u00d6stermalms\",\"Sp\\u00e5nga-Tensta\",\"Kungsholmens\",\"\\u00d6stermalms\",\"H\\u00e4gersten-Liljeholmens\",\"S\\u00f6dermalms\",\"\\u00d6stermalms\",\"\\u00d6stermalms\",\"S\\u00f6dermalms\",\"S\\u00f6dermalms\",\"H\\u00e4gersten-Liljeholmens\",\"Skarpn\\u00e4cks\",\"Sp\\u00e5nga-Tensta\",\"\\u00c4lvsj\\u00f6\",\"Norrmalms\",\"Skarpn\\u00e4cks\",\"Kungsholmens\",\"Rinkeby-Tensta\",\"H\\u00e4sselby-V\\u00e4llingby\",\"Sp\\u00e5nga-Tensta\",\"Sp\\u00e5nga-Tensta\",\"S\\u00f6dermalms\",\"S\\u00f6dermalms\",\"\\u00c4lvsj\\u00f6\",\"Kungsholmens\",\"Enskede-\\u00c5rsta-Vant\\u00f6rs\",\"S\\u00f6dermalms\",\"S\\u00f6dermalms\",\"S\\u00f6dermalms\",\"H\\u00e4gersten-Liljeholmens\",\"Norrmalms\",\"Bromma\",\"Farsta\",\"S\\u00f6dermalms\",\"Kungsholmens\",\"Enskede-\\u00c5rsta-Vant\\u00f6rs\",\"Norrmalms\",\"Norrmalms\",\"H\\u00e4gersten-Liljeholmens\",\"H\\u00e4gersten-Liljeholmens\",\"Bromma\",\"Kungsholmens\",\"S\\u00f6dermalms\",\"Kungsholmens\",\"\\u00d6stermalms\",\"Farsta\",\"H\\u00e4gersten-Liljeholmens\",\"H\\u00e4gersten-Liljeholmens\",\"\\u00d6stermalms\",\"Kungsholmens\",\"Kungsholmens\",\"Enskede-\\u00c5rsta-Vant\\u00f6rs\",\"\\u00d6stermalms\",\"Enskede-\\u00c5rsta-Vant\\u00f6rs\",\"Enskede-\\u00c5rsta-Vant\\u00f6rs\",\"Skarpn\\u00e4cks\",\"Rinkeby-Tensta\",\"\\u00d6stermalms\",\"Kungsholmens\",\"H\\u00e4gersten-Liljeholmens\",\"H\\u00e4sselby-V\\u00e4llingby\",\"Kungsholmens\",\"H\\u00e4sselby-V\\u00e4llingby\",\"S\\u00f6dermalms\",\"H\\u00e4gersten-Liljeholmens\",\"S\\u00f6dermalms\",\"Enskede-\\u00c5rsta-Vant\\u00f6rs\",\"S\\u00f6dermalms\",\"Enskede-\\u00c5rsta-Vant\\u00f6rs\",\"Enskede-\\u00c5rsta-Vant\\u00f6rs\",\"S\\u00f6dermalms\",\"S\\u00f6dermalms\",\"\\u00d6stermalms\",\"Enskede-\\u00c5rsta-Vant\\u00f6rs\",\"H\\u00e4gersten-Liljeholmens\",\"Enskede-\\u00c5rsta-Vant\\u00f6rs\",\"H\\u00e4gersten-Liljeholmens\",\"Bromma\",\"S\\u00f6dermalms\",\"Norrmalms\",\"Enskede-\\u00c5rsta-Vant\\u00f6rs\",\"Kungsholmens\",\"Enskede-\\u00c5rsta-Vant\\u00f6rs\",\"S\\u00f6dermalms\",\"Sp\\u00e5nga-Tensta\",\"Skarpn\\u00e4cks\",\"Sp\\u00e5nga-Tensta\",\"S\\u00f6dermalms\",\"Norrmalms\",\"Skarpn\\u00e4cks\",\"S\\u00f6dermalms\",\"Enskede-\\u00c5rsta-Vant\\u00f6rs\",\"H\\u00e4gersten-Liljeholmens\",\"S\\u00f6dermalms\",\"Norrmalms\",\"Bromma\",\"Norrmalms\",\"Bromma\",\"S\\u00f6dermalms\",\"S\\u00f6dermalms\",\"Rinkeby-Tensta\",\"H\\u00e4gersten-Liljeholmens\",\"Rinkeby-Tensta\",\"Kungsholmens\",\"Norrmalms\",\"H\\u00e4gersten-Liljeholmens\",\"H\\u00e4gersten-Liljeholmens\",\"S\\u00f6dermalms\",\"Farsta\",\"Norrmalms\",\"Enskede-\\u00c5rsta-Vant\\u00f6rs\",\"Norrmalms\",\"Kungsholmens\",\"Kungsholmens\",\"H\\u00e4gersten-Liljeholmens\",\"Kungsholmens\",\"Kungsholmens\",\"S\\u00f6dermalms\",\"H\\u00e4gersten-Liljeholmens\",\"S\\u00f6dermalms\",\"Bromma\",\"\\u00c4lvsj\\u00f6\",\"Bromma\",\"S\\u00f6dermalms\",\"Norrmalms\",\"Skarpn\\u00e4cks\",\"Kungsholmens\",\"S\\u00f6dermalms\",\"S\\u00f6dermalms\",\"H\\u00e4gersten-Liljeholmens\",\"Sk\\u00e4rholmens\",\"\\u00c4lvsj\\u00f6\",\"Rinkeby-Tensta\",\"Enskede-\\u00c5rsta-Vant\\u00f6rs\",\"Enskede-\\u00c5rsta-Vant\\u00f6rs\",\"Enskede-\\u00c5rsta-Vant\\u00f6rs\",\"Enskede-\\u00c5rsta-Vant\\u00f6rs\",\"S\\u00f6dermalms\",\"S\\u00f6dermalms\",\"Norrmalms\",\"S\\u00f6dermalms\",\"Rinkeby-Tensta\",\"Rinkeby-Tensta\",\"Sp\\u00e5nga-Tensta\",\"S\\u00f6dermalms\",\"Norrmalms\",\"Norrmalms\",\"Norrmalms\",\"Kungsholmens\",\"S\\u00f6dermalms\",\"Rinkeby-Tensta\",\"Farsta\",\"H\\u00e4gersten-Liljeholmens\",\"Enskede-\\u00c5rsta-Vant\\u00f6rs\",\"\\u00d6stermalms\",\"\\u00d6stermalms\",\"S\\u00f6dermalms\",\"S\\u00f6dermalms\",\"S\\u00f6dermalms\",\"S\\u00f6dermalms\",\"Enskede-\\u00c5rsta-Vant\\u00f6rs\",\"Norrmalms\",\"Norrmalms\",\"H\\u00e4gersten-Liljeholmens\",\"\\u00d6stermalms\",\"Sp\\u00e5nga-Tensta\",\"S\\u00f6dermalms\",\"S\\u00f6dermalms\",\"Norrmalms\",\"Skarpn\\u00e4cks\",\"Sp\\u00e5nga-Tensta\",\"Norrmalms\",\"Norrmalms\",\"Norrmalms\",\"Rinkeby-Tensta\",\"\\u00c4lvsj\\u00f6\",\"S\\u00f6dermalms\",\"Bromma\",\"Farsta\",\"H\\u00e4sselby-V\\u00e4llingby\",\"H\\u00e4sselby-V\\u00e4llingby\",\"\\u00d6stermalms\",\"H\\u00e4gersten-Liljeholmens\",\"Sp\\u00e5nga-Tensta\",\"\\u00d6stermalms\",\"Enskede-\\u00c5rsta-Vant\\u00f6rs\",\"\\u00d6stermalms\",\"Norrmalms\",\"Kungsholmens\",\"Enskede-\\u00c5rsta-Vant\\u00f6rs\",\"Bromma\",\"S\\u00f6dermalms\",\"\\u00d6stermalms\",\"\\u00d6stermalms\",\"S\\u00f6dermalms\",\"\\u00d6stermalms\",\"Kungsholmens\",\"\\u00d6stermalms\",\"Bromma\",\"Farsta\",\"S\\u00f6dermalms\",\"S\\u00f6dermalms\",\"H\\u00e4gersten-Liljeholmens\",\"Kungsholmens\",\"H\\u00e4sselby-V\\u00e4llingby\",\"Enskede-\\u00c5rsta-Vant\\u00f6rs\",\"Skarpn\\u00e4cks\",\"Skarpn\\u00e4cks\",\"Enskede-\\u00c5rsta-Vant\\u00f6rs\",\"Enskede-\\u00c5rsta-Vant\\u00f6rs\",\"H\\u00e4gersten-Liljeholmens\",\"Farsta\",\"\\u00d6stermalms\",\"Rinkeby-Tensta\",\"Norrmalms\",\"H\\u00e4gersten-Liljeholmens\",\"H\\u00e4sselby-V\\u00e4llingby\",\"Norrmalms\",\"H\\u00e4gersten-Liljeholmens\",\"Enskede-\\u00c5rsta-Vant\\u00f6rs\",\"Sk\\u00e4rholmens\",\"S\\u00f6dermalms\",\"Norrmalms\",\"Enskede-\\u00c5rsta-Vant\\u00f6rs\",\"S\\u00f6dermalms\",\"Farsta\",\"S\\u00f6dermalms\",\"H\\u00e4gersten-Liljeholmens\",\"Enskede-\\u00c5rsta-Vant\\u00f6rs\",\"Skarpn\\u00e4cks\",\"Enskede-\\u00c5rsta-Vant\\u00f6rs\",\"Norrmalms\",\"Kungsholmens\",\"S\\u00f6dermalms\",\"Enskede-\\u00c5rsta-Vant\\u00f6rs\",\"Enskede-\\u00c5rsta-Vant\\u00f6rs\",\"Skarpn\\u00e4cks\",\"Kungsholmens\",\"Enskede-\\u00c5rsta-Vant\\u00f6rs\",\"Kungsholmens\",\"Norrmalms\",\"\\u00c4lvsj\\u00f6\",\"\\u00c4lvsj\\u00f6\",\"Bromma\",\"Bromma\",\"Norrmalms\",\"Sk\\u00e4rholmens\",\"Kungsholmens\",\"Norrmalms\",\"Rinkeby-Tensta\",\"H\\u00e4sselby-V\\u00e4llingby\",\"Kungsholmens\",\"S\\u00f6dermalms\",\"Bromma\",\"\\u00d6stermalms\",\"S\\u00f6dermalms\",\"S\\u00f6dermalms\",\"S\\u00f6dermalms\",\"S\\u00f6dermalms\",\"S\\u00f6dermalms\",\"Kungsholmens\",\"Sp\\u00e5nga-Tensta\",\"H\\u00e4gersten-Liljeholmens\",\"S\\u00f6dermalms\",\"S\\u00f6dermalms\",\"Enskede-\\u00c5rsta-Vant\\u00f6rs\",\"\\u00d6stermalms\",\"\\u00c4lvsj\\u00f6\",\"Bromma\",\"Enskede-\\u00c5rsta-Vant\\u00f6rs\",\"Enskede-\\u00c5rsta-Vant\\u00f6rs\",\"H\\u00e4gersten-Liljeholmens\",\"H\\u00e4gersten-Liljeholmens\",\"S\\u00f6dermalms\",\"H\\u00e4sselby-V\\u00e4llingby\",\"Kungsholmens\",\"S\\u00f6dermalms\",\"Norrmalms\",\"\\u00d6stermalms\",\"Rinkeby-Tensta\",\"Norrmalms\",\"Kungsholmens\",\"Norrmalms\",\"Kungsholmens\",\"Rinkeby-Tensta\",\"Kungsholmens\",\"Kungsholmens\",\"Enskede-\\u00c5rsta-Vant\\u00f6rs\",\"Enskede-\\u00c5rsta-Vant\\u00f6rs\",\"H\\u00e4gersten-Liljeholmens\",\"S\\u00f6dermalms\",\"S\\u00f6dermalms\",\"H\\u00e4sselby-V\\u00e4llingby\",\"S\\u00f6dermalms\",\"Sk\\u00e4rholmens\",\"\\u00d6stermalms\",\"\\u00d6stermalms\",\"H\\u00e4sselby-V\\u00e4llingby\",\"Enskede-\\u00c5rsta-Vant\\u00f6rs\",\"S\\u00f6dermalms\",\"H\\u00e4gersten-Liljeholmens\",\"Norrmalms\",\"\\u00d6stermalms\",\"Skarpn\\u00e4cks\",\"Enskede-\\u00c5rsta-Vant\\u00f6rs\",\"\\u00c4lvsj\\u00f6\",\"S\\u00f6dermalms\",\"Kungsholmens\",\"Norrmalms\",\"\\u00c4lvsj\\u00f6\",\"\\u00d6stermalms\",\"Bromma\",\"Bromma\",\"Skarpn\\u00e4cks\",\"Skarpn\\u00e4cks\",\"Skarpn\\u00e4cks\",\"Sp\\u00e5nga-Tensta\",\"Skarpn\\u00e4cks\",\"Skarpn\\u00e4cks\",\"Skarpn\\u00e4cks\",\"Skarpn\\u00e4cks\",\"Skarpn\\u00e4cks\",\"Skarpn\\u00e4cks\",\"Skarpn\\u00e4cks\",\"Skarpn\\u00e4cks\",\"Skarpn\\u00e4cks\",\"Skarpn\\u00e4cks\",\"Skarpn\\u00e4cks\",\"Skarpn\\u00e4cks\",\"Skarpn\\u00e4cks\",\"Skarpn\\u00e4cks\",\"Norrmalms\",\"Sk\\u00e4rholmens\",\"Kungsholmens\",\"H\\u00e4gersten-Liljeholmens\",\"H\\u00e4gersten-Liljeholmens\",\"Enskede-\\u00c5rsta-Vant\\u00f6rs\",\"Sp\\u00e5nga-Tensta\",\"H\\u00e4gersten-Liljeholmens\",\"Bromma\",\"S\\u00f6dermalms\",\"Farsta\",\"\\u00d6stermalms\",\"Sk\\u00e4rholmens\",\"Norrmalms\",\"\\u00d6stermalms\",\"S\\u00f6dermalms\",\"Bromma\",\"Rinkeby-Tensta\",\"S\\u00f6dermalms\",\"Kungsholmens\",\"Skarpn\\u00e4cks\",\"S\\u00f6dermalms\",\"Kungsholmens\",\"Kungsholmens\",\"Kungsholmens\",\"Kungsholmens\",\"S\\u00f6dermalms\",\"\\u00d6stermalms\",\"S\\u00f6dermalms\",\"Norrmalms\",\"Enskede-\\u00c5rsta-Vant\\u00f6rs\",\"S\\u00f6dermalms\",\"Norrmalms\",\"Norrmalms\",\"H\\u00e4gersten-Liljeholmens\",\"H\\u00e4gersten-Liljeholmens\",\"Bromma\",\"S\\u00f6dermalms\",\"Bromma\",\"Norrmalms\",\"H\\u00e4gersten-Liljeholmens\",\"Enskede-\\u00c5rsta-Vant\\u00f6rs\",\"Enskede-\\u00c5rsta-Vant\\u00f6rs\",\"S\\u00f6dermalms\",\"Enskede-\\u00c5rsta-Vant\\u00f6rs\",\"H\\u00e4gersten-Liljeholmens\",\"H\\u00e4gersten-Liljeholmens\",\"H\\u00e4sselby-V\\u00e4llingby\",\"\\u00d6stermalms\",\"\\u00d6stermalms\",\"Norrmalms\",\"Norrmalms\",\"Enskede-\\u00c5rsta-Vant\\u00f6rs\",\"H\\u00e4gersten-Liljeholmens\",\"S\\u00f6dermalms\",\"Kungsholmens\",\"\\u00d6stermalms\",\"Enskede-\\u00c5rsta-Vant\\u00f6rs\",\"S\\u00f6dermalms\",\"S\\u00f6dermalms\",\"S\\u00f6dermalms\",\"Rinkeby-Tensta\",\"\\u00d6stermalms\",\"Skarpn\\u00e4cks\",\"H\\u00e4gersten-Liljeholmens\",\"Enskede-\\u00c5rsta-Vant\\u00f6rs\",\"Sk\\u00e4rholmens\",\"H\\u00e4gersten-Liljeholmens\",\"\\u00d6stermalms\",\"Skarpn\\u00e4cks\",\"Kungsholmens\",\"Kungsholmens\",\"S\\u00f6dermalms\",\"S\\u00f6dermalms\",\"S\\u00f6dermalms\",\"Skarpn\\u00e4cks\",\"Skarpn\\u00e4cks\",\"H\\u00e4sselby-V\\u00e4llingby\",\"Rinkeby-Tensta\",\"Norrmalms\",\"S\\u00f6dermalms\",\"\\u00d6stermalms\",\"Rinkeby-Tensta\",\"Sp\\u00e5nga-Tensta\",\"Enskede-\\u00c5rsta-Vant\\u00f6rs\",\"S\\u00f6dermalms\",\"\\u00d6stermalms\",\"Sp\\u00e5nga-Tensta\",\"Kungsholmens\",\"Norrmalms\",\"Kungsholmens\",\"\\u00d6stermalms\",\"Kungsholmens\",\"Sp\\u00e5nga-Tensta\",\"Norrmalms\",\"S\\u00f6dermalms\",\"Norrmalms\",\"Norrmalms\",\"Enskede-\\u00c5rsta-Vant\\u00f6rs\",\"Bromma\",\"Rinkeby-Tensta\",\"Norrmalms\",\"Norrmalms\",\"H\\u00e4gersten-Liljeholmens\",\"Farsta\",\"\\u00d6stermalms\",\"Kungsholmens\",\"Rinkeby-Tensta\",\"\\u00d6stermalms\",\"Norrmalms\",\"Norrmalms\",\"Kungsholmens\",\"Kungsholmens\",\"Kungsholmens\",\"Kungsholmens\",\"Kungsholmens\",\"Kungsholmens\",\"Kungsholmens\",\"H\\u00e4gersten-Liljeholmens\",\"Farsta\",\"Norrmalms\",\"Norrmalms\",\"\\u00d6stermalms\",\"S\\u00f6dermalms\",\"S\\u00f6dermalms\",\"S\\u00f6dermalms\",\"\\u00d6stermalms\",\"Norrmalms\",\"Norrmalms\",\"Kungsholmens\",\"Enskede-\\u00c5rsta-Vant\\u00f6rs\",\"Enskede-\\u00c5rsta-Vant\\u00f6rs\",\"Enskede-\\u00c5rsta-Vant\\u00f6rs\",\"Farsta\",\"Farsta\",\"Norrmalms\",\"S\\u00f6dermalms\",\"Farsta\",\"\\u00d6stermalms\",\"Rinkeby-Tensta\",\"Farsta\",\"\\u00d6stermalms\",\"Norrmalms\",\"S\\u00f6dermalms\",\"Enskede-\\u00c5rsta-Vant\\u00f6rs\",\"Enskede-\\u00c5rsta-Vant\\u00f6rs\",\"Bromma\",\"Enskede-\\u00c5rsta-Vant\\u00f6rs\",\"\\u00c4lvsj\\u00f6\",\"S\\u00f6dermalms\",\"Norrmalms\",\"S\\u00f6dermalms\",\"Kungsholmens\",\"H\\u00e4sselby-V\\u00e4llingby\",\"H\\u00e4gersten-Liljeholmens\",\"Sk\\u00e4rholmens\",\"Norrmalms\",\"Norrmalms\",\"H\\u00e4gersten-Liljeholmens\",\"Bromma\",\"Norrmalms\",\"\\u00d6stermalms\",\"H\\u00e4gersten-Liljeholmens\",\"S\\u00f6dermalms\",\"Farsta\",\"S\\u00f6dermalms\",\"Norrmalms\",\"Skarpn\\u00e4cks\",\"Norrmalms\",\"Sp\\u00e5nga-Tensta\",\"\\u00d6stermalms\",\"Kungsholmens\",\"\\u00d6stermalms\",\"\\u00d6stermalms\",\"H\\u00e4gersten-Liljeholmens\",\"Norrmalms\",\"\\u00d6stermalms\",\"H\\u00e4gersten-Liljeholmens\",\"Kungsholmens\",\"H\\u00e4sselby-V\\u00e4llingby\",\"S\\u00f6dermalms\",\"Kungsholmens\",\"Bromma\",\"S\\u00f6dermalms\",\"Bromma\",\"S\\u00f6dermalms\",\"Rinkeby-Tensta\",\"H\\u00e4sselby-V\\u00e4llingby\",\"S\\u00f6dermalms\",\"S\\u00f6dermalms\",\"H\\u00e4gersten-Liljeholmens\",\"Bromma\",\"S\\u00f6dermalms\",\"S\\u00f6dermalms\",\"S\\u00f6dermalms\",\"S\\u00f6dermalms\",\"S\\u00f6dermalms\",\"H\\u00e4gersten-Liljeholmens\",\"Sk\\u00e4rholmens\",\"Kungsholmens\",\"S\\u00f6dermalms\",\"Enskede-\\u00c5rsta-Vant\\u00f6rs\",\"Enskede-\\u00c5rsta-Vant\\u00f6rs\",\"H\\u00e4gersten-Liljeholmens\",\"H\\u00e4sselby-V\\u00e4llingby\",\"S\\u00f6dermalms\",\"S\\u00f6dermalms\",\"S\\u00f6dermalms\",\"S\\u00f6dermalms\",\"Norrmalms\",\"H\\u00e4gersten-Liljeholmens\",\"Rinkeby-Tensta\",\"Norrmalms\",\"Farsta\",\"H\\u00e4sselby-V\\u00e4llingby\",\"S\\u00f6dermalms\",\"\\u00d6stermalms\",\"S\\u00f6dermalms\",\"Sp\\u00e5nga-Tensta\",\"Rinkeby-Tensta\",\"\\u00d6stermalms\",\"Rinkeby-Tensta\",\"S\\u00f6dermalms\",\"Farsta\",\"S\\u00f6dermalms\",\"S\\u00f6dermalms\",\"Kungsholmens\",\"S\\u00f6dermalms\",\"Kungsholmens\",\"Bromma\",\"Kungsholmens\",\"S\\u00f6dermalms\",\"H\\u00e4gersten-Liljeholmens\",\"Rinkeby-Tensta\",\"Enskede-\\u00c5rsta-Vant\\u00f6rs\",\"H\\u00e4sselby-V\\u00e4llingby\",\"Norrmalms\",\"Norrmalms\",\"\\u00d6stermalms\",\"S\\u00f6dermalms\",\"Sp\\u00e5nga-Tensta\",\"Bromma\",\"S\\u00f6dermalms\",\"S\\u00f6dermalms\",\"H\\u00e4sselby-V\\u00e4llingby\",\"H\\u00e4sselby-V\\u00e4llingby\",\"S\\u00f6dermalms\",\"S\\u00f6dermalms\",\"Enskede-\\u00c5rsta-Vant\\u00f6rs\",\"Enskede-\\u00c5rsta-Vant\\u00f6rs\",\"\\u00d6stermalms\",\"\\u00c4lvsj\\u00f6\",\"Norrmalms\",\"Skarpn\\u00e4cks\",\"\\u00d6stermalms\",\"H\\u00e4sselby-V\\u00e4llingby\",\"Sp\\u00e5nga-Tensta\",\"S\\u00f6dermalms\",\"\\u00d6stermalms\",\"Sp\\u00e5nga-Tensta\",\"Kungsholmens\",\"H\\u00e4sselby-V\\u00e4llingby\",\"Enskede-\\u00c5rsta-Vant\\u00f6rs\",\"Norrmalms\",\"Kungsholmens\",\"Norrmalms\",\"Kungsholmens\",\"\\u00d6stermalms\",\"H\\u00e4gersten-Liljeholmens\",\"Norrmalms\",\"Kungsholmens\",\"Enskede-\\u00c5rsta-Vant\\u00f6rs\",\"Kungsholmens\",\"Farsta\",\"H\\u00e4gersten-Liljeholmens\",\"H\\u00e4sselby-V\\u00e4llingby\",\"Farsta\",\"S\\u00f6dermalms\",\"Kungsholmens\",\"Kungsholmens\",\"\\u00c4lvsj\\u00f6\",\"Sk\\u00e4rholmens\",\"Bromma\",\"Kungsholmens\",\"S\\u00f6dermalms\",\"H\\u00e4sselby-V\\u00e4llingby\",\"Skarpn\\u00e4cks\",\"Kungsholmens\",\"H\\u00e4sselby-V\\u00e4llingby\",\"H\\u00e4sselby-V\\u00e4llingby\",\"Rinkeby-Tensta\",\"S\\u00f6dermalms\",\"S\\u00f6dermalms\",\"H\\u00e4gersten-Liljeholmens\",\"\\u00d6stermalms\",\"Kungsholmens\",\"Kungsholmens\",\"Kungsholmens\",\"Kungsholmens\",\"S\\u00f6dermalms\",\"Norrmalms\",\"\\u00d6stermalms\",\"S\\u00f6dermalms\",\"S\\u00f6dermalms\",\"S\\u00f6dermalms\",\"Norrmalms\",\"Norrmalms\",\"S\\u00f6dermalms\",\"H\\u00e4sselby-V\\u00e4llingby\",\"H\\u00e4gersten-Liljeholmens\",\"Rinkeby-Tensta\",\"Skarpn\\u00e4cks\",\"S\\u00f6dermalms\",\"H\\u00e4gersten-Liljeholmens\",\"Enskede-\\u00c5rsta-Vant\\u00f6rs\",\"S\\u00f6dermalms\",\"Bromma\",\"S\\u00f6dermalms\",\"Bromma\",\"Norrmalms\",\"Norrmalms\",\"Norrmalms\",\"\\u00d6stermalms\",\"\\u00d6stermalms\",\"Skarpn\\u00e4cks\",\"Farsta\",\"\\u00c4lvsj\\u00f6\",\"Sp\\u00e5nga-Tensta\"],\"x0\":\" \",\"xaxis\":\"x\",\"y\":[944.0,414.0,1320.0,814.0,2750.0,1190.0,750.0,4300.0,900.0,1400.0,360.0,350.0,2200.0,523.0,1399.0,2700.0,1000.0,1760.0,4245.0,981.0,470.0,552.0,1250.0,1549.0,1850.0,1800.0,1700.0,2200.0,2500.0,1843.0,2626.0,890.0,220.0,1300.0,740.0,1320.0,873.0,790.0,3000.0,1250.0,800.0,921.0,1000.0,2300.0,1800.0,3300.0,3683.0,850.0,1800.0,1572.0,3786.0,700.0,1500.0,2200.0,2200.0,900.0,975.0,2294.0,2210.0,450.0,700.0,3300.0,350.0,1499.0,1500.0,229.0,1686.0,3400.0,1690.0,1543.0,4000.0,950.0,1100.0,8000.0,799.0,590.0,690.0,1050.0,850.0,3500.0,350.0,3950.0,1193.0,990.0,4000.0,700.0,2500.0,1900.0,459.0,1850.0,2000.0,390.0,630.0,1900.0,1085.0,3129.0,1800.0,1500.0,3434.0,630.0,2616.0,4000.0,1200.0,3450.0,550.0,2600.0,229.0,3900.0,3500.0,3200.0,3200.0,3026.0,3629.0,1100.0,1533.0,2000.0,2500.0,1366.0,3500.0,2000.0,584.0,2057.0,1800.0,1290.0,720.0,3999.0,1200.0,803.0,4000.0,887.0,2500.0,2400.0,2490.0,500.0,495.0,2500.0,665.0,3500.0,4500.0,2500.0,1200.0,1000.0,950.0,3058.0,3000.0,1541.0,5000.0,1000.0,820.0,670.0,5057.0,2500.0,2150.0,1200.0,1100.0,1491.0,2000.0,2999.0,500.0,1500.0,1490.0,2294.0,1600.0,1778.0,3500.0,2600.0,660.0,500.0,629.0,250.0,850.0,2000.0,2785.0,1000.0,9450.0,4000.0,1400.0,3141.0,1850.0,549.0,1606.0,3500.0,2100.0,980.0,1490.0,1000.0,3862.0,360.0,701.0,3750.0,250.0,1500.0,700.0,1000.0,1190.0,1457.0,2822.0,1995.0,1500.0,699.0,1119.0,4293.0,3121.0,450.0,2640.0,790.0,900.0,1757.0,950.0,2000.0,725.0,422.0,855.0,1690.0,6450.0,1150.0,1300.0,2500.0,2500.0,1864.0,228.0,2750.0,2195.0,712.0,700.0,1400.0,500.0,1000.0,203.0,1300.0,4500.0,2294.0,2450.0,3000.0,500.0,231.0,4700.0,1050.0,848.0,340.0,1930.0,578.0,1057.0,3500.0,1800.0,995.0,1657.0,999.0,975.0,2350.0,4048.0,3114.0,2500.0,850.0,6000.0,1605.0,397.0,3800.0,1750.0,1064.0,1619.0,1727.0,3650.0,1700.0,425.0,2539.0,1901.0,7150.0,1967.0,1200.0,1200.0,3200.0,4500.0,755.0,1800.0,500.0,470.0,700.0,450.0,1800.0,2250.0,3700.0,500.0,800.0,2800.0,4531.0,2129.0,2500.0,350.0,900.0,500.0,750.0,1000.0,3000.0,1050.0,4500.0,2330.0,2966.0,857.0,1000.0,579.0,1042.0,2500.0,3000.0,1500.0,950.0,2200.0,453.0,800.0,4015.0,3200.0,414.0,1329.0,1029.0,1650.0,981.0,479.0,850.0,871.0,585.0,3000.0,375.0,2189.0,450.0,385.0,2000.0,3000.0,3500.0,375.0,1629.0,2100.0,925.0,1529.0,1230.0,2800.0,1595.0,650.0,1909.0,1000.0,2500.0,3500.0,857.0,2450.0,4100.0,3500.0,368.0,3900.0,899.0,999.0,2500.0,857.0,5286.0,1700.0,6495.0,4410.0,600.0,1721.0,3313.0,1800.0,200.0,1875.0,2150.0,1064.0,280.0,1000.0,2500.0,1957.0,5000.0,1829.0,1200.0,200.0,1900.0,1543.0,1343.0,2500.0,2700.0,1350.0,2400.0,690.0,1800.0,750.0,1100.0,1700.0,743.0,3400.0,1200.0,1000.0,1013.0,1750.0,5490.0,2526.0,399.0,700.0,363.0,1858.0,993.0,665.0,3653.0,6000.0,5132.0,2000.0,2200.0,4000.0,540.0,2143.0,2516.0,4905.0,1750.0,2200.0,525.0,627.0,4000.0,3690.0,1300.0,1750.0,2700.0,1893.0,3800.0,3100.0,1800.0,1200.0,2730.0,1000.0,1657.0,990.0,2500.0,1500.0,3200.0,399.0,454.0,1500.0,4000.0,1036.0,950.0,3500.0,3400.0,1000.0,376.0,1015.0,450.0,595.0,2679.0,2713.0,743.0,2550.0,1400.0,943.0,2286.0,900.0,907.0,1950.0,1832.0,450.0,2531.0,2000.0,640.0,900.0,990.0,2071.0,395.0,2996.0,1750.0,5000.0,1200.0,668.0,871.0,1700.0,1050.0,2356.0,896.0,1060.0,250.0,886.0,734.0,350.0,1279.0,1300.0,1588.0,1620.0,200.0,1621.0,892.0,750.0,3979.0,2871.0,3500.0,500.0,543.0,2253.0,1100.0,900.0,369.0,283.0,2800.0,2857.0,410.0,1903.0,367.0,900.0,1073.0,2700.0,400.0,1500.0,1191.0,2086.0,3500.0,385.0,3343.0,363.0,1200.0,3900.0,1262.0,415.0,1366.0,1511.0,2143.0,600.0,1360.0,397.0,943.0,1471.0,1400.0,1214.0,2000.0,3824.0,1800.0,371.0,874.0,5000.0,379.0,520.0,3000.0,3000.0,3000.0,4000.0,900.0,1200.0,1500.0,3081.0,1200.0,1950.0,950.0,5600.0,1057.0,900.0,1086.0,400.0,380.0,2500.0,1293.0,2495.0,350.0,1500.0,1950.0,1290.0,350.0,2000.0,3000.0,3813.0,1300.0,3000.0,6000.0,2300.0,3300.0,1000.0,300.0,5000.0,2500.0,970.0,3000.0,1950.0,804.0,3800.0,2800.0,700.0,1292.0,2410.0,3550.0,950.0,1365.0,749.0,996.0,1292.0,976.0,948.0,748.0,1989.0,800.0,1600.0,1100.0,860.0,1721.0,350.0,1032.0,1032.0,900.0,900.0,2686.0,699.0,890.0,5500.0,218.0,617.0,2160.0,700.0,672.0,850.0,667.0,950.0,805.0,1052.0,736.0,4000.0,2467.0,2384.0,1788.0,2000.0,400.0,2795.0,2889.0,671.0,671.0,900.0,699.0,629.0,654.0,574.0,720.0,3000.0,858.0,925.0,410.0,1111.0,1344.0,900.0,590.0,650.0,825.0,945.0,752.0,2514.0,2263.0,2632.0,577.0,1967.0,1967.0,2159.0,3200.0,450.0,650.0,500.0,1800.0,906.0,631.0,714.0,1800.0,2401.0,1800.0,2100.0,633.0,1614.0,2294.0,950.0,1433.0,1100.0,4862.0,1000.0,689.0,344.0,480.0,1800.0,503.0,3850.0,599.0,1271.0,350.0,615.0,3634.0,2279.0,811.0,2000.0,590.0,1121.0,900.0,2500.0,633.0,1130.0,750.0,1600.0,1500.0,689.0,1374.0,2950.0,1482.0,2200.0,1200.0,2200.0,700.0,500.0,2000.0,2988.0,2000.0,1000.0,650.0,400.0,2500.0,2294.0,2591.0,950.0,866.0,1350.0,1965.0,1028.0,3348.0,1200.0,1200.0,1028.0,947.0,2500.0,3097.0,1300.0,800.0,800.0,1100.0,2200.0,2546.0,3500.0,950.0,4977.0,3250.0,1925.0,850.0,820.0,1964.0,1900.0,614.0,672.0,400.0,1157.0,2237.0,2868.0,875.0,1800.0,1600.0,699.0,2000.0,1166.0,1715.0,1071.0,450.0,7000.0,1300.0,700.0,886.0,2076.0,1350.0,386.0,2327.0,1663.0,491.0,1965.0,700.0,649.0,1500.0,880.0,1529.0,1800.0,3000.0,990.0,580.0,2200.0,463.0,1757.0,1117.0,450.0,795.0,700.0,3500.0,524.0,1100.0,1629.0,2500.0,576.0,3407.0,850.0,1250.0,432.0,554.0,1000.0,640.0,1390.0,2729.0,2000.0,2674.0,2762.0,1200.0,520.0,580.0,577.0,3300.0,990.0,910.0,513.0,2950.0,450.0,1029.0,751.0,1900.0,1803.0,697.0,1243.0,4000.0,4200.0,690.0,1400.0,688.0,697.0,950.0,585.0,409.0,2050.0,2365.0,613.0,1275.0,1275.0,1382.0,1489.0,1596.0,1918.0,1704.0,1857.0,2439.0,613.0,1553.0,567.0,500.0,1434.0,1104.0,595.0,580.0,629.0,671.0,310.0,296.0,1900.0,1000.0,1269.0,990.0,1300.0,729.0,600.0,1300.0,850.0,850.0,2120.0,1600.0,400.0,1000.0,4921.0,200.0,1943.0,1160.0,2193.0,2895.0,400.0,2914.0,1200.0,960.0,2900.0,2000.0,2250.0,694.0,2500.0,1100.0,2500.0,500.0,1009.0,349.0,1443.0,880.0,3500.0,298.0,540.0,1050.0,449.0,3900.0,867.0,850.0,607.0,900.0,2500.0,1029.0,1000.0,3000.0,4870.0,2913.0,1768.0,1350.0,2000.0,1259.0,1898.0,2243.0,1031.0,2150.0,2699.0,5000.0,997.0,799.0,3500.0,2800.0,1302.0,2316.0,1323.0,1150.0,2122.0,1000.0,843.0,1350.0,200.0,1723.0,1466.0,2108.0,500.0,437.0,900.0,1200.0,1368.0,534.0,600.0,2864.0,2000.0,793.0,503.0,3495.0,1320.0,746.0,1036.0,900.0,972.0,1610.0,1986.0,1750.0,1241.0,1246.0,420.0,724.0,1340.0,300.0,1150.0,725.0,875.0,729.0,2000.0,656.0,1179.0,886.0,1434.0,1000.0,1386.0,1171.0,409.0,2750.0,1660.0,2000.0,3769.0,1456.0,1160.0,1262.0,900.0,4067.0,2500.0,1200.0,1532.0,580.0,1482.0,450.0,1157.0,650.0,850.0,4286.0,1584.0,475.0,2200.0,2300.0,6500.0,1450.0,2588.0,2541.0,3643.0,3000.0,1200.0,5786.0,2500.0,1182.0,2400.0,1600.0,600.0,1000.0,1275.0,850.0,2700.0,5421.0,1500.0,1800.0,2900.0,2495.0,3000.0,3000.0,700.0,778.0,2343.0,1491.0,966.0,860.0,2850.0,850.0,2400.0,3886.0,1400.0,1864.0,1500.0,1725.0,1489.0,1489.0,1881.0,803.0,2800.0,1871.0,1324.0,1424.0,1262.0,2904.0,1107.0,1605.0,1639.0,1764.0,1362.0,3002.0,1073.0,1568.0,1685.0,1615.0,3018.0,1787.0,1503.0,1725.0,1564.0,4867.0,1579.0,2500.0,1615.0,1175.0,1615.0,1366.0,1353.0,8000.0,869.0,1787.0,1688.0,731.0,3000.0,600.0,1671.0,1100.0,2250.0,377.0,1500.0,457.0,1200.0,1800.0,600.0,1200.0,1628.0,1000.0,1243.0,859.0,420.0,2200.0,1000.0,800.0,1921.0,390.0,2500.0,2714.0,550.0,1200.0,1600.0,1557.0,1900.0,640.0,750.0,1750.0,585.0,2429.0,994.0,2000.0,1928.0,1395.0,537.0,839.0,1102.0,1879.0,2000.0,2777.0,1010.0,2100.0,1347.0,1671.0,1200.0,1257.0,1400.0,889.0,1229.0,1979.0,1519.0,1260.0,1400.0,1000.0,989.0,607.0,2279.0,2600.0,1564.0,1400.0,918.0,950.0,1100.0,3200.0,2143.0,815.0,1000.0,350.0,1901.0,810.0,2000.0,320.0,555.0,949.0,659.0,3236.0,1500.0,2600.0,1300.0,3000.0,2214.0,700.0,671.0,871.0,2125.0,1690.0,800.0,680.0,1038.0,1890.0,4500.0,910.0,1279.0,2599.0,898.0,600.0,1000.0,1244.0,3000.0,1300.0,1616.0,1686.0,1498.0,2400.0,2628.0,2550.0,1550.0,2581.0,265.0,2000.0,2200.0,1229.0,1050.0,5000.0,2218.0,1500.0,3995.0,1857.0,1537.0,964.0,2100.0,753.0,330.0,2400.0,1200.0,1800.0,1527.0,600.0,1555.0,2350.0,1819.0,1950.0,600.0,1200.0,1071.0,2531.0,1500.0,900.0,365.0,947.0,2800.0,1461.0,1300.0,3800.0,2250.0,2000.0,3000.0,625.0,3297.0,1461.0,1520.0,1950.0,1300.0,4500.0,1943.0,2000.0,2000.0,2100.0,750.0,950.0,814.0,1071.0,2338.0,1200.0,1100.0,900.0,2995.0,1300.0,1100.0,1499.0,3000.0,1316.0,2900.0,2929.0,3600.0,956.0,2000.0,1121.0,3449.0,1300.0,400.0,990.0,3000.0,767.0,1699.0,2200.0,3995.0,1329.0,1500.0,3000.0,2300.0,1000.0,2500.0,2800.0,1257.0,1389.0,2100.0,2500.0,2868.0,2800.0,2379.0,1400.0,688.0,700.0,900.0,2000.0,689.0,2314.0,500.0,3227.0,965.0,1650.0,757.0,1650.0,2286.0,2750.0,402.0,1399.0,1322.0,700.0,1213.0,3250.0,1200.0,3000.0,611.0,1900.0,700.0,1101.0,7857.0,6500.0,298.0,1150.0,1214.0,1527.0,900.0,900.0,1900.0,779.0,1950.0,287.0,1520.0,900.0,2000.0,2000.0,1961.0,379.0,402.0,2900.0,550.0,1200.0,1699.0,1500.0,849.0,1436.0,2500.0,1700.0,841.0,1100.0,4500.0,635.0,3500.0,1100.0,751.0,783.0,907.0,1300.0,529.0,2011.0,746.0,2500.0,1443.0,2273.0,200.0,250.0,3976.0,1259.0,1200.0,2542.0,5343.0,2333.0,900.0,6400.0,1872.0,892.0,190.0,633.0,2736.0,1700.0,1400.0,600.0,1269.0,1457.0,1577.0,600.0,344.0,999.0,4929.0,779.0,759.0,1999.0,870.0,1400.0,920.0,973.0,2500.0,3677.0,436.0,643.0,800.0,871.0,1107.0,964.0,936.0,2000.0,3000.0,1300.0,1320.0,1682.0,829.0,3410.0,1293.0,2045.0,1462.0,528.0,4500.0,700.0,409.0,350.0,3800.0,2295.0,3600.0,525.0,2150.0,1365.0,1929.0,550.0,914.0,1350.0,1157.0,3446.0,1250.0,990.0,421.0,900.0,2500.0,1529.0,1250.0,825.0,4575.0,499.0,1300.0,1700.0,1463.0,1550.0,1200.0,2500.0,528.0,1100.0,1500.0,600.0,1100.0,1586.0,1647.0,1290.0,1122.0,2214.0,3000.0,4000.0,1400.0,300.0,1456.0,1000.0,943.0,2000.0,2000.0,1300.0,1200.0,800.0,2250.0,929.0,379.0,850.0,566.0,549.0,1600.0,2200.0,1014.0,2500.0,816.0,1400.0,1600.0,1964.0,1700.0,1500.0,950.0,1300.0,3957.0,845.0,2070.0,1419.0,1050.0,2429.0,180.0,535.0,180.0,1130.0,560.0,1130.0,1600.0,2914.0,2900.0,1929.0,2228.0,3486.0,5392.0,1500.0,2696.0,762.0,1026.0,2500.0,2910.0,1419.0,970.0,907.0,105.0,3029.0,650.0,450.0,400.0,1131.0,551.0,707.0,995.0,1237.0,2051.0,1290.0,1400.0,2999.0,2288.0,850.0,500.0,690.0,3450.0,2500.0,300.0,4200.0,500.0,800.0,3800.0,2700.0,1800.0,1000.0,4225.0,3500.0,1571.0,1671.0,5000.0,659.0,3214.0,3200.0,1057.0,700.0,7899.0,650.0,4000.0,1800.0,896.0,1750.0,3000.0,680.0,7000.0,529.0,1252.0,1100.0,1500.0,1800.0,934.0,1325.0,1191.0,1443.0,3000.0,1350.0,1786.0,1550.0,900.0,1200.0,800.0,1050.0,552.0,3899.0,2200.0,1200.0,2299.0,900.0,370.0,2100.0,5999.0,1250.0,4490.0,949.0,1807.0,1521.0,3725.0,3000.0,892.0,1114.0,8995.0,3000.0,2600.0,710.0,2657.0,1084.0,6500.0,2500.0,677.0,1886.0,3500.0,1800.0,1760.0,5000.0,817.0,798.0,1700.0,1513.0,2200.0,1900.0,664.0,2221.0,924.0,1500.0,2518.0,750.0,690.0,360.0,597.0,600.0,3887.0,1011.0,3164.0,1586.0,1950.0,2000.0,830.0,2200.0,1500.0,4700.0,3000.0,2889.0,864.0,1400.0,2429.0,500.0,1158.0,2500.0,5000.0,1657.0,927.0,2000.0,1068.0,650.0,1500.0,800.0,2887.0,1396.0,2500.0,1350.0,996.0,1300.0,2500.0,511.0,800.0,489.0,450.0,1300.0,5392.0,580.0,2103.0,1400.0,1762.0,1750.0,1200.0,4100.0,2300.0,1595.0,750.0,2000.0,1329.0,1200.0,680.0,3309.0,3900.0,906.0,292.0,3828.0,2700.0,3500.0,1500.0,2995.0,5000.0,1013.0,1514.0,2100.0,1300.0,1080.0,3179.0,920.0,302.0,756.0,1207.0,4000.0,938.0,2900.0,825.0,1379.0,959.0,1134.0,1600.0,1946.0,1393.0,1372.0,1064.0,2014.0,700.0,4000.0,1700.0,3998.0,650.0,566.0,406.0,2200.0,3500.0,700.0,891.0,1789.0,750.0,1300.0,2008.0,3750.0,2500.0,547.0,4300.0,208.0,2996.0,1279.0,1750.0,1500.0,2500.0,1700.0,4950.0,2500.0,2172.0,7329.0,1100.0,838.0,250.0,800.0,1021.0,1200.0,5271.0,1800.0,1200.0,684.0,2250.0,636.0,1500.0,662.0,1143.0,558.0,1200.0,2500.0,1286.0,1500.0,1494.0,2800.0,857.0,3200.0,3000.0,1500.0,900.0,2500.0,1000.0,1050.0,1040.0,888.0,1650.0,334.0,344.0,4000.0,1500.0,3799.0,2000.0,525.0,650.0,1689.0,973.0,1340.0,362.0,459.0,1043.0,900.0,750.0,1100.0,2800.0,1600.0,1100.0,2286.0,2000.0,5000.0,1307.0,720.0,950.0,350.0,540.0,1985.0,4700.0,402.0,4500.0,1486.0,2029.0,1750.0,4000.0,2801.0,1200.0,2943.0,1209.0,800.0,1750.0,557.0,3000.0,3500.0,918.0,1277.0,1345.0,622.0,2150.0,450.0,990.0,2500.0,1200.0,2500.0,1321.0,1943.0,2386.0,2500.0,1150.0,2120.0,1750.0,1500.0,374.0,850.0,1307.0,3800.0,2160.0,1920.0,2000.0,2000.0,1100.0,600.0,900.0,2500.0,3071.0,6757.0,1500.0,3229.0,2000.0,1949.0,3000.0,3500.0,3000.0,795.0,819.0,464.0,499.0,500.0,499.0,2459.0,1806.0,2700.0,4986.0,2243.0,3000.0,1493.0,1500.0,2500.0,1500.0,1200.0,4500.0,4941.0,850.0,4000.0,925.0,1080.0,2200.0,1800.0,1650.0,1360.0,1000.0,928.0,600.0,4000.0,700.0,2964.0,2471.0,1800.0,1300.0,1500.0,700.0,1400.0,289.0,769.0,700.0,420.0,950.0,500.0,1200.0,2500.0,1300.0,1408.0,1023.0,551.0,2006.0,1243.0,1617.0,650.0,1500.0,3000.0,1300.0,2000.0,1300.0,1700.0,697.0,2600.0,1599.0,1995.0,2398.0,847.0,804.0,1701.0,550.0,1200.0,3600.0,950.0,1200.0,555.0,723.0,1964.0,800.0,2000.0,850.0,3500.0,2000.0,1600.0,645.0,750.0,1888.0,1300.0,500.0,910.0,800.0,500.0,1200.0,3600.0,500.0,1090.0,737.0,680.0,700.0,1453.0,1520.0,1145.0,6900.0,1236.0,2000.0,1900.0,749.0,400.0,650.0,2057.0,1033.0,738.0,1800.0,1100.0,1075.0,2100.0,3637.0,3500.0,495.0,1343.0,320.0,3050.0,2900.0,2300.0,2900.0,2900.0,1561.0,1356.0,402.0,3750.0,600.0,550.0,500.0,1286.0,464.0,3300.0,552.0,1803.0,500.0,2000.0,1884.0,2028.0,819.0,776.0,540.0,1577.0,4000.0,971.0,2150.0,961.0,1329.0,664.0,1500.0,1990.0,750.0,524.0,2371.0,1511.0,571.0,1200.0,450.0,1100.0,971.0,1200.0,1343.0,1138.0,800.0,2240.0,3826.0,1633.0,1633.0,633.0,838.0,1138.0,1914.0,809.0,1182.0,957.0,2600.0,700.0,3429.0,993.0,2500.0,1094.0,570.0,1000.0,729.0,1386.0,748.0,603.0,1200.0,3500.0,2357.0,476.0,6743.0,712.0,560.0,555.0,760.0,472.0,938.0,938.0,690.0,760.0,650.0,1483.0,2100.0,249.0,700.0,1500.0,691.0,1212.0,1349.0,939.0,1183.0,1456.0,800.0,3859.0,1741.0,956.0,1300.0,699.0,1400.0,821.0,652.0,3586.0,900.0,1800.0,476.0,637.0,1145.0,4000.0,1121.0,2415.0,1323.0,1800.0,1921.0,2000.0,2750.0,334.0,2500.0,580.0,1046.0,600.0,400.0,550.0,1419.0,1243.0,1456.0,901.0,350.0,400.0,1100.0,2500.0,2903.0,1200.0,1629.0,1660.0,699.0,950.0,1693.0,1307.0,2500.0,549.0,875.0,888.0,270.0,4417.0,1490.0,300.0,902.0,620.0,2029.0,5600.0,2265.0,1045.0,680.0,3489.0,637.0,1500.0,700.0,600.0,1631.0,520.0,1331.0,771.0,694.0,1586.0,409.0,889.0,1200.0,1400.0,800.0,3571.0,1000.0,771.0,1800.0,855.0,2800.0,817.0,1200.0,3000.0,1457.0,1700.0,1403.0,1604.0,232.0,629.0,5000.0,1186.0,1494.0,1500.0,1750.0,650.0,1400.0,1400.0,600.0,880.0,857.0,926.0,623.0,1700.0,1500.0,1557.0,667.0,800.0,3510.0,318.0,1350.0,1575.0,1000.0,1893.0,1404.0,2852.0,1185.0,960.0,1006.0,585.0,900.0,3200.0,800.0,1400.0,609.0,908.0,714.0,3717.0,420.0,900.0,842.0,1685.0,1943.0,499.0,683.0,829.0,525.0,5700.0,2500.0,1733.0,2500.0,2600.0,2500.0,800.0,1500.0,960.0,995.0,1395.0,2398.0,525.0,654.0,2000.0,500.0,3000.0,1000.0,2000.0,1000.0,3800.0,399.0,950.0,628.0,1671.0,4000.0,1400.0,1200.0,6500.0,4343.0,2357.0,1257.0,439.0,1200.0,1303.0,2392.0,1984.0,1900.0,758.0,733.0,1835.0,1171.0,1631.0,1103.0,1147.0,3200.0,1174.0,1750.0,1350.0,891.0,2876.0,1786.0,920.0,720.0,500.0,1800.0,2500.0,1450.0,2500.0,1965.0,1856.0,1967.0,850.0,1000.0,2975.0,700.0,2056.0,1180.0,1295.0,703.0,1456.0,920.0,485.0,1150.0,1724.0,1456.0,550.0,887.0,1045.0,690.0,1456.0,2200.0,700.0,1500.0,620.0,966.0,520.0,7000.0,796.0,681.0,748.0,4143.0,2346.0,1567.0,1720.0,3270.0,1143.0,1251.0,1357.0,1100.0,675.0,927.0,642.0,1196.0,300.0,589.0,300.0,300.0,1143.0,1006.0,1650.0,280.0,2500.0,3800.0,1051.0,760.0,1300.0,869.0,260.0,1600.0,950.0,3250.0,5900.0,360.0,3000.0,815.0,1620.0,1979.0,1750.0,1400.0,1467.0,1440.0,1018.0,600.0,1721.0,750.0,496.0,3500.0,270.0,1080.0,1750.0,1214.0,1115.0,5300.0,2500.0,4000.0,671.0,1350.0,290.0,321.0,800.0,795.0,800.0,1049.0,3000.0,2156.0,2900.0,1440.0,1100.0,2579.0,3479.0,2500.0,2029.0,474.0,950.0,600.0,1300.0,1320.0,2500.0,1275.0,720.0,1620.0,2000.0,1098.0,1074.0,934.0,929.0,2200.0,409.0,1100.0,4832.0,1047.0,1213.0,1962.0,1209.0,1843.0,2190.0,750.0,1326.0,590.0,846.0,1190.0,1017.0,959.0,839.0,1239.0,1190.0,761.0,1900.0,1263.0,450.0,1700.0,7800.0,750.0,1350.0,2550.0,780.0,1036.0,700.0,416.0,3000.0,5200.0,3899.0,5500.0,1600.0,3350.0,1915.0,964.0,600.0,4000.0,800.0,4640.0,1400.0,789.0,850.0,2000.0,1330.0,2000.0,800.0,875.0,1136.0,700.0,402.0,1000.0,416.0,2186.0,2068.0,416.0,702.0,2000.0,340.0,414.0,1000.0,2700.0,840.0,1700.0,809.0,4500.0,3600.0,2891.0,2122.0,506.0,1200.0,1054.0,1410.0,1134.0,1900.0,7000.0,1379.0,2500.0,3000.0,1666.0,1533.0,1016.0,600.0,1943.0,820.0,700.0,779.0,2405.0,3304.0,8000.0,259.0,1000.0,1200.0,2700.0,400.0,1120.0,2500.0,1850.0,2300.0,877.0,800.0,775.0,5000.0,799.0,1840.0,1545.0,1428.0,1638.0,1946.0,3400.0,1500.0,1300.0,900.0,1800.0,1003.0,2425.0,600.0,1643.0,709.0,717.0,3505.0,9926.0,2071.0,1100.0,4500.0,1800.0,896.0,1000.0,5000.0,2500.0,1300.0,2278.0,820.0,895.0,4000.0,1000.0,984.0,3304.0,1601.0,5000.0,2000.0,1604.0,400.0,1027.0,1250.0,2042.0,2000.0,743.0,2195.0,1043.0,1356.0,2500.0,875.0,950.0,2500.0,2200.0,1300.0,4000.0,1500.0,2078.0,1090.0,380.0,840.0,672.0,1114.0,672.0,7000.0,600.0,4000.0,2749.0,1681.0,1236.0,850.0,1681.0,2500.0,2900.0,2257.0,4000.0,1300.0,1800.0,1148.0,1260.0,1221.0,1668.0,700.0,1300.0,4000.0,4286.0,1660.0,2500.0,600.0,1100.0,2995.0,2500.0,2500.0,2500.0,1500.0,1160.0,780.0,1500.0,5000.0,3327.0,2393.0,3571.0,1240.0,985.0,2500.0,363.0,1157.0,650.0,6250.0,3400.0,3500.0,788.0,4000.0,646.0,6000.0,4000.0,7500.0,1050.0,2400.0,600.0,580.0,5000.0,3000.0,2779.0,1900.0,2700.0,993.0,1450.0,229.0,559.0,1243.0,2000.0,1500.0,2500.0,2900.0,7000.0,1645.0,878.0,8000.0,840.0,2800.0,1195.0,3600.0,3500.0,1576.0,4000.0,2250.0,2000.0,1000.0,647.0,880.0,621.0,1170.0,2429.0,2240.0,1257.0,1600.0,2000.0,2000.0,1037.0,1384.0,1281.0,160.0,875.0,3000.0,2500.0,2800.0,1657.0,967.0,967.0,514.0,2000.0,1278.0,9000.0,1278.0,1107.0,3000.0,2000.0,1043.0,6029.0,450.0,2960.0,1500.0,1500.0,796.0,1900.0,2143.0,315.0,2100.0,1206.0,1320.0,3000.0,4500.0,950.0,1000.0,6000.0,5000.0,960.0,2800.0,1000.0,2900.0,850.0,2800.0,864.0,950.0,8500.0,1900.0,3500.0,3600.0,2500.0,1277.0,700.0,1999.0,3200.0,1111.0,757.0,1314.0,1235.0,2990.0,2614.0,1092.0,5000.0,4500.0,2900.0,1520.0,1280.0,2800.0,1300.0,2000.0,900.0,2226.0,1275.0,2513.0,2800.0,1050.0,1024.0,950.0,3000.0,2600.0,2400.0,3000.0,8000.0,800.0,2700.0,960.0,739.0,6000.0,1300.0,2086.0,4000.0,3000.0,7000.0,914.0,2421.0,1300.0,2050.0,1700.0,2600.0,1700.0,1200.0,3500.0,1750.0,2643.0,5000.0,2200.0,900.0,1100.0,2500.0,556.0,577.0,3000.0,1300.0,2000.0,2786.0,4000.0,2300.0,1500.0,3960.0,900.0,1200.0,850.0,3000.0,2429.0,550.0,1200.0,1260.0,1469.0,2457.0,500.0,613.0,499.0,490.0,1343.0,784.0,1750.0,1007.0,2100.0,450.0,279.0,279.0,1000.0,811.0,1300.0,936.0,494.0,1186.0,2500.0,519.0,1800.0,4000.0,800.0,2500.0,843.0,3400.0,816.0,1075.0,2000.0,2500.0,1700.0,900.0,2000.0,764.0,3800.0,4300.0,1106.0,3000.0,314.0,1400.0,1048.0,1700.0,394.0,1199.0,989.0,325.0,1160.0,252.0,1753.0,2964.0,480.0,709.0,210.0,950.0,2900.0,880.0,2650.0,1615.0,800.0,1199.0,1457.0,1650.0,600.0,2400.0,800.0,635.0,400.0,1120.0,537.0,1367.0,4687.0,500.0,1486.0,1900.0,2450.0,879.0,1300.0,1757.0,489.0,618.0,646.0,1100.0,1713.0,2100.0,1600.0,1317.0,629.0,2000.0,1500.0,705.0,857.0,1975.0,1133.0,563.0,1500.0,1250.0,621.0,1500.0,731.0,2000.0,1272.0,1509.0,936.0,1500.0,1074.0,900.0,2399.0,520.0,2010.0,3042.0,1750.0,1850.0,1200.0,1605.0,2057.0,607.0,830.0,2350.0,2857.0,5257.0,504.0,3990.0,1700.0,986.0,1300.0,2099.0,2000.0,2500.0,2429.0,2300.0,1400.0,4200.0,806.0,1660.0,950.0,5000.0,997.0,1120.0,705.0,950.0,1700.0,818.0,231.0,2343.0,1573.0,1869.0,1200.0,2800.0,450.0,3844.0,1929.0,875.0,1000.0,724.0,3000.0,2286.0,1000.0,1273.0,3000.0,353.0,2511.0,1500.0,2080.0,1500.0,950.0,1564.0,1153.0,500.0,2250.0,1040.0,3893.0,800.0,361.0,959.0,3000.0,2800.0,697.0,1900.0,2736.0,900.0,2000.0,514.0,904.0,280.0,2190.0,4000.0,680.0,2400.0,2200.0,2500.0,936.0,2300.0,900.0,550.0,488.0,1800.0,1259.0,1500.0,1290.0,1100.0,1400.0,330.0,500.0,1379.0,3000.0,2041.0,750.0,1400.0,1400.0,1400.0,1400.0,669.0,990.0,1384.0,1400.0,1007.0,599.0,1180.0,1900.0,993.0,1100.0,1300.0,2199.0,1911.0,1786.0,200.0,1243.0,1400.0,300.0,985.0,520.0,423.0,620.0,1271.0,1600.0,1800.0,957.0,5300.0,2134.0,1200.0,1600.0,600.0,944.0,1797.0,1219.0,1600.0,978.0,2500.0,1300.0,1350.0,880.0,4500.0,944.0,951.0,760.0,1200.0,1000.0,2300.0,544.0,390.0,1750.0,900.0,1600.0,2000.0,1000.0,3000.0,406.0,960.0,679.0,600.0,603.0,810.0,2000.0,1500.0,1893.0,1400.0,400.0,1300.0,1114.0,1950.0,750.0,700.0,1750.0,2300.0,1100.0,600.0,1400.0,645.0,1300.0,614.0,1000.0,2232.0,8720.0,8720.0,450.0,1300.0,800.0,799.0,7246.0,480.0,4500.0,700.0,550.0,1700.0,640.0,2339.0,1058.0,600.0,1600.0,950.0,1500.0,1461.0,532.0,2184.0,1000.0,2562.0,950.0,5500.0,705.0,462.0,693.0,777.0,800.0,2150.0,500.0,580.0,2256.0,2200.0,1700.0,3000.0,543.0,1169.0,1700.0,1000.0,950.0,700.0,725.0,704.0,1039.0,686.0,886.0,950.0,750.0,735.0,1066.0,283.0,1730.0,1300.0,600.0,666.0,2157.0,1000.0,1797.0,1055.0,856.0,586.0,600.0,1154.0,1500.0,1600.0,3000.0,1250.0,1050.0,1050.0,851.0,800.0,800.0,800.0,800.0,896.0,800.0,895.0,801.0,984.0,800.0,809.0,800.0,850.0,800.0,820.0,800.0,850.0,1836.0,330.0,2200.0,2357.0,1092.0,903.0,2400.0,709.0,990.0,480.0,1174.0,3500.0,754.0,1300.0,2482.0,837.0,800.0,200.0,1795.0,2286.0,1500.0,815.0,1797.0,2445.0,1960.0,1460.0,1000.0,2000.0,4000.0,1400.0,269.0,1629.0,1142.0,1995.0,721.0,790.0,1095.0,1750.0,1000.0,1929.0,500.0,1200.0,1000.0,1929.0,957.0,1640.0,1200.0,600.0,1199.0,1371.0,1400.0,2000.0,1514.0,2811.0,1500.0,1300.0,870.0,800.0,748.0,3382.0,1440.0,600.0,1700.0,880.0,583.0,1285.0,904.0,550.0,1753.0,200.0,1089.0,931.0,2430.0,1657.0,3243.0,1700.0,800.0,1583.0,400.0,700.0,1503.0,4200.0,950.0,800.0,857.0,590.0,1615.0,2000.0,1400.0,1200.0,1631.0,2000.0,1221.0,857.0,1258.0,850.0,400.0,1042.0,1570.0,1040.0,300.0,2628.0,2311.0,524.0,365.0,1755.0,2832.0,2115.0,5545.0,1800.0,1221.0,1673.0,1115.0,2231.0,920.0,920.0,920.0,1046.0,2079.0,1750.0,2822.0,3357.0,2053.0,820.0,866.0,859.0,1000.0,2000.0,1853.0,346.0,1200.0,999.0,1728.0,566.0,2400.0,1173.0,1750.0,750.0,1300.0,720.0,2800.0,536.0,1496.0,769.0,480.0,383.0,460.0,800.0,5900.0,2950.0,2500.0,1360.0,800.0,384.0,900.0,1040.0,1373.0,848.0,1000.0,450.0,746.0,1000.0,760.0,720.0,682.0,1200.0,600.0,1700.0,2890.0,794.0,623.0,720.0,508.0,447.0,1200.0,1132.0,852.0,714.0,2000.0,800.0,986.0,1600.0,2186.0,1266.0,1780.0,1006.0,455.0,315.0,3059.0,957.0,850.0,1107.0,1050.0,1350.0,2274.0,2630.0,1000.0,950.0,1000.0,1214.0,2123.0,1000.0,280.0,470.0,1900.0,4800.0,1400.0,1234.0,1680.0,977.0,2750.0,2491.0,1152.0,909.0,895.0,1700.0,2200.0,393.0,1107.0,570.0,1400.0,1063.0,800.0,4000.0,1371.0,1600.0,2500.0,1000.0,1084.0,690.0,1679.0,1029.0,2000.0,960.0,278.0,450.0,2345.0,1000.0,993.0,2829.0,696.0,1033.0,2000.0,2100.0,590.0,927.0,2313.0,843.0,310.0,3200.0,1130.0,1920.0,1500.0,977.0,500.0,320.0,800.0,934.0,2000.0,1000.0,1326.0,460.0,805.0,1690.0,1000.0,1000.0,1100.0,491.0,1120.0,1003.0,1025.0,720.0,1299.0,609.0,782.0,490.0,773.0,1600.0,960.0,960.0,2286.0,850.0,2020.0,640.0,1646.0,505.0,838.0,850.0,266.0,272.0,510.0,3724.0,3724.0,1061.0,1750.0,1809.0,2269.0,2506.0,1784.0,985.0,1028.0,562.0,854.0,891.0,2050.0,800.0,1083.0,960.0,410.0,1006.0,1680.0,877.0,2600.0,800.0,540.0,1264.0,2000.0,996.0,484.0,1052.0,1820.0,1820.0,1750.0,800.0,1014.0,360.0,1400.0,1000.0],\"y0\":\" \",\"yaxis\":\"y\",\"type\":\"box\"}],                        {\"template\":{\"data\":{\"histogram2dcontour\":[{\"type\":\"histogram2dcontour\",\"colorbar\":{\"outlinewidth\":0,\"ticks\":\"\"},\"colorscale\":[[0.0,\"#0d0887\"],[0.1111111111111111,\"#46039f\"],[0.2222222222222222,\"#7201a8\"],[0.3333333333333333,\"#9c179e\"],[0.4444444444444444,\"#bd3786\"],[0.5555555555555556,\"#d8576b\"],[0.6666666666666666,\"#ed7953\"],[0.7777777777777778,\"#fb9f3a\"],[0.8888888888888888,\"#fdca26\"],[1.0,\"#f0f921\"]]}],\"choropleth\":[{\"type\":\"choropleth\",\"colorbar\":{\"outlinewidth\":0,\"ticks\":\"\"}}],\"histogram2d\":[{\"type\":\"histogram2d\",\"colorbar\":{\"outlinewidth\":0,\"ticks\":\"\"},\"colorscale\":[[0.0,\"#0d0887\"],[0.1111111111111111,\"#46039f\"],[0.2222222222222222,\"#7201a8\"],[0.3333333333333333,\"#9c179e\"],[0.4444444444444444,\"#bd3786\"],[0.5555555555555556,\"#d8576b\"],[0.6666666666666666,\"#ed7953\"],[0.7777777777777778,\"#fb9f3a\"],[0.8888888888888888,\"#fdca26\"],[1.0,\"#f0f921\"]]}],\"heatmap\":[{\"type\":\"heatmap\",\"colorbar\":{\"outlinewidth\":0,\"ticks\":\"\"},\"colorscale\":[[0.0,\"#0d0887\"],[0.1111111111111111,\"#46039f\"],[0.2222222222222222,\"#7201a8\"],[0.3333333333333333,\"#9c179e\"],[0.4444444444444444,\"#bd3786\"],[0.5555555555555556,\"#d8576b\"],[0.6666666666666666,\"#ed7953\"],[0.7777777777777778,\"#fb9f3a\"],[0.8888888888888888,\"#fdca26\"],[1.0,\"#f0f921\"]]}],\"heatmapgl\":[{\"type\":\"heatmapgl\",\"colorbar\":{\"outlinewidth\":0,\"ticks\":\"\"},\"colorscale\":[[0.0,\"#0d0887\"],[0.1111111111111111,\"#46039f\"],[0.2222222222222222,\"#7201a8\"],[0.3333333333333333,\"#9c179e\"],[0.4444444444444444,\"#bd3786\"],[0.5555555555555556,\"#d8576b\"],[0.6666666666666666,\"#ed7953\"],[0.7777777777777778,\"#fb9f3a\"],[0.8888888888888888,\"#fdca26\"],[1.0,\"#f0f921\"]]}],\"contourcarpet\":[{\"type\":\"contourcarpet\",\"colorbar\":{\"outlinewidth\":0,\"ticks\":\"\"}}],\"contour\":[{\"type\":\"contour\",\"colorbar\":{\"outlinewidth\":0,\"ticks\":\"\"},\"colorscale\":[[0.0,\"#0d0887\"],[0.1111111111111111,\"#46039f\"],[0.2222222222222222,\"#7201a8\"],[0.3333333333333333,\"#9c179e\"],[0.4444444444444444,\"#bd3786\"],[0.5555555555555556,\"#d8576b\"],[0.6666666666666666,\"#ed7953\"],[0.7777777777777778,\"#fb9f3a\"],[0.8888888888888888,\"#fdca26\"],[1.0,\"#f0f921\"]]}],\"surface\":[{\"type\":\"surface\",\"colorbar\":{\"outlinewidth\":0,\"ticks\":\"\"},\"colorscale\":[[0.0,\"#0d0887\"],[0.1111111111111111,\"#46039f\"],[0.2222222222222222,\"#7201a8\"],[0.3333333333333333,\"#9c179e\"],[0.4444444444444444,\"#bd3786\"],[0.5555555555555556,\"#d8576b\"],[0.6666666666666666,\"#ed7953\"],[0.7777777777777778,\"#fb9f3a\"],[0.8888888888888888,\"#fdca26\"],[1.0,\"#f0f921\"]]}],\"mesh3d\":[{\"type\":\"mesh3d\",\"colorbar\":{\"outlinewidth\":0,\"ticks\":\"\"}}],\"scatter\":[{\"fillpattern\":{\"fillmode\":\"overlay\",\"size\":10,\"solidity\":0.2},\"type\":\"scatter\"}],\"parcoords\":[{\"type\":\"parcoords\",\"line\":{\"colorbar\":{\"outlinewidth\":0,\"ticks\":\"\"}}}],\"scatterpolargl\":[{\"type\":\"scatterpolargl\",\"marker\":{\"colorbar\":{\"outlinewidth\":0,\"ticks\":\"\"}}}],\"bar\":[{\"error_x\":{\"color\":\"#2a3f5f\"},\"error_y\":{\"color\":\"#2a3f5f\"},\"marker\":{\"line\":{\"color\":\"#E5ECF6\",\"width\":0.5},\"pattern\":{\"fillmode\":\"overlay\",\"size\":10,\"solidity\":0.2}},\"type\":\"bar\"}],\"scattergeo\":[{\"type\":\"scattergeo\",\"marker\":{\"colorbar\":{\"outlinewidth\":0,\"ticks\":\"\"}}}],\"scatterpolar\":[{\"type\":\"scatterpolar\",\"marker\":{\"colorbar\":{\"outlinewidth\":0,\"ticks\":\"\"}}}],\"histogram\":[{\"marker\":{\"pattern\":{\"fillmode\":\"overlay\",\"size\":10,\"solidity\":0.2}},\"type\":\"histogram\"}],\"scattergl\":[{\"type\":\"scattergl\",\"marker\":{\"colorbar\":{\"outlinewidth\":0,\"ticks\":\"\"}}}],\"scatter3d\":[{\"type\":\"scatter3d\",\"line\":{\"colorbar\":{\"outlinewidth\":0,\"ticks\":\"\"}},\"marker\":{\"colorbar\":{\"outlinewidth\":0,\"ticks\":\"\"}}}],\"scattermapbox\":[{\"type\":\"scattermapbox\",\"marker\":{\"colorbar\":{\"outlinewidth\":0,\"ticks\":\"\"}}}],\"scatterternary\":[{\"type\":\"scatterternary\",\"marker\":{\"colorbar\":{\"outlinewidth\":0,\"ticks\":\"\"}}}],\"scattercarpet\":[{\"type\":\"scattercarpet\",\"marker\":{\"colorbar\":{\"outlinewidth\":0,\"ticks\":\"\"}}}],\"carpet\":[{\"aaxis\":{\"endlinecolor\":\"#2a3f5f\",\"gridcolor\":\"white\",\"linecolor\":\"white\",\"minorgridcolor\":\"white\",\"startlinecolor\":\"#2a3f5f\"},\"baxis\":{\"endlinecolor\":\"#2a3f5f\",\"gridcolor\":\"white\",\"linecolor\":\"white\",\"minorgridcolor\":\"white\",\"startlinecolor\":\"#2a3f5f\"},\"type\":\"carpet\"}],\"table\":[{\"cells\":{\"fill\":{\"color\":\"#EBF0F8\"},\"line\":{\"color\":\"white\"}},\"header\":{\"fill\":{\"color\":\"#C8D4E3\"},\"line\":{\"color\":\"white\"}},\"type\":\"table\"}],\"barpolar\":[{\"marker\":{\"line\":{\"color\":\"#E5ECF6\",\"width\":0.5},\"pattern\":{\"fillmode\":\"overlay\",\"size\":10,\"solidity\":0.2}},\"type\":\"barpolar\"}],\"pie\":[{\"automargin\":true,\"type\":\"pie\"}]},\"layout\":{\"autotypenumbers\":\"strict\",\"colorway\":[\"#636efa\",\"#EF553B\",\"#00cc96\",\"#ab63fa\",\"#FFA15A\",\"#19d3f3\",\"#FF6692\",\"#B6E880\",\"#FF97FF\",\"#FECB52\"],\"font\":{\"color\":\"#2a3f5f\"},\"hovermode\":\"closest\",\"hoverlabel\":{\"align\":\"left\"},\"paper_bgcolor\":\"white\",\"plot_bgcolor\":\"#E5ECF6\",\"polar\":{\"bgcolor\":\"#E5ECF6\",\"angularaxis\":{\"gridcolor\":\"white\",\"linecolor\":\"white\",\"ticks\":\"\"},\"radialaxis\":{\"gridcolor\":\"white\",\"linecolor\":\"white\",\"ticks\":\"\"}},\"ternary\":{\"bgcolor\":\"#E5ECF6\",\"aaxis\":{\"gridcolor\":\"white\",\"linecolor\":\"white\",\"ticks\":\"\"},\"baxis\":{\"gridcolor\":\"white\",\"linecolor\":\"white\",\"ticks\":\"\"},\"caxis\":{\"gridcolor\":\"white\",\"linecolor\":\"white\",\"ticks\":\"\"}},\"coloraxis\":{\"colorbar\":{\"outlinewidth\":0,\"ticks\":\"\"}},\"colorscale\":{\"sequential\":[[0.0,\"#0d0887\"],[0.1111111111111111,\"#46039f\"],[0.2222222222222222,\"#7201a8\"],[0.3333333333333333,\"#9c179e\"],[0.4444444444444444,\"#bd3786\"],[0.5555555555555556,\"#d8576b\"],[0.6666666666666666,\"#ed7953\"],[0.7777777777777778,\"#fb9f3a\"],[0.8888888888888888,\"#fdca26\"],[1.0,\"#f0f921\"]],\"sequentialminus\":[[0.0,\"#0d0887\"],[0.1111111111111111,\"#46039f\"],[0.2222222222222222,\"#7201a8\"],[0.3333333333333333,\"#9c179e\"],[0.4444444444444444,\"#bd3786\"],[0.5555555555555556,\"#d8576b\"],[0.6666666666666666,\"#ed7953\"],[0.7777777777777778,\"#fb9f3a\"],[0.8888888888888888,\"#fdca26\"],[1.0,\"#f0f921\"]],\"diverging\":[[0,\"#8e0152\"],[0.1,\"#c51b7d\"],[0.2,\"#de77ae\"],[0.3,\"#f1b6da\"],[0.4,\"#fde0ef\"],[0.5,\"#f7f7f7\"],[0.6,\"#e6f5d0\"],[0.7,\"#b8e186\"],[0.8,\"#7fbc41\"],[0.9,\"#4d9221\"],[1,\"#276419\"]]},\"xaxis\":{\"gridcolor\":\"white\",\"linecolor\":\"white\",\"ticks\":\"\",\"title\":{\"standoff\":15},\"zerolinecolor\":\"white\",\"automargin\":true,\"zerolinewidth\":2},\"yaxis\":{\"gridcolor\":\"white\",\"linecolor\":\"white\",\"ticks\":\"\",\"title\":{\"standoff\":15},\"zerolinecolor\":\"white\",\"automargin\":true,\"zerolinewidth\":2},\"scene\":{\"xaxis\":{\"backgroundcolor\":\"#E5ECF6\",\"gridcolor\":\"white\",\"linecolor\":\"white\",\"showbackground\":true,\"ticks\":\"\",\"zerolinecolor\":\"white\",\"gridwidth\":2},\"yaxis\":{\"backgroundcolor\":\"#E5ECF6\",\"gridcolor\":\"white\",\"linecolor\":\"white\",\"showbackground\":true,\"ticks\":\"\",\"zerolinecolor\":\"white\",\"gridwidth\":2},\"zaxis\":{\"backgroundcolor\":\"#E5ECF6\",\"gridcolor\":\"white\",\"linecolor\":\"white\",\"showbackground\":true,\"ticks\":\"\",\"zerolinecolor\":\"white\",\"gridwidth\":2}},\"shapedefaults\":{\"line\":{\"color\":\"#2a3f5f\"}},\"annotationdefaults\":{\"arrowcolor\":\"#2a3f5f\",\"arrowhead\":0,\"arrowwidth\":1},\"geo\":{\"bgcolor\":\"white\",\"landcolor\":\"#E5ECF6\",\"subunitcolor\":\"white\",\"showland\":true,\"showlakes\":true,\"lakecolor\":\"white\"},\"title\":{\"x\":0.05},\"mapbox\":{\"style\":\"light\"}}},\"xaxis\":{\"anchor\":\"y\",\"domain\":[0.0,1.0],\"title\":{\"text\":\"Area\"},\"categoryorder\":\"array\",\"categoryarray\":[\"Sk\\u00e4rholmens\",\"Sp\\u00e5nga-Tensta\",\"Rinkeby-Tensta\",\"H\\u00e4sselby-V\\u00e4llingby\",\"Farsta\",\"\\u00c4lvsj\\u00f6\",\"Skarpn\\u00e4cks\",\"Bromma\",\"\\u00d6stermalms\",\"Enskede-\\u00c5rsta-Vant\\u00f6rs\",\"Kungsholmens\",\"H\\u00e4gersten-Liljeholmens\",\"Norrmalms\",\"S\\u00f6dermalms\"]},\"yaxis\":{\"anchor\":\"x\",\"domain\":[0.0,1.0],\"title\":{\"text\":\"Price\"}},\"legend\":{\"tracegroupgap\":0},\"title\":{\"text\":\"Figure 6: Price of Arbnb Listing Per Night in Stockholm in 2025 by Area\"},\"boxmode\":\"group\"},                        {\"responsive\": true}                    ).then(function(){\n",
       "                            \n",
       "var gd = document.getElementById('21907bc6-70a3-4d8f-ac42-cff03fd232ff');\n",
       "var x = new MutationObserver(function (mutations, observer) {{\n",
       "        var display = window.getComputedStyle(gd).display;\n",
       "        if (!display || display === 'none') {{\n",
       "            console.log([gd, 'removed!']);\n",
       "            Plotly.purge(gd);\n",
       "            observer.disconnect();\n",
       "        }}\n",
       "}});\n",
       "\n",
       "// Listen for the removal of the full notebook cells\n",
       "var notebookContainer = gd.closest('#notebook-container');\n",
       "if (notebookContainer) {{\n",
       "    x.observe(notebookContainer, {childList: true});\n",
       "}}\n",
       "\n",
       "// Listen for the clearing of the current output cell\n",
       "var outputEl = gd.closest('.output');\n",
       "if (outputEl) {{\n",
       "    x.observe(outputEl, {childList: true});\n",
       "}}\n",
       "\n",
       "                        })                };                });            </script>        </div>"
      ]
     },
     "metadata": {},
     "output_type": "display_data"
    }
   ],
   "source": [
    "# distribution of price per night \n",
    "# min = 105 max = 500000\n",
    "# remove outliers\n",
    "\n",
    "listings_cleaned = listings[listings.price < 10000]\n",
    "area_order = by_area['neighbourhood'].tolist()\n",
    "area_order\n",
    "fig6 = px.box(listings_cleaned, x = 'neighbourhood', y ='price', \n",
    "              title = 'Figure 6: Price of Arbnb Listing Per Night in Stockholm in 2025 by Area',\n",
    "              labels = {'neighbourhood': 'Area', 'price': 'Price'},\n",
    "              category_orders = {'neighbourhood': area_order})\n",
    "fig6.show()\n"
   ]
  },
  {
   "cell_type": "code",
   "execution_count": 70,
   "metadata": {},
   "outputs": [
    {
     "data": {
      "application/vnd.plotly.v1+json": {
       "config": {
        "plotlyServerURL": "https://plot.ly"
       },
       "data": [
        {
         "name": "Private Room",
         "type": "histogram",
         "x": [
          944,
          414,
          814,
          750,
          350,
          523,
          470,
          890,
          220,
          740,
          873,
          3000,
          900,
          975,
          450,
          700,
          350,
          229,
          950,
          590,
          690,
          350,
          459,
          390,
          1200,
          550,
          229,
          584,
          803,
          495,
          950,
          670,
          500,
          500,
          629,
          250,
          360,
          250,
          450,
          900,
          422,
          855,
          228,
          712,
          700,
          500,
          231,
          340,
          578,
          850,
          397,
          425,
          1901,
          500,
          470,
          700,
          450,
          500,
          350,
          500,
          579,
          453,
          800,
          414,
          585,
          450,
          385,
          375,
          925,
          1000,
          368,
          600,
          200,
          280,
          200,
          1750,
          399,
          700,
          363,
          3653,
          540,
          525,
          627,
          399,
          454,
          376,
          743,
          907,
          640,
          990,
          395,
          896,
          250,
          886,
          350,
          200,
          500,
          369,
          367,
          1073,
          400,
          385,
          363,
          415,
          600,
          397,
          1214,
          379,
          1200,
          950,
          400,
          380,
          1500,
          350,
          300,
          5000,
          1292,
          1292,
          976,
          948,
          748,
          800,
          1100,
          350,
          1032,
          1032,
          900,
          699,
          218,
          617,
          700,
          667,
          950,
          805,
          400,
          590,
          450,
          714,
          344,
          480,
          503,
          350,
          500,
          650,
          400,
          950,
          400,
          1157,
          875,
          699,
          700,
          700,
          649,
          1529,
          3000,
          990,
          580,
          795,
          700,
          1100,
          576,
          850,
          1000,
          520,
          990,
          910,
          450,
          690,
          409,
          1275,
          1275,
          1382,
          1489,
          1596,
          1918,
          1704,
          500,
          595,
          310,
          296,
          1300,
          600,
          200,
          400,
          1100,
          500,
          349,
          880,
          298,
          540,
          3900,
          867,
          607,
          1259,
          1898,
          2243,
          1302,
          1323,
          1000,
          200,
          500,
          793,
          746,
          1610,
          420,
          656,
          1456,
          580,
          650,
          850,
          2588,
          600,
          850,
          778,
          377,
          457,
          600,
          750,
          918,
          950,
          350,
          810,
          320,
          555,
          659,
          671,
          680,
          1550,
          265,
          753,
          330,
          600,
          600,
          365,
          625,
          1300,
          1121,
          700,
          689,
          500,
          965,
          402,
          611,
          298,
          287,
          379,
          402,
          635,
          783,
          529,
          200,
          250,
          6400,
          633,
          600,
          600,
          344,
          999,
          920,
          436,
          964,
          528,
          350,
          550,
          914,
          1250,
          499,
          528,
          300,
          379,
          549,
          180,
          180,
          105,
          650,
          450,
          400,
          500,
          300,
          650,
          680,
          529,
          1191,
          800,
          552,
          900,
          370,
          1521,
          677,
          817,
          798,
          690,
          597,
          600,
          1586,
          500,
          1068,
          1300,
          580,
          750,
          906,
          292,
          302,
          825,
          959,
          1946,
          1393,
          700,
          650,
          700,
          750,
          547,
          208,
          250,
          800,
          1021,
          662,
          1286,
          857,
          900,
          888,
          362,
          459,
          1307,
          350,
          540,
          402,
          450,
          374,
          819,
          464,
          499,
          500,
          499,
          1360,
          650,
          697,
          555,
          1600,
          645,
          750,
          800,
          500,
          400,
          1075,
          495,
          320,
          402,
          550,
          552,
          500,
          450,
          2240,
          3826,
          1633,
          1633,
          603,
          249,
          1349,
          1456,
          800,
          821,
          1921,
          334,
          580,
          600,
          400,
          550,
          1456,
          350,
          400,
          549,
          888,
          270,
          300,
          600,
          520,
          409,
          800,
          232,
          650,
          623,
          1893,
          420,
          900,
          499,
          525,
          500,
          1000,
          399,
          1257,
          439,
          1631,
          1174,
          2876,
          500,
          1965,
          1856,
          1967,
          1456,
          1456,
          1456,
          700,
          620,
          520,
          2346,
          1567,
          1720,
          3270,
          1100,
          1143,
          1006,
          280,
          360,
          600,
          270,
          1080,
          290,
          321,
          795,
          800,
          474,
          1275,
          1962,
          1209,
          750,
          1190,
          1017,
          959,
          839,
          1239,
          1190,
          750,
          416,
          964,
          600,
          700,
          402,
          416,
          416,
          340,
          1200,
          700,
          259,
          400,
          1850,
          900,
          5000,
          400,
          875,
          950,
          380,
          840,
          672,
          1114,
          672,
          850,
          1100,
          2500,
          1500,
          363,
          580,
          229,
          559,
          1243,
          647,
          621,
          1257,
          160,
          2500,
          2800,
          967,
          967,
          514,
          450,
          796,
          960,
          700,
          960,
          739,
          1300,
          1750,
          900,
          450,
          279,
          279,
          314,
          325,
          252,
          480,
          709,
          635,
          400,
          705,
          563,
          621,
          520,
          830,
          950,
          450,
          875,
          353,
          950,
          500,
          361,
          514,
          280,
          488,
          330,
          500,
          200,
          300,
          423,
          390,
          406,
          679,
          600,
          400,
          700,
          450,
          1300,
          480,
          550,
          600,
          950,
          1000,
          462,
          500,
          543,
          950,
          686,
          886,
          950,
          750,
          283,
          1000,
          1154,
          330,
          480,
          200,
          269,
          1095,
          1640,
          583,
          550,
          700,
          590,
          400,
          300,
          2115,
          1673,
          1115,
          2231,
          920,
          920,
          920,
          1046,
          480,
          383,
          900,
          848,
          450,
          746,
          720,
          714,
          315,
          280,
          278,
          843,
          310,
          320,
          2020,
          266,
          272,
          562,
          410,
          360
         ],
         "xaxis": "x",
         "xbins": {
          "end": 9926,
          "size": 100
         },
         "yaxis": "y"
        },
        {
         "name": "Entire Home/Apt",
         "type": "histogram",
         "x": [
          1320,
          2750,
          1190,
          4300,
          900,
          1400,
          360,
          2200,
          1399,
          2700,
          1000,
          1760,
          4245,
          981,
          552,
          1250,
          1549,
          1850,
          1800,
          1700,
          2200,
          2500,
          1843,
          2626,
          1300,
          1320,
          790,
          1250,
          800,
          921,
          1000,
          2300,
          1800,
          3300,
          3683,
          850,
          1800,
          1572,
          3786,
          700,
          1500,
          2200,
          2200,
          2294,
          2210,
          3300,
          1499,
          1500,
          1686,
          3400,
          1690,
          1543,
          4000,
          1100,
          8000,
          799,
          1050,
          850,
          3500,
          3950,
          1193,
          990,
          4000,
          700,
          2500,
          1900,
          1850,
          2000,
          630,
          1900,
          1085,
          3129,
          1800,
          1500,
          3434,
          630,
          2616,
          4000,
          3450,
          2600,
          3900,
          3500,
          3200,
          3200,
          3026,
          3629,
          1100,
          1533,
          2000,
          2500,
          1366,
          3500,
          2000,
          2057,
          1800,
          1290,
          720,
          3999,
          1200,
          4000,
          887,
          2500,
          2400,
          2490,
          500,
          2500,
          665,
          3500,
          4500,
          2500,
          1200,
          1000,
          3058,
          3000,
          1541,
          5000,
          1000,
          820,
          5057,
          2500,
          2150,
          1200,
          1100,
          1491,
          2000,
          2999,
          1500,
          1490,
          2294,
          1600,
          1778,
          3500,
          2600,
          660,
          850,
          2000,
          2785,
          1000,
          9450,
          4000,
          1400,
          3141,
          1850,
          549,
          1606,
          3500,
          2100,
          980,
          1490,
          1000,
          3862,
          701,
          3750,
          1500,
          700,
          1000,
          1190,
          1457,
          2822,
          1995,
          1500,
          699,
          1119,
          4293,
          3121,
          2640,
          790,
          1757,
          950,
          2000,
          725,
          1690,
          6450,
          1150,
          1300,
          2500,
          2500,
          1864,
          2750,
          2195,
          1400,
          500,
          1000,
          203,
          1300,
          4500,
          2294,
          2450,
          3000,
          4700,
          1050,
          1930,
          1057,
          3500,
          1800,
          995,
          1657,
          999,
          975,
          2350,
          4048,
          3114,
          2500,
          6000,
          1605,
          3800,
          1750,
          1064,
          1619,
          1727,
          3650,
          1700,
          2539,
          7150,
          1967,
          1200,
          1200,
          3200,
          4500,
          755,
          1800,
          1800,
          2250,
          3700,
          800,
          2800,
          4531,
          2129,
          2500,
          900,
          750,
          1000,
          3000,
          1050,
          4500,
          2330,
          2966,
          857,
          1000,
          1042,
          2500,
          3000,
          1500,
          950,
          2200,
          4015,
          3200,
          1329,
          1029,
          1650,
          981,
          479,
          850,
          871,
          3000,
          375,
          2189,
          2000,
          3000,
          3500,
          1629,
          2100,
          1529,
          1230,
          2800,
          1595,
          650,
          1909,
          2500,
          3500,
          857,
          2450,
          4100,
          3500,
          3900,
          899,
          999,
          2500,
          857,
          5286,
          1700,
          6495,
          4410,
          1721,
          3313,
          1800,
          1875,
          2150,
          1064,
          1000,
          2500,
          1957,
          5000,
          1829,
          1200,
          1900,
          1543,
          1343,
          2500,
          2700,
          1350,
          2400,
          690,
          1800,
          750,
          1100,
          1700,
          743,
          3400,
          1200,
          1000,
          1013,
          5490,
          2526,
          1858,
          993,
          665,
          6000,
          5132,
          2000,
          2200,
          4000,
          2143,
          2516,
          4905,
          1750,
          2200,
          4000,
          3690,
          1300,
          1750,
          2700,
          1893,
          3800,
          3100,
          1800,
          1200,
          2730,
          1000,
          1657,
          990,
          2500,
          1500,
          3200,
          1500,
          4000,
          1036,
          950,
          3500,
          3400,
          1000,
          1015,
          450,
          595,
          2679,
          2713,
          2550,
          1400,
          943,
          2286,
          900,
          1950,
          1832,
          450,
          2531,
          2000,
          900,
          2071,
          2996,
          1750,
          5000,
          1200,
          668,
          871,
          1700,
          1050,
          2356,
          1060,
          734,
          1279,
          1300,
          1588,
          1620,
          1621,
          892,
          750,
          3979,
          2871,
          3500,
          543,
          2253,
          1100,
          900,
          283,
          2800,
          2857,
          410,
          1903,
          900,
          2700,
          1500,
          1191,
          2086,
          3500,
          3343,
          1200,
          3900,
          1262,
          1366,
          1511,
          2143,
          1360,
          943,
          1471,
          1400,
          2000,
          3824,
          1800,
          371,
          874,
          5000,
          520,
          3000,
          3000,
          3000,
          4000,
          900,
          1200,
          1500,
          3081,
          1950,
          5600,
          1057,
          900,
          1086,
          2500,
          1293,
          2495,
          1950,
          1290,
          2000,
          3000,
          3813,
          1300,
          3000,
          6000,
          2300,
          3300,
          1000,
          2500,
          970,
          3000,
          1950,
          804,
          3800,
          2800,
          700,
          2410,
          3550,
          950,
          1365,
          749,
          996,
          1989,
          1600,
          860,
          1721,
          900,
          2686,
          890,
          5500,
          2160,
          672,
          850,
          1052,
          736,
          4000,
          2467,
          2384,
          1788,
          2000,
          2795,
          2889,
          671,
          671,
          900,
          699,
          629,
          654,
          574,
          720,
          3000,
          858,
          925,
          410,
          1111,
          1344,
          900,
          650,
          825,
          945,
          752,
          2514,
          2263,
          2632,
          577,
          1967,
          1967,
          2159,
          3200,
          650,
          500,
          1800,
          906,
          631,
          1800,
          2401,
          1800,
          2100,
          633,
          1614,
          2294,
          950,
          1433,
          1100,
          4862,
          1000,
          689,
          1800,
          3850,
          599,
          1271,
          615,
          3634,
          2279,
          811,
          2000,
          590,
          1121,
          900,
          2500,
          633,
          1130,
          750,
          1600,
          1500,
          689,
          1374,
          2950,
          1482,
          2200,
          1200,
          2200,
          700,
          2000,
          2988,
          2000,
          1000,
          2500,
          2294,
          2591,
          866,
          1350,
          1965,
          1028,
          3348,
          1200,
          1200,
          1028,
          947,
          2500,
          3097,
          1300,
          800,
          800,
          1100,
          2200,
          2546,
          3500,
          950,
          4977,
          3250,
          1925,
          850,
          820,
          1964,
          1900,
          614,
          672,
          2237,
          2868,
          1800,
          1600,
          2000,
          1166,
          1715,
          1071,
          450,
          7000,
          1300,
          886,
          1500,
          880,
          1800,
          2200,
          463,
          1757,
          1117,
          450,
          3500,
          524,
          1629,
          2500,
          3407,
          1250,
          432,
          554,
          640,
          1390,
          2729,
          2000,
          2674,
          2762,
          1200,
          580,
          577,
          3300,
          513,
          2950,
          1029,
          751,
          1900,
          1803,
          697,
          1243,
          4000,
          4200,
          1400,
          688,
          697,
          950,
          585,
          2050,
          2365,
          613,
          1857,
          2439,
          613,
          1553,
          567,
          1434,
          1104,
          580,
          629,
          671,
          1900,
          1000,
          1269,
          990,
          729,
          1300,
          850,
          850,
          2120,
          1600,
          400,
          1000,
          4921,
          1943,
          1160,
          2193,
          2895,
          2914,
          1200,
          960,
          2900,
          2000,
          2250,
          694,
          2500,
          2500,
          1009,
          1443,
          3500,
          1050,
          449,
          850,
          900,
          2500,
          1029,
          1000,
          3000,
          4870,
          2913,
          1768,
          1350,
          2000,
          1031,
          2150,
          2699,
          5000,
          997,
          799,
          3500,
          2800,
          2316,
          1150,
          2122,
          843,
          1350,
          1723,
          1466,
          2108,
          437,
          900,
          1200,
          1368,
          534,
          600,
          2864,
          2000,
          503,
          3495,
          1320,
          1036,
          900,
          972,
          1986,
          1750,
          1241,
          1246,
          724,
          1340,
          300,
          1150,
          725,
          875,
          729,
          2000,
          1179,
          886,
          1434,
          1000,
          1386,
          1171,
          409,
          2750,
          1660,
          2000,
          3769,
          1160,
          1262,
          900,
          4067,
          2500,
          1200,
          1532,
          1482,
          450,
          1157,
          4286,
          1584,
          475,
          2200,
          2300,
          6500,
          1450,
          2541,
          3643,
          3000,
          1200,
          5786,
          2500,
          1182,
          2400,
          1600,
          1000,
          1275,
          2700,
          5421,
          1500,
          1800,
          2900,
          2495,
          3000,
          3000,
          700,
          2343,
          1491,
          966,
          860,
          2850,
          850,
          2400,
          3886,
          1400,
          1864,
          1500,
          1725,
          1489,
          1489,
          1881,
          803,
          2800,
          1871,
          1324,
          1424,
          1262,
          2904,
          1107,
          1605,
          1639,
          1764,
          1362,
          3002,
          1073,
          1568,
          1685,
          1615,
          3018,
          1787,
          1503,
          1725,
          1564,
          4867,
          1579,
          2500,
          1615,
          1175,
          1615,
          1366,
          1353,
          8000,
          869,
          1787,
          1688,
          731,
          3000,
          600,
          1671,
          1100,
          2250,
          1500,
          1200,
          1800,
          1200,
          1628,
          1000,
          1243,
          859,
          420,
          2200,
          1000,
          800,
          1921,
          390,
          2500,
          2714,
          550,
          1200,
          1600,
          1557,
          1900,
          640,
          1750,
          585,
          2429,
          994,
          2000,
          1928,
          1395,
          537,
          839,
          1102,
          1879,
          2000,
          2777,
          1010,
          2100,
          1347,
          1671,
          1200,
          1257,
          1400,
          889,
          1229,
          1979,
          1519,
          1260,
          1400,
          1000,
          989,
          607,
          2279,
          2600,
          1564,
          1400,
          1100,
          3200,
          2143,
          815,
          1000,
          1901,
          2000,
          949,
          3236,
          1500,
          2600,
          1300,
          3000,
          2214,
          700,
          871,
          2125,
          1690,
          800,
          1038,
          1890,
          4500,
          910,
          1279,
          2599,
          898,
          600,
          1000,
          1244,
          3000,
          1300,
          1616,
          1686,
          1498,
          2400,
          2628,
          2550,
          2581,
          2000,
          2200,
          1229,
          1050,
          5000,
          2218,
          1500,
          3995,
          1857,
          1537,
          964,
          2100,
          2400,
          1200,
          1800,
          1527,
          1555,
          2350,
          1819,
          1950,
          1200,
          1071,
          2531,
          1500,
          900,
          947,
          2800,
          1461,
          1300,
          3800,
          2250,
          2000,
          3000,
          3297,
          1461,
          1520,
          1950,
          1300,
          4500,
          1943,
          2000,
          2000,
          2100,
          750,
          950,
          814,
          1071,
          2338,
          1200,
          1100,
          900,
          2995,
          1100,
          1499,
          3000,
          1316,
          2900,
          2929,
          3600,
          956,
          2000,
          3449,
          1300,
          400,
          990,
          3000,
          767,
          1699,
          2200,
          3995,
          1329,
          1500,
          3000,
          2300,
          1000,
          2500,
          2800,
          1257,
          1389,
          2100,
          2500,
          2868,
          2800,
          2379,
          1400,
          688,
          900,
          2000,
          2314,
          3227,
          1650,
          757,
          1650,
          2286,
          2750,
          1399,
          1322,
          700,
          1213,
          3250,
          1200,
          3000,
          1900,
          700,
          1101,
          7857,
          6500,
          1150,
          1214,
          1527,
          900,
          900,
          1900,
          779,
          1950,
          1520,
          900,
          2000,
          2000,
          1961,
          2900,
          550,
          1200,
          1699,
          1500,
          849,
          1436,
          2500,
          1700,
          841,
          1100,
          4500,
          3500,
          1100,
          751,
          907,
          1300,
          2011,
          746,
          2500,
          1443,
          2273,
          3976,
          1259,
          1200,
          2542,
          5343,
          2333,
          900,
          1872,
          892,
          190,
          2736,
          1700,
          1400,
          1269,
          1457,
          1577,
          4929,
          779,
          759,
          1999,
          870,
          1400,
          973,
          2500,
          3677,
          643,
          800,
          871,
          1107,
          936,
          2000,
          3000,
          1300,
          1320,
          1682,
          829,
          3410,
          1293,
          2045,
          1462,
          4500,
          700,
          409,
          3800,
          2295,
          3600,
          525,
          2150,
          1365,
          1929,
          1350,
          1157,
          3446,
          1250,
          990,
          421,
          900,
          2500,
          1529,
          825,
          4575,
          1300,
          1700,
          1463,
          1550,
          1200,
          2500,
          1100,
          1500,
          600,
          1100,
          1586,
          1647,
          1290,
          1122,
          2214,
          3000,
          4000,
          1400,
          1456,
          1000,
          943,
          2000,
          2000,
          1300,
          1200,
          800,
          2250,
          929,
          850,
          566,
          1600,
          2200,
          1014,
          2500,
          816,
          1400,
          1600,
          1964,
          1700,
          1500,
          950,
          1300,
          3957,
          845,
          2070,
          1419,
          1050,
          2429,
          535,
          1130,
          560,
          1130,
          1600,
          2914,
          2900,
          1929,
          2228,
          3486,
          5392,
          1500,
          2696,
          762,
          1026,
          2500,
          2910,
          1419,
          970,
          907,
          3029,
          1131,
          551,
          707,
          995,
          1237,
          2051,
          1290,
          1400,
          2999,
          2288,
          850,
          690,
          3450,
          2500,
          4200,
          500,
          800,
          3800,
          2700,
          1800,
          1000,
          4225,
          3500,
          1571,
          1671,
          5000,
          659,
          3214,
          3200,
          1057,
          700,
          7899,
          4000,
          1800,
          896,
          1750,
          3000,
          7000,
          1252,
          1100,
          1500,
          1800,
          934,
          1325,
          1443,
          3000,
          1350,
          1786,
          1550,
          900,
          1200,
          1050,
          3899,
          2200,
          1200,
          2299,
          2100,
          5999,
          1250,
          4490,
          949,
          1807,
          3725,
          3000,
          892,
          1114,
          8995,
          3000,
          2600,
          710,
          2657,
          1084,
          6500,
          2500,
          1886,
          3500,
          1800,
          1760,
          5000,
          1700,
          1513,
          2200,
          1900,
          664,
          2221,
          924,
          1500,
          2518,
          750,
          360,
          3887,
          1011,
          3164,
          1950,
          2000,
          830,
          2200,
          1500,
          4700,
          3000,
          2889,
          864,
          1400,
          2429,
          1158,
          2500,
          5000,
          1657,
          927,
          2000,
          650,
          1500,
          800,
          2887,
          1396,
          2500,
          1350,
          996,
          2500,
          511,
          800,
          489,
          450,
          1300,
          5392,
          2103,
          1400,
          1762,
          1750,
          1200,
          4100,
          2300,
          1595,
          2000,
          1329,
          1200,
          680,
          3309,
          3900,
          3828,
          2700,
          3500,
          1500,
          2995,
          5000,
          1013,
          1514,
          2100,
          1300,
          1080,
          3179,
          920,
          756,
          1207,
          4000,
          938,
          2900,
          1379,
          1134,
          1600,
          1372,
          1064,
          2014,
          4000,
          1700,
          3998,
          566,
          406,
          2200,
          3500,
          891,
          1789,
          1300,
          2008,
          3750,
          2500,
          4300,
          2996,
          1279,
          1750,
          1500,
          2500,
          1700,
          4950,
          2500,
          2172,
          7329,
          1100,
          838,
          1200,
          5271,
          1800,
          1200,
          684,
          2250,
          636,
          1500,
          1143,
          558,
          1200,
          2500,
          1500,
          1494,
          2800,
          3200,
          3000,
          1500,
          2500,
          1000,
          1050,
          1040,
          1650,
          334,
          344,
          4000,
          1500,
          3799,
          2000,
          525,
          650,
          1689,
          973,
          1340,
          1043,
          900,
          750,
          1100,
          2800,
          1600,
          1100,
          2286,
          2000,
          5000,
          720,
          950,
          1985,
          4700,
          4500,
          1486,
          2029,
          1750,
          4000,
          2801,
          1200,
          2943,
          1209,
          800,
          1750,
          557,
          3000,
          3500,
          918,
          1277,
          1345,
          622,
          2150,
          990,
          2500,
          1200,
          2500,
          1321,
          1943,
          2386,
          2500,
          1150,
          2120,
          1750,
          1500,
          1307,
          3800,
          2160,
          1920,
          2000,
          2000,
          1100,
          600,
          900,
          2500,
          3071,
          6757,
          1500,
          3229,
          2000,
          1949,
          3000,
          3500,
          3000,
          795,
          2459,
          1806,
          2700,
          4986,
          2243,
          3000,
          1493,
          1500,
          2500,
          1500,
          1200,
          4500,
          4941,
          850,
          4000,
          925,
          1080,
          2200,
          1800,
          1650,
          1000,
          928,
          600,
          4000,
          700,
          2964,
          2471,
          1800,
          1300,
          1500,
          700,
          1400,
          289,
          769,
          700,
          420,
          950,
          500,
          1200,
          2500,
          1300,
          1408,
          1023,
          551,
          2006,
          1243,
          1617,
          1500,
          3000,
          1300,
          2000,
          1300,
          1700,
          2600,
          1599,
          1995,
          2398,
          847,
          804,
          1701,
          550,
          1200,
          3600,
          950,
          1200,
          723,
          1964,
          800,
          2000,
          850,
          3500,
          2000,
          1888,
          1300,
          500,
          910,
          1200,
          3600,
          500,
          1090,
          737,
          680,
          700,
          1453,
          1520,
          1145,
          6900,
          1236,
          2000,
          1900,
          749,
          650,
          2057,
          1033,
          738,
          1800,
          1100,
          2100,
          3637,
          3500,
          1343,
          3050,
          2900,
          2300,
          2900,
          2900,
          1561,
          1356,
          3750,
          600,
          500,
          1286,
          464,
          3300,
          1803,
          2000,
          1884,
          2028,
          819,
          776,
          540,
          1577,
          4000,
          971,
          2150,
          961,
          1329,
          664,
          1500,
          1990,
          750,
          524,
          2371,
          1511,
          571,
          1200,
          1100,
          971,
          1200,
          1343,
          1138,
          800,
          633,
          838,
          1138,
          1914,
          809,
          1182,
          957,
          2600,
          700,
          3429,
          993,
          2500,
          1094,
          570,
          1000,
          729,
          1386,
          748,
          1200,
          3500,
          2357,
          476,
          6743,
          712,
          560,
          555,
          760,
          472,
          938,
          938,
          690,
          760,
          650,
          1483,
          2100,
          700,
          1500,
          691,
          1212,
          939,
          1183,
          3859,
          1741,
          956,
          1300,
          699,
          1400,
          652,
          3586,
          900,
          1800,
          476,
          637,
          1145,
          4000,
          1121,
          2415,
          1323,
          1800,
          2000,
          2750,
          2500,
          1046,
          1419,
          1243,
          901,
          1100,
          2500,
          2903,
          1200,
          1629,
          1660,
          699,
          950,
          1693,
          1307,
          2500,
          875,
          4417,
          1490,
          902,
          620,
          2029,
          5600,
          2265,
          1045,
          680,
          3489,
          637,
          1500,
          700,
          1631,
          1331,
          771,
          694,
          1586,
          889,
          1200,
          1400,
          3571,
          1000,
          771,
          1800,
          855,
          2800,
          817,
          1200,
          3000,
          1457,
          1700,
          1403,
          1604,
          629,
          5000,
          1186,
          1494,
          1500,
          1750,
          1400,
          1400,
          600,
          880,
          857,
          926,
          1700,
          1500,
          1557,
          667,
          800,
          3510,
          318,
          1350,
          1575,
          1000,
          1404,
          2852,
          1185,
          960,
          1006,
          585,
          900,
          3200,
          800,
          1400,
          609,
          908,
          714,
          3717,
          842,
          1685,
          1943,
          683,
          829,
          525,
          5700,
          2500,
          1733,
          2500,
          2600,
          2500,
          800,
          1500,
          960,
          995,
          1395,
          2398,
          654,
          2000,
          3000,
          2000,
          1000,
          3800,
          950,
          628,
          1671,
          4000,
          1400,
          1200,
          6500,
          4343,
          2357,
          1200,
          1303,
          2392,
          1984,
          1900,
          758,
          733,
          1835,
          1171,
          1103,
          1147,
          3200,
          1750,
          1350,
          891,
          1786,
          920,
          720,
          1800,
          2500,
          1450,
          2500,
          850,
          1000,
          2975,
          700,
          2056,
          1180,
          1295,
          703,
          920,
          485,
          1150,
          1724,
          550,
          887,
          1045,
          690,
          2200,
          1500,
          966,
          7000,
          796,
          681,
          748,
          4143,
          1143,
          1251,
          1357,
          675,
          927,
          642,
          1196,
          589,
          1650,
          2500,
          3800,
          1051,
          760,
          1300,
          869,
          260,
          1600,
          950,
          3250,
          5900,
          3000,
          815,
          1620,
          1979,
          1750,
          1400,
          1467,
          1440,
          1018,
          1721,
          750,
          496,
          3500,
          1750,
          1214,
          1115,
          5300,
          2500,
          4000,
          671,
          1350,
          800,
          1049,
          3000,
          2156,
          2900,
          1440,
          1100,
          2579,
          3479,
          2500,
          2029,
          950,
          600,
          1300,
          1320,
          2500,
          720,
          1620,
          2000,
          1098,
          1074,
          934,
          929,
          2200,
          409,
          1100,
          4832,
          1047,
          1213,
          1843,
          2190,
          1326,
          590,
          846,
          761,
          1900,
          1263,
          450,
          1700,
          7800,
          1350,
          2550,
          780,
          1036,
          700,
          3000,
          5200,
          3899,
          5500,
          1600,
          3350,
          1915,
          4000,
          800,
          4640,
          1400,
          789,
          850,
          2000,
          1330,
          2000,
          800,
          875,
          1136,
          1000,
          2186,
          2068,
          702,
          2000,
          414,
          1000,
          2700,
          840,
          1700,
          809,
          4500,
          3600,
          2891,
          2122,
          506,
          1054,
          1410,
          1134,
          1900,
          7000,
          1379,
          2500,
          3000,
          1666,
          1533,
          1016,
          600,
          1943,
          820,
          779,
          2405,
          3304,
          8000,
          1000,
          1200,
          2700,
          1120,
          2500,
          2300,
          877,
          800,
          775,
          5000,
          799,
          1840,
          1545,
          1428,
          1638,
          1946,
          3400,
          1500,
          1300,
          1800,
          1003,
          2425,
          600,
          1643,
          709,
          717,
          3505,
          9926,
          2071,
          1100,
          4500,
          1800,
          896,
          1000,
          5000,
          2500,
          1300,
          2278,
          820,
          895,
          4000,
          1000,
          984,
          3304,
          1601,
          2000,
          1604,
          1027,
          1250,
          2042,
          2000,
          743,
          2195,
          1043,
          1356,
          2500,
          2500,
          2200,
          1300,
          4000,
          1500,
          2078,
          1090,
          7000,
          600,
          4000,
          2749,
          1681,
          1236,
          1681,
          2500,
          2900,
          2257,
          4000,
          1300,
          1800,
          1148,
          1260,
          1221,
          1668,
          700,
          1300,
          4000,
          4286,
          1660,
          2500,
          600,
          2995,
          2500,
          2500,
          1500,
          1160,
          780,
          5000,
          3327,
          2393,
          3571,
          1240,
          985,
          2500,
          1157,
          650,
          6250,
          3400,
          3500,
          788,
          4000,
          646,
          6000,
          4000,
          7500,
          1050,
          2400,
          600,
          5000,
          3000,
          2779,
          1900,
          2700,
          993,
          1450,
          2000,
          1500,
          2500,
          2900,
          7000,
          1645,
          878,
          8000,
          840,
          2800,
          1195,
          3600,
          3500,
          1576,
          4000,
          2250,
          2000,
          1000,
          880,
          1170,
          2429,
          2240,
          1600,
          2000,
          2000,
          1037,
          1384,
          1281,
          875,
          3000,
          1657,
          2000,
          1278,
          9000,
          1278,
          1107,
          3000,
          2000,
          1043,
          6029,
          2960,
          1500,
          1500,
          1900,
          2143,
          315,
          2100,
          1206,
          1320,
          3000,
          4500,
          950,
          1000,
          6000,
          5000,
          2800,
          1000,
          2900,
          850,
          2800,
          864,
          950,
          8500,
          1900,
          3500,
          3600,
          2500,
          1277,
          1999,
          3200,
          1111,
          757,
          1314,
          1235,
          2990,
          2614,
          1092,
          5000,
          4500,
          2900,
          1520,
          1280,
          2800,
          1300,
          2000,
          900,
          2226,
          1275,
          2513,
          2800,
          1050,
          1024,
          950,
          3000,
          2600,
          2400,
          3000,
          8000,
          800,
          2700,
          6000,
          2086,
          4000,
          3000,
          7000,
          914,
          2421,
          1300,
          2050,
          1700,
          2600,
          1700,
          1200,
          3500,
          2643,
          5000,
          2200,
          900,
          1100,
          2500,
          556,
          577,
          3000,
          1300,
          2000,
          2786,
          4000,
          2300,
          1500,
          3960,
          1200,
          850,
          3000,
          2429,
          550,
          1200,
          1260,
          1469,
          2457,
          500,
          613,
          499,
          490,
          1343,
          784,
          1750,
          1007,
          2100,
          1000,
          811,
          1300,
          936,
          494,
          1186,
          2500,
          519,
          1800,
          4000,
          800,
          2500,
          843,
          3400,
          816,
          1075,
          2000,
          2500,
          1700,
          900,
          2000,
          764,
          3800,
          4300,
          1106,
          3000,
          1400,
          1048,
          1700,
          394,
          1199,
          989,
          1160,
          1753,
          2964,
          210,
          950,
          2900,
          880,
          2650,
          1615,
          800,
          1199,
          1457,
          1650,
          600,
          2400,
          800,
          1120,
          537,
          1367,
          4687,
          500,
          1486,
          1900,
          2450,
          879,
          1300,
          1757,
          489,
          618,
          646,
          1100,
          1713,
          2100,
          1600,
          1317,
          629,
          2000,
          1500,
          857,
          1975,
          1133,
          1500,
          1250,
          1500,
          731,
          2000,
          1272,
          1509,
          936,
          1500,
          1074,
          900,
          2399,
          2010,
          3042,
          1750,
          1850,
          1200,
          1605,
          2057,
          607,
          2350,
          2857,
          5257,
          504,
          3990,
          1700,
          986,
          1300,
          2099,
          2000,
          2500,
          2429,
          2300,
          1400,
          4200,
          806,
          1660,
          5000,
          997,
          1120,
          705,
          950,
          1700,
          818,
          231,
          2343,
          1573,
          1869,
          1200,
          2800,
          3844,
          1929,
          1000,
          724,
          3000,
          2286,
          1000,
          1273,
          3000,
          2511,
          1500,
          2080,
          1500,
          1564,
          1153,
          2250,
          1040,
          3893,
          800,
          959,
          3000,
          2800,
          697,
          1900,
          2736,
          900,
          2000,
          904,
          2190,
          4000,
          680,
          2400,
          2200,
          2500,
          936,
          2300,
          900,
          550,
          1800,
          1259,
          1500,
          1290,
          1100,
          1400,
          1379,
          3000,
          2041,
          750,
          1400,
          1400,
          1400,
          1400,
          669,
          990,
          1384,
          1400,
          1007,
          599,
          1180,
          1900,
          993,
          1100,
          1300,
          2199,
          1911,
          1786,
          1243,
          1400,
          985,
          520,
          620,
          1271,
          1600,
          1800,
          957,
          5300,
          2134,
          1200,
          1600,
          600,
          944,
          1797,
          1219,
          1600,
          978,
          2500,
          1300,
          1350,
          880,
          4500,
          944,
          951,
          760,
          1200,
          1000,
          2300,
          544,
          1750,
          900,
          1600,
          2000,
          1000,
          3000,
          960,
          603,
          810,
          2000,
          1500,
          1893,
          1400,
          1300,
          1114,
          1950,
          750,
          1750,
          2300,
          1100,
          600,
          1400,
          645,
          1300,
          614,
          1000,
          2232,
          8720,
          8720,
          800,
          799,
          7246,
          4500,
          700,
          1700,
          640,
          2339,
          1058,
          1600,
          1500,
          1461,
          532,
          2184,
          2562,
          950,
          5500,
          705,
          693,
          777,
          800,
          2150,
          580,
          2256,
          2200,
          1700,
          3000,
          1169,
          1700,
          1000,
          700,
          725,
          704,
          1039,
          735,
          1066,
          1730,
          1300,
          600,
          666,
          2157,
          1797,
          1055,
          856,
          586,
          600,
          1500,
          1600,
          3000,
          1250,
          1050,
          1050,
          851,
          800,
          800,
          800,
          800,
          896,
          800,
          895,
          801,
          984,
          800,
          809,
          800,
          850,
          800,
          820,
          800,
          850,
          1836,
          2200,
          2357,
          1092,
          903,
          2400,
          709,
          990,
          1174,
          3500,
          754,
          1300,
          2482,
          837,
          800,
          1795,
          2286,
          1500,
          815,
          1797,
          2445,
          1960,
          1460,
          1000,
          2000,
          4000,
          1400,
          1629,
          1142,
          1995,
          721,
          790,
          1750,
          1000,
          1929,
          500,
          1200,
          1000,
          1929,
          957,
          1200,
          600,
          1199,
          1371,
          1400,
          2000,
          1514,
          2811,
          1500,
          1300,
          870,
          800,
          748,
          3382,
          1440,
          600,
          1700,
          880,
          1285,
          904,
          1753,
          200,
          1089,
          931,
          2430,
          1657,
          3243,
          1700,
          800,
          1583,
          400,
          1503,
          4200,
          950,
          800,
          857,
          1615,
          2000,
          1400,
          1200,
          1631,
          2000,
          1221,
          857,
          1258,
          850,
          1042,
          1570,
          1040,
          2628,
          2311,
          524,
          365,
          1755,
          2832,
          5545,
          1800,
          1221,
          2079,
          1750,
          2822,
          3357,
          2053,
          820,
          866,
          859,
          1000,
          2000,
          1853,
          1200,
          999,
          1728,
          566,
          2400,
          1173,
          1750,
          750,
          1300,
          720,
          2800,
          536,
          1496,
          769,
          460,
          800,
          5900,
          2950,
          2500,
          1360,
          800,
          384,
          1040,
          1373,
          1000,
          1000,
          760,
          682,
          1200,
          600,
          1700,
          2890,
          794,
          623,
          720,
          508,
          447,
          1200,
          1132,
          852,
          2000,
          800,
          986,
          1600,
          2186,
          1266,
          1780,
          1006,
          455,
          3059,
          957,
          850,
          1107,
          1050,
          1350,
          2274,
          2630,
          1000,
          950,
          1000,
          1214,
          2123,
          1000,
          470,
          1900,
          4800,
          1400,
          1234,
          1680,
          977,
          2750,
          2491,
          1152,
          909,
          895,
          1700,
          2200,
          393,
          1107,
          570,
          1400,
          1063,
          800,
          4000,
          1371,
          1600,
          2500,
          1000,
          1084,
          690,
          1679,
          1029,
          2000,
          960,
          450,
          2345,
          1000,
          993,
          2829,
          696,
          1033,
          2000,
          2100,
          590,
          927,
          2313,
          3200,
          1130,
          1920,
          1500,
          977,
          500,
          800,
          934,
          2000,
          1000,
          1326,
          460,
          805,
          1690,
          1000,
          1000,
          1100,
          491,
          1120,
          1003,
          1025,
          720,
          1299,
          609,
          782,
          490,
          773,
          1600,
          960,
          960,
          2286,
          850,
          640,
          1646,
          505,
          838,
          850,
          510,
          3724,
          3724,
          1061,
          1750,
          1809,
          2269,
          2506,
          1784,
          985,
          1028,
          854,
          891,
          2050,
          800,
          1083,
          960,
          1006,
          1680,
          877,
          2600,
          800,
          540,
          1264,
          2000,
          996,
          484,
          1052,
          1820,
          1820,
          1750,
          800,
          1014,
          1400,
          1000
         ],
         "xaxis": "x2",
         "xbins": {
          "end": 9926,
          "size": 100
         },
         "yaxis": "y2"
        },
        {
         "name": "Share Room",
         "type": "histogram",
         "x": [
          848,
          350,
          850,
          300,
          300,
          300,
          346
         ],
         "xaxis": "x3",
         "xbins": {
          "end": 2559.7000000000003,
          "size": 100
         },
         "yaxis": "y3"
        },
        {
         "name": "Hotel Room",
         "type": "histogram",
         "x": [
          2076,
          1350,
          386,
          2327,
          1663,
          491,
          1965
         ],
         "xaxis": "x4",
         "xbins": {
          "end": 2559.7000000000003
         },
         "yaxis": "y4"
        }
       ],
       "layout": {
        "height": 600,
        "template": {
         "data": {
          "bar": [
           {
            "error_x": {
             "color": "#2a3f5f"
            },
            "error_y": {
             "color": "#2a3f5f"
            },
            "marker": {
             "line": {
              "color": "#E5ECF6",
              "width": 0.5
             },
             "pattern": {
              "fillmode": "overlay",
              "size": 10,
              "solidity": 0.2
             }
            },
            "type": "bar"
           }
          ],
          "barpolar": [
           {
            "marker": {
             "line": {
              "color": "#E5ECF6",
              "width": 0.5
             },
             "pattern": {
              "fillmode": "overlay",
              "size": 10,
              "solidity": 0.2
             }
            },
            "type": "barpolar"
           }
          ],
          "carpet": [
           {
            "aaxis": {
             "endlinecolor": "#2a3f5f",
             "gridcolor": "white",
             "linecolor": "white",
             "minorgridcolor": "white",
             "startlinecolor": "#2a3f5f"
            },
            "baxis": {
             "endlinecolor": "#2a3f5f",
             "gridcolor": "white",
             "linecolor": "white",
             "minorgridcolor": "white",
             "startlinecolor": "#2a3f5f"
            },
            "type": "carpet"
           }
          ],
          "choropleth": [
           {
            "colorbar": {
             "outlinewidth": 0,
             "ticks": ""
            },
            "type": "choropleth"
           }
          ],
          "contour": [
           {
            "colorbar": {
             "outlinewidth": 0,
             "ticks": ""
            },
            "colorscale": [
             [
              0,
              "#0d0887"
             ],
             [
              0.1111111111111111,
              "#46039f"
             ],
             [
              0.2222222222222222,
              "#7201a8"
             ],
             [
              0.3333333333333333,
              "#9c179e"
             ],
             [
              0.4444444444444444,
              "#bd3786"
             ],
             [
              0.5555555555555556,
              "#d8576b"
             ],
             [
              0.6666666666666666,
              "#ed7953"
             ],
             [
              0.7777777777777778,
              "#fb9f3a"
             ],
             [
              0.8888888888888888,
              "#fdca26"
             ],
             [
              1,
              "#f0f921"
             ]
            ],
            "type": "contour"
           }
          ],
          "contourcarpet": [
           {
            "colorbar": {
             "outlinewidth": 0,
             "ticks": ""
            },
            "type": "contourcarpet"
           }
          ],
          "heatmap": [
           {
            "colorbar": {
             "outlinewidth": 0,
             "ticks": ""
            },
            "colorscale": [
             [
              0,
              "#0d0887"
             ],
             [
              0.1111111111111111,
              "#46039f"
             ],
             [
              0.2222222222222222,
              "#7201a8"
             ],
             [
              0.3333333333333333,
              "#9c179e"
             ],
             [
              0.4444444444444444,
              "#bd3786"
             ],
             [
              0.5555555555555556,
              "#d8576b"
             ],
             [
              0.6666666666666666,
              "#ed7953"
             ],
             [
              0.7777777777777778,
              "#fb9f3a"
             ],
             [
              0.8888888888888888,
              "#fdca26"
             ],
             [
              1,
              "#f0f921"
             ]
            ],
            "type": "heatmap"
           }
          ],
          "heatmapgl": [
           {
            "colorbar": {
             "outlinewidth": 0,
             "ticks": ""
            },
            "colorscale": [
             [
              0,
              "#0d0887"
             ],
             [
              0.1111111111111111,
              "#46039f"
             ],
             [
              0.2222222222222222,
              "#7201a8"
             ],
             [
              0.3333333333333333,
              "#9c179e"
             ],
             [
              0.4444444444444444,
              "#bd3786"
             ],
             [
              0.5555555555555556,
              "#d8576b"
             ],
             [
              0.6666666666666666,
              "#ed7953"
             ],
             [
              0.7777777777777778,
              "#fb9f3a"
             ],
             [
              0.8888888888888888,
              "#fdca26"
             ],
             [
              1,
              "#f0f921"
             ]
            ],
            "type": "heatmapgl"
           }
          ],
          "histogram": [
           {
            "marker": {
             "pattern": {
              "fillmode": "overlay",
              "size": 10,
              "solidity": 0.2
             }
            },
            "type": "histogram"
           }
          ],
          "histogram2d": [
           {
            "colorbar": {
             "outlinewidth": 0,
             "ticks": ""
            },
            "colorscale": [
             [
              0,
              "#0d0887"
             ],
             [
              0.1111111111111111,
              "#46039f"
             ],
             [
              0.2222222222222222,
              "#7201a8"
             ],
             [
              0.3333333333333333,
              "#9c179e"
             ],
             [
              0.4444444444444444,
              "#bd3786"
             ],
             [
              0.5555555555555556,
              "#d8576b"
             ],
             [
              0.6666666666666666,
              "#ed7953"
             ],
             [
              0.7777777777777778,
              "#fb9f3a"
             ],
             [
              0.8888888888888888,
              "#fdca26"
             ],
             [
              1,
              "#f0f921"
             ]
            ],
            "type": "histogram2d"
           }
          ],
          "histogram2dcontour": [
           {
            "colorbar": {
             "outlinewidth": 0,
             "ticks": ""
            },
            "colorscale": [
             [
              0,
              "#0d0887"
             ],
             [
              0.1111111111111111,
              "#46039f"
             ],
             [
              0.2222222222222222,
              "#7201a8"
             ],
             [
              0.3333333333333333,
              "#9c179e"
             ],
             [
              0.4444444444444444,
              "#bd3786"
             ],
             [
              0.5555555555555556,
              "#d8576b"
             ],
             [
              0.6666666666666666,
              "#ed7953"
             ],
             [
              0.7777777777777778,
              "#fb9f3a"
             ],
             [
              0.8888888888888888,
              "#fdca26"
             ],
             [
              1,
              "#f0f921"
             ]
            ],
            "type": "histogram2dcontour"
           }
          ],
          "mesh3d": [
           {
            "colorbar": {
             "outlinewidth": 0,
             "ticks": ""
            },
            "type": "mesh3d"
           }
          ],
          "parcoords": [
           {
            "line": {
             "colorbar": {
              "outlinewidth": 0,
              "ticks": ""
             }
            },
            "type": "parcoords"
           }
          ],
          "pie": [
           {
            "automargin": true,
            "type": "pie"
           }
          ],
          "scatter": [
           {
            "fillpattern": {
             "fillmode": "overlay",
             "size": 10,
             "solidity": 0.2
            },
            "type": "scatter"
           }
          ],
          "scatter3d": [
           {
            "line": {
             "colorbar": {
              "outlinewidth": 0,
              "ticks": ""
             }
            },
            "marker": {
             "colorbar": {
              "outlinewidth": 0,
              "ticks": ""
             }
            },
            "type": "scatter3d"
           }
          ],
          "scattercarpet": [
           {
            "marker": {
             "colorbar": {
              "outlinewidth": 0,
              "ticks": ""
             }
            },
            "type": "scattercarpet"
           }
          ],
          "scattergeo": [
           {
            "marker": {
             "colorbar": {
              "outlinewidth": 0,
              "ticks": ""
             }
            },
            "type": "scattergeo"
           }
          ],
          "scattergl": [
           {
            "marker": {
             "colorbar": {
              "outlinewidth": 0,
              "ticks": ""
             }
            },
            "type": "scattergl"
           }
          ],
          "scattermapbox": [
           {
            "marker": {
             "colorbar": {
              "outlinewidth": 0,
              "ticks": ""
             }
            },
            "type": "scattermapbox"
           }
          ],
          "scatterpolar": [
           {
            "marker": {
             "colorbar": {
              "outlinewidth": 0,
              "ticks": ""
             }
            },
            "type": "scatterpolar"
           }
          ],
          "scatterpolargl": [
           {
            "marker": {
             "colorbar": {
              "outlinewidth": 0,
              "ticks": ""
             }
            },
            "type": "scatterpolargl"
           }
          ],
          "scatterternary": [
           {
            "marker": {
             "colorbar": {
              "outlinewidth": 0,
              "ticks": ""
             }
            },
            "type": "scatterternary"
           }
          ],
          "surface": [
           {
            "colorbar": {
             "outlinewidth": 0,
             "ticks": ""
            },
            "colorscale": [
             [
              0,
              "#0d0887"
             ],
             [
              0.1111111111111111,
              "#46039f"
             ],
             [
              0.2222222222222222,
              "#7201a8"
             ],
             [
              0.3333333333333333,
              "#9c179e"
             ],
             [
              0.4444444444444444,
              "#bd3786"
             ],
             [
              0.5555555555555556,
              "#d8576b"
             ],
             [
              0.6666666666666666,
              "#ed7953"
             ],
             [
              0.7777777777777778,
              "#fb9f3a"
             ],
             [
              0.8888888888888888,
              "#fdca26"
             ],
             [
              1,
              "#f0f921"
             ]
            ],
            "type": "surface"
           }
          ],
          "table": [
           {
            "cells": {
             "fill": {
              "color": "#EBF0F8"
             },
             "line": {
              "color": "white"
             }
            },
            "header": {
             "fill": {
              "color": "#C8D4E3"
             },
             "line": {
              "color": "white"
             }
            },
            "type": "table"
           }
          ]
         },
         "layout": {
          "annotationdefaults": {
           "arrowcolor": "#2a3f5f",
           "arrowhead": 0,
           "arrowwidth": 1
          },
          "autotypenumbers": "strict",
          "coloraxis": {
           "colorbar": {
            "outlinewidth": 0,
            "ticks": ""
           }
          },
          "colorscale": {
           "diverging": [
            [
             0,
             "#8e0152"
            ],
            [
             0.1,
             "#c51b7d"
            ],
            [
             0.2,
             "#de77ae"
            ],
            [
             0.3,
             "#f1b6da"
            ],
            [
             0.4,
             "#fde0ef"
            ],
            [
             0.5,
             "#f7f7f7"
            ],
            [
             0.6,
             "#e6f5d0"
            ],
            [
             0.7,
             "#b8e186"
            ],
            [
             0.8,
             "#7fbc41"
            ],
            [
             0.9,
             "#4d9221"
            ],
            [
             1,
             "#276419"
            ]
           ],
           "sequential": [
            [
             0,
             "#0d0887"
            ],
            [
             0.1111111111111111,
             "#46039f"
            ],
            [
             0.2222222222222222,
             "#7201a8"
            ],
            [
             0.3333333333333333,
             "#9c179e"
            ],
            [
             0.4444444444444444,
             "#bd3786"
            ],
            [
             0.5555555555555556,
             "#d8576b"
            ],
            [
             0.6666666666666666,
             "#ed7953"
            ],
            [
             0.7777777777777778,
             "#fb9f3a"
            ],
            [
             0.8888888888888888,
             "#fdca26"
            ],
            [
             1,
             "#f0f921"
            ]
           ],
           "sequentialminus": [
            [
             0,
             "#0d0887"
            ],
            [
             0.1111111111111111,
             "#46039f"
            ],
            [
             0.2222222222222222,
             "#7201a8"
            ],
            [
             0.3333333333333333,
             "#9c179e"
            ],
            [
             0.4444444444444444,
             "#bd3786"
            ],
            [
             0.5555555555555556,
             "#d8576b"
            ],
            [
             0.6666666666666666,
             "#ed7953"
            ],
            [
             0.7777777777777778,
             "#fb9f3a"
            ],
            [
             0.8888888888888888,
             "#fdca26"
            ],
            [
             1,
             "#f0f921"
            ]
           ]
          },
          "colorway": [
           "#636efa",
           "#EF553B",
           "#00cc96",
           "#ab63fa",
           "#FFA15A",
           "#19d3f3",
           "#FF6692",
           "#B6E880",
           "#FF97FF",
           "#FECB52"
          ],
          "font": {
           "color": "#2a3f5f"
          },
          "geo": {
           "bgcolor": "white",
           "lakecolor": "white",
           "landcolor": "#E5ECF6",
           "showlakes": true,
           "showland": true,
           "subunitcolor": "white"
          },
          "hoverlabel": {
           "align": "left"
          },
          "hovermode": "closest",
          "mapbox": {
           "style": "light"
          },
          "paper_bgcolor": "white",
          "plot_bgcolor": "#E5ECF6",
          "polar": {
           "angularaxis": {
            "gridcolor": "white",
            "linecolor": "white",
            "ticks": ""
           },
           "bgcolor": "#E5ECF6",
           "radialaxis": {
            "gridcolor": "white",
            "linecolor": "white",
            "ticks": ""
           }
          },
          "scene": {
           "xaxis": {
            "backgroundcolor": "#E5ECF6",
            "gridcolor": "white",
            "gridwidth": 2,
            "linecolor": "white",
            "showbackground": true,
            "ticks": "",
            "zerolinecolor": "white"
           },
           "yaxis": {
            "backgroundcolor": "#E5ECF6",
            "gridcolor": "white",
            "gridwidth": 2,
            "linecolor": "white",
            "showbackground": true,
            "ticks": "",
            "zerolinecolor": "white"
           },
           "zaxis": {
            "backgroundcolor": "#E5ECF6",
            "gridcolor": "white",
            "gridwidth": 2,
            "linecolor": "white",
            "showbackground": true,
            "ticks": "",
            "zerolinecolor": "white"
           }
          },
          "shapedefaults": {
           "line": {
            "color": "#2a3f5f"
           }
          },
          "ternary": {
           "aaxis": {
            "gridcolor": "white",
            "linecolor": "white",
            "ticks": ""
           },
           "baxis": {
            "gridcolor": "white",
            "linecolor": "white",
            "ticks": ""
           },
           "bgcolor": "#E5ECF6",
           "caxis": {
            "gridcolor": "white",
            "linecolor": "white",
            "ticks": ""
           }
          },
          "title": {
           "x": 0.05
          },
          "xaxis": {
           "automargin": true,
           "gridcolor": "white",
           "linecolor": "white",
           "ticks": "",
           "title": {
            "standoff": 15
           },
           "zerolinecolor": "white",
           "zerolinewidth": 2
          },
          "yaxis": {
           "automargin": true,
           "gridcolor": "white",
           "linecolor": "white",
           "ticks": "",
           "title": {
            "standoff": 15
           },
           "zerolinecolor": "white",
           "zerolinewidth": 2
          }
         }
        },
        "title": {
         "text": "Figure 7: Arbnb Price Distribution by Room Type in Stockholm in 2025"
        },
        "width": 800,
        "xaxis": {
         "anchor": "y",
         "domain": [
          0,
          0.45
         ],
         "range": [
          0,
          9926
         ]
        },
        "xaxis2": {
         "anchor": "y2",
         "domain": [
          0.55,
          1
         ],
         "range": [
          0,
          9926
         ]
        },
        "xaxis3": {
         "anchor": "y3",
         "domain": [
          0,
          0.45
         ],
         "range": [
          0,
          2559.7000000000003
         ]
        },
        "xaxis4": {
         "anchor": "y4",
         "domain": [
          0.55,
          1
         ],
         "range": [
          0,
          2559.7000000000003
         ]
        },
        "yaxis": {
         "anchor": "x",
         "domain": [
          0.575,
          1
         ]
        },
        "yaxis2": {
         "anchor": "x2",
         "domain": [
          0.575,
          1
         ]
        },
        "yaxis3": {
         "anchor": "x3",
         "domain": [
          0,
          0.425
         ]
        },
        "yaxis4": {
         "anchor": "x4",
         "domain": [
          0,
          0.425
         ]
        }
       }
      },
      "text/html": [
       "<div>                            <div id=\"53bf7d29-f0fa-4db6-97e3-4b5cafe36c10\" class=\"plotly-graph-div\" style=\"height:600px; width:800px;\"></div>            <script type=\"text/javascript\">                require([\"plotly\"], function(Plotly) {                    window.PLOTLYENV=window.PLOTLYENV || {};                                    if (document.getElementById(\"53bf7d29-f0fa-4db6-97e3-4b5cafe36c10\")) {                    Plotly.newPlot(                        \"53bf7d29-f0fa-4db6-97e3-4b5cafe36c10\",                        [{\"name\":\"Private Room\",\"x\":[944.0,414.0,814.0,750.0,350.0,523.0,470.0,890.0,220.0,740.0,873.0,3000.0,900.0,975.0,450.0,700.0,350.0,229.0,950.0,590.0,690.0,350.0,459.0,390.0,1200.0,550.0,229.0,584.0,803.0,495.0,950.0,670.0,500.0,500.0,629.0,250.0,360.0,250.0,450.0,900.0,422.0,855.0,228.0,712.0,700.0,500.0,231.0,340.0,578.0,850.0,397.0,425.0,1901.0,500.0,470.0,700.0,450.0,500.0,350.0,500.0,579.0,453.0,800.0,414.0,585.0,450.0,385.0,375.0,925.0,1000.0,368.0,600.0,200.0,280.0,200.0,1750.0,399.0,700.0,363.0,3653.0,540.0,525.0,627.0,399.0,454.0,376.0,743.0,907.0,640.0,990.0,395.0,896.0,250.0,886.0,350.0,200.0,500.0,369.0,367.0,1073.0,400.0,385.0,363.0,415.0,600.0,397.0,1214.0,379.0,1200.0,950.0,400.0,380.0,1500.0,350.0,300.0,5000.0,1292.0,1292.0,976.0,948.0,748.0,800.0,1100.0,350.0,1032.0,1032.0,900.0,699.0,218.0,617.0,700.0,667.0,950.0,805.0,400.0,590.0,450.0,714.0,344.0,480.0,503.0,350.0,500.0,650.0,400.0,950.0,400.0,1157.0,875.0,699.0,700.0,700.0,649.0,1529.0,3000.0,990.0,580.0,795.0,700.0,1100.0,576.0,850.0,1000.0,520.0,990.0,910.0,450.0,690.0,409.0,1275.0,1275.0,1382.0,1489.0,1596.0,1918.0,1704.0,500.0,595.0,310.0,296.0,1300.0,600.0,200.0,400.0,1100.0,500.0,349.0,880.0,298.0,540.0,3900.0,867.0,607.0,1259.0,1898.0,2243.0,1302.0,1323.0,1000.0,200.0,500.0,793.0,746.0,1610.0,420.0,656.0,1456.0,580.0,650.0,850.0,2588.0,600.0,850.0,778.0,377.0,457.0,600.0,750.0,918.0,950.0,350.0,810.0,320.0,555.0,659.0,671.0,680.0,1550.0,265.0,753.0,330.0,600.0,600.0,365.0,625.0,1300.0,1121.0,700.0,689.0,500.0,965.0,402.0,611.0,298.0,287.0,379.0,402.0,635.0,783.0,529.0,200.0,250.0,6400.0,633.0,600.0,600.0,344.0,999.0,920.0,436.0,964.0,528.0,350.0,550.0,914.0,1250.0,499.0,528.0,300.0,379.0,549.0,180.0,180.0,105.0,650.0,450.0,400.0,500.0,300.0,650.0,680.0,529.0,1191.0,800.0,552.0,900.0,370.0,1521.0,677.0,817.0,798.0,690.0,597.0,600.0,1586.0,500.0,1068.0,1300.0,580.0,750.0,906.0,292.0,302.0,825.0,959.0,1946.0,1393.0,700.0,650.0,700.0,750.0,547.0,208.0,250.0,800.0,1021.0,662.0,1286.0,857.0,900.0,888.0,362.0,459.0,1307.0,350.0,540.0,402.0,450.0,374.0,819.0,464.0,499.0,500.0,499.0,1360.0,650.0,697.0,555.0,1600.0,645.0,750.0,800.0,500.0,400.0,1075.0,495.0,320.0,402.0,550.0,552.0,500.0,450.0,2240.0,3826.0,1633.0,1633.0,603.0,249.0,1349.0,1456.0,800.0,821.0,1921.0,334.0,580.0,600.0,400.0,550.0,1456.0,350.0,400.0,549.0,888.0,270.0,300.0,600.0,520.0,409.0,800.0,232.0,650.0,623.0,1893.0,420.0,900.0,499.0,525.0,500.0,1000.0,399.0,1257.0,439.0,1631.0,1174.0,2876.0,500.0,1965.0,1856.0,1967.0,1456.0,1456.0,1456.0,700.0,620.0,520.0,2346.0,1567.0,1720.0,3270.0,1100.0,1143.0,1006.0,280.0,360.0,600.0,270.0,1080.0,290.0,321.0,795.0,800.0,474.0,1275.0,1962.0,1209.0,750.0,1190.0,1017.0,959.0,839.0,1239.0,1190.0,750.0,416.0,964.0,600.0,700.0,402.0,416.0,416.0,340.0,1200.0,700.0,259.0,400.0,1850.0,900.0,5000.0,400.0,875.0,950.0,380.0,840.0,672.0,1114.0,672.0,850.0,1100.0,2500.0,1500.0,363.0,580.0,229.0,559.0,1243.0,647.0,621.0,1257.0,160.0,2500.0,2800.0,967.0,967.0,514.0,450.0,796.0,960.0,700.0,960.0,739.0,1300.0,1750.0,900.0,450.0,279.0,279.0,314.0,325.0,252.0,480.0,709.0,635.0,400.0,705.0,563.0,621.0,520.0,830.0,950.0,450.0,875.0,353.0,950.0,500.0,361.0,514.0,280.0,488.0,330.0,500.0,200.0,300.0,423.0,390.0,406.0,679.0,600.0,400.0,700.0,450.0,1300.0,480.0,550.0,600.0,950.0,1000.0,462.0,500.0,543.0,950.0,686.0,886.0,950.0,750.0,283.0,1000.0,1154.0,330.0,480.0,200.0,269.0,1095.0,1640.0,583.0,550.0,700.0,590.0,400.0,300.0,2115.0,1673.0,1115.0,2231.0,920.0,920.0,920.0,1046.0,480.0,383.0,900.0,848.0,450.0,746.0,720.0,714.0,315.0,280.0,278.0,843.0,310.0,320.0,2020.0,266.0,272.0,562.0,410.0,360.0],\"xbins\":{\"end\":9926.0,\"size\":100},\"type\":\"histogram\",\"xaxis\":\"x\",\"yaxis\":\"y\"},{\"name\":\"Entire Home/Apt\",\"x\":[1320.0,2750.0,1190.0,4300.0,900.0,1400.0,360.0,2200.0,1399.0,2700.0,1000.0,1760.0,4245.0,981.0,552.0,1250.0,1549.0,1850.0,1800.0,1700.0,2200.0,2500.0,1843.0,2626.0,1300.0,1320.0,790.0,1250.0,800.0,921.0,1000.0,2300.0,1800.0,3300.0,3683.0,850.0,1800.0,1572.0,3786.0,700.0,1500.0,2200.0,2200.0,2294.0,2210.0,3300.0,1499.0,1500.0,1686.0,3400.0,1690.0,1543.0,4000.0,1100.0,8000.0,799.0,1050.0,850.0,3500.0,3950.0,1193.0,990.0,4000.0,700.0,2500.0,1900.0,1850.0,2000.0,630.0,1900.0,1085.0,3129.0,1800.0,1500.0,3434.0,630.0,2616.0,4000.0,3450.0,2600.0,3900.0,3500.0,3200.0,3200.0,3026.0,3629.0,1100.0,1533.0,2000.0,2500.0,1366.0,3500.0,2000.0,2057.0,1800.0,1290.0,720.0,3999.0,1200.0,4000.0,887.0,2500.0,2400.0,2490.0,500.0,2500.0,665.0,3500.0,4500.0,2500.0,1200.0,1000.0,3058.0,3000.0,1541.0,5000.0,1000.0,820.0,5057.0,2500.0,2150.0,1200.0,1100.0,1491.0,2000.0,2999.0,1500.0,1490.0,2294.0,1600.0,1778.0,3500.0,2600.0,660.0,850.0,2000.0,2785.0,1000.0,9450.0,4000.0,1400.0,3141.0,1850.0,549.0,1606.0,3500.0,2100.0,980.0,1490.0,1000.0,3862.0,701.0,3750.0,1500.0,700.0,1000.0,1190.0,1457.0,2822.0,1995.0,1500.0,699.0,1119.0,4293.0,3121.0,2640.0,790.0,1757.0,950.0,2000.0,725.0,1690.0,6450.0,1150.0,1300.0,2500.0,2500.0,1864.0,2750.0,2195.0,1400.0,500.0,1000.0,203.0,1300.0,4500.0,2294.0,2450.0,3000.0,4700.0,1050.0,1930.0,1057.0,3500.0,1800.0,995.0,1657.0,999.0,975.0,2350.0,4048.0,3114.0,2500.0,6000.0,1605.0,3800.0,1750.0,1064.0,1619.0,1727.0,3650.0,1700.0,2539.0,7150.0,1967.0,1200.0,1200.0,3200.0,4500.0,755.0,1800.0,1800.0,2250.0,3700.0,800.0,2800.0,4531.0,2129.0,2500.0,900.0,750.0,1000.0,3000.0,1050.0,4500.0,2330.0,2966.0,857.0,1000.0,1042.0,2500.0,3000.0,1500.0,950.0,2200.0,4015.0,3200.0,1329.0,1029.0,1650.0,981.0,479.0,850.0,871.0,3000.0,375.0,2189.0,2000.0,3000.0,3500.0,1629.0,2100.0,1529.0,1230.0,2800.0,1595.0,650.0,1909.0,2500.0,3500.0,857.0,2450.0,4100.0,3500.0,3900.0,899.0,999.0,2500.0,857.0,5286.0,1700.0,6495.0,4410.0,1721.0,3313.0,1800.0,1875.0,2150.0,1064.0,1000.0,2500.0,1957.0,5000.0,1829.0,1200.0,1900.0,1543.0,1343.0,2500.0,2700.0,1350.0,2400.0,690.0,1800.0,750.0,1100.0,1700.0,743.0,3400.0,1200.0,1000.0,1013.0,5490.0,2526.0,1858.0,993.0,665.0,6000.0,5132.0,2000.0,2200.0,4000.0,2143.0,2516.0,4905.0,1750.0,2200.0,4000.0,3690.0,1300.0,1750.0,2700.0,1893.0,3800.0,3100.0,1800.0,1200.0,2730.0,1000.0,1657.0,990.0,2500.0,1500.0,3200.0,1500.0,4000.0,1036.0,950.0,3500.0,3400.0,1000.0,1015.0,450.0,595.0,2679.0,2713.0,2550.0,1400.0,943.0,2286.0,900.0,1950.0,1832.0,450.0,2531.0,2000.0,900.0,2071.0,2996.0,1750.0,5000.0,1200.0,668.0,871.0,1700.0,1050.0,2356.0,1060.0,734.0,1279.0,1300.0,1588.0,1620.0,1621.0,892.0,750.0,3979.0,2871.0,3500.0,543.0,2253.0,1100.0,900.0,283.0,2800.0,2857.0,410.0,1903.0,900.0,2700.0,1500.0,1191.0,2086.0,3500.0,3343.0,1200.0,3900.0,1262.0,1366.0,1511.0,2143.0,1360.0,943.0,1471.0,1400.0,2000.0,3824.0,1800.0,371.0,874.0,5000.0,520.0,3000.0,3000.0,3000.0,4000.0,900.0,1200.0,1500.0,3081.0,1950.0,5600.0,1057.0,900.0,1086.0,2500.0,1293.0,2495.0,1950.0,1290.0,2000.0,3000.0,3813.0,1300.0,3000.0,6000.0,2300.0,3300.0,1000.0,2500.0,970.0,3000.0,1950.0,804.0,3800.0,2800.0,700.0,2410.0,3550.0,950.0,1365.0,749.0,996.0,1989.0,1600.0,860.0,1721.0,900.0,2686.0,890.0,5500.0,2160.0,672.0,850.0,1052.0,736.0,4000.0,2467.0,2384.0,1788.0,2000.0,2795.0,2889.0,671.0,671.0,900.0,699.0,629.0,654.0,574.0,720.0,3000.0,858.0,925.0,410.0,1111.0,1344.0,900.0,650.0,825.0,945.0,752.0,2514.0,2263.0,2632.0,577.0,1967.0,1967.0,2159.0,3200.0,650.0,500.0,1800.0,906.0,631.0,1800.0,2401.0,1800.0,2100.0,633.0,1614.0,2294.0,950.0,1433.0,1100.0,4862.0,1000.0,689.0,1800.0,3850.0,599.0,1271.0,615.0,3634.0,2279.0,811.0,2000.0,590.0,1121.0,900.0,2500.0,633.0,1130.0,750.0,1600.0,1500.0,689.0,1374.0,2950.0,1482.0,2200.0,1200.0,2200.0,700.0,2000.0,2988.0,2000.0,1000.0,2500.0,2294.0,2591.0,866.0,1350.0,1965.0,1028.0,3348.0,1200.0,1200.0,1028.0,947.0,2500.0,3097.0,1300.0,800.0,800.0,1100.0,2200.0,2546.0,3500.0,950.0,4977.0,3250.0,1925.0,850.0,820.0,1964.0,1900.0,614.0,672.0,2237.0,2868.0,1800.0,1600.0,2000.0,1166.0,1715.0,1071.0,450.0,7000.0,1300.0,886.0,1500.0,880.0,1800.0,2200.0,463.0,1757.0,1117.0,450.0,3500.0,524.0,1629.0,2500.0,3407.0,1250.0,432.0,554.0,640.0,1390.0,2729.0,2000.0,2674.0,2762.0,1200.0,580.0,577.0,3300.0,513.0,2950.0,1029.0,751.0,1900.0,1803.0,697.0,1243.0,4000.0,4200.0,1400.0,688.0,697.0,950.0,585.0,2050.0,2365.0,613.0,1857.0,2439.0,613.0,1553.0,567.0,1434.0,1104.0,580.0,629.0,671.0,1900.0,1000.0,1269.0,990.0,729.0,1300.0,850.0,850.0,2120.0,1600.0,400.0,1000.0,4921.0,1943.0,1160.0,2193.0,2895.0,2914.0,1200.0,960.0,2900.0,2000.0,2250.0,694.0,2500.0,2500.0,1009.0,1443.0,3500.0,1050.0,449.0,850.0,900.0,2500.0,1029.0,1000.0,3000.0,4870.0,2913.0,1768.0,1350.0,2000.0,1031.0,2150.0,2699.0,5000.0,997.0,799.0,3500.0,2800.0,2316.0,1150.0,2122.0,843.0,1350.0,1723.0,1466.0,2108.0,437.0,900.0,1200.0,1368.0,534.0,600.0,2864.0,2000.0,503.0,3495.0,1320.0,1036.0,900.0,972.0,1986.0,1750.0,1241.0,1246.0,724.0,1340.0,300.0,1150.0,725.0,875.0,729.0,2000.0,1179.0,886.0,1434.0,1000.0,1386.0,1171.0,409.0,2750.0,1660.0,2000.0,3769.0,1160.0,1262.0,900.0,4067.0,2500.0,1200.0,1532.0,1482.0,450.0,1157.0,4286.0,1584.0,475.0,2200.0,2300.0,6500.0,1450.0,2541.0,3643.0,3000.0,1200.0,5786.0,2500.0,1182.0,2400.0,1600.0,1000.0,1275.0,2700.0,5421.0,1500.0,1800.0,2900.0,2495.0,3000.0,3000.0,700.0,2343.0,1491.0,966.0,860.0,2850.0,850.0,2400.0,3886.0,1400.0,1864.0,1500.0,1725.0,1489.0,1489.0,1881.0,803.0,2800.0,1871.0,1324.0,1424.0,1262.0,2904.0,1107.0,1605.0,1639.0,1764.0,1362.0,3002.0,1073.0,1568.0,1685.0,1615.0,3018.0,1787.0,1503.0,1725.0,1564.0,4867.0,1579.0,2500.0,1615.0,1175.0,1615.0,1366.0,1353.0,8000.0,869.0,1787.0,1688.0,731.0,3000.0,600.0,1671.0,1100.0,2250.0,1500.0,1200.0,1800.0,1200.0,1628.0,1000.0,1243.0,859.0,420.0,2200.0,1000.0,800.0,1921.0,390.0,2500.0,2714.0,550.0,1200.0,1600.0,1557.0,1900.0,640.0,1750.0,585.0,2429.0,994.0,2000.0,1928.0,1395.0,537.0,839.0,1102.0,1879.0,2000.0,2777.0,1010.0,2100.0,1347.0,1671.0,1200.0,1257.0,1400.0,889.0,1229.0,1979.0,1519.0,1260.0,1400.0,1000.0,989.0,607.0,2279.0,2600.0,1564.0,1400.0,1100.0,3200.0,2143.0,815.0,1000.0,1901.0,2000.0,949.0,3236.0,1500.0,2600.0,1300.0,3000.0,2214.0,700.0,871.0,2125.0,1690.0,800.0,1038.0,1890.0,4500.0,910.0,1279.0,2599.0,898.0,600.0,1000.0,1244.0,3000.0,1300.0,1616.0,1686.0,1498.0,2400.0,2628.0,2550.0,2581.0,2000.0,2200.0,1229.0,1050.0,5000.0,2218.0,1500.0,3995.0,1857.0,1537.0,964.0,2100.0,2400.0,1200.0,1800.0,1527.0,1555.0,2350.0,1819.0,1950.0,1200.0,1071.0,2531.0,1500.0,900.0,947.0,2800.0,1461.0,1300.0,3800.0,2250.0,2000.0,3000.0,3297.0,1461.0,1520.0,1950.0,1300.0,4500.0,1943.0,2000.0,2000.0,2100.0,750.0,950.0,814.0,1071.0,2338.0,1200.0,1100.0,900.0,2995.0,1100.0,1499.0,3000.0,1316.0,2900.0,2929.0,3600.0,956.0,2000.0,3449.0,1300.0,400.0,990.0,3000.0,767.0,1699.0,2200.0,3995.0,1329.0,1500.0,3000.0,2300.0,1000.0,2500.0,2800.0,1257.0,1389.0,2100.0,2500.0,2868.0,2800.0,2379.0,1400.0,688.0,900.0,2000.0,2314.0,3227.0,1650.0,757.0,1650.0,2286.0,2750.0,1399.0,1322.0,700.0,1213.0,3250.0,1200.0,3000.0,1900.0,700.0,1101.0,7857.0,6500.0,1150.0,1214.0,1527.0,900.0,900.0,1900.0,779.0,1950.0,1520.0,900.0,2000.0,2000.0,1961.0,2900.0,550.0,1200.0,1699.0,1500.0,849.0,1436.0,2500.0,1700.0,841.0,1100.0,4500.0,3500.0,1100.0,751.0,907.0,1300.0,2011.0,746.0,2500.0,1443.0,2273.0,3976.0,1259.0,1200.0,2542.0,5343.0,2333.0,900.0,1872.0,892.0,190.0,2736.0,1700.0,1400.0,1269.0,1457.0,1577.0,4929.0,779.0,759.0,1999.0,870.0,1400.0,973.0,2500.0,3677.0,643.0,800.0,871.0,1107.0,936.0,2000.0,3000.0,1300.0,1320.0,1682.0,829.0,3410.0,1293.0,2045.0,1462.0,4500.0,700.0,409.0,3800.0,2295.0,3600.0,525.0,2150.0,1365.0,1929.0,1350.0,1157.0,3446.0,1250.0,990.0,421.0,900.0,2500.0,1529.0,825.0,4575.0,1300.0,1700.0,1463.0,1550.0,1200.0,2500.0,1100.0,1500.0,600.0,1100.0,1586.0,1647.0,1290.0,1122.0,2214.0,3000.0,4000.0,1400.0,1456.0,1000.0,943.0,2000.0,2000.0,1300.0,1200.0,800.0,2250.0,929.0,850.0,566.0,1600.0,2200.0,1014.0,2500.0,816.0,1400.0,1600.0,1964.0,1700.0,1500.0,950.0,1300.0,3957.0,845.0,2070.0,1419.0,1050.0,2429.0,535.0,1130.0,560.0,1130.0,1600.0,2914.0,2900.0,1929.0,2228.0,3486.0,5392.0,1500.0,2696.0,762.0,1026.0,2500.0,2910.0,1419.0,970.0,907.0,3029.0,1131.0,551.0,707.0,995.0,1237.0,2051.0,1290.0,1400.0,2999.0,2288.0,850.0,690.0,3450.0,2500.0,4200.0,500.0,800.0,3800.0,2700.0,1800.0,1000.0,4225.0,3500.0,1571.0,1671.0,5000.0,659.0,3214.0,3200.0,1057.0,700.0,7899.0,4000.0,1800.0,896.0,1750.0,3000.0,7000.0,1252.0,1100.0,1500.0,1800.0,934.0,1325.0,1443.0,3000.0,1350.0,1786.0,1550.0,900.0,1200.0,1050.0,3899.0,2200.0,1200.0,2299.0,2100.0,5999.0,1250.0,4490.0,949.0,1807.0,3725.0,3000.0,892.0,1114.0,8995.0,3000.0,2600.0,710.0,2657.0,1084.0,6500.0,2500.0,1886.0,3500.0,1800.0,1760.0,5000.0,1700.0,1513.0,2200.0,1900.0,664.0,2221.0,924.0,1500.0,2518.0,750.0,360.0,3887.0,1011.0,3164.0,1950.0,2000.0,830.0,2200.0,1500.0,4700.0,3000.0,2889.0,864.0,1400.0,2429.0,1158.0,2500.0,5000.0,1657.0,927.0,2000.0,650.0,1500.0,800.0,2887.0,1396.0,2500.0,1350.0,996.0,2500.0,511.0,800.0,489.0,450.0,1300.0,5392.0,2103.0,1400.0,1762.0,1750.0,1200.0,4100.0,2300.0,1595.0,2000.0,1329.0,1200.0,680.0,3309.0,3900.0,3828.0,2700.0,3500.0,1500.0,2995.0,5000.0,1013.0,1514.0,2100.0,1300.0,1080.0,3179.0,920.0,756.0,1207.0,4000.0,938.0,2900.0,1379.0,1134.0,1600.0,1372.0,1064.0,2014.0,4000.0,1700.0,3998.0,566.0,406.0,2200.0,3500.0,891.0,1789.0,1300.0,2008.0,3750.0,2500.0,4300.0,2996.0,1279.0,1750.0,1500.0,2500.0,1700.0,4950.0,2500.0,2172.0,7329.0,1100.0,838.0,1200.0,5271.0,1800.0,1200.0,684.0,2250.0,636.0,1500.0,1143.0,558.0,1200.0,2500.0,1500.0,1494.0,2800.0,3200.0,3000.0,1500.0,2500.0,1000.0,1050.0,1040.0,1650.0,334.0,344.0,4000.0,1500.0,3799.0,2000.0,525.0,650.0,1689.0,973.0,1340.0,1043.0,900.0,750.0,1100.0,2800.0,1600.0,1100.0,2286.0,2000.0,5000.0,720.0,950.0,1985.0,4700.0,4500.0,1486.0,2029.0,1750.0,4000.0,2801.0,1200.0,2943.0,1209.0,800.0,1750.0,557.0,3000.0,3500.0,918.0,1277.0,1345.0,622.0,2150.0,990.0,2500.0,1200.0,2500.0,1321.0,1943.0,2386.0,2500.0,1150.0,2120.0,1750.0,1500.0,1307.0,3800.0,2160.0,1920.0,2000.0,2000.0,1100.0,600.0,900.0,2500.0,3071.0,6757.0,1500.0,3229.0,2000.0,1949.0,3000.0,3500.0,3000.0,795.0,2459.0,1806.0,2700.0,4986.0,2243.0,3000.0,1493.0,1500.0,2500.0,1500.0,1200.0,4500.0,4941.0,850.0,4000.0,925.0,1080.0,2200.0,1800.0,1650.0,1000.0,928.0,600.0,4000.0,700.0,2964.0,2471.0,1800.0,1300.0,1500.0,700.0,1400.0,289.0,769.0,700.0,420.0,950.0,500.0,1200.0,2500.0,1300.0,1408.0,1023.0,551.0,2006.0,1243.0,1617.0,1500.0,3000.0,1300.0,2000.0,1300.0,1700.0,2600.0,1599.0,1995.0,2398.0,847.0,804.0,1701.0,550.0,1200.0,3600.0,950.0,1200.0,723.0,1964.0,800.0,2000.0,850.0,3500.0,2000.0,1888.0,1300.0,500.0,910.0,1200.0,3600.0,500.0,1090.0,737.0,680.0,700.0,1453.0,1520.0,1145.0,6900.0,1236.0,2000.0,1900.0,749.0,650.0,2057.0,1033.0,738.0,1800.0,1100.0,2100.0,3637.0,3500.0,1343.0,3050.0,2900.0,2300.0,2900.0,2900.0,1561.0,1356.0,3750.0,600.0,500.0,1286.0,464.0,3300.0,1803.0,2000.0,1884.0,2028.0,819.0,776.0,540.0,1577.0,4000.0,971.0,2150.0,961.0,1329.0,664.0,1500.0,1990.0,750.0,524.0,2371.0,1511.0,571.0,1200.0,1100.0,971.0,1200.0,1343.0,1138.0,800.0,633.0,838.0,1138.0,1914.0,809.0,1182.0,957.0,2600.0,700.0,3429.0,993.0,2500.0,1094.0,570.0,1000.0,729.0,1386.0,748.0,1200.0,3500.0,2357.0,476.0,6743.0,712.0,560.0,555.0,760.0,472.0,938.0,938.0,690.0,760.0,650.0,1483.0,2100.0,700.0,1500.0,691.0,1212.0,939.0,1183.0,3859.0,1741.0,956.0,1300.0,699.0,1400.0,652.0,3586.0,900.0,1800.0,476.0,637.0,1145.0,4000.0,1121.0,2415.0,1323.0,1800.0,2000.0,2750.0,2500.0,1046.0,1419.0,1243.0,901.0,1100.0,2500.0,2903.0,1200.0,1629.0,1660.0,699.0,950.0,1693.0,1307.0,2500.0,875.0,4417.0,1490.0,902.0,620.0,2029.0,5600.0,2265.0,1045.0,680.0,3489.0,637.0,1500.0,700.0,1631.0,1331.0,771.0,694.0,1586.0,889.0,1200.0,1400.0,3571.0,1000.0,771.0,1800.0,855.0,2800.0,817.0,1200.0,3000.0,1457.0,1700.0,1403.0,1604.0,629.0,5000.0,1186.0,1494.0,1500.0,1750.0,1400.0,1400.0,600.0,880.0,857.0,926.0,1700.0,1500.0,1557.0,667.0,800.0,3510.0,318.0,1350.0,1575.0,1000.0,1404.0,2852.0,1185.0,960.0,1006.0,585.0,900.0,3200.0,800.0,1400.0,609.0,908.0,714.0,3717.0,842.0,1685.0,1943.0,683.0,829.0,525.0,5700.0,2500.0,1733.0,2500.0,2600.0,2500.0,800.0,1500.0,960.0,995.0,1395.0,2398.0,654.0,2000.0,3000.0,2000.0,1000.0,3800.0,950.0,628.0,1671.0,4000.0,1400.0,1200.0,6500.0,4343.0,2357.0,1200.0,1303.0,2392.0,1984.0,1900.0,758.0,733.0,1835.0,1171.0,1103.0,1147.0,3200.0,1750.0,1350.0,891.0,1786.0,920.0,720.0,1800.0,2500.0,1450.0,2500.0,850.0,1000.0,2975.0,700.0,2056.0,1180.0,1295.0,703.0,920.0,485.0,1150.0,1724.0,550.0,887.0,1045.0,690.0,2200.0,1500.0,966.0,7000.0,796.0,681.0,748.0,4143.0,1143.0,1251.0,1357.0,675.0,927.0,642.0,1196.0,589.0,1650.0,2500.0,3800.0,1051.0,760.0,1300.0,869.0,260.0,1600.0,950.0,3250.0,5900.0,3000.0,815.0,1620.0,1979.0,1750.0,1400.0,1467.0,1440.0,1018.0,1721.0,750.0,496.0,3500.0,1750.0,1214.0,1115.0,5300.0,2500.0,4000.0,671.0,1350.0,800.0,1049.0,3000.0,2156.0,2900.0,1440.0,1100.0,2579.0,3479.0,2500.0,2029.0,950.0,600.0,1300.0,1320.0,2500.0,720.0,1620.0,2000.0,1098.0,1074.0,934.0,929.0,2200.0,409.0,1100.0,4832.0,1047.0,1213.0,1843.0,2190.0,1326.0,590.0,846.0,761.0,1900.0,1263.0,450.0,1700.0,7800.0,1350.0,2550.0,780.0,1036.0,700.0,3000.0,5200.0,3899.0,5500.0,1600.0,3350.0,1915.0,4000.0,800.0,4640.0,1400.0,789.0,850.0,2000.0,1330.0,2000.0,800.0,875.0,1136.0,1000.0,2186.0,2068.0,702.0,2000.0,414.0,1000.0,2700.0,840.0,1700.0,809.0,4500.0,3600.0,2891.0,2122.0,506.0,1054.0,1410.0,1134.0,1900.0,7000.0,1379.0,2500.0,3000.0,1666.0,1533.0,1016.0,600.0,1943.0,820.0,779.0,2405.0,3304.0,8000.0,1000.0,1200.0,2700.0,1120.0,2500.0,2300.0,877.0,800.0,775.0,5000.0,799.0,1840.0,1545.0,1428.0,1638.0,1946.0,3400.0,1500.0,1300.0,1800.0,1003.0,2425.0,600.0,1643.0,709.0,717.0,3505.0,9926.0,2071.0,1100.0,4500.0,1800.0,896.0,1000.0,5000.0,2500.0,1300.0,2278.0,820.0,895.0,4000.0,1000.0,984.0,3304.0,1601.0,2000.0,1604.0,1027.0,1250.0,2042.0,2000.0,743.0,2195.0,1043.0,1356.0,2500.0,2500.0,2200.0,1300.0,4000.0,1500.0,2078.0,1090.0,7000.0,600.0,4000.0,2749.0,1681.0,1236.0,1681.0,2500.0,2900.0,2257.0,4000.0,1300.0,1800.0,1148.0,1260.0,1221.0,1668.0,700.0,1300.0,4000.0,4286.0,1660.0,2500.0,600.0,2995.0,2500.0,2500.0,1500.0,1160.0,780.0,5000.0,3327.0,2393.0,3571.0,1240.0,985.0,2500.0,1157.0,650.0,6250.0,3400.0,3500.0,788.0,4000.0,646.0,6000.0,4000.0,7500.0,1050.0,2400.0,600.0,5000.0,3000.0,2779.0,1900.0,2700.0,993.0,1450.0,2000.0,1500.0,2500.0,2900.0,7000.0,1645.0,878.0,8000.0,840.0,2800.0,1195.0,3600.0,3500.0,1576.0,4000.0,2250.0,2000.0,1000.0,880.0,1170.0,2429.0,2240.0,1600.0,2000.0,2000.0,1037.0,1384.0,1281.0,875.0,3000.0,1657.0,2000.0,1278.0,9000.0,1278.0,1107.0,3000.0,2000.0,1043.0,6029.0,2960.0,1500.0,1500.0,1900.0,2143.0,315.0,2100.0,1206.0,1320.0,3000.0,4500.0,950.0,1000.0,6000.0,5000.0,2800.0,1000.0,2900.0,850.0,2800.0,864.0,950.0,8500.0,1900.0,3500.0,3600.0,2500.0,1277.0,1999.0,3200.0,1111.0,757.0,1314.0,1235.0,2990.0,2614.0,1092.0,5000.0,4500.0,2900.0,1520.0,1280.0,2800.0,1300.0,2000.0,900.0,2226.0,1275.0,2513.0,2800.0,1050.0,1024.0,950.0,3000.0,2600.0,2400.0,3000.0,8000.0,800.0,2700.0,6000.0,2086.0,4000.0,3000.0,7000.0,914.0,2421.0,1300.0,2050.0,1700.0,2600.0,1700.0,1200.0,3500.0,2643.0,5000.0,2200.0,900.0,1100.0,2500.0,556.0,577.0,3000.0,1300.0,2000.0,2786.0,4000.0,2300.0,1500.0,3960.0,1200.0,850.0,3000.0,2429.0,550.0,1200.0,1260.0,1469.0,2457.0,500.0,613.0,499.0,490.0,1343.0,784.0,1750.0,1007.0,2100.0,1000.0,811.0,1300.0,936.0,494.0,1186.0,2500.0,519.0,1800.0,4000.0,800.0,2500.0,843.0,3400.0,816.0,1075.0,2000.0,2500.0,1700.0,900.0,2000.0,764.0,3800.0,4300.0,1106.0,3000.0,1400.0,1048.0,1700.0,394.0,1199.0,989.0,1160.0,1753.0,2964.0,210.0,950.0,2900.0,880.0,2650.0,1615.0,800.0,1199.0,1457.0,1650.0,600.0,2400.0,800.0,1120.0,537.0,1367.0,4687.0,500.0,1486.0,1900.0,2450.0,879.0,1300.0,1757.0,489.0,618.0,646.0,1100.0,1713.0,2100.0,1600.0,1317.0,629.0,2000.0,1500.0,857.0,1975.0,1133.0,1500.0,1250.0,1500.0,731.0,2000.0,1272.0,1509.0,936.0,1500.0,1074.0,900.0,2399.0,2010.0,3042.0,1750.0,1850.0,1200.0,1605.0,2057.0,607.0,2350.0,2857.0,5257.0,504.0,3990.0,1700.0,986.0,1300.0,2099.0,2000.0,2500.0,2429.0,2300.0,1400.0,4200.0,806.0,1660.0,5000.0,997.0,1120.0,705.0,950.0,1700.0,818.0,231.0,2343.0,1573.0,1869.0,1200.0,2800.0,3844.0,1929.0,1000.0,724.0,3000.0,2286.0,1000.0,1273.0,3000.0,2511.0,1500.0,2080.0,1500.0,1564.0,1153.0,2250.0,1040.0,3893.0,800.0,959.0,3000.0,2800.0,697.0,1900.0,2736.0,900.0,2000.0,904.0,2190.0,4000.0,680.0,2400.0,2200.0,2500.0,936.0,2300.0,900.0,550.0,1800.0,1259.0,1500.0,1290.0,1100.0,1400.0,1379.0,3000.0,2041.0,750.0,1400.0,1400.0,1400.0,1400.0,669.0,990.0,1384.0,1400.0,1007.0,599.0,1180.0,1900.0,993.0,1100.0,1300.0,2199.0,1911.0,1786.0,1243.0,1400.0,985.0,520.0,620.0,1271.0,1600.0,1800.0,957.0,5300.0,2134.0,1200.0,1600.0,600.0,944.0,1797.0,1219.0,1600.0,978.0,2500.0,1300.0,1350.0,880.0,4500.0,944.0,951.0,760.0,1200.0,1000.0,2300.0,544.0,1750.0,900.0,1600.0,2000.0,1000.0,3000.0,960.0,603.0,810.0,2000.0,1500.0,1893.0,1400.0,1300.0,1114.0,1950.0,750.0,1750.0,2300.0,1100.0,600.0,1400.0,645.0,1300.0,614.0,1000.0,2232.0,8720.0,8720.0,800.0,799.0,7246.0,4500.0,700.0,1700.0,640.0,2339.0,1058.0,1600.0,1500.0,1461.0,532.0,2184.0,2562.0,950.0,5500.0,705.0,693.0,777.0,800.0,2150.0,580.0,2256.0,2200.0,1700.0,3000.0,1169.0,1700.0,1000.0,700.0,725.0,704.0,1039.0,735.0,1066.0,1730.0,1300.0,600.0,666.0,2157.0,1797.0,1055.0,856.0,586.0,600.0,1500.0,1600.0,3000.0,1250.0,1050.0,1050.0,851.0,800.0,800.0,800.0,800.0,896.0,800.0,895.0,801.0,984.0,800.0,809.0,800.0,850.0,800.0,820.0,800.0,850.0,1836.0,2200.0,2357.0,1092.0,903.0,2400.0,709.0,990.0,1174.0,3500.0,754.0,1300.0,2482.0,837.0,800.0,1795.0,2286.0,1500.0,815.0,1797.0,2445.0,1960.0,1460.0,1000.0,2000.0,4000.0,1400.0,1629.0,1142.0,1995.0,721.0,790.0,1750.0,1000.0,1929.0,500.0,1200.0,1000.0,1929.0,957.0,1200.0,600.0,1199.0,1371.0,1400.0,2000.0,1514.0,2811.0,1500.0,1300.0,870.0,800.0,748.0,3382.0,1440.0,600.0,1700.0,880.0,1285.0,904.0,1753.0,200.0,1089.0,931.0,2430.0,1657.0,3243.0,1700.0,800.0,1583.0,400.0,1503.0,4200.0,950.0,800.0,857.0,1615.0,2000.0,1400.0,1200.0,1631.0,2000.0,1221.0,857.0,1258.0,850.0,1042.0,1570.0,1040.0,2628.0,2311.0,524.0,365.0,1755.0,2832.0,5545.0,1800.0,1221.0,2079.0,1750.0,2822.0,3357.0,2053.0,820.0,866.0,859.0,1000.0,2000.0,1853.0,1200.0,999.0,1728.0,566.0,2400.0,1173.0,1750.0,750.0,1300.0,720.0,2800.0,536.0,1496.0,769.0,460.0,800.0,5900.0,2950.0,2500.0,1360.0,800.0,384.0,1040.0,1373.0,1000.0,1000.0,760.0,682.0,1200.0,600.0,1700.0,2890.0,794.0,623.0,720.0,508.0,447.0,1200.0,1132.0,852.0,2000.0,800.0,986.0,1600.0,2186.0,1266.0,1780.0,1006.0,455.0,3059.0,957.0,850.0,1107.0,1050.0,1350.0,2274.0,2630.0,1000.0,950.0,1000.0,1214.0,2123.0,1000.0,470.0,1900.0,4800.0,1400.0,1234.0,1680.0,977.0,2750.0,2491.0,1152.0,909.0,895.0,1700.0,2200.0,393.0,1107.0,570.0,1400.0,1063.0,800.0,4000.0,1371.0,1600.0,2500.0,1000.0,1084.0,690.0,1679.0,1029.0,2000.0,960.0,450.0,2345.0,1000.0,993.0,2829.0,696.0,1033.0,2000.0,2100.0,590.0,927.0,2313.0,3200.0,1130.0,1920.0,1500.0,977.0,500.0,800.0,934.0,2000.0,1000.0,1326.0,460.0,805.0,1690.0,1000.0,1000.0,1100.0,491.0,1120.0,1003.0,1025.0,720.0,1299.0,609.0,782.0,490.0,773.0,1600.0,960.0,960.0,2286.0,850.0,640.0,1646.0,505.0,838.0,850.0,510.0,3724.0,3724.0,1061.0,1750.0,1809.0,2269.0,2506.0,1784.0,985.0,1028.0,854.0,891.0,2050.0,800.0,1083.0,960.0,1006.0,1680.0,877.0,2600.0,800.0,540.0,1264.0,2000.0,996.0,484.0,1052.0,1820.0,1820.0,1750.0,800.0,1014.0,1400.0,1000.0],\"xbins\":{\"end\":9926.0,\"size\":100},\"type\":\"histogram\",\"xaxis\":\"x2\",\"yaxis\":\"y2\"},{\"name\":\"Share Room\",\"x\":[848.0,350.0,850.0,300.0,300.0,300.0,346.0],\"xbins\":{\"end\":2559.7000000000003,\"size\":100},\"type\":\"histogram\",\"xaxis\":\"x3\",\"yaxis\":\"y3\"},{\"name\":\"Hotel Room\",\"x\":[2076.0,1350.0,386.0,2327.0,1663.0,491.0,1965.0],\"xbins\":{\"end\":2559.7000000000003},\"type\":\"histogram\",\"xaxis\":\"x4\",\"yaxis\":\"y4\"}],                        {\"template\":{\"data\":{\"histogram2dcontour\":[{\"type\":\"histogram2dcontour\",\"colorbar\":{\"outlinewidth\":0,\"ticks\":\"\"},\"colorscale\":[[0.0,\"#0d0887\"],[0.1111111111111111,\"#46039f\"],[0.2222222222222222,\"#7201a8\"],[0.3333333333333333,\"#9c179e\"],[0.4444444444444444,\"#bd3786\"],[0.5555555555555556,\"#d8576b\"],[0.6666666666666666,\"#ed7953\"],[0.7777777777777778,\"#fb9f3a\"],[0.8888888888888888,\"#fdca26\"],[1.0,\"#f0f921\"]]}],\"choropleth\":[{\"type\":\"choropleth\",\"colorbar\":{\"outlinewidth\":0,\"ticks\":\"\"}}],\"histogram2d\":[{\"type\":\"histogram2d\",\"colorbar\":{\"outlinewidth\":0,\"ticks\":\"\"},\"colorscale\":[[0.0,\"#0d0887\"],[0.1111111111111111,\"#46039f\"],[0.2222222222222222,\"#7201a8\"],[0.3333333333333333,\"#9c179e\"],[0.4444444444444444,\"#bd3786\"],[0.5555555555555556,\"#d8576b\"],[0.6666666666666666,\"#ed7953\"],[0.7777777777777778,\"#fb9f3a\"],[0.8888888888888888,\"#fdca26\"],[1.0,\"#f0f921\"]]}],\"heatmap\":[{\"type\":\"heatmap\",\"colorbar\":{\"outlinewidth\":0,\"ticks\":\"\"},\"colorscale\":[[0.0,\"#0d0887\"],[0.1111111111111111,\"#46039f\"],[0.2222222222222222,\"#7201a8\"],[0.3333333333333333,\"#9c179e\"],[0.4444444444444444,\"#bd3786\"],[0.5555555555555556,\"#d8576b\"],[0.6666666666666666,\"#ed7953\"],[0.7777777777777778,\"#fb9f3a\"],[0.8888888888888888,\"#fdca26\"],[1.0,\"#f0f921\"]]}],\"heatmapgl\":[{\"type\":\"heatmapgl\",\"colorbar\":{\"outlinewidth\":0,\"ticks\":\"\"},\"colorscale\":[[0.0,\"#0d0887\"],[0.1111111111111111,\"#46039f\"],[0.2222222222222222,\"#7201a8\"],[0.3333333333333333,\"#9c179e\"],[0.4444444444444444,\"#bd3786\"],[0.5555555555555556,\"#d8576b\"],[0.6666666666666666,\"#ed7953\"],[0.7777777777777778,\"#fb9f3a\"],[0.8888888888888888,\"#fdca26\"],[1.0,\"#f0f921\"]]}],\"contourcarpet\":[{\"type\":\"contourcarpet\",\"colorbar\":{\"outlinewidth\":0,\"ticks\":\"\"}}],\"contour\":[{\"type\":\"contour\",\"colorbar\":{\"outlinewidth\":0,\"ticks\":\"\"},\"colorscale\":[[0.0,\"#0d0887\"],[0.1111111111111111,\"#46039f\"],[0.2222222222222222,\"#7201a8\"],[0.3333333333333333,\"#9c179e\"],[0.4444444444444444,\"#bd3786\"],[0.5555555555555556,\"#d8576b\"],[0.6666666666666666,\"#ed7953\"],[0.7777777777777778,\"#fb9f3a\"],[0.8888888888888888,\"#fdca26\"],[1.0,\"#f0f921\"]]}],\"surface\":[{\"type\":\"surface\",\"colorbar\":{\"outlinewidth\":0,\"ticks\":\"\"},\"colorscale\":[[0.0,\"#0d0887\"],[0.1111111111111111,\"#46039f\"],[0.2222222222222222,\"#7201a8\"],[0.3333333333333333,\"#9c179e\"],[0.4444444444444444,\"#bd3786\"],[0.5555555555555556,\"#d8576b\"],[0.6666666666666666,\"#ed7953\"],[0.7777777777777778,\"#fb9f3a\"],[0.8888888888888888,\"#fdca26\"],[1.0,\"#f0f921\"]]}],\"mesh3d\":[{\"type\":\"mesh3d\",\"colorbar\":{\"outlinewidth\":0,\"ticks\":\"\"}}],\"scatter\":[{\"fillpattern\":{\"fillmode\":\"overlay\",\"size\":10,\"solidity\":0.2},\"type\":\"scatter\"}],\"parcoords\":[{\"type\":\"parcoords\",\"line\":{\"colorbar\":{\"outlinewidth\":0,\"ticks\":\"\"}}}],\"scatterpolargl\":[{\"type\":\"scatterpolargl\",\"marker\":{\"colorbar\":{\"outlinewidth\":0,\"ticks\":\"\"}}}],\"bar\":[{\"error_x\":{\"color\":\"#2a3f5f\"},\"error_y\":{\"color\":\"#2a3f5f\"},\"marker\":{\"line\":{\"color\":\"#E5ECF6\",\"width\":0.5},\"pattern\":{\"fillmode\":\"overlay\",\"size\":10,\"solidity\":0.2}},\"type\":\"bar\"}],\"scattergeo\":[{\"type\":\"scattergeo\",\"marker\":{\"colorbar\":{\"outlinewidth\":0,\"ticks\":\"\"}}}],\"scatterpolar\":[{\"type\":\"scatterpolar\",\"marker\":{\"colorbar\":{\"outlinewidth\":0,\"ticks\":\"\"}}}],\"histogram\":[{\"marker\":{\"pattern\":{\"fillmode\":\"overlay\",\"size\":10,\"solidity\":0.2}},\"type\":\"histogram\"}],\"scattergl\":[{\"type\":\"scattergl\",\"marker\":{\"colorbar\":{\"outlinewidth\":0,\"ticks\":\"\"}}}],\"scatter3d\":[{\"type\":\"scatter3d\",\"line\":{\"colorbar\":{\"outlinewidth\":0,\"ticks\":\"\"}},\"marker\":{\"colorbar\":{\"outlinewidth\":0,\"ticks\":\"\"}}}],\"scattermapbox\":[{\"type\":\"scattermapbox\",\"marker\":{\"colorbar\":{\"outlinewidth\":0,\"ticks\":\"\"}}}],\"scatterternary\":[{\"type\":\"scatterternary\",\"marker\":{\"colorbar\":{\"outlinewidth\":0,\"ticks\":\"\"}}}],\"scattercarpet\":[{\"type\":\"scattercarpet\",\"marker\":{\"colorbar\":{\"outlinewidth\":0,\"ticks\":\"\"}}}],\"carpet\":[{\"aaxis\":{\"endlinecolor\":\"#2a3f5f\",\"gridcolor\":\"white\",\"linecolor\":\"white\",\"minorgridcolor\":\"white\",\"startlinecolor\":\"#2a3f5f\"},\"baxis\":{\"endlinecolor\":\"#2a3f5f\",\"gridcolor\":\"white\",\"linecolor\":\"white\",\"minorgridcolor\":\"white\",\"startlinecolor\":\"#2a3f5f\"},\"type\":\"carpet\"}],\"table\":[{\"cells\":{\"fill\":{\"color\":\"#EBF0F8\"},\"line\":{\"color\":\"white\"}},\"header\":{\"fill\":{\"color\":\"#C8D4E3\"},\"line\":{\"color\":\"white\"}},\"type\":\"table\"}],\"barpolar\":[{\"marker\":{\"line\":{\"color\":\"#E5ECF6\",\"width\":0.5},\"pattern\":{\"fillmode\":\"overlay\",\"size\":10,\"solidity\":0.2}},\"type\":\"barpolar\"}],\"pie\":[{\"automargin\":true,\"type\":\"pie\"}]},\"layout\":{\"autotypenumbers\":\"strict\",\"colorway\":[\"#636efa\",\"#EF553B\",\"#00cc96\",\"#ab63fa\",\"#FFA15A\",\"#19d3f3\",\"#FF6692\",\"#B6E880\",\"#FF97FF\",\"#FECB52\"],\"font\":{\"color\":\"#2a3f5f\"},\"hovermode\":\"closest\",\"hoverlabel\":{\"align\":\"left\"},\"paper_bgcolor\":\"white\",\"plot_bgcolor\":\"#E5ECF6\",\"polar\":{\"bgcolor\":\"#E5ECF6\",\"angularaxis\":{\"gridcolor\":\"white\",\"linecolor\":\"white\",\"ticks\":\"\"},\"radialaxis\":{\"gridcolor\":\"white\",\"linecolor\":\"white\",\"ticks\":\"\"}},\"ternary\":{\"bgcolor\":\"#E5ECF6\",\"aaxis\":{\"gridcolor\":\"white\",\"linecolor\":\"white\",\"ticks\":\"\"},\"baxis\":{\"gridcolor\":\"white\",\"linecolor\":\"white\",\"ticks\":\"\"},\"caxis\":{\"gridcolor\":\"white\",\"linecolor\":\"white\",\"ticks\":\"\"}},\"coloraxis\":{\"colorbar\":{\"outlinewidth\":0,\"ticks\":\"\"}},\"colorscale\":{\"sequential\":[[0.0,\"#0d0887\"],[0.1111111111111111,\"#46039f\"],[0.2222222222222222,\"#7201a8\"],[0.3333333333333333,\"#9c179e\"],[0.4444444444444444,\"#bd3786\"],[0.5555555555555556,\"#d8576b\"],[0.6666666666666666,\"#ed7953\"],[0.7777777777777778,\"#fb9f3a\"],[0.8888888888888888,\"#fdca26\"],[1.0,\"#f0f921\"]],\"sequentialminus\":[[0.0,\"#0d0887\"],[0.1111111111111111,\"#46039f\"],[0.2222222222222222,\"#7201a8\"],[0.3333333333333333,\"#9c179e\"],[0.4444444444444444,\"#bd3786\"],[0.5555555555555556,\"#d8576b\"],[0.6666666666666666,\"#ed7953\"],[0.7777777777777778,\"#fb9f3a\"],[0.8888888888888888,\"#fdca26\"],[1.0,\"#f0f921\"]],\"diverging\":[[0,\"#8e0152\"],[0.1,\"#c51b7d\"],[0.2,\"#de77ae\"],[0.3,\"#f1b6da\"],[0.4,\"#fde0ef\"],[0.5,\"#f7f7f7\"],[0.6,\"#e6f5d0\"],[0.7,\"#b8e186\"],[0.8,\"#7fbc41\"],[0.9,\"#4d9221\"],[1,\"#276419\"]]},\"xaxis\":{\"gridcolor\":\"white\",\"linecolor\":\"white\",\"ticks\":\"\",\"title\":{\"standoff\":15},\"zerolinecolor\":\"white\",\"automargin\":true,\"zerolinewidth\":2},\"yaxis\":{\"gridcolor\":\"white\",\"linecolor\":\"white\",\"ticks\":\"\",\"title\":{\"standoff\":15},\"zerolinecolor\":\"white\",\"automargin\":true,\"zerolinewidth\":2},\"scene\":{\"xaxis\":{\"backgroundcolor\":\"#E5ECF6\",\"gridcolor\":\"white\",\"linecolor\":\"white\",\"showbackground\":true,\"ticks\":\"\",\"zerolinecolor\":\"white\",\"gridwidth\":2},\"yaxis\":{\"backgroundcolor\":\"#E5ECF6\",\"gridcolor\":\"white\",\"linecolor\":\"white\",\"showbackground\":true,\"ticks\":\"\",\"zerolinecolor\":\"white\",\"gridwidth\":2},\"zaxis\":{\"backgroundcolor\":\"#E5ECF6\",\"gridcolor\":\"white\",\"linecolor\":\"white\",\"showbackground\":true,\"ticks\":\"\",\"zerolinecolor\":\"white\",\"gridwidth\":2}},\"shapedefaults\":{\"line\":{\"color\":\"#2a3f5f\"}},\"annotationdefaults\":{\"arrowcolor\":\"#2a3f5f\",\"arrowhead\":0,\"arrowwidth\":1},\"geo\":{\"bgcolor\":\"white\",\"landcolor\":\"#E5ECF6\",\"subunitcolor\":\"white\",\"showland\":true,\"showlakes\":true,\"lakecolor\":\"white\"},\"title\":{\"x\":0.05},\"mapbox\":{\"style\":\"light\"}}},\"xaxis\":{\"anchor\":\"y\",\"domain\":[0.0,0.45],\"range\":[0,9926.0]},\"yaxis\":{\"anchor\":\"x\",\"domain\":[0.575,1.0]},\"xaxis2\":{\"anchor\":\"y2\",\"domain\":[0.55,1.0],\"range\":[0,9926.0]},\"yaxis2\":{\"anchor\":\"x2\",\"domain\":[0.575,1.0]},\"xaxis3\":{\"anchor\":\"y3\",\"domain\":[0.0,0.45],\"range\":[0,2559.7000000000003]},\"yaxis3\":{\"anchor\":\"x3\",\"domain\":[0.0,0.425]},\"xaxis4\":{\"anchor\":\"y4\",\"domain\":[0.55,1.0],\"range\":[0,2559.7000000000003]},\"yaxis4\":{\"anchor\":\"x4\",\"domain\":[0.0,0.425]},\"title\":{\"text\":\"Figure 7: Arbnb Price Distribution by Room Type in Stockholm in 2025\"},\"height\":600,\"width\":800},                        {\"responsive\": true}                    ).then(function(){\n",
       "                            \n",
       "var gd = document.getElementById('53bf7d29-f0fa-4db6-97e3-4b5cafe36c10');\n",
       "var x = new MutationObserver(function (mutations, observer) {{\n",
       "        var display = window.getComputedStyle(gd).display;\n",
       "        if (!display || display === 'none') {{\n",
       "            console.log([gd, 'removed!']);\n",
       "            Plotly.purge(gd);\n",
       "            observer.disconnect();\n",
       "        }}\n",
       "}});\n",
       "\n",
       "// Listen for the removal of the full notebook cells\n",
       "var notebookContainer = gd.closest('#notebook-container');\n",
       "if (notebookContainer) {{\n",
       "    x.observe(notebookContainer, {childList: true});\n",
       "}}\n",
       "\n",
       "// Listen for the clearing of the current output cell\n",
       "var outputEl = gd.closest('.output');\n",
       "if (outputEl) {{\n",
       "    x.observe(outputEl, {childList: true});\n",
       "}}\n",
       "\n",
       "                        })                };                });            </script>        </div>"
      ]
     },
     "metadata": {},
     "output_type": "display_data"
    }
   ],
   "source": [
    "import plotly.graph_objects as go\n",
    "from plotly.subplots import make_subplots\n",
    "listings.price[listings['room_type'] == 'Private room'].max()\n",
    "\n",
    "# main graph\n",
    "fig_price_by_type = make_subplots(rows = 2, cols = 2)\n",
    "# eliciting data\n",
    "d_pv_room = listings_cleaned['price'][listings_cleaned.room_type == 'Private room']\n",
    "d_entire = listings_cleaned['price'][listings_cleaned.room_type == 'Entire home/apt']\n",
    "d_share = listings_cleaned['price'][listings_cleaned.room_type == 'Shared room']\n",
    "d_hotel = listings_cleaned['price'][listings_cleaned.room_type == 'Hotel room']\n",
    "# unify xlim\n",
    "max_price_pv_entire = max(d_pv_room.max(), d_entire.max())\n",
    "max_price_share_hotel = max(d_share.max(), d_hotel.max()) *1.1\n",
    "# histogram\n",
    "pv_room = go.Histogram(x = d_pv_room, name = 'Private Room', xbins = dict(size=100, end= max_price_pv_entire))\n",
    "entire = go.Histogram(x = d_entire, name = 'Entire Home/Apt' ,xbins= dict(size=100, end= max_price_pv_entire))\n",
    "share = go.Histogram(x = d_share, name = 'Share Room', xbins= dict(size = 100, end = max_price_share_hotel))\n",
    "hotel = go.Histogram(x = d_hotel, name = 'Hotel Room', xbins= dict(end = max_price_share_hotel))\n",
    "# append sub plots\n",
    "fig_price_by_type.append_trace(pv_room, 1 ,1)\n",
    "fig_price_by_type.append_trace(entire, 1, 2)\n",
    "fig_price_by_type.append_trace(share, 2, 1)\n",
    "fig_price_by_type.append_trace(hotel, 2, 2)\n",
    "# update xlim\n",
    "fig_price_by_type.update_xaxes(range=[0, max_price_pv_entire], row= 1, col= 1)\n",
    "fig_price_by_type.update_xaxes(range=[0, max_price_pv_entire], row= 1, col= 2)\n",
    "fig_price_by_type.update_xaxes(range=[0, max_price_share_hotel], row= 2, col= 1)\n",
    "fig_price_by_type.update_xaxes(range=[0, max_price_share_hotel], row= 2, col= 2)\n",
    "# adjust overall layout\n",
    "fig_price_by_type.update_layout(height=600, width=800, \n",
    "                                title_text= 'Figure 7: Arbnb Price Distribution by Room Type in Stockholm in 2025')\n",
    "fig_price_by_type.show()"
   ]
  },
  {
   "cell_type": "code",
   "execution_count": null,
   "metadata": {},
   "outputs": [],
   "source": [
    "import json\n",
    "with gzip.open('listings.csv.gz') as file:\n",
    "    listings_complete = pd.read_csv(file)\n",
    "# data handling\n",
    "listings_complete['amenities'] = listings_complete.amenities.apply(json.loads)\n",
    "# get all the items\n",
    "all_items = sum(listings_complete['amenities'], [])\n",
    "am_counts = pd.Series(all_items).value_counts()\n",
    "df_am = am_counts.reset_index()\n",
    "df_am.columns = ['amenity', 'count']\n",
    "# remove some items\n",
    "none_essentitals = ['Smoke alarm', 'Hangers', 'Fire extinguisher', 'Hot water']\n",
    "df_am_filtered = df_am[~df_am['amenity'].isin(none_essentitals)][0:20]"
   ]
  },
  {
   "cell_type": "code",
   "execution_count": 71,
   "metadata": {},
   "outputs": [
    {
     "data": {
      "application/vnd.plotly.v1+json": {
       "config": {
        "plotlyServerURL": "https://plot.ly"
       },
       "data": [
        {
         "alignmentgroup": "True",
         "hovertemplate": "=%{x}<br>Count=%{y}<extra></extra>",
         "legendgroup": "",
         "marker": {
          "color": "#636efa",
          "pattern": {
           "shape": ""
          }
         },
         "name": "",
         "offsetgroup": "",
         "orientation": "v",
         "showlegend": false,
         "textposition": "auto",
         "type": "bar",
         "x": [
          "Kitchen",
          "Wifi",
          "Dishes and silverware",
          "Essentials",
          "Refrigerator",
          "TV",
          "Bed linens",
          "Iron",
          "Cooking basics",
          "Hair dryer",
          "Washer",
          "Microwave",
          "Heating",
          "Dedicated workspace",
          "Dishwasher",
          "Freezer",
          "Dining table",
          "Wine glasses",
          "Oven",
          "Shampoo"
         ],
         "xaxis": "x",
         "y": [
          4981,
          4711,
          3440,
          3242,
          3154,
          3136,
          3061,
          3031,
          2981,
          2965,
          2648,
          2488,
          2468,
          2401,
          2350,
          2338,
          2325,
          2236,
          2098,
          2045
         ],
         "yaxis": "y"
        }
       ],
       "layout": {
        "barmode": "relative",
        "legend": {
         "tracegroupgap": 0
        },
        "template": {
         "data": {
          "bar": [
           {
            "error_x": {
             "color": "#2a3f5f"
            },
            "error_y": {
             "color": "#2a3f5f"
            },
            "marker": {
             "line": {
              "color": "#E5ECF6",
              "width": 0.5
             },
             "pattern": {
              "fillmode": "overlay",
              "size": 10,
              "solidity": 0.2
             }
            },
            "type": "bar"
           }
          ],
          "barpolar": [
           {
            "marker": {
             "line": {
              "color": "#E5ECF6",
              "width": 0.5
             },
             "pattern": {
              "fillmode": "overlay",
              "size": 10,
              "solidity": 0.2
             }
            },
            "type": "barpolar"
           }
          ],
          "carpet": [
           {
            "aaxis": {
             "endlinecolor": "#2a3f5f",
             "gridcolor": "white",
             "linecolor": "white",
             "minorgridcolor": "white",
             "startlinecolor": "#2a3f5f"
            },
            "baxis": {
             "endlinecolor": "#2a3f5f",
             "gridcolor": "white",
             "linecolor": "white",
             "minorgridcolor": "white",
             "startlinecolor": "#2a3f5f"
            },
            "type": "carpet"
           }
          ],
          "choropleth": [
           {
            "colorbar": {
             "outlinewidth": 0,
             "ticks": ""
            },
            "type": "choropleth"
           }
          ],
          "contour": [
           {
            "colorbar": {
             "outlinewidth": 0,
             "ticks": ""
            },
            "colorscale": [
             [
              0,
              "#0d0887"
             ],
             [
              0.1111111111111111,
              "#46039f"
             ],
             [
              0.2222222222222222,
              "#7201a8"
             ],
             [
              0.3333333333333333,
              "#9c179e"
             ],
             [
              0.4444444444444444,
              "#bd3786"
             ],
             [
              0.5555555555555556,
              "#d8576b"
             ],
             [
              0.6666666666666666,
              "#ed7953"
             ],
             [
              0.7777777777777778,
              "#fb9f3a"
             ],
             [
              0.8888888888888888,
              "#fdca26"
             ],
             [
              1,
              "#f0f921"
             ]
            ],
            "type": "contour"
           }
          ],
          "contourcarpet": [
           {
            "colorbar": {
             "outlinewidth": 0,
             "ticks": ""
            },
            "type": "contourcarpet"
           }
          ],
          "heatmap": [
           {
            "colorbar": {
             "outlinewidth": 0,
             "ticks": ""
            },
            "colorscale": [
             [
              0,
              "#0d0887"
             ],
             [
              0.1111111111111111,
              "#46039f"
             ],
             [
              0.2222222222222222,
              "#7201a8"
             ],
             [
              0.3333333333333333,
              "#9c179e"
             ],
             [
              0.4444444444444444,
              "#bd3786"
             ],
             [
              0.5555555555555556,
              "#d8576b"
             ],
             [
              0.6666666666666666,
              "#ed7953"
             ],
             [
              0.7777777777777778,
              "#fb9f3a"
             ],
             [
              0.8888888888888888,
              "#fdca26"
             ],
             [
              1,
              "#f0f921"
             ]
            ],
            "type": "heatmap"
           }
          ],
          "heatmapgl": [
           {
            "colorbar": {
             "outlinewidth": 0,
             "ticks": ""
            },
            "colorscale": [
             [
              0,
              "#0d0887"
             ],
             [
              0.1111111111111111,
              "#46039f"
             ],
             [
              0.2222222222222222,
              "#7201a8"
             ],
             [
              0.3333333333333333,
              "#9c179e"
             ],
             [
              0.4444444444444444,
              "#bd3786"
             ],
             [
              0.5555555555555556,
              "#d8576b"
             ],
             [
              0.6666666666666666,
              "#ed7953"
             ],
             [
              0.7777777777777778,
              "#fb9f3a"
             ],
             [
              0.8888888888888888,
              "#fdca26"
             ],
             [
              1,
              "#f0f921"
             ]
            ],
            "type": "heatmapgl"
           }
          ],
          "histogram": [
           {
            "marker": {
             "pattern": {
              "fillmode": "overlay",
              "size": 10,
              "solidity": 0.2
             }
            },
            "type": "histogram"
           }
          ],
          "histogram2d": [
           {
            "colorbar": {
             "outlinewidth": 0,
             "ticks": ""
            },
            "colorscale": [
             [
              0,
              "#0d0887"
             ],
             [
              0.1111111111111111,
              "#46039f"
             ],
             [
              0.2222222222222222,
              "#7201a8"
             ],
             [
              0.3333333333333333,
              "#9c179e"
             ],
             [
              0.4444444444444444,
              "#bd3786"
             ],
             [
              0.5555555555555556,
              "#d8576b"
             ],
             [
              0.6666666666666666,
              "#ed7953"
             ],
             [
              0.7777777777777778,
              "#fb9f3a"
             ],
             [
              0.8888888888888888,
              "#fdca26"
             ],
             [
              1,
              "#f0f921"
             ]
            ],
            "type": "histogram2d"
           }
          ],
          "histogram2dcontour": [
           {
            "colorbar": {
             "outlinewidth": 0,
             "ticks": ""
            },
            "colorscale": [
             [
              0,
              "#0d0887"
             ],
             [
              0.1111111111111111,
              "#46039f"
             ],
             [
              0.2222222222222222,
              "#7201a8"
             ],
             [
              0.3333333333333333,
              "#9c179e"
             ],
             [
              0.4444444444444444,
              "#bd3786"
             ],
             [
              0.5555555555555556,
              "#d8576b"
             ],
             [
              0.6666666666666666,
              "#ed7953"
             ],
             [
              0.7777777777777778,
              "#fb9f3a"
             ],
             [
              0.8888888888888888,
              "#fdca26"
             ],
             [
              1,
              "#f0f921"
             ]
            ],
            "type": "histogram2dcontour"
           }
          ],
          "mesh3d": [
           {
            "colorbar": {
             "outlinewidth": 0,
             "ticks": ""
            },
            "type": "mesh3d"
           }
          ],
          "parcoords": [
           {
            "line": {
             "colorbar": {
              "outlinewidth": 0,
              "ticks": ""
             }
            },
            "type": "parcoords"
           }
          ],
          "pie": [
           {
            "automargin": true,
            "type": "pie"
           }
          ],
          "scatter": [
           {
            "fillpattern": {
             "fillmode": "overlay",
             "size": 10,
             "solidity": 0.2
            },
            "type": "scatter"
           }
          ],
          "scatter3d": [
           {
            "line": {
             "colorbar": {
              "outlinewidth": 0,
              "ticks": ""
             }
            },
            "marker": {
             "colorbar": {
              "outlinewidth": 0,
              "ticks": ""
             }
            },
            "type": "scatter3d"
           }
          ],
          "scattercarpet": [
           {
            "marker": {
             "colorbar": {
              "outlinewidth": 0,
              "ticks": ""
             }
            },
            "type": "scattercarpet"
           }
          ],
          "scattergeo": [
           {
            "marker": {
             "colorbar": {
              "outlinewidth": 0,
              "ticks": ""
             }
            },
            "type": "scattergeo"
           }
          ],
          "scattergl": [
           {
            "marker": {
             "colorbar": {
              "outlinewidth": 0,
              "ticks": ""
             }
            },
            "type": "scattergl"
           }
          ],
          "scattermapbox": [
           {
            "marker": {
             "colorbar": {
              "outlinewidth": 0,
              "ticks": ""
             }
            },
            "type": "scattermapbox"
           }
          ],
          "scatterpolar": [
           {
            "marker": {
             "colorbar": {
              "outlinewidth": 0,
              "ticks": ""
             }
            },
            "type": "scatterpolar"
           }
          ],
          "scatterpolargl": [
           {
            "marker": {
             "colorbar": {
              "outlinewidth": 0,
              "ticks": ""
             }
            },
            "type": "scatterpolargl"
           }
          ],
          "scatterternary": [
           {
            "marker": {
             "colorbar": {
              "outlinewidth": 0,
              "ticks": ""
             }
            },
            "type": "scatterternary"
           }
          ],
          "surface": [
           {
            "colorbar": {
             "outlinewidth": 0,
             "ticks": ""
            },
            "colorscale": [
             [
              0,
              "#0d0887"
             ],
             [
              0.1111111111111111,
              "#46039f"
             ],
             [
              0.2222222222222222,
              "#7201a8"
             ],
             [
              0.3333333333333333,
              "#9c179e"
             ],
             [
              0.4444444444444444,
              "#bd3786"
             ],
             [
              0.5555555555555556,
              "#d8576b"
             ],
             [
              0.6666666666666666,
              "#ed7953"
             ],
             [
              0.7777777777777778,
              "#fb9f3a"
             ],
             [
              0.8888888888888888,
              "#fdca26"
             ],
             [
              1,
              "#f0f921"
             ]
            ],
            "type": "surface"
           }
          ],
          "table": [
           {
            "cells": {
             "fill": {
              "color": "#EBF0F8"
             },
             "line": {
              "color": "white"
             }
            },
            "header": {
             "fill": {
              "color": "#C8D4E3"
             },
             "line": {
              "color": "white"
             }
            },
            "type": "table"
           }
          ]
         },
         "layout": {
          "annotationdefaults": {
           "arrowcolor": "#2a3f5f",
           "arrowhead": 0,
           "arrowwidth": 1
          },
          "autotypenumbers": "strict",
          "coloraxis": {
           "colorbar": {
            "outlinewidth": 0,
            "ticks": ""
           }
          },
          "colorscale": {
           "diverging": [
            [
             0,
             "#8e0152"
            ],
            [
             0.1,
             "#c51b7d"
            ],
            [
             0.2,
             "#de77ae"
            ],
            [
             0.3,
             "#f1b6da"
            ],
            [
             0.4,
             "#fde0ef"
            ],
            [
             0.5,
             "#f7f7f7"
            ],
            [
             0.6,
             "#e6f5d0"
            ],
            [
             0.7,
             "#b8e186"
            ],
            [
             0.8,
             "#7fbc41"
            ],
            [
             0.9,
             "#4d9221"
            ],
            [
             1,
             "#276419"
            ]
           ],
           "sequential": [
            [
             0,
             "#0d0887"
            ],
            [
             0.1111111111111111,
             "#46039f"
            ],
            [
             0.2222222222222222,
             "#7201a8"
            ],
            [
             0.3333333333333333,
             "#9c179e"
            ],
            [
             0.4444444444444444,
             "#bd3786"
            ],
            [
             0.5555555555555556,
             "#d8576b"
            ],
            [
             0.6666666666666666,
             "#ed7953"
            ],
            [
             0.7777777777777778,
             "#fb9f3a"
            ],
            [
             0.8888888888888888,
             "#fdca26"
            ],
            [
             1,
             "#f0f921"
            ]
           ],
           "sequentialminus": [
            [
             0,
             "#0d0887"
            ],
            [
             0.1111111111111111,
             "#46039f"
            ],
            [
             0.2222222222222222,
             "#7201a8"
            ],
            [
             0.3333333333333333,
             "#9c179e"
            ],
            [
             0.4444444444444444,
             "#bd3786"
            ],
            [
             0.5555555555555556,
             "#d8576b"
            ],
            [
             0.6666666666666666,
             "#ed7953"
            ],
            [
             0.7777777777777778,
             "#fb9f3a"
            ],
            [
             0.8888888888888888,
             "#fdca26"
            ],
            [
             1,
             "#f0f921"
            ]
           ]
          },
          "colorway": [
           "#636efa",
           "#EF553B",
           "#00cc96",
           "#ab63fa",
           "#FFA15A",
           "#19d3f3",
           "#FF6692",
           "#B6E880",
           "#FF97FF",
           "#FECB52"
          ],
          "font": {
           "color": "#2a3f5f"
          },
          "geo": {
           "bgcolor": "white",
           "lakecolor": "white",
           "landcolor": "#E5ECF6",
           "showlakes": true,
           "showland": true,
           "subunitcolor": "white"
          },
          "hoverlabel": {
           "align": "left"
          },
          "hovermode": "closest",
          "mapbox": {
           "style": "light"
          },
          "paper_bgcolor": "white",
          "plot_bgcolor": "#E5ECF6",
          "polar": {
           "angularaxis": {
            "gridcolor": "white",
            "linecolor": "white",
            "ticks": ""
           },
           "bgcolor": "#E5ECF6",
           "radialaxis": {
            "gridcolor": "white",
            "linecolor": "white",
            "ticks": ""
           }
          },
          "scene": {
           "xaxis": {
            "backgroundcolor": "#E5ECF6",
            "gridcolor": "white",
            "gridwidth": 2,
            "linecolor": "white",
            "showbackground": true,
            "ticks": "",
            "zerolinecolor": "white"
           },
           "yaxis": {
            "backgroundcolor": "#E5ECF6",
            "gridcolor": "white",
            "gridwidth": 2,
            "linecolor": "white",
            "showbackground": true,
            "ticks": "",
            "zerolinecolor": "white"
           },
           "zaxis": {
            "backgroundcolor": "#E5ECF6",
            "gridcolor": "white",
            "gridwidth": 2,
            "linecolor": "white",
            "showbackground": true,
            "ticks": "",
            "zerolinecolor": "white"
           }
          },
          "shapedefaults": {
           "line": {
            "color": "#2a3f5f"
           }
          },
          "ternary": {
           "aaxis": {
            "gridcolor": "white",
            "linecolor": "white",
            "ticks": ""
           },
           "baxis": {
            "gridcolor": "white",
            "linecolor": "white",
            "ticks": ""
           },
           "bgcolor": "#E5ECF6",
           "caxis": {
            "gridcolor": "white",
            "linecolor": "white",
            "ticks": ""
           }
          },
          "title": {
           "x": 0.05
          },
          "xaxis": {
           "automargin": true,
           "gridcolor": "white",
           "linecolor": "white",
           "ticks": "",
           "title": {
            "standoff": 15
           },
           "zerolinecolor": "white",
           "zerolinewidth": 2
          },
          "yaxis": {
           "automargin": true,
           "gridcolor": "white",
           "linecolor": "white",
           "ticks": "",
           "title": {
            "standoff": 15
           },
           "zerolinecolor": "white",
           "zerolinewidth": 2
          }
         }
        },
        "title": {
         "text": "Figure 8: Top 20 Amenities in Arbnb Listings in Stockholm in 2025"
        },
        "xaxis": {
         "anchor": "y",
         "domain": [
          0,
          1
         ],
         "title": {
          "text": ""
         }
        },
        "yaxis": {
         "anchor": "x",
         "domain": [
          0,
          1
         ],
         "title": {
          "text": "Count"
         }
        }
       }
      },
      "text/html": [
       "<div>                            <div id=\"7126a68e-2455-4469-85f6-af3a14f7101f\" class=\"plotly-graph-div\" style=\"height:525px; width:100%;\"></div>            <script type=\"text/javascript\">                require([\"plotly\"], function(Plotly) {                    window.PLOTLYENV=window.PLOTLYENV || {};                                    if (document.getElementById(\"7126a68e-2455-4469-85f6-af3a14f7101f\")) {                    Plotly.newPlot(                        \"7126a68e-2455-4469-85f6-af3a14f7101f\",                        [{\"alignmentgroup\":\"True\",\"hovertemplate\":\"=%{x}<br>Count=%{y}<extra></extra>\",\"legendgroup\":\"\",\"marker\":{\"color\":\"#636efa\",\"pattern\":{\"shape\":\"\"}},\"name\":\"\",\"offsetgroup\":\"\",\"orientation\":\"v\",\"showlegend\":false,\"textposition\":\"auto\",\"x\":[\"Kitchen\",\"Wifi\",\"Dishes and silverware\",\"Essentials\",\"Refrigerator\",\"TV\",\"Bed linens\",\"Iron\",\"Cooking basics\",\"Hair dryer\",\"Washer\",\"Microwave\",\"Heating\",\"Dedicated workspace\",\"Dishwasher\",\"Freezer\",\"Dining table\",\"Wine glasses\",\"Oven\",\"Shampoo\"],\"xaxis\":\"x\",\"y\":[4981,4711,3440,3242,3154,3136,3061,3031,2981,2965,2648,2488,2468,2401,2350,2338,2325,2236,2098,2045],\"yaxis\":\"y\",\"type\":\"bar\"}],                        {\"template\":{\"data\":{\"histogram2dcontour\":[{\"type\":\"histogram2dcontour\",\"colorbar\":{\"outlinewidth\":0,\"ticks\":\"\"},\"colorscale\":[[0.0,\"#0d0887\"],[0.1111111111111111,\"#46039f\"],[0.2222222222222222,\"#7201a8\"],[0.3333333333333333,\"#9c179e\"],[0.4444444444444444,\"#bd3786\"],[0.5555555555555556,\"#d8576b\"],[0.6666666666666666,\"#ed7953\"],[0.7777777777777778,\"#fb9f3a\"],[0.8888888888888888,\"#fdca26\"],[1.0,\"#f0f921\"]]}],\"choropleth\":[{\"type\":\"choropleth\",\"colorbar\":{\"outlinewidth\":0,\"ticks\":\"\"}}],\"histogram2d\":[{\"type\":\"histogram2d\",\"colorbar\":{\"outlinewidth\":0,\"ticks\":\"\"},\"colorscale\":[[0.0,\"#0d0887\"],[0.1111111111111111,\"#46039f\"],[0.2222222222222222,\"#7201a8\"],[0.3333333333333333,\"#9c179e\"],[0.4444444444444444,\"#bd3786\"],[0.5555555555555556,\"#d8576b\"],[0.6666666666666666,\"#ed7953\"],[0.7777777777777778,\"#fb9f3a\"],[0.8888888888888888,\"#fdca26\"],[1.0,\"#f0f921\"]]}],\"heatmap\":[{\"type\":\"heatmap\",\"colorbar\":{\"outlinewidth\":0,\"ticks\":\"\"},\"colorscale\":[[0.0,\"#0d0887\"],[0.1111111111111111,\"#46039f\"],[0.2222222222222222,\"#7201a8\"],[0.3333333333333333,\"#9c179e\"],[0.4444444444444444,\"#bd3786\"],[0.5555555555555556,\"#d8576b\"],[0.6666666666666666,\"#ed7953\"],[0.7777777777777778,\"#fb9f3a\"],[0.8888888888888888,\"#fdca26\"],[1.0,\"#f0f921\"]]}],\"heatmapgl\":[{\"type\":\"heatmapgl\",\"colorbar\":{\"outlinewidth\":0,\"ticks\":\"\"},\"colorscale\":[[0.0,\"#0d0887\"],[0.1111111111111111,\"#46039f\"],[0.2222222222222222,\"#7201a8\"],[0.3333333333333333,\"#9c179e\"],[0.4444444444444444,\"#bd3786\"],[0.5555555555555556,\"#d8576b\"],[0.6666666666666666,\"#ed7953\"],[0.7777777777777778,\"#fb9f3a\"],[0.8888888888888888,\"#fdca26\"],[1.0,\"#f0f921\"]]}],\"contourcarpet\":[{\"type\":\"contourcarpet\",\"colorbar\":{\"outlinewidth\":0,\"ticks\":\"\"}}],\"contour\":[{\"type\":\"contour\",\"colorbar\":{\"outlinewidth\":0,\"ticks\":\"\"},\"colorscale\":[[0.0,\"#0d0887\"],[0.1111111111111111,\"#46039f\"],[0.2222222222222222,\"#7201a8\"],[0.3333333333333333,\"#9c179e\"],[0.4444444444444444,\"#bd3786\"],[0.5555555555555556,\"#d8576b\"],[0.6666666666666666,\"#ed7953\"],[0.7777777777777778,\"#fb9f3a\"],[0.8888888888888888,\"#fdca26\"],[1.0,\"#f0f921\"]]}],\"surface\":[{\"type\":\"surface\",\"colorbar\":{\"outlinewidth\":0,\"ticks\":\"\"},\"colorscale\":[[0.0,\"#0d0887\"],[0.1111111111111111,\"#46039f\"],[0.2222222222222222,\"#7201a8\"],[0.3333333333333333,\"#9c179e\"],[0.4444444444444444,\"#bd3786\"],[0.5555555555555556,\"#d8576b\"],[0.6666666666666666,\"#ed7953\"],[0.7777777777777778,\"#fb9f3a\"],[0.8888888888888888,\"#fdca26\"],[1.0,\"#f0f921\"]]}],\"mesh3d\":[{\"type\":\"mesh3d\",\"colorbar\":{\"outlinewidth\":0,\"ticks\":\"\"}}],\"scatter\":[{\"fillpattern\":{\"fillmode\":\"overlay\",\"size\":10,\"solidity\":0.2},\"type\":\"scatter\"}],\"parcoords\":[{\"type\":\"parcoords\",\"line\":{\"colorbar\":{\"outlinewidth\":0,\"ticks\":\"\"}}}],\"scatterpolargl\":[{\"type\":\"scatterpolargl\",\"marker\":{\"colorbar\":{\"outlinewidth\":0,\"ticks\":\"\"}}}],\"bar\":[{\"error_x\":{\"color\":\"#2a3f5f\"},\"error_y\":{\"color\":\"#2a3f5f\"},\"marker\":{\"line\":{\"color\":\"#E5ECF6\",\"width\":0.5},\"pattern\":{\"fillmode\":\"overlay\",\"size\":10,\"solidity\":0.2}},\"type\":\"bar\"}],\"scattergeo\":[{\"type\":\"scattergeo\",\"marker\":{\"colorbar\":{\"outlinewidth\":0,\"ticks\":\"\"}}}],\"scatterpolar\":[{\"type\":\"scatterpolar\",\"marker\":{\"colorbar\":{\"outlinewidth\":0,\"ticks\":\"\"}}}],\"histogram\":[{\"marker\":{\"pattern\":{\"fillmode\":\"overlay\",\"size\":10,\"solidity\":0.2}},\"type\":\"histogram\"}],\"scattergl\":[{\"type\":\"scattergl\",\"marker\":{\"colorbar\":{\"outlinewidth\":0,\"ticks\":\"\"}}}],\"scatter3d\":[{\"type\":\"scatter3d\",\"line\":{\"colorbar\":{\"outlinewidth\":0,\"ticks\":\"\"}},\"marker\":{\"colorbar\":{\"outlinewidth\":0,\"ticks\":\"\"}}}],\"scattermapbox\":[{\"type\":\"scattermapbox\",\"marker\":{\"colorbar\":{\"outlinewidth\":0,\"ticks\":\"\"}}}],\"scatterternary\":[{\"type\":\"scatterternary\",\"marker\":{\"colorbar\":{\"outlinewidth\":0,\"ticks\":\"\"}}}],\"scattercarpet\":[{\"type\":\"scattercarpet\",\"marker\":{\"colorbar\":{\"outlinewidth\":0,\"ticks\":\"\"}}}],\"carpet\":[{\"aaxis\":{\"endlinecolor\":\"#2a3f5f\",\"gridcolor\":\"white\",\"linecolor\":\"white\",\"minorgridcolor\":\"white\",\"startlinecolor\":\"#2a3f5f\"},\"baxis\":{\"endlinecolor\":\"#2a3f5f\",\"gridcolor\":\"white\",\"linecolor\":\"white\",\"minorgridcolor\":\"white\",\"startlinecolor\":\"#2a3f5f\"},\"type\":\"carpet\"}],\"table\":[{\"cells\":{\"fill\":{\"color\":\"#EBF0F8\"},\"line\":{\"color\":\"white\"}},\"header\":{\"fill\":{\"color\":\"#C8D4E3\"},\"line\":{\"color\":\"white\"}},\"type\":\"table\"}],\"barpolar\":[{\"marker\":{\"line\":{\"color\":\"#E5ECF6\",\"width\":0.5},\"pattern\":{\"fillmode\":\"overlay\",\"size\":10,\"solidity\":0.2}},\"type\":\"barpolar\"}],\"pie\":[{\"automargin\":true,\"type\":\"pie\"}]},\"layout\":{\"autotypenumbers\":\"strict\",\"colorway\":[\"#636efa\",\"#EF553B\",\"#00cc96\",\"#ab63fa\",\"#FFA15A\",\"#19d3f3\",\"#FF6692\",\"#B6E880\",\"#FF97FF\",\"#FECB52\"],\"font\":{\"color\":\"#2a3f5f\"},\"hovermode\":\"closest\",\"hoverlabel\":{\"align\":\"left\"},\"paper_bgcolor\":\"white\",\"plot_bgcolor\":\"#E5ECF6\",\"polar\":{\"bgcolor\":\"#E5ECF6\",\"angularaxis\":{\"gridcolor\":\"white\",\"linecolor\":\"white\",\"ticks\":\"\"},\"radialaxis\":{\"gridcolor\":\"white\",\"linecolor\":\"white\",\"ticks\":\"\"}},\"ternary\":{\"bgcolor\":\"#E5ECF6\",\"aaxis\":{\"gridcolor\":\"white\",\"linecolor\":\"white\",\"ticks\":\"\"},\"baxis\":{\"gridcolor\":\"white\",\"linecolor\":\"white\",\"ticks\":\"\"},\"caxis\":{\"gridcolor\":\"white\",\"linecolor\":\"white\",\"ticks\":\"\"}},\"coloraxis\":{\"colorbar\":{\"outlinewidth\":0,\"ticks\":\"\"}},\"colorscale\":{\"sequential\":[[0.0,\"#0d0887\"],[0.1111111111111111,\"#46039f\"],[0.2222222222222222,\"#7201a8\"],[0.3333333333333333,\"#9c179e\"],[0.4444444444444444,\"#bd3786\"],[0.5555555555555556,\"#d8576b\"],[0.6666666666666666,\"#ed7953\"],[0.7777777777777778,\"#fb9f3a\"],[0.8888888888888888,\"#fdca26\"],[1.0,\"#f0f921\"]],\"sequentialminus\":[[0.0,\"#0d0887\"],[0.1111111111111111,\"#46039f\"],[0.2222222222222222,\"#7201a8\"],[0.3333333333333333,\"#9c179e\"],[0.4444444444444444,\"#bd3786\"],[0.5555555555555556,\"#d8576b\"],[0.6666666666666666,\"#ed7953\"],[0.7777777777777778,\"#fb9f3a\"],[0.8888888888888888,\"#fdca26\"],[1.0,\"#f0f921\"]],\"diverging\":[[0,\"#8e0152\"],[0.1,\"#c51b7d\"],[0.2,\"#de77ae\"],[0.3,\"#f1b6da\"],[0.4,\"#fde0ef\"],[0.5,\"#f7f7f7\"],[0.6,\"#e6f5d0\"],[0.7,\"#b8e186\"],[0.8,\"#7fbc41\"],[0.9,\"#4d9221\"],[1,\"#276419\"]]},\"xaxis\":{\"gridcolor\":\"white\",\"linecolor\":\"white\",\"ticks\":\"\",\"title\":{\"standoff\":15},\"zerolinecolor\":\"white\",\"automargin\":true,\"zerolinewidth\":2},\"yaxis\":{\"gridcolor\":\"white\",\"linecolor\":\"white\",\"ticks\":\"\",\"title\":{\"standoff\":15},\"zerolinecolor\":\"white\",\"automargin\":true,\"zerolinewidth\":2},\"scene\":{\"xaxis\":{\"backgroundcolor\":\"#E5ECF6\",\"gridcolor\":\"white\",\"linecolor\":\"white\",\"showbackground\":true,\"ticks\":\"\",\"zerolinecolor\":\"white\",\"gridwidth\":2},\"yaxis\":{\"backgroundcolor\":\"#E5ECF6\",\"gridcolor\":\"white\",\"linecolor\":\"white\",\"showbackground\":true,\"ticks\":\"\",\"zerolinecolor\":\"white\",\"gridwidth\":2},\"zaxis\":{\"backgroundcolor\":\"#E5ECF6\",\"gridcolor\":\"white\",\"linecolor\":\"white\",\"showbackground\":true,\"ticks\":\"\",\"zerolinecolor\":\"white\",\"gridwidth\":2}},\"shapedefaults\":{\"line\":{\"color\":\"#2a3f5f\"}},\"annotationdefaults\":{\"arrowcolor\":\"#2a3f5f\",\"arrowhead\":0,\"arrowwidth\":1},\"geo\":{\"bgcolor\":\"white\",\"landcolor\":\"#E5ECF6\",\"subunitcolor\":\"white\",\"showland\":true,\"showlakes\":true,\"lakecolor\":\"white\"},\"title\":{\"x\":0.05},\"mapbox\":{\"style\":\"light\"}}},\"xaxis\":{\"anchor\":\"y\",\"domain\":[0.0,1.0],\"title\":{\"text\":\"\"}},\"yaxis\":{\"anchor\":\"x\",\"domain\":[0.0,1.0],\"title\":{\"text\":\"Count\"}},\"legend\":{\"tracegroupgap\":0},\"title\":{\"text\":\"Figure 8: Top 20 Amenities in Arbnb Listings in Stockholm in 2025\"},\"barmode\":\"relative\"},                        {\"responsive\": true}                    ).then(function(){\n",
       "                            \n",
       "var gd = document.getElementById('7126a68e-2455-4469-85f6-af3a14f7101f');\n",
       "var x = new MutationObserver(function (mutations, observer) {{\n",
       "        var display = window.getComputedStyle(gd).display;\n",
       "        if (!display || display === 'none') {{\n",
       "            console.log([gd, 'removed!']);\n",
       "            Plotly.purge(gd);\n",
       "            observer.disconnect();\n",
       "        }}\n",
       "}});\n",
       "\n",
       "// Listen for the removal of the full notebook cells\n",
       "var notebookContainer = gd.closest('#notebook-container');\n",
       "if (notebookContainer) {{\n",
       "    x.observe(notebookContainer, {childList: true});\n",
       "}}\n",
       "\n",
       "// Listen for the clearing of the current output cell\n",
       "var outputEl = gd.closest('.output');\n",
       "if (outputEl) {{\n",
       "    x.observe(outputEl, {childList: true});\n",
       "}}\n",
       "\n",
       "                        })                };                });            </script>        </div>"
      ]
     },
     "metadata": {},
     "output_type": "display_data"
    }
   ],
   "source": [
    "# visualization of the top 20 common amenities\n",
    "fig7 = px.bar(df_am_filtered, x = 'amenity', y = 'count', \n",
    "              title = 'Figure 8: Top 20 Amenities in Arbnb Listings in Stockholm in 2025',\n",
    "              labels = {'amenity': '', 'count': 'Count'})\n",
    "fig7.show()\n"
   ]
  }
 ],
 "metadata": {
  "kernelspec": {
   "display_name": "base",
   "language": "python",
   "name": "python3"
  },
  "language_info": {
   "codemirror_mode": {
    "name": "ipython",
    "version": 3
   },
   "file_extension": ".py",
   "mimetype": "text/x-python",
   "name": "python",
   "nbconvert_exporter": "python",
   "pygments_lexer": "ipython3",
   "version": "3.11.7"
  }
 },
 "nbformat": 4,
 "nbformat_minor": 2
}
